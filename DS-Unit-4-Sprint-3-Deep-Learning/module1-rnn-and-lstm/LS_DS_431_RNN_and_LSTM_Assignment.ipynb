{
  "nbformat": 4,
  "nbformat_minor": 0,
  "metadata": {
    "kernelspec": {
      "name": "python3",
      "display_name": "Python 3.8.3 64-bit ('DS-Unit-4-Sprint-3-Deep-Learning')",
      "metadata": {
        "interpreter": {
          "hash": "7bd5817ab3452baa8653f10d220a646b6639029869ec02145fcafd1597804b38"
        }
      }
    },
    "language_info": {
      "name": "python",
      "version": "3.8.3-final",
      "mimetype": "text/x-python",
      "codemirror_mode": {
        "name": "ipython",
        "version": 3
      },
      "pygments_lexer": "ipython3",
      "nbconvert_exporter": "python",
      "file_extension": ".py"
    },
    "nteract": {
      "version": "0.23.3"
    },
    "colab": {
      "name": "LS_DS_431_RNN_and_LSTM_Assignment.ipynb",
      "provenance": [],
      "collapsed_sections": [
        "uT3UV3gap9H6"
      ]
    },
    "accelerator": "GPU"
  },
  "cells": [
    {
      "cell_type": "markdown",
      "metadata": {
        "id": "O8_W0hbAtYSM"
      },
      "source": [
        "<img align=\"left\" src=\"https://lever-client-logos.s3.amazonaws.com/864372b1-534c-480e-acd5-9711f850815c-1524247202159.png\" width=200>\n",
        "<br></br>\n",
        "<br></br>\n",
        "\n",
        "## *Data Science Unit 4 Sprint 3 Assignment 1*\n",
        "\n",
        "# Recurrent Neural Networks and Long Short Term Memory (LSTM)\n",
        "\n",
        "![Monkey at a typewriter](https://upload.wikimedia.org/wikipedia/commons/thumb/3/3c/Chimpanzee_seated_at_typewriter.jpg/603px-Chimpanzee_seated_at_typewriter.jpg)\n",
        "\n",
        "It is said that [infinite monkeys typing for an infinite amount of time](https://en.wikipedia.org/wiki/Infinite_monkey_theorem) will eventually type, among other things, the complete works of Wiliam Shakespeare. Let's see if we can get there a bit faster, with the power of Recurrent Neural Networks and LSTM.\n",
        "\n",
        "This text file contains the complete works of Shakespeare: https://www.gutenberg.org/files/100/100-0.txt\n",
        "\n",
        "Use it as training data for an RNN - you can keep it simple and train character level, and that is suggested as an initial approach.\n",
        "\n",
        "Then, use that trained RNN to generate Shakespearean-ish text. Your goal - a function that can take, as an argument, the size of text (e.g. number of characters or lines) to generate, and returns generated text of that size.\n",
        "\n",
        "Note - Shakespeare wrote an awful lot. It's OK, especially initially, to sample/use smaller data and parameters, so you can have a tighter feedback loop when you're trying to get things running. Then, once you've got a proof of concept - start pushing it more!"
      ]
    },
    {
      "cell_type": "code",
      "metadata": {
        "execution": {
          "iopub.status.busy": "2020-06-15T18:18:20.442Z",
          "iopub.execute_input": "2020-06-15T18:18:20.453Z",
          "iopub.status.idle": "2020-06-15T18:18:20.513Z",
          "shell.execute_reply": "2020-06-15T18:18:20.523Z"
        },
        "id": "W7Kc5pSdtYSV"
      },
      "source": [
        "# Imports\n",
        "from __future__ import print_function\n",
        "\n",
        "import warnings\n",
        "warnings.filterwarnings(\"ignore\", category=FutureWarning)\n",
        "\n",
        "import re\n",
        "import requests\n",
        "import pandas as pd\n",
        "import numpy as np\n",
        "\n",
        "from tensorflow.keras.preprocessing import sequence\n",
        "from tensorflow.keras.models import Sequential\n",
        "from tensorflow.keras.layers import Dense, Embedding, Dropout, SimpleRNN, LSTM\n",
        "\n",
        "import matplotlib.pyplot as plt\n",
        "import seaborn as sns\n",
        "sns.set()"
      ],
      "execution_count": 1,
      "outputs": []
    },
    {
      "cell_type": "code",
      "metadata": {
        "execution": {
          "iopub.status.busy": "2020-06-15T18:25:49.778Z",
          "iopub.execute_input": "2020-06-15T18:25:49.781Z",
          "iopub.status.idle": "2020-06-15T18:25:51.467Z",
          "shell.execute_reply": "2020-06-15T18:25:51.469Z"
        },
        "id": "ITyeeqedtYSX"
      },
      "source": [
        "url = \"https://www.gutenberg.org/files/100/100-0.txt\"\n",
        "\n",
        "# Reading in the data and encoding it\n",
        "r = requests.get(url)\n",
        "r.encoding = r.apparent_encoding\n",
        "data = r.text\n",
        "data = data.split('\\r\\n')\n",
        "toc = [l.strip() for l in data[44:130:2]]\n",
        "\n",
        "# Skip the Table of Contents\n",
        "data = data[135:]\n",
        "\n",
        "# Fixing Titles\n",
        "toc[9] = 'THE LIFE OF KING HENRY V'\n",
        "toc[18] = 'MACBETH'\n",
        "toc[24] = 'OTHELLO, THE MOOR OF VENICE'\n",
        "toc[34] = 'TWELFTH NIGHT: OR, WHAT YOU WILL'\n",
        "\n",
        "locations = {id_:{'title':title, 'start':-99} for id_,title in enumerate(toc)}\n",
        "\n",
        "# Start \n",
        "for e,i in enumerate(data):\n",
        "    for t,title in enumerate(toc):\n",
        "        if title in i:\n",
        "            locations[t].update({'start':e})\n",
        "            \n",
        "\n",
        "df_toc = pd.DataFrame.from_dict(locations, orient='index')\n",
        "df_toc['end'] = df_toc['start'].shift(-1).apply(lambda x: x-1)\n",
        "df_toc.loc[42, 'end'] = len(data)\n",
        "df_toc['end'] = df_toc['end'].astype('int')\n",
        "\n",
        "df_toc['text'] = df_toc.apply(lambda x: '\\r\\n'.join(data[ x['start'] : int(x['end']) ]), axis=1)"
      ],
      "execution_count": 2,
      "outputs": []
    },
    {
      "cell_type": "code",
      "metadata": {
        "collapsed": true,
        "jupyter": {
          "source_hidden": false,
          "outputs_hidden": false
        },
        "nteract": {
          "transient": {
            "deleting": false
          }
        },
        "execution": {
          "iopub.status.busy": "2020-06-15T18:26:12.630Z",
          "iopub.execute_input": "2020-06-15T18:26:12.637Z",
          "iopub.status.idle": "2020-06-15T18:26:12.643Z",
          "shell.execute_reply": "2020-06-15T18:26:12.647Z"
        },
        "colab": {
          "base_uri": "https://localhost:8080/",
          "height": 204
        },
        "id": "M-sf_IuItYSX",
        "outputId": "9ab26ee2-c544-45cb-ed48-29f873ae36f7"
      },
      "source": [
        "#Shakespeare Data Parsed by Play\n",
        "df_toc.head()"
      ],
      "execution_count": 3,
      "outputs": [
        {
          "output_type": "execute_result",
          "data": {
            "text/html": [
              "<div>\n",
              "<style scoped>\n",
              "    .dataframe tbody tr th:only-of-type {\n",
              "        vertical-align: middle;\n",
              "    }\n",
              "\n",
              "    .dataframe tbody tr th {\n",
              "        vertical-align: top;\n",
              "    }\n",
              "\n",
              "    .dataframe thead th {\n",
              "        text-align: right;\n",
              "    }\n",
              "</style>\n",
              "<table border=\"1\" class=\"dataframe\">\n",
              "  <thead>\n",
              "    <tr style=\"text-align: right;\">\n",
              "      <th></th>\n",
              "      <th>title</th>\n",
              "      <th>start</th>\n",
              "      <th>end</th>\n",
              "      <th>text</th>\n",
              "    </tr>\n",
              "  </thead>\n",
              "  <tbody>\n",
              "    <tr>\n",
              "      <th>0</th>\n",
              "      <td>THE TRAGEDY OF ANTONY AND CLEOPATRA</td>\n",
              "      <td>-99</td>\n",
              "      <td>14379</td>\n",
              "      <td></td>\n",
              "    </tr>\n",
              "    <tr>\n",
              "      <th>1</th>\n",
              "      <td>AS YOU LIKE IT</td>\n",
              "      <td>14380</td>\n",
              "      <td>17171</td>\n",
              "      <td>AS YOU LIKE IT\\r\\n\\r\\n\\r\\nDRAMATIS PERSONAE.\\r...</td>\n",
              "    </tr>\n",
              "    <tr>\n",
              "      <th>2</th>\n",
              "      <td>THE COMEDY OF ERRORS</td>\n",
              "      <td>17172</td>\n",
              "      <td>20372</td>\n",
              "      <td>THE COMEDY OF ERRORS\\r\\n\\r\\n\\r\\n\\r\\nContents\\r...</td>\n",
              "    </tr>\n",
              "    <tr>\n",
              "      <th>3</th>\n",
              "      <td>THE TRAGEDY OF CORIOLANUS</td>\n",
              "      <td>20373</td>\n",
              "      <td>30346</td>\n",
              "      <td>THE TRAGEDY OF CORIOLANUS\\r\\n\\r\\nDramatis Pers...</td>\n",
              "    </tr>\n",
              "    <tr>\n",
              "      <th>4</th>\n",
              "      <td>CYMBELINE</td>\n",
              "      <td>30347</td>\n",
              "      <td>30364</td>\n",
              "      <td>CYMBELINE.\\r\\nLaud we the gods;\\r\\nAnd let our...</td>\n",
              "    </tr>\n",
              "  </tbody>\n",
              "</table>\n",
              "</div>"
            ],
            "text/plain": [
              "                                 title  ...                                               text\n",
              "0  THE TRAGEDY OF ANTONY AND CLEOPATRA  ...                                                   \n",
              "1                       AS YOU LIKE IT  ...  AS YOU LIKE IT\\r\\n\\r\\n\\r\\nDRAMATIS PERSONAE.\\r...\n",
              "2                 THE COMEDY OF ERRORS  ...  THE COMEDY OF ERRORS\\r\\n\\r\\n\\r\\n\\r\\nContents\\r...\n",
              "3            THE TRAGEDY OF CORIOLANUS  ...  THE TRAGEDY OF CORIOLANUS\\r\\n\\r\\nDramatis Pers...\n",
              "4                            CYMBELINE  ...  CYMBELINE.\\r\\nLaud we the gods;\\r\\nAnd let our...\n",
              "\n",
              "[5 rows x 4 columns]"
            ]
          },
          "metadata": {
            "tags": []
          },
          "execution_count": 3
        }
      ]
    },
    {
      "cell_type": "code",
      "metadata": {
        "colab": {
          "base_uri": "https://localhost:8080/"
        },
        "id": "Rf9DZwXOtYSZ",
        "outputId": "541eca53-ad59-450b-a61b-4e4901ef3b8f"
      },
      "source": [
        "# Look at the titles\n",
        "df_toc.title.value_counts()"
      ],
      "execution_count": 4,
      "outputs": [
        {
          "output_type": "execute_result",
          "data": {
            "text/plain": [
              "VENUS AND ADONIS                            1\n",
              "KING HENRY THE EIGHTH                       1\n",
              "OTHELLO, THE MOOR OF VENICE                 1\n",
              "THE TRAGEDY OF KING LEAR                    1\n",
              "KING RICHARD THE THIRD                      1\n",
              "LOVE’S LABOUR’S LOST                        1\n",
              "THE TRAGEDY OF CORIOLANUS                   1\n",
              "THE PHOENIX AND THE TURTLE                  1\n",
              "THE MERCHANT OF VENICE                      1\n",
              "THE TRAGEDY OF OTHELLO, MOOR OF VENICE      1\n",
              "THE HISTORY OF TROILUS AND CRESSIDA         1\n",
              "THE TRAGEDY OF TITUS ANDRONICUS             1\n",
              "THE SECOND PART OF KING HENRY THE FOURTH    1\n",
              "THE FIRST PART OF KING HENRY THE FOURTH     1\n",
              "TWELFTH NIGHT: OR, WHAT YOU WILL            1\n",
              "THE TRAGEDY OF HAMLET, PRINCE OF DENMARK    1\n",
              "THE WINTER’S TALE                           1\n",
              "THE TRAGEDY OF ANTONY AND CLEOPATRA         1\n",
              "THE THIRD PART OF KING HENRY THE SIXTH      1\n",
              "AS YOU LIKE IT                              1\n",
              "A MIDSUMMER NIGHT’S DREAM                   1\n",
              "THE LIFE OF KING HENRY V                    1\n",
              "THE PASSIONATE PILGRIM                      1\n",
              "THE LIFE OF KING HENRY THE FIFTH            1\n",
              "THE TAMING OF THE SHREW                     1\n",
              "KING RICHARD THE SECOND                     1\n",
              "THE SECOND PART OF KING HENRY THE SIXTH     1\n",
              "THE COMEDY OF ERRORS                        1\n",
              "THE LIFE OF TIMON OF ATHENS                 1\n",
              "KING JOHN                                   1\n",
              "CYMBELINE                                   1\n",
              "THE TEMPEST                                 1\n",
              "THE TRAGEDY OF MACBETH                      1\n",
              "MUCH ADO ABOUT NOTHING                      1\n",
              "A LOVER’S COMPLAINT                         1\n",
              "MACBETH                                     1\n",
              "THE TWO NOBLE KINSMEN                       1\n",
              "THE MERRY WIVES OF WINDSOR                  1\n",
              "TWELFTH NIGHT; OR, WHAT YOU WILL            1\n",
              "THE TRAGEDY OF ROMEO AND JULIET             1\n",
              "THE TRAGEDY OF JULIUS CAESAR                1\n",
              "THE RAPE OF LUCRECE                         1\n",
              "                                            1\n",
              "Name: title, dtype: int64"
            ]
          },
          "metadata": {
            "tags": []
          },
          "execution_count": 4
        }
      ]
    },
    {
      "cell_type": "code",
      "metadata": {
        "colab": {
          "base_uri": "https://localhost:8080/",
          "height": 80
        },
        "id": "DbQIwhzrtYSZ",
        "outputId": "c0f47010-14e1-4d35-e95b-8e4334ef0453"
      },
      "source": [
        "# Pull out just the tragedy of Romeo and Juliet\n",
        "romeo_juliet = df_toc[df_toc['title'] == 'THE TRAGEDY OF ROMEO AND JULIET']\n",
        "romeo_juliet"
      ],
      "execution_count": 5,
      "outputs": [
        {
          "output_type": "execute_result",
          "data": {
            "text/html": [
              "<div>\n",
              "<style scoped>\n",
              "    .dataframe tbody tr th:only-of-type {\n",
              "        vertical-align: middle;\n",
              "    }\n",
              "\n",
              "    .dataframe tbody tr th {\n",
              "        vertical-align: top;\n",
              "    }\n",
              "\n",
              "    .dataframe thead th {\n",
              "        text-align: right;\n",
              "    }\n",
              "</style>\n",
              "<table border=\"1\" class=\"dataframe\">\n",
              "  <thead>\n",
              "    <tr style=\"text-align: right;\">\n",
              "      <th></th>\n",
              "      <th>title</th>\n",
              "      <th>start</th>\n",
              "      <th>end</th>\n",
              "      <th>text</th>\n",
              "    </tr>\n",
              "  </thead>\n",
              "  <tbody>\n",
              "    <tr>\n",
              "      <th>27</th>\n",
              "      <td>THE TRAGEDY OF ROMEO AND JULIET</td>\n",
              "      <td>122969</td>\n",
              "      <td>128224</td>\n",
              "      <td>THE TRAGEDY OF ROMEO AND JULIET\\r\\n\\r\\n\\r\\n\\r\\...</td>\n",
              "    </tr>\n",
              "  </tbody>\n",
              "</table>\n",
              "</div>"
            ],
            "text/plain": [
              "                              title  ...                                               text\n",
              "27  THE TRAGEDY OF ROMEO AND JULIET  ...  THE TRAGEDY OF ROMEO AND JULIET\\r\\n\\r\\n\\r\\n\\r\\...\n",
              "\n",
              "[1 rows x 4 columns]"
            ]
          },
          "metadata": {
            "tags": []
          },
          "execution_count": 5
        }
      ]
    },
    {
      "cell_type": "code",
      "metadata": {
        "colab": {
          "base_uri": "https://localhost:8080/",
          "height": 80
        },
        "id": "SJAs8JnOtYSZ",
        "outputId": "a32f13fb-5171-4e40-afb5-c28f86efdf99"
      },
      "source": [
        "much_ado = df_toc[df_toc['title'] == 'MUCH ADO ABOUT NOTHING']\n",
        "much_ado"
      ],
      "execution_count": 6,
      "outputs": [
        {
          "output_type": "execute_result",
          "data": {
            "text/html": [
              "<div>\n",
              "<style scoped>\n",
              "    .dataframe tbody tr th:only-of-type {\n",
              "        vertical-align: middle;\n",
              "    }\n",
              "\n",
              "    .dataframe tbody tr th {\n",
              "        vertical-align: top;\n",
              "    }\n",
              "\n",
              "    .dataframe thead th {\n",
              "        text-align: right;\n",
              "    }\n",
              "</style>\n",
              "<table border=\"1\" class=\"dataframe\">\n",
              "  <thead>\n",
              "    <tr style=\"text-align: right;\">\n",
              "      <th></th>\n",
              "      <th>title</th>\n",
              "      <th>start</th>\n",
              "      <th>end</th>\n",
              "      <th>text</th>\n",
              "    </tr>\n",
              "  </thead>\n",
              "  <tbody>\n",
              "    <tr>\n",
              "      <th>22</th>\n",
              "      <td>MUCH ADO ABOUT NOTHING</td>\n",
              "      <td>98115</td>\n",
              "      <td>-100</td>\n",
              "      <td>MUCH ADO ABOUT NOTHING\\r\\n\\r\\n\\r\\n\\r\\nContent...</td>\n",
              "    </tr>\n",
              "  </tbody>\n",
              "</table>\n",
              "</div>"
            ],
            "text/plain": [
              "                     title  ...                                               text\n",
              "22  MUCH ADO ABOUT NOTHING  ...   MUCH ADO ABOUT NOTHING\\r\\n\\r\\n\\r\\n\\r\\nContent...\n",
              "\n",
              "[1 rows x 4 columns]"
            ]
          },
          "metadata": {
            "tags": []
          },
          "execution_count": 6
        }
      ]
    },
    {
      "cell_type": "code",
      "metadata": {
        "colab": {
          "base_uri": "https://localhost:8080/",
          "height": 80
        },
        "id": "E_ZNea15tYSa",
        "outputId": "83c364a5-cb7f-4462-f120-dfe555d6fb69"
      },
      "source": [
        "midsummer = df_toc[df_toc['title'] == 'A MIDSUMMER NIGHT’S DREAM']\n",
        "midsummer"
      ],
      "execution_count": 7,
      "outputs": [
        {
          "output_type": "execute_result",
          "data": {
            "text/html": [
              "<div>\n",
              "<style scoped>\n",
              "    .dataframe tbody tr th:only-of-type {\n",
              "        vertical-align: middle;\n",
              "    }\n",
              "\n",
              "    .dataframe tbody tr th {\n",
              "        vertical-align: top;\n",
              "    }\n",
              "\n",
              "    .dataframe thead th {\n",
              "        text-align: right;\n",
              "    }\n",
              "</style>\n",
              "<table border=\"1\" class=\"dataframe\">\n",
              "  <thead>\n",
              "    <tr style=\"text-align: right;\">\n",
              "      <th></th>\n",
              "      <th>title</th>\n",
              "      <th>start</th>\n",
              "      <th>end</th>\n",
              "      <th>text</th>\n",
              "    </tr>\n",
              "  </thead>\n",
              "  <tbody>\n",
              "    <tr>\n",
              "      <th>21</th>\n",
              "      <td>A MIDSUMMER NIGHT’S DREAM</td>\n",
              "      <td>94655</td>\n",
              "      <td>98114</td>\n",
              "      <td>A MIDSUMMER NIGHT’S DREAM\\r\\n\\r\\n\\r\\n\\r\\nConte...</td>\n",
              "    </tr>\n",
              "  </tbody>\n",
              "</table>\n",
              "</div>"
            ],
            "text/plain": [
              "                        title  ...                                               text\n",
              "21  A MIDSUMMER NIGHT’S DREAM  ...  A MIDSUMMER NIGHT’S DREAM\\r\\n\\r\\n\\r\\n\\r\\nConte...\n",
              "\n",
              "[1 rows x 4 columns]"
            ]
          },
          "metadata": {
            "tags": []
          },
          "execution_count": 7
        }
      ]
    },
    {
      "cell_type": "code",
      "metadata": {
        "colab": {
          "base_uri": "https://localhost:8080/",
          "height": 142
        },
        "id": "7zisvroltYSa",
        "outputId": "ced97e0c-b8fd-4a5c-da32-1eb23b4b5d82"
      },
      "source": [
        "plays = pd.concat([midsummer, much_ado, romeo_juliet], axis=0, ignore_index=True)\n",
        "plays"
      ],
      "execution_count": 8,
      "outputs": [
        {
          "output_type": "execute_result",
          "data": {
            "text/html": [
              "<div>\n",
              "<style scoped>\n",
              "    .dataframe tbody tr th:only-of-type {\n",
              "        vertical-align: middle;\n",
              "    }\n",
              "\n",
              "    .dataframe tbody tr th {\n",
              "        vertical-align: top;\n",
              "    }\n",
              "\n",
              "    .dataframe thead th {\n",
              "        text-align: right;\n",
              "    }\n",
              "</style>\n",
              "<table border=\"1\" class=\"dataframe\">\n",
              "  <thead>\n",
              "    <tr style=\"text-align: right;\">\n",
              "      <th></th>\n",
              "      <th>title</th>\n",
              "      <th>start</th>\n",
              "      <th>end</th>\n",
              "      <th>text</th>\n",
              "    </tr>\n",
              "  </thead>\n",
              "  <tbody>\n",
              "    <tr>\n",
              "      <th>0</th>\n",
              "      <td>A MIDSUMMER NIGHT’S DREAM</td>\n",
              "      <td>94655</td>\n",
              "      <td>98114</td>\n",
              "      <td>A MIDSUMMER NIGHT’S DREAM\\r\\n\\r\\n\\r\\n\\r\\nConte...</td>\n",
              "    </tr>\n",
              "    <tr>\n",
              "      <th>1</th>\n",
              "      <td>MUCH ADO ABOUT NOTHING</td>\n",
              "      <td>98115</td>\n",
              "      <td>-100</td>\n",
              "      <td>MUCH ADO ABOUT NOTHING\\r\\n\\r\\n\\r\\n\\r\\nContent...</td>\n",
              "    </tr>\n",
              "    <tr>\n",
              "      <th>2</th>\n",
              "      <td>THE TRAGEDY OF ROMEO AND JULIET</td>\n",
              "      <td>122969</td>\n",
              "      <td>128224</td>\n",
              "      <td>THE TRAGEDY OF ROMEO AND JULIET\\r\\n\\r\\n\\r\\n\\r\\...</td>\n",
              "    </tr>\n",
              "  </tbody>\n",
              "</table>\n",
              "</div>"
            ],
            "text/plain": [
              "                             title  ...                                               text\n",
              "0        A MIDSUMMER NIGHT’S DREAM  ...  A MIDSUMMER NIGHT’S DREAM\\r\\n\\r\\n\\r\\n\\r\\nConte...\n",
              "1           MUCH ADO ABOUT NOTHING  ...   MUCH ADO ABOUT NOTHING\\r\\n\\r\\n\\r\\n\\r\\nContent...\n",
              "2  THE TRAGEDY OF ROMEO AND JULIET  ...  THE TRAGEDY OF ROMEO AND JULIET\\r\\n\\r\\n\\r\\n\\r\\...\n",
              "\n",
              "[3 rows x 4 columns]"
            ]
          },
          "metadata": {
            "tags": []
          },
          "execution_count": 8
        }
      ]
    },
    {
      "cell_type": "code",
      "metadata": {
        "id": "7zajGyjTtYSb"
      },
      "source": [
        "# Clean the text\n",
        "plays['clean_text'] = [i.replace('\\r\\n', ' ') for i in plays['text']]\n",
        "plays['clean_text'] = [re.sub('\\s\\s+', ' ', i) for i in plays['clean_text']]\n",
        "plays['clean_text'] = [re.sub(r\"[^A-Za-z .!?,]+\", ' ', i) for i in plays['clean_text']]\n",
        "\n",
        "plays['clean_text'] = plays['clean_text'].apply(lambda x: ' '.join(x.lower() for x in x.split()))"
      ],
      "execution_count": 9,
      "outputs": []
    },
    {
      "cell_type": "code",
      "metadata": {
        "colab": {
          "base_uri": "https://localhost:8080/",
          "height": 193
        },
        "id": "bHm2_TvGtYSb",
        "outputId": "72bfb90b-053a-4ca2-e009-d131634341a5"
      },
      "source": [
        "plays"
      ],
      "execution_count": 10,
      "outputs": [
        {
          "output_type": "execute_result",
          "data": {
            "text/html": [
              "<div>\n",
              "<style scoped>\n",
              "    .dataframe tbody tr th:only-of-type {\n",
              "        vertical-align: middle;\n",
              "    }\n",
              "\n",
              "    .dataframe tbody tr th {\n",
              "        vertical-align: top;\n",
              "    }\n",
              "\n",
              "    .dataframe thead th {\n",
              "        text-align: right;\n",
              "    }\n",
              "</style>\n",
              "<table border=\"1\" class=\"dataframe\">\n",
              "  <thead>\n",
              "    <tr style=\"text-align: right;\">\n",
              "      <th></th>\n",
              "      <th>title</th>\n",
              "      <th>start</th>\n",
              "      <th>end</th>\n",
              "      <th>text</th>\n",
              "      <th>clean_text</th>\n",
              "    </tr>\n",
              "  </thead>\n",
              "  <tbody>\n",
              "    <tr>\n",
              "      <th>0</th>\n",
              "      <td>A MIDSUMMER NIGHT’S DREAM</td>\n",
              "      <td>94655</td>\n",
              "      <td>98114</td>\n",
              "      <td>A MIDSUMMER NIGHT’S DREAM\\r\\n\\r\\n\\r\\n\\r\\nConte...</td>\n",
              "      <td>a midsummer night s dream contents act i scene...</td>\n",
              "    </tr>\n",
              "    <tr>\n",
              "      <th>1</th>\n",
              "      <td>MUCH ADO ABOUT NOTHING</td>\n",
              "      <td>98115</td>\n",
              "      <td>-100</td>\n",
              "      <td>MUCH ADO ABOUT NOTHING\\r\\n\\r\\n\\r\\n\\r\\nContent...</td>\n",
              "      <td>much ado about nothing contents act i scene i....</td>\n",
              "    </tr>\n",
              "    <tr>\n",
              "      <th>2</th>\n",
              "      <td>THE TRAGEDY OF ROMEO AND JULIET</td>\n",
              "      <td>122969</td>\n",
              "      <td>128224</td>\n",
              "      <td>THE TRAGEDY OF ROMEO AND JULIET\\r\\n\\r\\n\\r\\n\\r\\...</td>\n",
              "      <td>the tragedy of romeo and juliet contents the p...</td>\n",
              "    </tr>\n",
              "  </tbody>\n",
              "</table>\n",
              "</div>"
            ],
            "text/plain": [
              "                             title  ...                                         clean_text\n",
              "0        A MIDSUMMER NIGHT’S DREAM  ...  a midsummer night s dream contents act i scene...\n",
              "1           MUCH ADO ABOUT NOTHING  ...  much ado about nothing contents act i scene i....\n",
              "2  THE TRAGEDY OF ROMEO AND JULIET  ...  the tragedy of romeo and juliet contents the p...\n",
              "\n",
              "[3 rows x 5 columns]"
            ]
          },
          "metadata": {
            "tags": []
          },
          "execution_count": 10
        }
      ]
    },
    {
      "cell_type": "code",
      "metadata": {
        "colab": {
          "base_uri": "https://localhost:8080/",
          "height": 86
        },
        "id": "GYEecGYptYSb",
        "outputId": "692864b0-c4f1-47ac-8074-58e4eb4aaf4d"
      },
      "source": [
        "plays['clean_text'][0][:500]"
      ],
      "execution_count": 11,
      "outputs": [
        {
          "output_type": "execute_result",
          "data": {
            "application/vnd.google.colaboratory.intrinsic+json": {
              "type": "string"
            },
            "text/plain": [
              "'a midsummer night s dream contents act i scene i. athens. a room in the palace of theseus scene ii. the same. a room in a cottage act ii scene i. a wood near athens scene ii. another part of the wood act iii scene i. the wood. scene ii. another part of the wood act iv scene i. the wood scene ii. athens. a room in quince s house act v scene i. athens. an apartment in the palace of theseus dramatis person theseus, duke of athens hippolyta, queen of the amazons, bethrothed to theseus egeus, father '"
            ]
          },
          "metadata": {
            "tags": []
          },
          "execution_count": 11
        }
      ]
    },
    {
      "cell_type": "code",
      "metadata": {
        "colab": {
          "base_uri": "https://localhost:8080/"
        },
        "id": "0Oum4bKPtYSb",
        "outputId": "8646b72f-c2ce-4fdf-d748-a7c0e1e601f8"
      },
      "source": [
        "# Character encoding \n",
        "text = ' '.join(plays['clean_text'])\n",
        "chars = list(set(text))\n",
        "\n",
        "char_int = {c:i for i, c in enumerate(chars)}\n",
        "int_char = {i:c for i, c in enumerate(chars)}\n",
        "\n",
        "print(f'My corpus contains {len(chars)} unique characters.')\n"
      ],
      "execution_count": 12,
      "outputs": [
        {
          "output_type": "stream",
          "text": [
            "My corpus contains 31 unique characters.\n"
          ],
          "name": "stdout"
        }
      ]
    },
    {
      "cell_type": "code",
      "metadata": {
        "colab": {
          "base_uri": "https://localhost:8080/"
        },
        "id": "9D6ufR7_tYSc",
        "outputId": "45377fea-6884-45fa-b019-f6ad67c5f030"
      },
      "source": [
        "chars"
      ],
      "execution_count": 13,
      "outputs": [
        {
          "output_type": "execute_result",
          "data": {
            "text/plain": [
              "['m',\n",
              " 'w',\n",
              " 'z',\n",
              " 'a',\n",
              " 'e',\n",
              " 't',\n",
              " 'j',\n",
              " 'o',\n",
              " '.',\n",
              " 'b',\n",
              " '!',\n",
              " 'q',\n",
              " ' ',\n",
              " 'f',\n",
              " 'c',\n",
              " 'd',\n",
              " ',',\n",
              " 'g',\n",
              " 's',\n",
              " 'r',\n",
              " 'i',\n",
              " 'k',\n",
              " 'v',\n",
              " 'h',\n",
              " 'y',\n",
              " 'x',\n",
              " 'p',\n",
              " 'u',\n",
              " '?',\n",
              " 'l',\n",
              " 'n']"
            ]
          },
          "metadata": {
            "tags": []
          },
          "execution_count": 13
        }
      ]
    },
    {
      "cell_type": "code",
      "metadata": {
        "colab": {
          "base_uri": "https://localhost:8080/"
        },
        "id": "kZJsFo1wtYSc",
        "outputId": "09d8a7e0-7261-4daf-8cdb-cd4d9cc95afa"
      },
      "source": [
        "# Create the sequence data\n",
        "max_len = 50\n",
        "step = 5\n",
        "\n",
        "# Encode each character\n",
        "encoded = [char_int[c] for c in text]\n",
        "sequences = []\n",
        "next_chars = []\n",
        "\n",
        "for i in range(0, len(encoded) - max_len, step):\n",
        "    sequences.append(encoded[i : i + max_len])\n",
        "    next_chars.append(encoded[i + max_len])\n",
        "\n",
        "# Look at the count of my sequences\n",
        "print(f'Length of sequences: {len(sequences)}')"
      ],
      "execution_count": 14,
      "outputs": [
        {
          "output_type": "stream",
          "text": [
            "Length of sequences: 463733\n"
          ],
          "name": "stdout"
        }
      ]
    },
    {
      "cell_type": "code",
      "metadata": {
        "colab": {
          "base_uri": "https://localhost:8080/",
          "height": 52
        },
        "id": "wG-9XeHvtYSc",
        "outputId": "f7bf3172-ac10-42d6-99fb-2d000669b280"
      },
      "source": [
        "# Look at some of the text\n",
        "text[0:200]"
      ],
      "execution_count": 15,
      "outputs": [
        {
          "output_type": "execute_result",
          "data": {
            "application/vnd.google.colaboratory.intrinsic+json": {
              "type": "string"
            },
            "text/plain": [
              "'a midsummer night s dream contents act i scene i. athens. a room in the palace of theseus scene ii. the same. a room in a cottage act ii scene i. a wood near athens scene ii. another part of the wood '"
            ]
          },
          "metadata": {
            "tags": []
          },
          "execution_count": 15
        }
      ]
    },
    {
      "cell_type": "code",
      "metadata": {
        "colab": {
          "base_uri": "https://localhost:8080/"
        },
        "id": "5x8JKfb9tYSd",
        "outputId": "7f3fc822-5afa-4533-a1de-4d733168c9c5"
      },
      "source": [
        "# Specify my x(training data) and y (target)\n",
        "X = np.zeros((len(sequences), max_len, len(chars)), dtype=np.bool)\n",
        "y = np.zeros((len(sequences), len(chars)), dtype=np.bool)\n",
        "\n",
        "for i, sequence in enumerate(sequences):\n",
        "    for t, char in enumerate(sequence):\n",
        "        X[i, t, char] = 1\n",
        "    y[i, next_chars[i]] = 1\n",
        "\n",
        "print(X.shape, y.shape)"
      ],
      "execution_count": 16,
      "outputs": [
        {
          "output_type": "stream",
          "text": [
            "(463733, 50, 31) (463733, 31)\n"
          ],
          "name": "stdout"
        }
      ]
    },
    {
      "cell_type": "code",
      "metadata": {
        "colab": {
          "base_uri": "https://localhost:8080/"
        },
        "id": "dzgdLKLEtYSd",
        "outputId": "f4451488-43f5-4680-d495-374530265aae"
      },
      "source": [
        "# Build a model\n",
        "model = Sequential()\n",
        "model.add(LSTM(128, input_shape=(max_len, len(chars))))\n",
        "model.add(Dense(128))\n",
        "model.add(Dense(len(chars), activation='softmax'))\n",
        "\n",
        "# Compile the model\n",
        "model.compile(loss='categorical_crossentropy',\n",
        "                 optimizer='adam',\n",
        "                 metrics=['accuracy'])\n",
        "\n",
        "# Look at the summary of the model\n",
        "model.summary()"
      ],
      "execution_count": 17,
      "outputs": [
        {
          "output_type": "stream",
          "text": [
            "Model: \"sequential\"\n",
            "_________________________________________________________________\n",
            "Layer (type)                 Output Shape              Param #   \n",
            "=================================================================\n",
            "lstm (LSTM)                  (None, 128)               81920     \n",
            "_________________________________________________________________\n",
            "dense (Dense)                (None, 128)               16512     \n",
            "_________________________________________________________________\n",
            "dense_1 (Dense)              (None, 31)                3999      \n",
            "=================================================================\n",
            "Total params: 102,431\n",
            "Trainable params: 102,431\n",
            "Non-trainable params: 0\n",
            "_________________________________________________________________\n"
          ],
          "name": "stdout"
        }
      ]
    },
    {
      "cell_type": "code",
      "metadata": {
        "id": "lAVHcYNEtYSe"
      },
      "source": [
        "import random\n",
        "\n",
        "def sample(preds):\n",
        "    # helper function to sample an index from a probability array\n",
        "    preds = np.asarray(preds).astype('float64')\n",
        "    preds = np.log(preds) / 1\n",
        "    exp_preds = np.exp(preds)\n",
        "    preds = exp_preds / np.sum(exp_preds)\n",
        "    probas = np.random.multinomial(1, preds, 1)\n",
        "    return np.argmax(probas)"
      ],
      "execution_count": 18,
      "outputs": []
    },
    {
      "cell_type": "code",
      "metadata": {
        "id": "S-f2pbkrtYSe"
      },
      "source": [
        "from tensorflow.keras.callbacks import LambdaCallback\n",
        "import sys\n",
        "\n",
        "def on_epoch_end(epoch, _):\n",
        "    # Function invoked at end of each epoch. Prints generated text.\n",
        "    \n",
        "    print()\n",
        "    print('----- Generating text after Epoch: %d' % epoch)\n",
        "    \n",
        "    start_index = random.randint(0, len(text) - max_len - 1) \n",
        "    generated = ''\n",
        "    \n",
        "    sentence = text[start_index: start_index + max_len]\n",
        "    generated += sentence\n",
        "    \n",
        "    print('----- Generating with seed: \"' + sentence + '\"')\n",
        "    sys.stdout.write(generated)\n",
        "    \n",
        "    for i in range(400):\n",
        "        x_pred = np.zeros((1, max_len, len(chars)))\n",
        "        for t, char in enumerate(sentence):\n",
        "            x_pred[0, t, char_int[char]] = 1\n",
        "            \n",
        "        preds = model.predict(x_pred, verbose=0)[0]\n",
        "        next_index = sample(preds)\n",
        "        next_char = int_char[next_index]\n",
        "        \n",
        "        sentence = sentence[1:] + next_char\n",
        "        \n",
        "        sys.stdout.write(next_char)\n",
        "        sys.stdout.flush()\n",
        "\n",
        "    print()\n",
        "\n",
        "print_callback = LambdaCallback(on_epoch_end=on_epoch_end)"
      ],
      "execution_count": 19,
      "outputs": []
    },
    {
      "cell_type": "code",
      "metadata": {
        "colab": {
          "base_uri": "https://localhost:8080/"
        },
        "id": "T4GSke_utYSf",
        "outputId": "ff15fa2a-5011-4dd3-a760-ec47cb6d33e9"
      },
      "source": [
        "# Fit my model\n",
        "model_history = model.fit(X, y, \n",
        "                          batch_size=64,\n",
        "                          epochs=10,\n",
        "                          callbacks=[print_callback])"
      ],
      "execution_count": 20,
      "outputs": [
        {
          "output_type": "stream",
          "text": [
            "Epoch 1/10\n",
            "7246/7246 [==============================] - 43s 5ms/step - loss: 2.2416 - accuracy: 0.3414\n",
            "\n",
            "----- Generating text after Epoch: 0\n",
            "----- Generating with seed: \"love i yield you up my part and yours of helena to\"\n",
            "love i yield you up my part and yours of helena toot. with he mig tertliclio. i dimerd. agiit, and eyen ing his inayd, night and theungred from some so ind what tucgimes an she brow, i sray my marthim that beded not hear in me othir! if, for. they sucher but not, anow is your othoul right pyou i juls me woitht to the prot mon rofur? cossil. greeses. have corie steal. if marcused but in in what shall fiverly scones n witel maltius, masth the sound\n",
            "Epoch 2/10\n",
            "7246/7246 [==============================] - 39s 5ms/step - loss: 1.7581 - accuracy: 0.4644\n",
            "\n",
            "----- Generating text after Epoch: 1\n",
            "----- Generating with seed: \" me how i should forget to think. benvolio. by giv\"\n",
            " me how i should forget to think. benvolio. by give ay, ay, book. the bessebon. the capcanes pagenal. as batken s my will here he espere. and their decemple. and he dow spoon evensy? whit forhay? zere in sumple of yet we hear me yie so pley my leper since ary intwere apperes thee, and yet and thee do me, so as ovel d wears! aquints. sreang the greaved i veicus to stake, with sway your nivers jetle they foother. why that i chups a more furse love,\n",
            "Epoch 3/10\n",
            "7246/7246 [==============================] - 39s 5ms/step - loss: 1.6248 - accuracy: 0.5004\n",
            "\n",
            "----- Generating text after Epoch: 2\n",
            "----- Generating with seed: \"id the gold within that letter mention d, confeder\"\n",
            "id the gold within that letter mention d, confeders but scene it i presently plaga welk, for the ran he say wastly somp dest sin friend, what is i did leavine to to pert of yet the truie and know come be abourables asome ow as sisgivioga cought air by, what s alls she like so, botted the bold of him, bost two, that as ser your clowns. arcite. i will tepe all tly comis be as sir. palamom.  of his enemants i braot lought me, is love. plamisles. a t\n",
            "Epoch 4/10\n",
            "7246/7246 [==============================] - 38s 5ms/step - loss: 1.5525 - accuracy: 0.5193\n",
            "\n",
            "----- Generating text after Epoch: 3\n",
            "----- Generating with seed: \"e that means not, hath not, or is not in love. if \"\n",
            "e that means not, hath not, or is not in love. if you, radgence d take me. a more on hip won you men her thy thought dounterus behide will that you lives thee brother if throught for the ret me! as i to most manrey? the wordd the count you again and buding breather. then he unwish to fool we well keep or his lawredws every stayd a pet,. fairtly, i ll not pleases browbs officers, had colvount. a hoars too musing pares, befive us not spilt to troef\n",
            "Epoch 5/10\n",
            "7246/7246 [==============================] - 38s 5ms/step - loss: 1.5076 - accuracy: 0.5325\n",
            "\n",
            "----- Generating text after Epoch: 4\n",
            "----- Generating with seed: \"rnish d for this time. what, is my daughter gone t\"\n",
            "rnish d for this time. what, is my daughter gone to them. enter puricle s woe? thy beart, i do by fraim him joy, maden. such as poor power than there i slave her trie queen, and stare, anne, best kill your friend forly. i are to the quee all wine whose toogn the rope, and the uttle enterthill be was this faudity a quoun blood. exit. leontes. way, he, by bisceloge, at openting flamiwien you rare further to luar is aught be ! andone ever drovit. th\n",
            "Epoch 6/10\n",
            "7246/7246 [==============================] - 39s 5ms/step - loss: 1.4729 - accuracy: 0.5410\n",
            "\n",
            "----- Generating text after Epoch: 5\n",
            "----- Generating with seed: \" prithee call t. for this ungentle business, put o\"\n",
            " prithee call t. for this ungentle business, put of romer, how i wall whither, and think go blwalth hoor they ceririt clows and parts spears at and seek you the by for affects he with a sorn his though you golden our daughters broken deskings shork d, whist you before my lifius? let the arther forth be the royardled. sometite! what s upon thy halp engradg art, do be for thy awriging. why! lodia. ow mate where mortal which i lov d and, he daughter\n",
            "Epoch 7/10\n",
            "7246/7246 [==============================] - 38s 5ms/step - loss: 1.4464 - accuracy: 0.5475\n",
            "\n",
            "----- Generating text after Epoch: 6\n",
            "----- Generating with seed: \"say i have lost it. don pedro. you have put him do\"\n",
            "say i have lost it. don pedro. you have put him do you? bug? herafiss with bourseding great present dread, let me you and not earle poor medsmanders. sir fights, king he lords of youth space thee detuse awallows, islieng humb as of villaine. fool a dame, though is dost applain. laugesce. needs, ladness. enter o howest hasse that empthat his eyes at her old makes him there so lust not say lad, assude, and duk! watch and wonder and ciptane of chid \n",
            "Epoch 8/10\n",
            "7246/7246 [==============================] - 39s 5ms/step - loss: 1.4272 - accuracy: 0.5534\n",
            "\n",
            "----- Generating text after Epoch: 7\n",
            "----- Generating with seed: \" shall in despite enforce a watery eye. see this d\"\n",
            " shall in despite enforce a watery eye. see this day nytch s honoy, my eye? by my fitter than his sword wit woo named record cloud knockd him the i think if seep him hydest t arm day young accidetes s their for juliet his embratents if my greets, king me the next. lucius sould nace trancle edworden if so reverting th here. norbey hom elter there was a mistate or heard he the darn king edward that heart and comp short works hither where i do not s\n",
            "Epoch 9/10\n",
            "7246/7246 [==============================] - 39s 5ms/step - loss: 1.4072 - accuracy: 0.5578\n",
            "\n",
            "----- Generating text after Epoch: 8\n",
            "----- Generating with seed: \" ware horns, ho! exeunt paris and menelaus . enter\"\n",
            " ware horns, ho! exeunt paris and menelaus . enter knight. are when you streak and i will dainst in palures of the nicentented he will and his toly handsor, and eut it this? ottero. there i will she who i thine? mather beast. tis but there is very court to deal here! iew heaven doth here s noughter and shrow will be proafing in poor hive of my but but scene . i am not mornous? more than i ll are your atternal unsold, like i own no grow, he be the\n",
            "Epoch 10/10\n",
            "7246/7246 [==============================] - 39s 5ms/step - loss: 1.3935 - accuracy: 0.5627\n",
            "\n",
            "----- Generating text after Epoch: 9\n",
            "----- Generating with seed: \"ng rest and shake the yoke of inauspicious stars f\"\n",
            "ng rest and shake the yoke of inauspicious stars from me, go? marina. i love tyrw, poor visit of those. romainus. upon what call me, yet no could might thinke is sat of service with my laste, sweet let rivab d, and say on thy vertions into t disfrom the dispabicing frour of heaven! ambild it. trebert. your countryung his bloody hath cossocturation. clown. queen your perfort. fall this. tower. upon thy speet. go power, with thing my hinde. i ever \n"
          ],
          "name": "stdout"
        }
      ]
    },
    {
      "cell_type": "markdown",
      "metadata": {
        "id": "zE4a4O7Bp5x1"
      },
      "source": [
        "# Resources and Stretch Goals"
      ]
    },
    {
      "cell_type": "markdown",
      "metadata": {
        "id": "uT3UV3gap9H6"
      },
      "source": [
        "## Stretch goals:\n",
        "- Refine the training and generation of text to be able to ask for different genres/styles of Shakespearean text (e.g. plays versus sonnets)\n",
        "- Train a classification model that takes text and returns which work of Shakespeare it is most likely to be from\n",
        "- Make it more performant! Many possible routes here - lean on Keras, optimize the code, and/or use more resources (AWS, etc.)\n",
        "- Revisit the news example from class, and improve it - use categories or tags to refine the model/generation, or train a news classifier\n",
        "- Run on bigger, better data\n",
        "\n",
        "## Resources:\n",
        "- [The Unreasonable Effectiveness of Recurrent Neural Networks](https://karpathy.github.io/2015/05/21/rnn-effectiveness/) - a seminal writeup demonstrating a simple but effective character-level NLP RNN\n",
        "- [Simple NumPy implementation of RNN](https://github.com/JY-Yoon/RNN-Implementation-using-NumPy/blob/master/RNN%20Implementation%20using%20NumPy.ipynb) - Python 3 version of the code from \"Unreasonable Effectiveness\"\n",
        "- [TensorFlow RNN Tutorial](https://github.com/tensorflow/models/tree/master/tutorials/rnn) - code for training a RNN on the Penn Tree Bank language dataset\n",
        "- [4 part tutorial on RNN](http://www.wildml.com/2015/09/recurrent-neural-networks-tutorial-part-1-introduction-to-rnns/) - relates RNN to the vanishing gradient problem, and provides example implementation\n",
        "- [RNN training tips and tricks](https://github.com/karpathy/char-rnn#tips-and-tricks) - some rules of thumb for parameterizing and training your RNN"
      ]
    }
  ]
}