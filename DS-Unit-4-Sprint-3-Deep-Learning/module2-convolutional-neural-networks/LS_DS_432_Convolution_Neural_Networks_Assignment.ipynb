{
  "nbformat": 4,
  "nbformat_minor": 0,
  "metadata": {
    "kernelspec": {
      "name": "python3",
      "display_name": "Python 3"
    },
    "nteract": {
      "version": "0.23.1"
    },
    "colab": {
      "name": "LS_DS_432_Convolution_Neural_Networks_Assignment.ipynb",
      "provenance": []
    },
    "accelerator": "GPU"
  },
  "cells": [
    {
      "cell_type": "markdown",
      "metadata": {
        "id": "fc4yMj7mtCAZ"
      },
      "source": [
        "<img align=\"left\" src=\"https://lever-client-logos.s3.amazonaws.com/864372b1-534c-480e-acd5-9711f850815c-1524247202159.png\" width=200>\n",
        "<br></br>\n",
        "<br></br>\n",
        "\n",
        "## *Data Science Unit 4 Sprint 3 Assignment 2*\n",
        "# Convolutional Neural Networks (CNNs)"
      ]
    },
    {
      "cell_type": "markdown",
      "metadata": {
        "id": "0lfZdD_cp1t5"
      },
      "source": [
        "# Assignment\n",
        "\n",
        "- <a href=\"#p1\">Part 1:</a> Pre-Trained Model\n",
        "- <a href=\"#p2\">Part 2:</a> Custom CNN Model\n",
        "- <a href=\"#p3\">Part 3:</a> CNN with Data Augmentation\n",
        "\n",
        "\n",
        "You will apply three different CNN models to a binary image classification model using Keras. Classify images of Mountains (`./data/train/mountain/*`) and images of forests (`./data/train/forest/*`). Treat mountains as the positive class (1) and the forest images as the negative (zero). \n",
        "\n",
        "|Mountain (+)|Forest (-)|\n",
        "|---|---|\n",
        "|![](https://github.com/LambdaSchool/DS-Unit-4-Sprint-3-Deep-Learning/blob/main/module2-convolutional-neural-networks/data/train/mountain/art1131.jpg?raw=1)|![](https://github.com/LambdaSchool/DS-Unit-4-Sprint-3-Deep-Learning/blob/main/module2-convolutional-neural-networks/data/validation/forest/cdmc317.jpg?raw=1)|\n",
        "\n",
        "The problem is relatively difficult given that the sample is tiny: there are about 350 observations per class. This sample size might be something that you can expect with prototyping an image classification problem/solution at work. Get accustomed to evaluating several different possible models."
      ]
    },
    {
      "cell_type": "markdown",
      "metadata": {
        "id": "1eawBP-otCAb"
      },
      "source": [
        "# Pre - Trained Model\n",
        "<a id=\"p1\"></a>\n",
        "\n",
        "Load a pretrained network from Keras, [ResNet50](https://tfhub.dev/google/imagenet/resnet_v1_50/classification/1) - a 50 layer deep network trained to recognize [1000 objects](https://storage.googleapis.com/download.tensorflow.org/data/ImageNetLabels.txt). Starting usage:\n",
        "\n",
        "```python\n",
        "import numpy as np\n",
        "\n",
        "from tensorflow.keras.applications.resnet50 import ResNet50\n",
        "from tensorflow.keras.preprocessing import image\n",
        "from tensorflow.keras.applications.resnet50 import preprocess_input, decode_predictions\n",
        "\n",
        "from tensorflow.keras.layers import Dense, GlobalAveragePooling2D\n",
        "from tensorflow.keras.models import Model # This is the functional API\n",
        "\n",
        "resnet = ResNet50(weights='imagenet', include_top=False)\n",
        "\n",
        "```\n",
        "\n",
        "The `include_top` parameter in `ResNet50` will remove the full connected layers from the ResNet model. The next step is to turn off the training of the ResNet layers. We want to use the learned parameters without updating them in future training passes. \n",
        "\n",
        "```python\n",
        "for layer in resnet.layers:\n",
        "    layer.trainable = False\n",
        "```\n",
        "\n",
        "Using the Keras functional API, we will need to additional additional full connected layers to our model. We we removed the top layers, we removed all preivous fully connected layers. In other words, we kept only the feature processing portions of our network. You can expert with additional layers beyond what's listed here. The `GlobalAveragePooling2D` layer functions as a really fancy flatten function by taking the average of each of the last convolutional layer outputs (which is two dimensional still). \n",
        "\n",
        "```python\n",
        "x = resnet.output\n",
        "x = GlobalAveragePooling2D()(x) # This layer is a really fancy flatten\n",
        "x = Dense(1024, activation='relu')(x)\n",
        "predictions = Dense(1, activation='sigmoid')(x)\n",
        "model = Model(resnet.input, predictions)\n",
        "```\n",
        "\n",
        "Your assignment is to apply the transfer learning above to classify images of Mountains (`./data/train/mountain/*`) and images of forests (`./data/train/forest/*`). Treat mountains as the positive class (1) and the forest images as the negative (zero). \n",
        "\n",
        "Steps to complete assignment: \n",
        "1. Load in Image Data into numpy arrays (`X`) \n",
        "2. Create a `y` for the labels\n",
        "3. Train your model with pre-trained layers from resnet\n",
        "4. Report your model's accuracy"
      ]
    },
    {
      "cell_type": "markdown",
      "metadata": {
        "id": "CLdGdXCatCAb"
      },
      "source": [
        "## Load in Data\n",
        "\n",
        "This surprisingly more difficult than it seems, because you are working with directories of images instead of a single file. This boiler plate will help you download a zipped version of the directory of images. The directory is organized into \"train\" and \"validation\" which you can use inside an `ImageGenerator` class to stream batches of images thru your model.  \n"
      ]
    },
    {
      "cell_type": "markdown",
      "metadata": {
        "id": "moRVuHUqtCAc"
      },
      "source": [
        "### Download & Summarize the Data\n",
        "\n",
        "This step is completed for you. Just run the cells and review the results. "
      ]
    },
    {
      "cell_type": "code",
      "metadata": {
        "id": "AR66H8o9tCAc"
      },
      "source": [
        "import tensorflow as tf\n",
        "import os\n",
        "\n",
        "_URL = 'https://github.com/LambdaSchool/DS-Unit-4-Sprint-3-Deep-Learning/blob/main/module2-convolutional-neural-networks/data.zip?raw=true'\n",
        "\n",
        "path_to_zip = tf.keras.utils.get_file('./data.zip', origin=_URL, extract=True)\n",
        "PATH = os.path.join(os.path.dirname(path_to_zip), 'data')"
      ],
      "execution_count": 1,
      "outputs": []
    },
    {
      "cell_type": "code",
      "metadata": {
        "id": "MNFsIu_KtCAg"
      },
      "source": [
        "train_dir = os.path.join(PATH, 'train')\n",
        "validation_dir = os.path.join(PATH, 'validation')"
      ],
      "execution_count": 2,
      "outputs": []
    },
    {
      "cell_type": "code",
      "metadata": {
        "id": "OsI9BQLotCAj"
      },
      "source": [
        "train_mountain_dir = os.path.join(train_dir, 'mountain')  # directory with our training cat pictures\n",
        "train_forest_dir = os.path.join(train_dir, 'forest')  # directory with our training dog pictures\n",
        "validation_mountain_dir = os.path.join(validation_dir, 'mountain')  # directory with our validation cat pictures\n",
        "validation_forest_dir = os.path.join(validation_dir, 'forest')  # directory with our validation dog pictures"
      ],
      "execution_count": 3,
      "outputs": []
    },
    {
      "cell_type": "code",
      "metadata": {
        "id": "NUs1e5-XtCAl"
      },
      "source": [
        "num_mountain_tr = len(os.listdir(train_mountain_dir))\n",
        "num_forest_tr = len(os.listdir(train_forest_dir))\n",
        "\n",
        "num_mountain_val = len(os.listdir(validation_mountain_dir))\n",
        "num_forest_val = len(os.listdir(validation_forest_dir))\n",
        "\n",
        "total_train = num_mountain_tr + num_forest_tr\n",
        "total_val = num_mountain_val + num_forest_val"
      ],
      "execution_count": 4,
      "outputs": []
    },
    {
      "cell_type": "code",
      "metadata": {
        "id": "ZmklbgSMtCAn",
        "colab": {
          "base_uri": "https://localhost:8080/"
        },
        "outputId": "1c629975-0e57-4a53-bb01-4ac3a1dfb40a"
      },
      "source": [
        "print('total training mountain images:', num_mountain_tr)\n",
        "print('total training forest images:', num_forest_tr)\n",
        "\n",
        "print('total validation mountain images:', num_mountain_val)\n",
        "print('total validation forest images:', num_forest_val)\n",
        "print(\"--\")\n",
        "print(\"Total training images:\", total_train)\n",
        "print(\"Total validation images:\", total_val)"
      ],
      "execution_count": 5,
      "outputs": [
        {
          "output_type": "stream",
          "text": [
            "total training mountain images: 254\n",
            "total training forest images: 270\n",
            "total validation mountain images: 125\n",
            "total validation forest images: 62\n",
            "--\n",
            "Total training images: 524\n",
            "Total validation images: 187\n"
          ],
          "name": "stdout"
        }
      ]
    },
    {
      "cell_type": "markdown",
      "metadata": {
        "id": "dQ4ag4ultCAq"
      },
      "source": [
        "### Keras `ImageGenerator` to Process the Data\n",
        "\n",
        "This step is completed for you, but please review the code. The `ImageGenerator` class reads in batches of data from a directory and pass them to the model one batch at a time. Just like large text files, this method is advantageous, because it stifles the need to load a bunch of images into memory. \n",
        "\n",
        "Check out the documentation for this class method: [Keras `ImageGenerator` Class](https://keras.io/preprocessing/image/#imagedatagenerator-class). You'll expand it's use in the third assignment objective."
      ]
    },
    {
      "cell_type": "code",
      "metadata": {
        "id": "67i9IW49tCAq"
      },
      "source": [
        "batch_size = 16\n",
        "epochs = 50\n",
        "IMG_HEIGHT = 224\n",
        "IMG_WIDTH = 224"
      ],
      "execution_count": 6,
      "outputs": []
    },
    {
      "cell_type": "code",
      "metadata": {
        "id": "B1wNKMo1tCAt"
      },
      "source": [
        "from tensorflow.keras.preprocessing.image import ImageDataGenerator\n",
        "\n",
        "train_image_generator = ImageDataGenerator(rescale=1./255) # Generator for our training data\n",
        "validation_image_generator = ImageDataGenerator(rescale=1./255) # Generator for our validation data"
      ],
      "execution_count": 7,
      "outputs": []
    },
    {
      "cell_type": "code",
      "metadata": {
        "id": "ndsuM4L9tCAv",
        "colab": {
          "base_uri": "https://localhost:8080/"
        },
        "outputId": "23fa6282-0dca-41a5-ce2b-5ff099f05348"
      },
      "source": [
        "train_data_gen = train_image_generator.flow_from_directory(batch_size=batch_size,\n",
        "                                                           directory=train_dir,\n",
        "                                                           shuffle=True,\n",
        "                                                           target_size=(IMG_HEIGHT, IMG_WIDTH),\n",
        "                                                           class_mode='binary')"
      ],
      "execution_count": 8,
      "outputs": [
        {
          "output_type": "stream",
          "text": [
            "Found 533 images belonging to 2 classes.\n"
          ],
          "name": "stdout"
        }
      ]
    },
    {
      "cell_type": "code",
      "metadata": {
        "id": "9kxlk3optCAy",
        "colab": {
          "base_uri": "https://localhost:8080/"
        },
        "outputId": "80c00a56-76ea-408d-89c3-e4542440a3b3"
      },
      "source": [
        "val_data_gen = validation_image_generator.flow_from_directory(batch_size=batch_size,\n",
        "                                                              directory=validation_dir,\n",
        "                                                              target_size=(IMG_HEIGHT, IMG_WIDTH),\n",
        "                                                              class_mode='binary')"
      ],
      "execution_count": 9,
      "outputs": [
        {
          "output_type": "stream",
          "text": [
            "Found 195 images belonging to 2 classes.\n"
          ],
          "name": "stdout"
        }
      ]
    },
    {
      "cell_type": "code",
      "metadata": {
        "colab": {
          "base_uri": "https://localhost:8080/"
        },
        "id": "yLwR4wVMoO4A",
        "outputId": "98fd8df9-ac1a-4d42-f7d9-6e44afd9ded6"
      },
      "source": [
        "train_data_gen[0][0].shape"
      ],
      "execution_count": 10,
      "outputs": [
        {
          "output_type": "execute_result",
          "data": {
            "text/plain": [
              "(16, 224, 224, 3)"
            ]
          },
          "metadata": {
            "tags": []
          },
          "execution_count": 10
        }
      ]
    },
    {
      "cell_type": "markdown",
      "metadata": {
        "id": "2l7ue6NutCA0"
      },
      "source": [
        "## Instatiate Model"
      ]
    },
    {
      "cell_type": "code",
      "metadata": {
        "id": "fNBTkrLIa6wW"
      },
      "source": [
        "import numpy as np\r\n",
        " \r\n",
        "from tensorflow.keras.applications.resnet50 import ResNet50\r\n",
        "from tensorflow.keras.preprocessing import image\r\n",
        "from tensorflow.keras.applications.resnet50 import preprocess_input, decode_predictions\r\n",
        " \r\n",
        "from tensorflow.keras.layers import Dense, GlobalAveragePooling2D\r\n",
        "from tensorflow.keras.models import Model # This is the functional API\r\n",
        " \r\n",
        "resnet = ResNet50(weights='imagenet', include_top=False)"
      ],
      "execution_count": 11,
      "outputs": []
    },
    {
      "cell_type": "code",
      "metadata": {
        "id": "QsUTe4V0bKYj"
      },
      "source": [
        "for layer in resnet.layers:\r\n",
        "    layer.trainable = False"
      ],
      "execution_count": 12,
      "outputs": []
    },
    {
      "cell_type": "code",
      "metadata": {
        "id": "iOhl3ogKbLYh"
      },
      "source": [
        "x = resnet.output\r\n",
        "x = GlobalAveragePooling2D()(x) # This layer is a really fancy flatten\r\n",
        "x = Dense(1024, activation='sigmoid')(x)\r\n",
        "predictions = Dense(1, activation='sigmoid')(x)\r\n",
        "model = Model(resnet.input, predictions)"
      ],
      "execution_count": 13,
      "outputs": []
    },
    {
      "cell_type": "code",
      "metadata": {
        "colab": {
          "base_uri": "https://localhost:8080/"
        },
        "id": "kB_vOHldqit-",
        "outputId": "0bea4d11-d61e-4399-e8ef-569f44809047"
      },
      "source": [
        "model.compile(loss='binary_crossentropy',\r\n",
        "              optimizer='nadam',\r\n",
        "              metrics=['accuracy'])\r\n",
        "\r\n",
        "model.summary()"
      ],
      "execution_count": 14,
      "outputs": [
        {
          "output_type": "stream",
          "text": [
            "Model: \"model\"\n",
            "__________________________________________________________________________________________________\n",
            "Layer (type)                    Output Shape         Param #     Connected to                     \n",
            "==================================================================================================\n",
            "input_1 (InputLayer)            [(None, None, None,  0                                            \n",
            "__________________________________________________________________________________________________\n",
            "conv1_pad (ZeroPadding2D)       (None, None, None, 3 0           input_1[0][0]                    \n",
            "__________________________________________________________________________________________________\n",
            "conv1_conv (Conv2D)             (None, None, None, 6 9472        conv1_pad[0][0]                  \n",
            "__________________________________________________________________________________________________\n",
            "conv1_bn (BatchNormalization)   (None, None, None, 6 256         conv1_conv[0][0]                 \n",
            "__________________________________________________________________________________________________\n",
            "conv1_relu (Activation)         (None, None, None, 6 0           conv1_bn[0][0]                   \n",
            "__________________________________________________________________________________________________\n",
            "pool1_pad (ZeroPadding2D)       (None, None, None, 6 0           conv1_relu[0][0]                 \n",
            "__________________________________________________________________________________________________\n",
            "pool1_pool (MaxPooling2D)       (None, None, None, 6 0           pool1_pad[0][0]                  \n",
            "__________________________________________________________________________________________________\n",
            "conv2_block1_1_conv (Conv2D)    (None, None, None, 6 4160        pool1_pool[0][0]                 \n",
            "__________________________________________________________________________________________________\n",
            "conv2_block1_1_bn (BatchNormali (None, None, None, 6 256         conv2_block1_1_conv[0][0]        \n",
            "__________________________________________________________________________________________________\n",
            "conv2_block1_1_relu (Activation (None, None, None, 6 0           conv2_block1_1_bn[0][0]          \n",
            "__________________________________________________________________________________________________\n",
            "conv2_block1_2_conv (Conv2D)    (None, None, None, 6 36928       conv2_block1_1_relu[0][0]        \n",
            "__________________________________________________________________________________________________\n",
            "conv2_block1_2_bn (BatchNormali (None, None, None, 6 256         conv2_block1_2_conv[0][0]        \n",
            "__________________________________________________________________________________________________\n",
            "conv2_block1_2_relu (Activation (None, None, None, 6 0           conv2_block1_2_bn[0][0]          \n",
            "__________________________________________________________________________________________________\n",
            "conv2_block1_0_conv (Conv2D)    (None, None, None, 2 16640       pool1_pool[0][0]                 \n",
            "__________________________________________________________________________________________________\n",
            "conv2_block1_3_conv (Conv2D)    (None, None, None, 2 16640       conv2_block1_2_relu[0][0]        \n",
            "__________________________________________________________________________________________________\n",
            "conv2_block1_0_bn (BatchNormali (None, None, None, 2 1024        conv2_block1_0_conv[0][0]        \n",
            "__________________________________________________________________________________________________\n",
            "conv2_block1_3_bn (BatchNormali (None, None, None, 2 1024        conv2_block1_3_conv[0][0]        \n",
            "__________________________________________________________________________________________________\n",
            "conv2_block1_add (Add)          (None, None, None, 2 0           conv2_block1_0_bn[0][0]          \n",
            "                                                                 conv2_block1_3_bn[0][0]          \n",
            "__________________________________________________________________________________________________\n",
            "conv2_block1_out (Activation)   (None, None, None, 2 0           conv2_block1_add[0][0]           \n",
            "__________________________________________________________________________________________________\n",
            "conv2_block2_1_conv (Conv2D)    (None, None, None, 6 16448       conv2_block1_out[0][0]           \n",
            "__________________________________________________________________________________________________\n",
            "conv2_block2_1_bn (BatchNormali (None, None, None, 6 256         conv2_block2_1_conv[0][0]        \n",
            "__________________________________________________________________________________________________\n",
            "conv2_block2_1_relu (Activation (None, None, None, 6 0           conv2_block2_1_bn[0][0]          \n",
            "__________________________________________________________________________________________________\n",
            "conv2_block2_2_conv (Conv2D)    (None, None, None, 6 36928       conv2_block2_1_relu[0][0]        \n",
            "__________________________________________________________________________________________________\n",
            "conv2_block2_2_bn (BatchNormali (None, None, None, 6 256         conv2_block2_2_conv[0][0]        \n",
            "__________________________________________________________________________________________________\n",
            "conv2_block2_2_relu (Activation (None, None, None, 6 0           conv2_block2_2_bn[0][0]          \n",
            "__________________________________________________________________________________________________\n",
            "conv2_block2_3_conv (Conv2D)    (None, None, None, 2 16640       conv2_block2_2_relu[0][0]        \n",
            "__________________________________________________________________________________________________\n",
            "conv2_block2_3_bn (BatchNormali (None, None, None, 2 1024        conv2_block2_3_conv[0][0]        \n",
            "__________________________________________________________________________________________________\n",
            "conv2_block2_add (Add)          (None, None, None, 2 0           conv2_block1_out[0][0]           \n",
            "                                                                 conv2_block2_3_bn[0][0]          \n",
            "__________________________________________________________________________________________________\n",
            "conv2_block2_out (Activation)   (None, None, None, 2 0           conv2_block2_add[0][0]           \n",
            "__________________________________________________________________________________________________\n",
            "conv2_block3_1_conv (Conv2D)    (None, None, None, 6 16448       conv2_block2_out[0][0]           \n",
            "__________________________________________________________________________________________________\n",
            "conv2_block3_1_bn (BatchNormali (None, None, None, 6 256         conv2_block3_1_conv[0][0]        \n",
            "__________________________________________________________________________________________________\n",
            "conv2_block3_1_relu (Activation (None, None, None, 6 0           conv2_block3_1_bn[0][0]          \n",
            "__________________________________________________________________________________________________\n",
            "conv2_block3_2_conv (Conv2D)    (None, None, None, 6 36928       conv2_block3_1_relu[0][0]        \n",
            "__________________________________________________________________________________________________\n",
            "conv2_block3_2_bn (BatchNormali (None, None, None, 6 256         conv2_block3_2_conv[0][0]        \n",
            "__________________________________________________________________________________________________\n",
            "conv2_block3_2_relu (Activation (None, None, None, 6 0           conv2_block3_2_bn[0][0]          \n",
            "__________________________________________________________________________________________________\n",
            "conv2_block3_3_conv (Conv2D)    (None, None, None, 2 16640       conv2_block3_2_relu[0][0]        \n",
            "__________________________________________________________________________________________________\n",
            "conv2_block3_3_bn (BatchNormali (None, None, None, 2 1024        conv2_block3_3_conv[0][0]        \n",
            "__________________________________________________________________________________________________\n",
            "conv2_block3_add (Add)          (None, None, None, 2 0           conv2_block2_out[0][0]           \n",
            "                                                                 conv2_block3_3_bn[0][0]          \n",
            "__________________________________________________________________________________________________\n",
            "conv2_block3_out (Activation)   (None, None, None, 2 0           conv2_block3_add[0][0]           \n",
            "__________________________________________________________________________________________________\n",
            "conv3_block1_1_conv (Conv2D)    (None, None, None, 1 32896       conv2_block3_out[0][0]           \n",
            "__________________________________________________________________________________________________\n",
            "conv3_block1_1_bn (BatchNormali (None, None, None, 1 512         conv3_block1_1_conv[0][0]        \n",
            "__________________________________________________________________________________________________\n",
            "conv3_block1_1_relu (Activation (None, None, None, 1 0           conv3_block1_1_bn[0][0]          \n",
            "__________________________________________________________________________________________________\n",
            "conv3_block1_2_conv (Conv2D)    (None, None, None, 1 147584      conv3_block1_1_relu[0][0]        \n",
            "__________________________________________________________________________________________________\n",
            "conv3_block1_2_bn (BatchNormali (None, None, None, 1 512         conv3_block1_2_conv[0][0]        \n",
            "__________________________________________________________________________________________________\n",
            "conv3_block1_2_relu (Activation (None, None, None, 1 0           conv3_block1_2_bn[0][0]          \n",
            "__________________________________________________________________________________________________\n",
            "conv3_block1_0_conv (Conv2D)    (None, None, None, 5 131584      conv2_block3_out[0][0]           \n",
            "__________________________________________________________________________________________________\n",
            "conv3_block1_3_conv (Conv2D)    (None, None, None, 5 66048       conv3_block1_2_relu[0][0]        \n",
            "__________________________________________________________________________________________________\n",
            "conv3_block1_0_bn (BatchNormali (None, None, None, 5 2048        conv3_block1_0_conv[0][0]        \n",
            "__________________________________________________________________________________________________\n",
            "conv3_block1_3_bn (BatchNormali (None, None, None, 5 2048        conv3_block1_3_conv[0][0]        \n",
            "__________________________________________________________________________________________________\n",
            "conv3_block1_add (Add)          (None, None, None, 5 0           conv3_block1_0_bn[0][0]          \n",
            "                                                                 conv3_block1_3_bn[0][0]          \n",
            "__________________________________________________________________________________________________\n",
            "conv3_block1_out (Activation)   (None, None, None, 5 0           conv3_block1_add[0][0]           \n",
            "__________________________________________________________________________________________________\n",
            "conv3_block2_1_conv (Conv2D)    (None, None, None, 1 65664       conv3_block1_out[0][0]           \n",
            "__________________________________________________________________________________________________\n",
            "conv3_block2_1_bn (BatchNormali (None, None, None, 1 512         conv3_block2_1_conv[0][0]        \n",
            "__________________________________________________________________________________________________\n",
            "conv3_block2_1_relu (Activation (None, None, None, 1 0           conv3_block2_1_bn[0][0]          \n",
            "__________________________________________________________________________________________________\n",
            "conv3_block2_2_conv (Conv2D)    (None, None, None, 1 147584      conv3_block2_1_relu[0][0]        \n",
            "__________________________________________________________________________________________________\n",
            "conv3_block2_2_bn (BatchNormali (None, None, None, 1 512         conv3_block2_2_conv[0][0]        \n",
            "__________________________________________________________________________________________________\n",
            "conv3_block2_2_relu (Activation (None, None, None, 1 0           conv3_block2_2_bn[0][0]          \n",
            "__________________________________________________________________________________________________\n",
            "conv3_block2_3_conv (Conv2D)    (None, None, None, 5 66048       conv3_block2_2_relu[0][0]        \n",
            "__________________________________________________________________________________________________\n",
            "conv3_block2_3_bn (BatchNormali (None, None, None, 5 2048        conv3_block2_3_conv[0][0]        \n",
            "__________________________________________________________________________________________________\n",
            "conv3_block2_add (Add)          (None, None, None, 5 0           conv3_block1_out[0][0]           \n",
            "                                                                 conv3_block2_3_bn[0][0]          \n",
            "__________________________________________________________________________________________________\n",
            "conv3_block2_out (Activation)   (None, None, None, 5 0           conv3_block2_add[0][0]           \n",
            "__________________________________________________________________________________________________\n",
            "conv3_block3_1_conv (Conv2D)    (None, None, None, 1 65664       conv3_block2_out[0][0]           \n",
            "__________________________________________________________________________________________________\n",
            "conv3_block3_1_bn (BatchNormali (None, None, None, 1 512         conv3_block3_1_conv[0][0]        \n",
            "__________________________________________________________________________________________________\n",
            "conv3_block3_1_relu (Activation (None, None, None, 1 0           conv3_block3_1_bn[0][0]          \n",
            "__________________________________________________________________________________________________\n",
            "conv3_block3_2_conv (Conv2D)    (None, None, None, 1 147584      conv3_block3_1_relu[0][0]        \n",
            "__________________________________________________________________________________________________\n",
            "conv3_block3_2_bn (BatchNormali (None, None, None, 1 512         conv3_block3_2_conv[0][0]        \n",
            "__________________________________________________________________________________________________\n",
            "conv3_block3_2_relu (Activation (None, None, None, 1 0           conv3_block3_2_bn[0][0]          \n",
            "__________________________________________________________________________________________________\n",
            "conv3_block3_3_conv (Conv2D)    (None, None, None, 5 66048       conv3_block3_2_relu[0][0]        \n",
            "__________________________________________________________________________________________________\n",
            "conv3_block3_3_bn (BatchNormali (None, None, None, 5 2048        conv3_block3_3_conv[0][0]        \n",
            "__________________________________________________________________________________________________\n",
            "conv3_block3_add (Add)          (None, None, None, 5 0           conv3_block2_out[0][0]           \n",
            "                                                                 conv3_block3_3_bn[0][0]          \n",
            "__________________________________________________________________________________________________\n",
            "conv3_block3_out (Activation)   (None, None, None, 5 0           conv3_block3_add[0][0]           \n",
            "__________________________________________________________________________________________________\n",
            "conv3_block4_1_conv (Conv2D)    (None, None, None, 1 65664       conv3_block3_out[0][0]           \n",
            "__________________________________________________________________________________________________\n",
            "conv3_block4_1_bn (BatchNormali (None, None, None, 1 512         conv3_block4_1_conv[0][0]        \n",
            "__________________________________________________________________________________________________\n",
            "conv3_block4_1_relu (Activation (None, None, None, 1 0           conv3_block4_1_bn[0][0]          \n",
            "__________________________________________________________________________________________________\n",
            "conv3_block4_2_conv (Conv2D)    (None, None, None, 1 147584      conv3_block4_1_relu[0][0]        \n",
            "__________________________________________________________________________________________________\n",
            "conv3_block4_2_bn (BatchNormali (None, None, None, 1 512         conv3_block4_2_conv[0][0]        \n",
            "__________________________________________________________________________________________________\n",
            "conv3_block4_2_relu (Activation (None, None, None, 1 0           conv3_block4_2_bn[0][0]          \n",
            "__________________________________________________________________________________________________\n",
            "conv3_block4_3_conv (Conv2D)    (None, None, None, 5 66048       conv3_block4_2_relu[0][0]        \n",
            "__________________________________________________________________________________________________\n",
            "conv3_block4_3_bn (BatchNormali (None, None, None, 5 2048        conv3_block4_3_conv[0][0]        \n",
            "__________________________________________________________________________________________________\n",
            "conv3_block4_add (Add)          (None, None, None, 5 0           conv3_block3_out[0][0]           \n",
            "                                                                 conv3_block4_3_bn[0][0]          \n",
            "__________________________________________________________________________________________________\n",
            "conv3_block4_out (Activation)   (None, None, None, 5 0           conv3_block4_add[0][0]           \n",
            "__________________________________________________________________________________________________\n",
            "conv4_block1_1_conv (Conv2D)    (None, None, None, 2 131328      conv3_block4_out[0][0]           \n",
            "__________________________________________________________________________________________________\n",
            "conv4_block1_1_bn (BatchNormali (None, None, None, 2 1024        conv4_block1_1_conv[0][0]        \n",
            "__________________________________________________________________________________________________\n",
            "conv4_block1_1_relu (Activation (None, None, None, 2 0           conv4_block1_1_bn[0][0]          \n",
            "__________________________________________________________________________________________________\n",
            "conv4_block1_2_conv (Conv2D)    (None, None, None, 2 590080      conv4_block1_1_relu[0][0]        \n",
            "__________________________________________________________________________________________________\n",
            "conv4_block1_2_bn (BatchNormali (None, None, None, 2 1024        conv4_block1_2_conv[0][0]        \n",
            "__________________________________________________________________________________________________\n",
            "conv4_block1_2_relu (Activation (None, None, None, 2 0           conv4_block1_2_bn[0][0]          \n",
            "__________________________________________________________________________________________________\n",
            "conv4_block1_0_conv (Conv2D)    (None, None, None, 1 525312      conv3_block4_out[0][0]           \n",
            "__________________________________________________________________________________________________\n",
            "conv4_block1_3_conv (Conv2D)    (None, None, None, 1 263168      conv4_block1_2_relu[0][0]        \n",
            "__________________________________________________________________________________________________\n",
            "conv4_block1_0_bn (BatchNormali (None, None, None, 1 4096        conv4_block1_0_conv[0][0]        \n",
            "__________________________________________________________________________________________________\n",
            "conv4_block1_3_bn (BatchNormali (None, None, None, 1 4096        conv4_block1_3_conv[0][0]        \n",
            "__________________________________________________________________________________________________\n",
            "conv4_block1_add (Add)          (None, None, None, 1 0           conv4_block1_0_bn[0][0]          \n",
            "                                                                 conv4_block1_3_bn[0][0]          \n",
            "__________________________________________________________________________________________________\n",
            "conv4_block1_out (Activation)   (None, None, None, 1 0           conv4_block1_add[0][0]           \n",
            "__________________________________________________________________________________________________\n",
            "conv4_block2_1_conv (Conv2D)    (None, None, None, 2 262400      conv4_block1_out[0][0]           \n",
            "__________________________________________________________________________________________________\n",
            "conv4_block2_1_bn (BatchNormali (None, None, None, 2 1024        conv4_block2_1_conv[0][0]        \n",
            "__________________________________________________________________________________________________\n",
            "conv4_block2_1_relu (Activation (None, None, None, 2 0           conv4_block2_1_bn[0][0]          \n",
            "__________________________________________________________________________________________________\n",
            "conv4_block2_2_conv (Conv2D)    (None, None, None, 2 590080      conv4_block2_1_relu[0][0]        \n",
            "__________________________________________________________________________________________________\n",
            "conv4_block2_2_bn (BatchNormali (None, None, None, 2 1024        conv4_block2_2_conv[0][0]        \n",
            "__________________________________________________________________________________________________\n",
            "conv4_block2_2_relu (Activation (None, None, None, 2 0           conv4_block2_2_bn[0][0]          \n",
            "__________________________________________________________________________________________________\n",
            "conv4_block2_3_conv (Conv2D)    (None, None, None, 1 263168      conv4_block2_2_relu[0][0]        \n",
            "__________________________________________________________________________________________________\n",
            "conv4_block2_3_bn (BatchNormali (None, None, None, 1 4096        conv4_block2_3_conv[0][0]        \n",
            "__________________________________________________________________________________________________\n",
            "conv4_block2_add (Add)          (None, None, None, 1 0           conv4_block1_out[0][0]           \n",
            "                                                                 conv4_block2_3_bn[0][0]          \n",
            "__________________________________________________________________________________________________\n",
            "conv4_block2_out (Activation)   (None, None, None, 1 0           conv4_block2_add[0][0]           \n",
            "__________________________________________________________________________________________________\n",
            "conv4_block3_1_conv (Conv2D)    (None, None, None, 2 262400      conv4_block2_out[0][0]           \n",
            "__________________________________________________________________________________________________\n",
            "conv4_block3_1_bn (BatchNormali (None, None, None, 2 1024        conv4_block3_1_conv[0][0]        \n",
            "__________________________________________________________________________________________________\n",
            "conv4_block3_1_relu (Activation (None, None, None, 2 0           conv4_block3_1_bn[0][0]          \n",
            "__________________________________________________________________________________________________\n",
            "conv4_block3_2_conv (Conv2D)    (None, None, None, 2 590080      conv4_block3_1_relu[0][0]        \n",
            "__________________________________________________________________________________________________\n",
            "conv4_block3_2_bn (BatchNormali (None, None, None, 2 1024        conv4_block3_2_conv[0][0]        \n",
            "__________________________________________________________________________________________________\n",
            "conv4_block3_2_relu (Activation (None, None, None, 2 0           conv4_block3_2_bn[0][0]          \n",
            "__________________________________________________________________________________________________\n",
            "conv4_block3_3_conv (Conv2D)    (None, None, None, 1 263168      conv4_block3_2_relu[0][0]        \n",
            "__________________________________________________________________________________________________\n",
            "conv4_block3_3_bn (BatchNormali (None, None, None, 1 4096        conv4_block3_3_conv[0][0]        \n",
            "__________________________________________________________________________________________________\n",
            "conv4_block3_add (Add)          (None, None, None, 1 0           conv4_block2_out[0][0]           \n",
            "                                                                 conv4_block3_3_bn[0][0]          \n",
            "__________________________________________________________________________________________________\n",
            "conv4_block3_out (Activation)   (None, None, None, 1 0           conv4_block3_add[0][0]           \n",
            "__________________________________________________________________________________________________\n",
            "conv4_block4_1_conv (Conv2D)    (None, None, None, 2 262400      conv4_block3_out[0][0]           \n",
            "__________________________________________________________________________________________________\n",
            "conv4_block4_1_bn (BatchNormali (None, None, None, 2 1024        conv4_block4_1_conv[0][0]        \n",
            "__________________________________________________________________________________________________\n",
            "conv4_block4_1_relu (Activation (None, None, None, 2 0           conv4_block4_1_bn[0][0]          \n",
            "__________________________________________________________________________________________________\n",
            "conv4_block4_2_conv (Conv2D)    (None, None, None, 2 590080      conv4_block4_1_relu[0][0]        \n",
            "__________________________________________________________________________________________________\n",
            "conv4_block4_2_bn (BatchNormali (None, None, None, 2 1024        conv4_block4_2_conv[0][0]        \n",
            "__________________________________________________________________________________________________\n",
            "conv4_block4_2_relu (Activation (None, None, None, 2 0           conv4_block4_2_bn[0][0]          \n",
            "__________________________________________________________________________________________________\n",
            "conv4_block4_3_conv (Conv2D)    (None, None, None, 1 263168      conv4_block4_2_relu[0][0]        \n",
            "__________________________________________________________________________________________________\n",
            "conv4_block4_3_bn (BatchNormali (None, None, None, 1 4096        conv4_block4_3_conv[0][0]        \n",
            "__________________________________________________________________________________________________\n",
            "conv4_block4_add (Add)          (None, None, None, 1 0           conv4_block3_out[0][0]           \n",
            "                                                                 conv4_block4_3_bn[0][0]          \n",
            "__________________________________________________________________________________________________\n",
            "conv4_block4_out (Activation)   (None, None, None, 1 0           conv4_block4_add[0][0]           \n",
            "__________________________________________________________________________________________________\n",
            "conv4_block5_1_conv (Conv2D)    (None, None, None, 2 262400      conv4_block4_out[0][0]           \n",
            "__________________________________________________________________________________________________\n",
            "conv4_block5_1_bn (BatchNormali (None, None, None, 2 1024        conv4_block5_1_conv[0][0]        \n",
            "__________________________________________________________________________________________________\n",
            "conv4_block5_1_relu (Activation (None, None, None, 2 0           conv4_block5_1_bn[0][0]          \n",
            "__________________________________________________________________________________________________\n",
            "conv4_block5_2_conv (Conv2D)    (None, None, None, 2 590080      conv4_block5_1_relu[0][0]        \n",
            "__________________________________________________________________________________________________\n",
            "conv4_block5_2_bn (BatchNormali (None, None, None, 2 1024        conv4_block5_2_conv[0][0]        \n",
            "__________________________________________________________________________________________________\n",
            "conv4_block5_2_relu (Activation (None, None, None, 2 0           conv4_block5_2_bn[0][0]          \n",
            "__________________________________________________________________________________________________\n",
            "conv4_block5_3_conv (Conv2D)    (None, None, None, 1 263168      conv4_block5_2_relu[0][0]        \n",
            "__________________________________________________________________________________________________\n",
            "conv4_block5_3_bn (BatchNormali (None, None, None, 1 4096        conv4_block5_3_conv[0][0]        \n",
            "__________________________________________________________________________________________________\n",
            "conv4_block5_add (Add)          (None, None, None, 1 0           conv4_block4_out[0][0]           \n",
            "                                                                 conv4_block5_3_bn[0][0]          \n",
            "__________________________________________________________________________________________________\n",
            "conv4_block5_out (Activation)   (None, None, None, 1 0           conv4_block5_add[0][0]           \n",
            "__________________________________________________________________________________________________\n",
            "conv4_block6_1_conv (Conv2D)    (None, None, None, 2 262400      conv4_block5_out[0][0]           \n",
            "__________________________________________________________________________________________________\n",
            "conv4_block6_1_bn (BatchNormali (None, None, None, 2 1024        conv4_block6_1_conv[0][0]        \n",
            "__________________________________________________________________________________________________\n",
            "conv4_block6_1_relu (Activation (None, None, None, 2 0           conv4_block6_1_bn[0][0]          \n",
            "__________________________________________________________________________________________________\n",
            "conv4_block6_2_conv (Conv2D)    (None, None, None, 2 590080      conv4_block6_1_relu[0][0]        \n",
            "__________________________________________________________________________________________________\n",
            "conv4_block6_2_bn (BatchNormali (None, None, None, 2 1024        conv4_block6_2_conv[0][0]        \n",
            "__________________________________________________________________________________________________\n",
            "conv4_block6_2_relu (Activation (None, None, None, 2 0           conv4_block6_2_bn[0][0]          \n",
            "__________________________________________________________________________________________________\n",
            "conv4_block6_3_conv (Conv2D)    (None, None, None, 1 263168      conv4_block6_2_relu[0][0]        \n",
            "__________________________________________________________________________________________________\n",
            "conv4_block6_3_bn (BatchNormali (None, None, None, 1 4096        conv4_block6_3_conv[0][0]        \n",
            "__________________________________________________________________________________________________\n",
            "conv4_block6_add (Add)          (None, None, None, 1 0           conv4_block5_out[0][0]           \n",
            "                                                                 conv4_block6_3_bn[0][0]          \n",
            "__________________________________________________________________________________________________\n",
            "conv4_block6_out (Activation)   (None, None, None, 1 0           conv4_block6_add[0][0]           \n",
            "__________________________________________________________________________________________________\n",
            "conv5_block1_1_conv (Conv2D)    (None, None, None, 5 524800      conv4_block6_out[0][0]           \n",
            "__________________________________________________________________________________________________\n",
            "conv5_block1_1_bn (BatchNormali (None, None, None, 5 2048        conv5_block1_1_conv[0][0]        \n",
            "__________________________________________________________________________________________________\n",
            "conv5_block1_1_relu (Activation (None, None, None, 5 0           conv5_block1_1_bn[0][0]          \n",
            "__________________________________________________________________________________________________\n",
            "conv5_block1_2_conv (Conv2D)    (None, None, None, 5 2359808     conv5_block1_1_relu[0][0]        \n",
            "__________________________________________________________________________________________________\n",
            "conv5_block1_2_bn (BatchNormali (None, None, None, 5 2048        conv5_block1_2_conv[0][0]        \n",
            "__________________________________________________________________________________________________\n",
            "conv5_block1_2_relu (Activation (None, None, None, 5 0           conv5_block1_2_bn[0][0]          \n",
            "__________________________________________________________________________________________________\n",
            "conv5_block1_0_conv (Conv2D)    (None, None, None, 2 2099200     conv4_block6_out[0][0]           \n",
            "__________________________________________________________________________________________________\n",
            "conv5_block1_3_conv (Conv2D)    (None, None, None, 2 1050624     conv5_block1_2_relu[0][0]        \n",
            "__________________________________________________________________________________________________\n",
            "conv5_block1_0_bn (BatchNormali (None, None, None, 2 8192        conv5_block1_0_conv[0][0]        \n",
            "__________________________________________________________________________________________________\n",
            "conv5_block1_3_bn (BatchNormali (None, None, None, 2 8192        conv5_block1_3_conv[0][0]        \n",
            "__________________________________________________________________________________________________\n",
            "conv5_block1_add (Add)          (None, None, None, 2 0           conv5_block1_0_bn[0][0]          \n",
            "                                                                 conv5_block1_3_bn[0][0]          \n",
            "__________________________________________________________________________________________________\n",
            "conv5_block1_out (Activation)   (None, None, None, 2 0           conv5_block1_add[0][0]           \n",
            "__________________________________________________________________________________________________\n",
            "conv5_block2_1_conv (Conv2D)    (None, None, None, 5 1049088     conv5_block1_out[0][0]           \n",
            "__________________________________________________________________________________________________\n",
            "conv5_block2_1_bn (BatchNormali (None, None, None, 5 2048        conv5_block2_1_conv[0][0]        \n",
            "__________________________________________________________________________________________________\n",
            "conv5_block2_1_relu (Activation (None, None, None, 5 0           conv5_block2_1_bn[0][0]          \n",
            "__________________________________________________________________________________________________\n",
            "conv5_block2_2_conv (Conv2D)    (None, None, None, 5 2359808     conv5_block2_1_relu[0][0]        \n",
            "__________________________________________________________________________________________________\n",
            "conv5_block2_2_bn (BatchNormali (None, None, None, 5 2048        conv5_block2_2_conv[0][0]        \n",
            "__________________________________________________________________________________________________\n",
            "conv5_block2_2_relu (Activation (None, None, None, 5 0           conv5_block2_2_bn[0][0]          \n",
            "__________________________________________________________________________________________________\n",
            "conv5_block2_3_conv (Conv2D)    (None, None, None, 2 1050624     conv5_block2_2_relu[0][0]        \n",
            "__________________________________________________________________________________________________\n",
            "conv5_block2_3_bn (BatchNormali (None, None, None, 2 8192        conv5_block2_3_conv[0][0]        \n",
            "__________________________________________________________________________________________________\n",
            "conv5_block2_add (Add)          (None, None, None, 2 0           conv5_block1_out[0][0]           \n",
            "                                                                 conv5_block2_3_bn[0][0]          \n",
            "__________________________________________________________________________________________________\n",
            "conv5_block2_out (Activation)   (None, None, None, 2 0           conv5_block2_add[0][0]           \n",
            "__________________________________________________________________________________________________\n",
            "conv5_block3_1_conv (Conv2D)    (None, None, None, 5 1049088     conv5_block2_out[0][0]           \n",
            "__________________________________________________________________________________________________\n",
            "conv5_block3_1_bn (BatchNormali (None, None, None, 5 2048        conv5_block3_1_conv[0][0]        \n",
            "__________________________________________________________________________________________________\n",
            "conv5_block3_1_relu (Activation (None, None, None, 5 0           conv5_block3_1_bn[0][0]          \n",
            "__________________________________________________________________________________________________\n",
            "conv5_block3_2_conv (Conv2D)    (None, None, None, 5 2359808     conv5_block3_1_relu[0][0]        \n",
            "__________________________________________________________________________________________________\n",
            "conv5_block3_2_bn (BatchNormali (None, None, None, 5 2048        conv5_block3_2_conv[0][0]        \n",
            "__________________________________________________________________________________________________\n",
            "conv5_block3_2_relu (Activation (None, None, None, 5 0           conv5_block3_2_bn[0][0]          \n",
            "__________________________________________________________________________________________________\n",
            "conv5_block3_3_conv (Conv2D)    (None, None, None, 2 1050624     conv5_block3_2_relu[0][0]        \n",
            "__________________________________________________________________________________________________\n",
            "conv5_block3_3_bn (BatchNormali (None, None, None, 2 8192        conv5_block3_3_conv[0][0]        \n",
            "__________________________________________________________________________________________________\n",
            "conv5_block3_add (Add)          (None, None, None, 2 0           conv5_block2_out[0][0]           \n",
            "                                                                 conv5_block3_3_bn[0][0]          \n",
            "__________________________________________________________________________________________________\n",
            "conv5_block3_out (Activation)   (None, None, None, 2 0           conv5_block3_add[0][0]           \n",
            "__________________________________________________________________________________________________\n",
            "global_average_pooling2d (Globa (None, 2048)         0           conv5_block3_out[0][0]           \n",
            "__________________________________________________________________________________________________\n",
            "dense (Dense)                   (None, 1024)         2098176     global_average_pooling2d[0][0]   \n",
            "__________________________________________________________________________________________________\n",
            "dense_1 (Dense)                 (None, 1)            1025        dense[0][0]                      \n",
            "==================================================================================================\n",
            "Total params: 25,686,913\n",
            "Trainable params: 2,099,201\n",
            "Non-trainable params: 23,587,712\n",
            "__________________________________________________________________________________________________\n"
          ],
          "name": "stdout"
        }
      ]
    },
    {
      "cell_type": "markdown",
      "metadata": {
        "id": "BVPBWYG7tCA2"
      },
      "source": [
        "## Fit Model"
      ]
    },
    {
      "cell_type": "code",
      "metadata": {
        "id": "H4XdvWA5tCA3",
        "colab": {
          "base_uri": "https://localhost:8080/"
        },
        "outputId": "c0f54b59-8970-493a-c355-e398488e28db"
      },
      "source": [
        "history = model.fit(\n",
        "    train_data_gen,\n",
        "    steps_per_epoch=total_train // batch_size,\n",
        "    epochs=epochs,\n",
        "    validation_data=val_data_gen,\n",
        "    validation_steps=total_val // batch_size\n",
        ")"
      ],
      "execution_count": 15,
      "outputs": [
        {
          "output_type": "stream",
          "text": [
            "Epoch 1/50\n",
            "32/32 [==============================] - 8s 110ms/step - loss: 0.7901 - accuracy: 0.5267 - val_loss: 0.6024 - val_accuracy: 0.6818\n",
            "Epoch 2/50\n",
            "32/32 [==============================] - 2s 71ms/step - loss: 0.6633 - accuracy: 0.5964 - val_loss: 0.5485 - val_accuracy: 0.7102\n",
            "Epoch 3/50\n",
            "32/32 [==============================] - 2s 71ms/step - loss: 0.5951 - accuracy: 0.6518 - val_loss: 0.6318 - val_accuracy: 0.6477\n",
            "Epoch 4/50\n",
            "32/32 [==============================] - 2s 70ms/step - loss: 0.5774 - accuracy: 0.7296 - val_loss: 0.4821 - val_accuracy: 0.7557\n",
            "Epoch 5/50\n",
            "32/32 [==============================] - 2s 71ms/step - loss: 0.5710 - accuracy: 0.6585 - val_loss: 0.4887 - val_accuracy: 0.6932\n",
            "Epoch 6/50\n",
            "32/32 [==============================] - 2s 72ms/step - loss: 0.4987 - accuracy: 0.7293 - val_loss: 0.4295 - val_accuracy: 0.7841\n",
            "Epoch 7/50\n",
            "32/32 [==============================] - 2s 70ms/step - loss: 0.4652 - accuracy: 0.8147 - val_loss: 0.4343 - val_accuracy: 0.8295\n",
            "Epoch 8/50\n",
            "32/32 [==============================] - 2s 71ms/step - loss: 0.4864 - accuracy: 0.7351 - val_loss: 0.4098 - val_accuracy: 0.8409\n",
            "Epoch 9/50\n",
            "32/32 [==============================] - 2s 71ms/step - loss: 0.4147 - accuracy: 0.8365 - val_loss: 0.4497 - val_accuracy: 0.8182\n",
            "Epoch 10/50\n",
            "32/32 [==============================] - 2s 71ms/step - loss: 0.4172 - accuracy: 0.8052 - val_loss: 0.4096 - val_accuracy: 0.8523\n",
            "Epoch 11/50\n",
            "32/32 [==============================] - 2s 72ms/step - loss: 0.3730 - accuracy: 0.8478 - val_loss: 0.3559 - val_accuracy: 0.8352\n",
            "Epoch 12/50\n",
            "32/32 [==============================] - 2s 72ms/step - loss: 0.3738 - accuracy: 0.8265 - val_loss: 0.4800 - val_accuracy: 0.8011\n",
            "Epoch 13/50\n",
            "32/32 [==============================] - 2s 71ms/step - loss: 0.3236 - accuracy: 0.8907 - val_loss: 0.3678 - val_accuracy: 0.8011\n",
            "Epoch 14/50\n",
            "32/32 [==============================] - 2s 71ms/step - loss: 0.3897 - accuracy: 0.8243 - val_loss: 0.3757 - val_accuracy: 0.8466\n",
            "Epoch 15/50\n",
            "32/32 [==============================] - 2s 72ms/step - loss: 0.2983 - accuracy: 0.9071 - val_loss: 0.3008 - val_accuracy: 0.8977\n",
            "Epoch 16/50\n",
            "32/32 [==============================] - 2s 71ms/step - loss: 0.2969 - accuracy: 0.9178 - val_loss: 0.3977 - val_accuracy: 0.8466\n",
            "Epoch 17/50\n",
            "32/32 [==============================] - 2s 70ms/step - loss: 0.2809 - accuracy: 0.8956 - val_loss: 0.4441 - val_accuracy: 0.7386\n",
            "Epoch 18/50\n",
            "32/32 [==============================] - 2s 70ms/step - loss: 0.4518 - accuracy: 0.7797 - val_loss: 0.3554 - val_accuracy: 0.8466\n",
            "Epoch 19/50\n",
            "32/32 [==============================] - 2s 72ms/step - loss: 0.2742 - accuracy: 0.9172 - val_loss: 0.3265 - val_accuracy: 0.8693\n",
            "Epoch 20/50\n",
            "32/32 [==============================] - 2s 72ms/step - loss: 0.3253 - accuracy: 0.8695 - val_loss: 0.2905 - val_accuracy: 0.9034\n",
            "Epoch 21/50\n",
            "32/32 [==============================] - 2s 71ms/step - loss: 0.2672 - accuracy: 0.8994 - val_loss: 0.2824 - val_accuracy: 0.9034\n",
            "Epoch 22/50\n",
            "32/32 [==============================] - 2s 72ms/step - loss: 0.2476 - accuracy: 0.9295 - val_loss: 0.4430 - val_accuracy: 0.8182\n",
            "Epoch 23/50\n",
            "32/32 [==============================] - 2s 71ms/step - loss: 0.2658 - accuracy: 0.9004 - val_loss: 0.2625 - val_accuracy: 0.8864\n",
            "Epoch 24/50\n",
            "32/32 [==============================] - 2s 72ms/step - loss: 0.3264 - accuracy: 0.8861 - val_loss: 0.3079 - val_accuracy: 0.8693\n",
            "Epoch 25/50\n",
            "32/32 [==============================] - 2s 70ms/step - loss: 0.2375 - accuracy: 0.9201 - val_loss: 0.3869 - val_accuracy: 0.8239\n",
            "Epoch 26/50\n",
            "32/32 [==============================] - 2s 71ms/step - loss: 0.2079 - accuracy: 0.9342 - val_loss: 0.2841 - val_accuracy: 0.9034\n",
            "Epoch 27/50\n",
            "32/32 [==============================] - 2s 72ms/step - loss: 0.2357 - accuracy: 0.9012 - val_loss: 0.3118 - val_accuracy: 0.8239\n",
            "Epoch 28/50\n",
            "32/32 [==============================] - 2s 71ms/step - loss: 0.2116 - accuracy: 0.9357 - val_loss: 0.3801 - val_accuracy: 0.8352\n",
            "Epoch 29/50\n",
            "32/32 [==============================] - 2s 73ms/step - loss: 0.2300 - accuracy: 0.9243 - val_loss: 0.5396 - val_accuracy: 0.7670\n",
            "Epoch 30/50\n",
            "32/32 [==============================] - 2s 72ms/step - loss: 0.1970 - accuracy: 0.9411 - val_loss: 0.2379 - val_accuracy: 0.9261\n",
            "Epoch 31/50\n",
            "32/32 [==============================] - 2s 71ms/step - loss: 0.2233 - accuracy: 0.9209 - val_loss: 0.2585 - val_accuracy: 0.9148\n",
            "Epoch 32/50\n",
            "32/32 [==============================] - 2s 71ms/step - loss: 0.1692 - accuracy: 0.9478 - val_loss: 0.3521 - val_accuracy: 0.8466\n",
            "Epoch 33/50\n",
            "32/32 [==============================] - 2s 72ms/step - loss: 0.1984 - accuracy: 0.9383 - val_loss: 0.3224 - val_accuracy: 0.8466\n",
            "Epoch 34/50\n",
            "32/32 [==============================] - 2s 71ms/step - loss: 0.1626 - accuracy: 0.9400 - val_loss: 0.2250 - val_accuracy: 0.9318\n",
            "Epoch 35/50\n",
            "32/32 [==============================] - 2s 72ms/step - loss: 0.2070 - accuracy: 0.9206 - val_loss: 0.3006 - val_accuracy: 0.8693\n",
            "Epoch 36/50\n",
            "32/32 [==============================] - 2s 71ms/step - loss: 0.1524 - accuracy: 0.9626 - val_loss: 0.2305 - val_accuracy: 0.9375\n",
            "Epoch 37/50\n",
            "32/32 [==============================] - 2s 72ms/step - loss: 0.2013 - accuracy: 0.9114 - val_loss: 0.6206 - val_accuracy: 0.7273\n",
            "Epoch 38/50\n",
            "32/32 [==============================] - 2s 72ms/step - loss: 0.1723 - accuracy: 0.9366 - val_loss: 0.6646 - val_accuracy: 0.7159\n",
            "Epoch 39/50\n",
            "32/32 [==============================] - 2s 70ms/step - loss: 0.1819 - accuracy: 0.9325 - val_loss: 0.2564 - val_accuracy: 0.8920\n",
            "Epoch 40/50\n",
            "32/32 [==============================] - 2s 69ms/step - loss: 0.1772 - accuracy: 0.9183 - val_loss: 0.2165 - val_accuracy: 0.9318\n",
            "Epoch 41/50\n",
            "32/32 [==============================] - 2s 75ms/step - loss: 0.1686 - accuracy: 0.9428 - val_loss: 0.5804 - val_accuracy: 0.7670\n",
            "Epoch 42/50\n",
            "32/32 [==============================] - 2s 71ms/step - loss: 0.2365 - accuracy: 0.8962 - val_loss: 0.2947 - val_accuracy: 0.8750\n",
            "Epoch 43/50\n",
            "32/32 [==============================] - 2s 72ms/step - loss: 0.1664 - accuracy: 0.9289 - val_loss: 0.2573 - val_accuracy: 0.8920\n",
            "Epoch 44/50\n",
            "32/32 [==============================] - 2s 71ms/step - loss: 0.1438 - accuracy: 0.9514 - val_loss: 0.2404 - val_accuracy: 0.9091\n",
            "Epoch 45/50\n",
            "32/32 [==============================] - 2s 72ms/step - loss: 0.1509 - accuracy: 0.9441 - val_loss: 0.2091 - val_accuracy: 0.9432\n",
            "Epoch 46/50\n",
            "32/32 [==============================] - 2s 72ms/step - loss: 0.1223 - accuracy: 0.9526 - val_loss: 0.2211 - val_accuracy: 0.9318\n",
            "Epoch 47/50\n",
            "32/32 [==============================] - 2s 73ms/step - loss: 0.1340 - accuracy: 0.9539 - val_loss: 0.2544 - val_accuracy: 0.8977\n",
            "Epoch 48/50\n",
            "32/32 [==============================] - 2s 73ms/step - loss: 0.2332 - accuracy: 0.9193 - val_loss: 0.3784 - val_accuracy: 0.8466\n",
            "Epoch 49/50\n",
            "32/32 [==============================] - 2s 72ms/step - loss: 0.1596 - accuracy: 0.9473 - val_loss: 0.2327 - val_accuracy: 0.9148\n",
            "Epoch 50/50\n",
            "32/32 [==============================] - 2s 72ms/step - loss: 0.1051 - accuracy: 0.9698 - val_loss: 0.2971 - val_accuracy: 0.8466\n"
          ],
          "name": "stdout"
        }
      ]
    },
    {
      "cell_type": "code",
      "metadata": {
        "colab": {
          "base_uri": "https://localhost:8080/",
          "height": 404
        },
        "id": "43oakwjJw6JA",
        "outputId": "b953e908-c17f-4853-c1cd-20c2e5afc036"
      },
      "source": [
        "import matplotlib.pyplot as plt\r\n",
        "\r\n",
        "plt.figure(figsize=(10,6))\r\n",
        "plt.plot(history.epoch, history.history['accuracy'], label='Training')\r\n",
        "plt.plot(history.epoch, history.history['val_accuracy'], label='Validation')\r\n",
        "plt.legend()\r\n",
        "plt.title('Model Accuracy')\r\n",
        "plt.xlabel('Epoch')\r\n",
        "plt.ylabel('Accuracy')\r\n",
        "plt.grid(True);"
      ],
      "execution_count": 16,
      "outputs": [
        {
          "output_type": "display_data",
          "data": {
            "image/png": "[encoded data removed]",
            "text/plain": [
              "<Figure size 720x432 with 1 Axes>"
            ]
          },
          "metadata": {
            "tags": [],
            "needs_background": "light"
          }
        }
      ]
    },
    {
      "cell_type": "code",
      "metadata": {
        "colab": {
          "base_uri": "https://localhost:8080/"
        },
        "id": "lwhYJKH7STzo",
        "outputId": "a2dcd145-b1a2-4d67-8189-6731bb8bed2c"
      },
      "source": [
        "# mount_url = 'https://cdn.planeandpilotmag.com/2019/10/night-mountains.jpg'\r\n",
        "# forest_url = 'https://cdn.britannica.com/27/205327-050-FA4A0FE2/trees-beeches-birches-chestnuts-maples-elms-aspens.jpg'\r\n",
        "\r\n",
        "mpath = 'night-mountains.jpg'\r\n",
        "fpath = 'trees-beeches-birches-chestnuts-maples-elms-aspens.jpg'\r\n",
        "\r\n",
        "def mountain_forest(img_path):\r\n",
        "    img = image.load_img(img_path, target_size=(224, 224))\r\n",
        "    x = image.img_to_array(img)\r\n",
        "    x = np.expand_dims(x, axis=0)\r\n",
        "    x = preprocess_input(x)\r\n",
        "    features = model.predict(x)\r\n",
        "    print(f'\\nResults: {features}')\r\n",
        "    if features[0] == 1:\r\n",
        "        return 'Mountain'\r\n",
        "    else:\r\n",
        "        return 'Forest'\r\n",
        "\r\n",
        "print(f'Mountain or Forest? --> {mountain_forest(mpath)}')\r\n",
        "print(f'Mountain or Forest? --> {mountain_forest(fpath)}')"
      ],
      "execution_count": 17,
      "outputs": [
        {
          "output_type": "stream",
          "text": [
            "\n",
            "Results: [[1.]]\n",
            "Mountain or Forest? --> Mountain\n",
            "\n",
            "Results: [[1.]]\n",
            "Mountain or Forest? --> Mountain\n"
          ],
          "name": "stdout"
        }
      ]
    },
    {
      "cell_type": "markdown",
      "metadata": {
        "id": "UPzsgS94tCA5"
      },
      "source": [
        "# Custom CNN Model\n",
        "\n",
        "In this step, write and train your own convolutional neural network using Keras. You can use any architecture that suits you as long as it has at least one convolutional and one pooling layer at the beginning of the network - you can add more if you want. "
      ]
    },
    {
      "cell_type": "code",
      "metadata": {
        "id": "mKNIYOEItCA0"
      },
      "source": [
        "from tensorflow.keras.models import Sequential\r\n",
        "from tensorflow.keras.layers import Conv2D, MaxPooling2D, Dense, Flatten"
      ],
      "execution_count": 18,
      "outputs": []
    },
    {
      "cell_type": "code",
      "metadata": {
        "id": "hnbJJie3tCA5"
      },
      "source": [
        "# Define the Model\n",
        "model = Sequential([\n",
        "                    Conv2D(filters=32, kernel_size=(3,3), activation='relu', \n",
        "                           input_shape=(224,224,3)),\n",
        "                    MaxPooling2D(pool_size=(2,2)),\n",
        "                    Conv2D(filters=64, kernel_size=(3,3), activation='relu'),\n",
        "                    MaxPooling2D(pool_size=(2,2)),\n",
        "                    Conv2D(filters=64, kernel_size=(3,3), activation='relu'),\n",
        "                    MaxPooling2D(pool_size=(2,2)),\n",
        "                    Flatten(),\n",
        "                    Dense(128, activation='relu'),\n",
        "                    Dense(1, activation='sigmoid')\n",
        "])"
      ],
      "execution_count": 19,
      "outputs": []
    },
    {
      "cell_type": "code",
      "metadata": {
        "id": "1P_mRtoutCA9",
        "colab": {
          "base_uri": "https://localhost:8080/"
        },
        "outputId": "fc66f98e-186b-489c-e0b3-e163815e8e43"
      },
      "source": [
        "# Compile Model\r\n",
        "model.compile(loss='binary_crossentropy',\r\n",
        "              optimizer='sgd',\r\n",
        "              metrics=['accuracy'])\r\n",
        "\r\n",
        "model.summary()"
      ],
      "execution_count": 20,
      "outputs": [
        {
          "output_type": "stream",
          "text": [
            "Model: \"sequential\"\n",
            "_________________________________________________________________\n",
            "Layer (type)                 Output Shape              Param #   \n",
            "=================================================================\n",
            "conv2d (Conv2D)              (None, 222, 222, 32)      896       \n",
            "_________________________________________________________________\n",
            "max_pooling2d (MaxPooling2D) (None, 111, 111, 32)      0         \n",
            "_________________________________________________________________\n",
            "conv2d_1 (Conv2D)            (None, 109, 109, 64)      18496     \n",
            "_________________________________________________________________\n",
            "max_pooling2d_1 (MaxPooling2 (None, 54, 54, 64)        0         \n",
            "_________________________________________________________________\n",
            "conv2d_2 (Conv2D)            (None, 52, 52, 64)        36928     \n",
            "_________________________________________________________________\n",
            "max_pooling2d_2 (MaxPooling2 (None, 26, 26, 64)        0         \n",
            "_________________________________________________________________\n",
            "flatten (Flatten)            (None, 43264)             0         \n",
            "_________________________________________________________________\n",
            "dense_2 (Dense)              (None, 128)               5537920   \n",
            "_________________________________________________________________\n",
            "dense_3 (Dense)              (None, 1)                 129       \n",
            "=================================================================\n",
            "Total params: 5,594,369\n",
            "Trainable params: 5,594,369\n",
            "Non-trainable params: 0\n",
            "_________________________________________________________________\n"
          ],
          "name": "stdout"
        }
      ]
    },
    {
      "cell_type": "code",
      "metadata": {
        "id": "CwM4GsaetCA_",
        "colab": {
          "base_uri": "https://localhost:8080/"
        },
        "outputId": "53eb5b8c-1747-4a60-c7e3-734602ccb2be"
      },
      "source": [
        "# Fit Model\r\n",
        "my_cnn = model.fit(train_data_gen,\r\n",
        "                   epochs=40,\r\n",
        "                   validation_data=val_data_gen)"
      ],
      "execution_count": 21,
      "outputs": [
        {
          "output_type": "stream",
          "text": [
            "Epoch 1/40\n",
            "34/34 [==============================] - 3s 68ms/step - loss: 0.6581 - accuracy: 0.6044 - val_loss: 0.5134 - val_accuracy: 0.8308\n",
            "Epoch 2/40\n",
            "34/34 [==============================] - 2s 63ms/step - loss: 0.4700 - accuracy: 0.8069 - val_loss: 0.3085 - val_accuracy: 0.8923\n",
            "Epoch 3/40\n",
            "34/34 [==============================] - 2s 63ms/step - loss: 0.3331 - accuracy: 0.8573 - val_loss: 0.3226 - val_accuracy: 0.8821\n",
            "Epoch 4/40\n",
            "34/34 [==============================] - 2s 63ms/step - loss: 0.2951 - accuracy: 0.8847 - val_loss: 0.3176 - val_accuracy: 0.8667\n",
            "Epoch 5/40\n",
            "34/34 [==============================] - 2s 64ms/step - loss: 0.2902 - accuracy: 0.8882 - val_loss: 1.0635 - val_accuracy: 0.4769\n",
            "Epoch 6/40\n",
            "34/34 [==============================] - 2s 62ms/step - loss: 0.3077 - accuracy: 0.8647 - val_loss: 0.4887 - val_accuracy: 0.7744\n",
            "Epoch 7/40\n",
            "34/34 [==============================] - 2s 62ms/step - loss: 0.2133 - accuracy: 0.9185 - val_loss: 0.1925 - val_accuracy: 0.9231\n",
            "Epoch 8/40\n",
            "34/34 [==============================] - 2s 62ms/step - loss: 0.2094 - accuracy: 0.9111 - val_loss: 1.0805 - val_accuracy: 0.5641\n",
            "Epoch 9/40\n",
            "34/34 [==============================] - 2s 62ms/step - loss: 0.2962 - accuracy: 0.8699 - val_loss: 0.4551 - val_accuracy: 0.8051\n",
            "Epoch 10/40\n",
            "34/34 [==============================] - 2s 62ms/step - loss: 0.1680 - accuracy: 0.9297 - val_loss: 0.3791 - val_accuracy: 0.8308\n",
            "Epoch 11/40\n",
            "34/34 [==============================] - 2s 62ms/step - loss: 0.1510 - accuracy: 0.9464 - val_loss: 0.2070 - val_accuracy: 0.9026\n",
            "Epoch 12/40\n",
            "34/34 [==============================] - 2s 62ms/step - loss: 0.1620 - accuracy: 0.9393 - val_loss: 0.2091 - val_accuracy: 0.9077\n",
            "Epoch 13/40\n",
            "34/34 [==============================] - 2s 63ms/step - loss: 0.1823 - accuracy: 0.9291 - val_loss: 0.2433 - val_accuracy: 0.8872\n",
            "Epoch 14/40\n",
            "34/34 [==============================] - 2s 63ms/step - loss: 0.1827 - accuracy: 0.9349 - val_loss: 0.4958 - val_accuracy: 0.8051\n",
            "Epoch 15/40\n",
            "34/34 [==============================] - 2s 62ms/step - loss: 0.1909 - accuracy: 0.9372 - val_loss: 0.3583 - val_accuracy: 0.8564\n",
            "Epoch 16/40\n",
            "34/34 [==============================] - 2s 64ms/step - loss: 0.1153 - accuracy: 0.9554 - val_loss: 0.1703 - val_accuracy: 0.9333\n",
            "Epoch 17/40\n",
            "34/34 [==============================] - 2s 62ms/step - loss: 0.1502 - accuracy: 0.9430 - val_loss: 0.3256 - val_accuracy: 0.8718\n",
            "Epoch 18/40\n",
            "34/34 [==============================] - 2s 62ms/step - loss: 0.1901 - accuracy: 0.9247 - val_loss: 0.5321 - val_accuracy: 0.7949\n",
            "Epoch 19/40\n",
            "34/34 [==============================] - 2s 62ms/step - loss: 0.1296 - accuracy: 0.9505 - val_loss: 0.1627 - val_accuracy: 0.9436\n",
            "Epoch 20/40\n",
            "34/34 [==============================] - 2s 63ms/step - loss: 0.1251 - accuracy: 0.9551 - val_loss: 0.1726 - val_accuracy: 0.9436\n",
            "Epoch 21/40\n",
            "34/34 [==============================] - 2s 63ms/step - loss: 0.1663 - accuracy: 0.9321 - val_loss: 0.2096 - val_accuracy: 0.9231\n",
            "Epoch 22/40\n",
            "34/34 [==============================] - 2s 63ms/step - loss: 0.1462 - accuracy: 0.9440 - val_loss: 0.1926 - val_accuracy: 0.9333\n",
            "Epoch 23/40\n",
            "34/34 [==============================] - 2s 62ms/step - loss: 0.1046 - accuracy: 0.9564 - val_loss: 0.1772 - val_accuracy: 0.9385\n",
            "Epoch 24/40\n",
            "34/34 [==============================] - 2s 62ms/step - loss: 0.0939 - accuracy: 0.9653 - val_loss: 0.3124 - val_accuracy: 0.8872\n",
            "Epoch 25/40\n",
            "34/34 [==============================] - 2s 67ms/step - loss: 0.1308 - accuracy: 0.9391 - val_loss: 0.2080 - val_accuracy: 0.9179\n",
            "Epoch 26/40\n",
            "34/34 [==============================] - 2s 62ms/step - loss: 0.1508 - accuracy: 0.9345 - val_loss: 0.2153 - val_accuracy: 0.9231\n",
            "Epoch 27/40\n",
            "34/34 [==============================] - 2s 62ms/step - loss: 0.0864 - accuracy: 0.9709 - val_loss: 0.2967 - val_accuracy: 0.8821\n",
            "Epoch 28/40\n",
            "34/34 [==============================] - 2s 64ms/step - loss: 0.0907 - accuracy: 0.9709 - val_loss: 0.1677 - val_accuracy: 0.9385\n",
            "Epoch 29/40\n",
            "34/34 [==============================] - 2s 62ms/step - loss: 0.0944 - accuracy: 0.9644 - val_loss: 0.1853 - val_accuracy: 0.9385\n",
            "Epoch 30/40\n",
            "34/34 [==============================] - 2s 63ms/step - loss: 0.1259 - accuracy: 0.9536 - val_loss: 0.1893 - val_accuracy: 0.9282\n",
            "Epoch 31/40\n",
            "34/34 [==============================] - 2s 63ms/step - loss: 0.0651 - accuracy: 0.9773 - val_loss: 0.2176 - val_accuracy: 0.9128\n",
            "Epoch 32/40\n",
            "34/34 [==============================] - 2s 63ms/step - loss: 0.1425 - accuracy: 0.9505 - val_loss: 0.1807 - val_accuracy: 0.9385\n",
            "Epoch 33/40\n",
            "34/34 [==============================] - 2s 63ms/step - loss: 0.1039 - accuracy: 0.9696 - val_loss: 0.2142 - val_accuracy: 0.9231\n",
            "Epoch 34/40\n",
            "34/34 [==============================] - 2s 63ms/step - loss: 0.0619 - accuracy: 0.9827 - val_loss: 0.2419 - val_accuracy: 0.8923\n",
            "Epoch 35/40\n",
            "34/34 [==============================] - 2s 63ms/step - loss: 0.0700 - accuracy: 0.9653 - val_loss: 0.1866 - val_accuracy: 0.9385\n",
            "Epoch 36/40\n",
            "34/34 [==============================] - 2s 62ms/step - loss: 0.0427 - accuracy: 0.9778 - val_loss: 0.1746 - val_accuracy: 0.9282\n",
            "Epoch 37/40\n",
            "34/34 [==============================] - 2s 62ms/step - loss: 0.0584 - accuracy: 0.9718 - val_loss: 0.1689 - val_accuracy: 0.9436\n",
            "Epoch 38/40\n",
            "34/34 [==============================] - 2s 63ms/step - loss: 0.0459 - accuracy: 0.9874 - val_loss: 0.2235 - val_accuracy: 0.9128\n",
            "Epoch 39/40\n",
            "34/34 [==============================] - 2s 62ms/step - loss: 0.0452 - accuracy: 0.9898 - val_loss: 0.2002 - val_accuracy: 0.9179\n",
            "Epoch 40/40\n",
            "34/34 [==============================] - 2s 62ms/step - loss: 0.0303 - accuracy: 0.9953 - val_loss: 0.1755 - val_accuracy: 0.9333\n"
          ],
          "name": "stdout"
        }
      ]
    },
    {
      "cell_type": "code",
      "metadata": {
        "colab": {
          "base_uri": "https://localhost:8080/",
          "height": 404
        },
        "id": "41p_fjmd1iQz",
        "outputId": "2651c0eb-bcea-4808-91a6-cd86e1deb906"
      },
      "source": [
        "plt.figure(figsize=(10,6))\r\n",
        "plt.plot(my_cnn.epoch, my_cnn.history['accuracy'], label='Training')\r\n",
        "plt.plot(my_cnn.epoch, my_cnn.history['val_accuracy'], label='Validation')\r\n",
        "plt.legend()\r\n",
        "plt.title('My CNN Model Accuracy')\r\n",
        "plt.xlabel('Epoch')\r\n",
        "plt.ylabel('Accuracy')\r\n",
        "plt.grid(True);"
      ],
      "execution_count": 22,
      "outputs": [
        {
          "output_type": "display_data",
          "data": {
            "image/png": "[encoded data removed]",
            "text/plain": [
              "<Figure size 720x432 with 1 Axes>"
            ]
          },
          "metadata": {
            "tags": [],
            "needs_background": "light"
          }
        }
      ]
    },
    {
      "cell_type": "code",
      "metadata": {
        "colab": {
          "base_uri": "https://localhost:8080/"
        },
        "id": "LYtf7C7iSTxy",
        "outputId": "2bba8dc7-1b42-40e9-c153-ebcfc00e4fba"
      },
      "source": [
        "print(f'Mountain or Forest? --> {mountain_forest(mpath)}')\r\n",
        "print(f'Mountain or Forest? --> {mountain_forest(fpath)}')"
      ],
      "execution_count": 23,
      "outputs": [
        {
          "output_type": "stream",
          "text": [
            "\n",
            "Results: [[0.]]\n",
            "Mountain or Forest? --> Forest\n",
            "\n",
            "Results: [[0.]]\n",
            "Mountain or Forest? --> Forest\n"
          ],
          "name": "stdout"
        }
      ]
    },
    {
      "cell_type": "markdown",
      "metadata": {
        "id": "FNTHjUddtCBB"
      },
      "source": [
        "# Custom CNN Model with Image Manipulations\n",
        "\n",
        "To simulate an increase in a sample of image, you can apply image manipulation techniques: cropping, rotation, stretching, etc. Luckily Keras has some handy functions for us to apply these techniques to our mountain and forest example. Simply, you should be able to modify our image generator for the problem. Check out these resources to help you get started: \n",
        "\n",
        "1. [Keras `ImageGenerator` Class](https://keras.io/preprocessing/image/#imagedatagenerator-class)\n",
        "2. [Building a powerful image classifier with very little data](https://blog.keras.io/building-powerful-image-classification-models-using-very-little-data.html)\n",
        " "
      ]
    },
    {
      "cell_type": "code",
      "metadata": {
        "id": "XKioBv3WtCBB"
      },
      "source": [
        "# Instantiate image generator classes:\r\n",
        "train_datagen = ImageDataGenerator(\r\n",
        "    rescale=1.0/255,\r\n",
        "    shear_range=0.2,\r\n",
        "    zoom_range=0.2,\r\n",
        "    rotation_range=30,\r\n",
        "    horizontal_flip=True,\r\n",
        "    fill_mode='reflect')\r\n",
        "\r\n",
        "valid_datagen = ImageDataGenerator(rescale=1.0/255)"
      ],
      "execution_count": 24,
      "outputs": []
    },
    {
      "cell_type": "code",
      "metadata": {
        "colab": {
          "base_uri": "https://localhost:8080/"
        },
        "id": "HbxTAO5xbOIQ",
        "outputId": "dc387f24-2f5e-432b-dfec-1cd1230c9ded"
      },
      "source": [
        "train_generator = train_datagen.flow_from_directory(\r\n",
        "    directory=train_dir,\r\n",
        "    target_size=(224, 224),\r\n",
        "    class_mode='binary',\r\n",
        "    batch_size=batch_size,\r\n",
        "    shuffle=True,\r\n",
        "    seed=79)\r\n",
        "\r\n",
        "valid_generator = valid_datagen.flow_from_directory(\r\n",
        "    directory=validation_dir,\r\n",
        "    target_size=(224, 224),\r\n",
        "    class_mode='binary',\r\n",
        "    batch_size=batch_size,\r\n",
        "    shuffle=True,\r\n",
        "    seed=79)"
      ],
      "execution_count": 25,
      "outputs": [
        {
          "output_type": "stream",
          "text": [
            "Found 533 images belonging to 2 classes.\n",
            "Found 195 images belonging to 2 classes.\n"
          ],
          "name": "stdout"
        }
      ]
    },
    {
      "cell_type": "code",
      "metadata": {
        "colab": {
          "base_uri": "https://localhost:8080/"
        },
        "id": "h2NSuQfCbN27",
        "outputId": "c08271eb-c00f-46bf-80b1-4da89dab26c0"
      },
      "source": [
        "from tensorflow.keras.layers import AveragePooling2D\r\n",
        "\r\n",
        "model = Sequential([\r\n",
        "                    Conv2D(filters=32, kernel_size=(3,3), activation='relu', \r\n",
        "                           input_shape=(224,224,3)),\r\n",
        "                    AveragePooling2D(pool_size=(2,2)),\r\n",
        "                    Conv2D(filters=64, kernel_size=(3,3), activation='relu'),\r\n",
        "                    AveragePooling2D(pool_size=(2,2)),\r\n",
        "                    Conv2D(filters=64, kernel_size=(3,3), activation='relu'),\r\n",
        "                    AveragePooling2D(pool_size=(2,2)),\r\n",
        "                    Flatten(),\r\n",
        "                    Dense(128, activation='relu'),\r\n",
        "                    Dense(1, activation='sigmoid')\r\n",
        "])\r\n",
        "\r\n",
        "# Compile Model\r\n",
        "model.compile(loss='binary_crossentropy',\r\n",
        "              optimizer='sgd',\r\n",
        "              metrics=['accuracy'])\r\n",
        "\r\n",
        "model.summary()"
      ],
      "execution_count": 26,
      "outputs": [
        {
          "output_type": "stream",
          "text": [
            "Model: \"sequential_1\"\n",
            "_________________________________________________________________\n",
            "Layer (type)                 Output Shape              Param #   \n",
            "=================================================================\n",
            "conv2d_3 (Conv2D)            (None, 222, 222, 32)      896       \n",
            "_________________________________________________________________\n",
            "average_pooling2d (AveragePo (None, 111, 111, 32)      0         \n",
            "_________________________________________________________________\n",
            "conv2d_4 (Conv2D)            (None, 109, 109, 64)      18496     \n",
            "_________________________________________________________________\n",
            "average_pooling2d_1 (Average (None, 54, 54, 64)        0         \n",
            "_________________________________________________________________\n",
            "conv2d_5 (Conv2D)            (None, 52, 52, 64)        36928     \n",
            "_________________________________________________________________\n",
            "average_pooling2d_2 (Average (None, 26, 26, 64)        0         \n",
            "_________________________________________________________________\n",
            "flatten_1 (Flatten)          (None, 43264)             0         \n",
            "_________________________________________________________________\n",
            "dense_4 (Dense)              (None, 128)               5537920   \n",
            "_________________________________________________________________\n",
            "dense_5 (Dense)              (None, 1)                 129       \n",
            "=================================================================\n",
            "Total params: 5,594,369\n",
            "Trainable params: 5,594,369\n",
            "Non-trainable params: 0\n",
            "_________________________________________________________________\n"
          ],
          "name": "stdout"
        }
      ]
    },
    {
      "cell_type": "code",
      "metadata": {
        "colab": {
          "base_uri": "https://localhost:8080/"
        },
        "id": "TMaYnBQAd5db",
        "outputId": "e1ec6c30-2b7e-4eb1-faa9-fc97b775589f"
      },
      "source": [
        "# Fit Model\r\n",
        "my_cnn_img_man = model.fit(train_data_gen,\r\n",
        "                           epochs=40,\r\n",
        "                           validation_data=val_data_gen)"
      ],
      "execution_count": 27,
      "outputs": [
        {
          "output_type": "stream",
          "text": [
            "Epoch 1/40\n",
            "34/34 [==============================] - 3s 68ms/step - loss: 0.6603 - accuracy: 0.6508 - val_loss: 0.6246 - val_accuracy: 0.5692\n",
            "Epoch 2/40\n",
            "34/34 [==============================] - 2s 63ms/step - loss: 0.5121 - accuracy: 0.7300 - val_loss: 0.4884 - val_accuracy: 0.7641\n",
            "Epoch 3/40\n",
            "34/34 [==============================] - 2s 63ms/step - loss: 0.3291 - accuracy: 0.8757 - val_loss: 0.3423 - val_accuracy: 0.8769\n",
            "Epoch 4/40\n",
            "34/34 [==============================] - 2s 64ms/step - loss: 0.3517 - accuracy: 0.8425 - val_loss: 0.2817 - val_accuracy: 0.8974\n",
            "Epoch 5/40\n",
            "34/34 [==============================] - 2s 64ms/step - loss: 0.2910 - accuracy: 0.8562 - val_loss: 0.3286 - val_accuracy: 0.8821\n",
            "Epoch 6/40\n",
            "34/34 [==============================] - 2s 63ms/step - loss: 0.2942 - accuracy: 0.8716 - val_loss: 0.2340 - val_accuracy: 0.9385\n",
            "Epoch 7/40\n",
            "34/34 [==============================] - 2s 65ms/step - loss: 0.2818 - accuracy: 0.8948 - val_loss: 0.2664 - val_accuracy: 0.9077\n",
            "Epoch 8/40\n",
            "34/34 [==============================] - 2s 65ms/step - loss: 0.3091 - accuracy: 0.8823 - val_loss: 0.1922 - val_accuracy: 0.9333\n",
            "Epoch 9/40\n",
            "34/34 [==============================] - 2s 63ms/step - loss: 0.2878 - accuracy: 0.8872 - val_loss: 0.2780 - val_accuracy: 0.9026\n",
            "Epoch 10/40\n",
            "34/34 [==============================] - 2s 63ms/step - loss: 0.2576 - accuracy: 0.8808 - val_loss: 0.3196 - val_accuracy: 0.8718\n",
            "Epoch 11/40\n",
            "34/34 [==============================] - 2s 63ms/step - loss: 0.2291 - accuracy: 0.9023 - val_loss: 0.2460 - val_accuracy: 0.9128\n",
            "Epoch 12/40\n",
            "34/34 [==============================] - 2s 65ms/step - loss: 0.2560 - accuracy: 0.8890 - val_loss: 0.5126 - val_accuracy: 0.7692\n",
            "Epoch 13/40\n",
            "34/34 [==============================] - 2s 65ms/step - loss: 0.2407 - accuracy: 0.9035 - val_loss: 0.2096 - val_accuracy: 0.9282\n",
            "Epoch 14/40\n",
            "34/34 [==============================] - 2s 64ms/step - loss: 0.2142 - accuracy: 0.9187 - val_loss: 0.3698 - val_accuracy: 0.8359\n",
            "Epoch 15/40\n",
            "34/34 [==============================] - 2s 64ms/step - loss: 0.2420 - accuracy: 0.9034 - val_loss: 0.2137 - val_accuracy: 0.9385\n",
            "Epoch 16/40\n",
            "34/34 [==============================] - 2s 64ms/step - loss: 0.2089 - accuracy: 0.9263 - val_loss: 0.2312 - val_accuracy: 0.9282\n",
            "Epoch 17/40\n",
            "34/34 [==============================] - 2s 64ms/step - loss: 0.1824 - accuracy: 0.9355 - val_loss: 0.2277 - val_accuracy: 0.9231\n",
            "Epoch 18/40\n",
            "34/34 [==============================] - 2s 63ms/step - loss: 0.2228 - accuracy: 0.9092 - val_loss: 0.7326 - val_accuracy: 0.6769\n",
            "Epoch 19/40\n",
            "34/34 [==============================] - 2s 63ms/step - loss: 0.3176 - accuracy: 0.8410 - val_loss: 0.2258 - val_accuracy: 0.9231\n",
            "Epoch 20/40\n",
            "34/34 [==============================] - 2s 63ms/step - loss: 0.1748 - accuracy: 0.9277 - val_loss: 0.2267 - val_accuracy: 0.9179\n",
            "Epoch 21/40\n",
            "34/34 [==============================] - 2s 63ms/step - loss: 0.1840 - accuracy: 0.9557 - val_loss: 0.3690 - val_accuracy: 0.8667\n",
            "Epoch 22/40\n",
            "34/34 [==============================] - 2s 62ms/step - loss: 0.1738 - accuracy: 0.9443 - val_loss: 0.2377 - val_accuracy: 0.9179\n",
            "Epoch 23/40\n",
            "34/34 [==============================] - 2s 62ms/step - loss: 0.1904 - accuracy: 0.9246 - val_loss: 0.1939 - val_accuracy: 0.9333\n",
            "Epoch 24/40\n",
            "34/34 [==============================] - 2s 62ms/step - loss: 0.1561 - accuracy: 0.9366 - val_loss: 0.1767 - val_accuracy: 0.9333\n",
            "Epoch 25/40\n",
            "34/34 [==============================] - 2s 62ms/step - loss: 0.1556 - accuracy: 0.9386 - val_loss: 0.2427 - val_accuracy: 0.8974\n",
            "Epoch 26/40\n",
            "34/34 [==============================] - 2s 63ms/step - loss: 0.1615 - accuracy: 0.9491 - val_loss: 0.2123 - val_accuracy: 0.9128\n",
            "Epoch 27/40\n",
            "34/34 [==============================] - 2s 63ms/step - loss: 0.1691 - accuracy: 0.9468 - val_loss: 0.3392 - val_accuracy: 0.8769\n",
            "Epoch 28/40\n",
            "34/34 [==============================] - 2s 62ms/step - loss: 0.1364 - accuracy: 0.9470 - val_loss: 0.1753 - val_accuracy: 0.9333\n",
            "Epoch 29/40\n",
            "34/34 [==============================] - 2s 62ms/step - loss: 0.1399 - accuracy: 0.9485 - val_loss: 0.2760 - val_accuracy: 0.8974\n",
            "Epoch 30/40\n",
            "34/34 [==============================] - 2s 68ms/step - loss: 0.1087 - accuracy: 0.9635 - val_loss: 0.2128 - val_accuracy: 0.9077\n",
            "Epoch 31/40\n",
            "34/34 [==============================] - 2s 63ms/step - loss: 0.2373 - accuracy: 0.9072 - val_loss: 0.4293 - val_accuracy: 0.8103\n",
            "Epoch 32/40\n",
            "34/34 [==============================] - 2s 63ms/step - loss: 0.1456 - accuracy: 0.9403 - val_loss: 0.2589 - val_accuracy: 0.9026\n",
            "Epoch 33/40\n",
            "34/34 [==============================] - 2s 63ms/step - loss: 0.1120 - accuracy: 0.9699 - val_loss: 0.2209 - val_accuracy: 0.9077\n",
            "Epoch 34/40\n",
            "34/34 [==============================] - 2s 63ms/step - loss: 0.1239 - accuracy: 0.9636 - val_loss: 0.1916 - val_accuracy: 0.9333\n",
            "Epoch 35/40\n",
            "34/34 [==============================] - 2s 63ms/step - loss: 0.1251 - accuracy: 0.9545 - val_loss: 0.3124 - val_accuracy: 0.8923\n",
            "Epoch 36/40\n",
            "34/34 [==============================] - 2s 64ms/step - loss: 0.1148 - accuracy: 0.9667 - val_loss: 0.2155 - val_accuracy: 0.9282\n",
            "Epoch 37/40\n",
            "34/34 [==============================] - 2s 63ms/step - loss: 0.0979 - accuracy: 0.9541 - val_loss: 0.2660 - val_accuracy: 0.8974\n",
            "Epoch 38/40\n",
            "34/34 [==============================] - 2s 63ms/step - loss: 0.1345 - accuracy: 0.9635 - val_loss: 0.2947 - val_accuracy: 0.8872\n",
            "Epoch 39/40\n",
            "34/34 [==============================] - 2s 63ms/step - loss: 0.1053 - accuracy: 0.9623 - val_loss: 0.3106 - val_accuracy: 0.8923\n",
            "Epoch 40/40\n",
            "34/34 [==============================] - 2s 64ms/step - loss: 0.1201 - accuracy: 0.9592 - val_loss: 0.2272 - val_accuracy: 0.9128\n"
          ],
          "name": "stdout"
        }
      ]
    },
    {
      "cell_type": "code",
      "metadata": {
        "colab": {
          "base_uri": "https://localhost:8080/",
          "height": 404
        },
        "id": "SdFG2aQ1d5UA",
        "outputId": "47e6e912-ff0c-4ae7-ffec-2db26902612a"
      },
      "source": [
        "plt.figure(figsize=(10,6))\r\n",
        "plt.plot(my_cnn.epoch, my_cnn.history['accuracy'], label='Training')\r\n",
        "plt.plot(my_cnn.epoch, my_cnn.history['val_accuracy'], label='Validation')\r\n",
        "plt.legend()\r\n",
        "plt.title('My CNN Model Accuracy')\r\n",
        "plt.xlabel('Epoch')\r\n",
        "plt.ylabel('Accuracy')\r\n",
        "plt.grid(True);"
      ],
      "execution_count": 28,
      "outputs": [
        {
          "output_type": "display_data",
          "data": {
            "image/png": "[encoded data removed]",
            "text/plain": [
              "<Figure size 720x432 with 1 Axes>"
            ]
          },
          "metadata": {
            "tags": [],
            "needs_background": "light"
          }
        }
      ]
    },
    {
      "cell_type": "code",
      "metadata": {
        "colab": {
          "base_uri": "https://localhost:8080/"
        },
        "id": "7yhtk3sVd5L-",
        "outputId": "bbaef01a-4673-4d7a-e7c3-555add75bc40"
      },
      "source": [
        "print(f'Mountain or Forest? --> {mountain_forest(mpath)}')\r\n",
        "print(f'Mountain or Forest? --> {mountain_forest(fpath)}')"
      ],
      "execution_count": 29,
      "outputs": [
        {
          "output_type": "stream",
          "text": [
            "\n",
            "Results: [[0.]]\n",
            "Mountain or Forest? --> Forest\n",
            "\n",
            "Results: [[0.]]\n",
            "Mountain or Forest? --> Forest\n"
          ],
          "name": "stdout"
        }
      ]
    },
    {
      "cell_type": "markdown",
      "metadata": {
        "id": "uT3UV3gap9H6"
      },
      "source": [
        "# Resources and Stretch Goals\n",
        "\n",
        "Stretch goals\n",
        "- Enhance your code to use classes/functions and accept terms to search and classes to look for in recognizing the downloaded images (e.g. download images of parties, recognize all that contain balloons)\n",
        "- Check out [other available pretrained networks](https://tfhub.dev), try some and compare\n",
        "- Image recognition/classification is somewhat solved, but *relationships* between entities and describing an image is not - check out some of the extended resources (e.g. [Visual Genome](https://visualgenome.org/)) on the topic\n",
        "- Transfer learning - using images you source yourself, [retrain a classifier](https://www.tensorflow.org/hub/tutorials/image_retraining) with a new category\n",
        "- (Not CNN related) Use [piexif](https://pypi.org/project/piexif/) to check out the metadata of images passed in to your system - see if they're from a national park! (Note - many images lack GPS metadata, so this won't work in most cases, but still cool)\n",
        "\n",
        "Resources\n",
        "- [Deep Residual Learning for Image Recognition](https://arxiv.org/abs/1512.03385) - influential paper (introduced ResNet)\n",
        "- [YOLO: Real-Time Object Detection](https://pjreddie.com/darknet/yolo/) - an influential convolution based object detection system, focused on inference speed (for applications to e.g. self driving vehicles)\n",
        "- [R-CNN, Fast R-CNN, Faster R-CNN, YOLO](https://towardsdatascience.com/r-cnn-fast-r-cnn-faster-r-cnn-yolo-object-detection-algorithms-36d53571365e) - comparison of object detection systems\n",
        "- [Common Objects in Context](http://cocodataset.org/) - a large-scale object detection, segmentation, and captioning dataset\n",
        "- [Visual Genome](https://visualgenome.org/) - a dataset, a knowledge base, an ongoing effort to connect structured image concepts to language"
      ]
    }
  ]
}