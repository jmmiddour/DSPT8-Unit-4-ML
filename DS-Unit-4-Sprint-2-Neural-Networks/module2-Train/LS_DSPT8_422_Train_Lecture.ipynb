{
  "nbformat": 4,
  "nbformat_minor": 0,
  "metadata": {
    "colab": {
      "name": "LS_DSPT8_422_Train_Lecture.ipynb",
      "provenance": [],
      "collapsed_sections": []
    },
    "kernelspec": {
      "display_name": "Python 3",
      "language": "python",
      "name": "python3"
    },
    "language_info": {
      "codemirror_mode": {
        "name": "ipython",
        "version": 3
      },
      "file_extension": ".py",
      "mimetype": "text/x-python",
      "name": "python",
      "nbconvert_exporter": "python",
      "pygments_lexer": "ipython3",
      "version": "3.7.7"
    }
  },
  "cells": [
    {
      "cell_type": "markdown",
      "metadata": {
        "id": "aS4GZ37Wgcjr"
      },
      "source": [
        "Lambda School Data Science\n",
        "\n",
        "*Unit 4, Sprint 2, Module 2*\n",
        "\n",
        "---"
      ]
    },
    {
      "cell_type": "markdown",
      "metadata": {
        "id": "etFf1WLWgcjt",
        "toc-hr-collapsed": false
      },
      "source": [
        "# Train (Prepare)\n",
        "__*Neural Network Foundations*__"
      ]
    },
    {
      "cell_type": "markdown",
      "metadata": {
        "id": "hXB80QOhgcju"
      },
      "source": [
        "## Learning Objectives\n",
        "* <a href=\"#p1\">Part 1</a>: Student should be able to explain the intuition behind backpropagation and gradient descent\n",
        "* <a href=\"#p2\">Part 2</a>: Student should be able to discuss the importance of batch size\n",
        "* <a href=\"#p3\">Part 3</a>: Student should be able to discuss the importance of learning rate"
      ]
    },
    {
      "cell_type": "markdown",
      "metadata": {
        "id": "8YuQu2lfgcju"
      },
      "source": [
        "## Summary of Yesterday\n",
        "\n",
        "Yesterday, we learned about some of the principal components of Neural Networks: Neurons, Weights, Activation Functions, and layers (input, output, & hidden). Today, we will reinforce our understanding of those components and introduce the mechanics of training a neural network. Feed-forward neural networks, such as multi-layer perceptrons (MLPs), are almost always trained using some variation of gradient descent where the gradient has been calculated by backpropagation.\n",
        "\n",
        "  <center><img src=\"https://raw.githubusercontent.com/LambdaSchool/DS-Unit-4-Sprint-2-Neural-Networks/main/module1-Architect/IMG_0167.jpeg\" width=400></center>\n",
        "\n",
        "- There are three kinds of layers: input, hidden, and output layers.\n",
        "- Each layer is made up of **n** individual neurons (aka activation units) which have a corresponding weight and bias.\n",
        "- Signal is passed from layer to layer through a network by:\n",
        " - Taking in inputs from the training data (or previous layer)\n",
        " - Multiplying each input by its corresponding weight (think arrow/connecting line)\n",
        " - Adding a bias to this weighted some of inputs and weights\n",
        " - Activating this weighted sum + bias by squishifying it with sigmoid or some other activation function. With a single perceptron with three inputs, calculating the output from the node is done like so:\n",
        "\\begin{align}\n",
        " y = sigmoid(\\sum(weight_{1}input_{1} + weight_{2}input_{2} + weight_{3}input_{3}) + bias)\n",
        "\\end{align}\n",
        " - this final activated value is the signal that gets passed onto the next layer of the network.\n",
        " "
      ]
    },
    {
      "cell_type": "markdown",
      "metadata": {
        "id": "bpi4R03rgcjv"
      },
      "source": [
        "## Training a Neural Network: *Formal Summary*\n",
        "\n",
        "Lecture with Bruno Janota ~ 15:00\n",
        "\n",
        "0. Pick a network architecture\n",
        "   - No. of input units = No. of features\n",
        "   - No. of output units = Number of Classes (or expected targets)\n",
        "   - Select the number of hidden layers and number of neurons within each hidden layer\n",
        "1. Randomly initialize weights\n",
        "2. Implement forward propagation to get $h_{\\theta}(x^{(i)})$ for any $x^{(i)}$\n",
        "3. Implement code to compute a cost function $J(\\theta)$\n",
        "4. Implement backpropagation to compute partial derivatives $\\frac{\\delta}{\\delta\\theta_{jk}^{l}}{J(\\theta)}$\n",
        "5. Use gradient descent (or other advanced optimizer) with backpropagation to minimize $J(\\theta)$ as a function of parameters $\\theta\\$\n",
        "6. Repeat steps 2 - 5 until cost function is 'minimized' or some other stopping criteria is met. One pass over steps 2 - 5 is called an iteration or epoch."
      ]
    },
    {
      "cell_type": "markdown",
      "metadata": {
        "id": "aM4CK1IarId4",
        "toc-hr-collapsed": false
      },
      "source": [
        "# Backpropagation & Gradient Descent (Learn)\n",
        "<a id=\"p1\"></a>\n",
        "\n",
        "Lecture with Bruno Janota ~ "
      ]
    },
    {
      "cell_type": "markdown",
      "metadata": {
        "id": "Ktm8Fmoagcjy",
        "toc-hr-collapsed": true
      },
      "source": [
        "## Overview\n",
        "\n",
        "Backpropagation is short for [\"Backwards Propagation of errors\"](https://en.wikipedia.org/wiki/Backpropagation) and refers to a specific (rather calculus intensive) algorithm for how weights in a neural network are updated in reverse order at the end of each training epoch. Our purpose today is to demonstrate the backpropagation algorithm on a simple Feedforward Neural Network and in so doing help you get a grasp on the main process. If you want to understand all of the underlying calculus of how the gradients are calculated then you'll need to dive into it yourself, [3Blue1Brown's video is a great starting place](https://www.youtube.com/watch?v=tIeHLnjs5U8). I also highly recommend this Welch Labs series [Neural Networks Demystified](https://www.youtube.com/watch?v=bxe2T-V8XRs) if you want a rapid yet orderly walk through of the main intuitions and math behind the backpropagation algorithm. "
      ]
    },
    {
      "cell_type": "markdown",
      "metadata": {
        "id": "NXI2tEO9gcjy"
      },
      "source": [
        "### What is a Gradient?\n",
        "\n",
        "> In vector calculus, the gradient is a multi-variable generalization of the derivative. \n",
        "\n",
        "The gradients that we will deal with today will be vector representations of the derivative of the activation function. "
      ]
    },
    {
      "cell_type": "markdown",
      "metadata": {
        "id": "UZY66kiUgcjz",
        "toc-hr-collapsed": true
      },
      "source": [
        "## Follow Along\n",
        "\n",
        "In this section, we will again a simple neural network using base TensorFlow. We'll focus on using a __Feed Forward Neural Network__ to predict test scores. "
      ]
    },
    {
      "cell_type": "markdown",
      "metadata": {
        "id": "Dm2HPETcrgy6",
        "toc-hr-collapsed": true
      },
      "source": [
        "<center><img src=\"https://raw.githubusercontent.com/LambdaSchool/DS-Unit-4-Sprint-2-Neural-Networks/main/module1-Architect/IMG_99C94113202D-1.jpeg\"width=500></center>"
      ]
    },
    {
      "cell_type": "markdown",
      "metadata": {
        "id": "4d4tzpwO6B47"
      },
      "source": [
        "### Generate some Fake Data\r\n",
        "\r\n",
        "Lecture with Bruno Janota ~ 44:00"
      ]
    },
    {
      "cell_type": "code",
      "metadata": {
        "id": "ERyVgeO_IWyV"
      },
      "source": [
        "import tensorflow as tf\n",
        "\n",
        "# Imagine that our data is drawn from a linear function\n",
        "# y = 3*hours_studying + 50\n",
        "\n",
        "TRUE_W = 3.5\n",
        "TRUE_b = 50.0\n",
        "NUM_EXAMPLES = 1000\n",
        "\n",
        "inputs = tf.random.normal(shape=[NUM_EXAMPLES])\n",
        "noise = tf.random.normal(shape=[NUM_EXAMPLES])\n",
        "\n",
        "outputs = inputs * TRUE_W + TRUE_b + noise"
      ],
      "execution_count": null,
      "outputs": []
    },
    {
      "cell_type": "markdown",
      "metadata": {
        "id": "bCJesGEUgcj4"
      },
      "source": [
        "### Loss Function\n",
        "Here we will use Mean Squared Error (MSE), because this is a regression problem. We are trying to predict a continuous target."
      ]
    },
    {
      "cell_type": "code",
      "metadata": {
        "id": "cDeUBW6k4Ri4"
      },
      "source": [
        "def loss(target_y, predicted_y):\n",
        "  \"MSE\"\n",
        "  return tf.reduce_mean(tf.square(target_y - predicted_y))"
      ],
      "execution_count": null,
      "outputs": []
    },
    {
      "cell_type": "markdown",
      "metadata": {
        "id": "bgTf6vTS69Sw"
      },
      "source": [
        "### Neural Network Architecture\n",
        "Lets create a Neural Network class called \"Model\" to contain this functionality. Note: This is essentially a linear regression whose coefficients are trained by gradient descent. In practice, gradient descent works on much more complex function like the multi-layer networks we constructed yesterday."
      ]
    },
    {
      "cell_type": "code",
      "metadata": {
        "id": "RUI8VSR5zyBv"
      },
      "source": [
        "class Model(object):\n",
        "\n",
        "  def __init__(self):\n",
        "    self.W = tf.Variable(8.0)\n",
        "    self.b = tf.Variable(40.0)\n",
        "\n",
        "  def __call__(self, x):\n",
        "    return self.W * x + self.b\n",
        "\n",
        "model = Model()\n",
        "\n",
        "assert model(3.0).numpy() == 64.0"
      ],
      "execution_count": null,
      "outputs": []
    },
    {
      "cell_type": "markdown",
      "metadata": {
        "id": "gbyT_FJ88IlK"
      },
      "source": [
        "### Initial Weights\n",
        "The initial weights in our model were arbitrary. In practice, weights are initialized randomly. "
      ]
    },
    {
      "cell_type": "code",
      "metadata": {
        "id": "IreIDe6P8H0H",
        "colab": {
          "base_uri": "https://localhost:8080/",
          "height": 282
        },
        "outputId": "c4856544-fa2a-4950-d229-54a2c00a397c"
      },
      "source": [
        "import matplotlib.pyplot as plt\n",
        "\n",
        "plt.scatter(inputs, outputs, c='b')\n",
        "plt.scatter(inputs, model(inputs), c='r')\n",
        "plt.show()\n",
        "\n",
        "print('Current loss: %1.6f' % loss(model(inputs), outputs).numpy())"
      ],
      "execution_count": null,
      "outputs": [
        {
          "output_type": "display_data",
          "data": {
            "image/png": "[encoded data removed]",
            "text/plain": [
              "<Figure size 432x288 with 1 Axes>"
            ]
          },
          "metadata": {
            "tags": [],
            "needs_background": "light"
          }
        },
        {
          "output_type": "stream",
          "text": [
            "Current loss: 122.291069\n"
          ],
          "name": "stdout"
        }
      ]
    },
    {
      "cell_type": "markdown",
      "metadata": {
        "id": "16Ujj6vNYQyX",
        "toc-hr-collapsed": true
      },
      "source": [
        "### Update Weights Based on Gradient\n",
        "\n",
        "> *Assigning blame for bad predictions and delivering justice - repeatedly and a little bit at a time*\n",
        "\n",
        "You should also know that with neural networks it is common to have gradients that are not convex (like what we saw when we applied gradient descent to linear regression). \n",
        "\n",
        "Due to the high complexity of these models and their nonlinearity, it is common for gradient descent to get stuck in a local minimum, but there are ways to combat this:\n",
        "\n",
        "1) Stochastic Gradient Descent\n",
        "\n",
        "2) More advanced Gradient-Descent-based \"Optimizers\" - See Stretch Goals on assignment."
      ]
    },
    {
      "cell_type": "code",
      "metadata": {
        "id": "ZgaGD6YlHoid"
      },
      "source": [
        " def train(model, inputs, outputs, learning_rate):\n",
        "  with tf.GradientTape() as t: \n",
        "     current_loss = loss(outputs, model(inputs))\n",
        "\n",
        "  # dw = derivitive of weight, db = derivitive of the bias\n",
        "  dW, db = t.gradient(current_loss, [model.W, model.b])\n",
        "\n",
        "  # Gets a percentage of the derivitive\n",
        "  model.W.assign_sub(learning_rate * dW)\n",
        "  model.b.assign_sub(learning_rate * db)"
      ],
      "execution_count": null,
      "outputs": []
    },
    {
      "cell_type": "markdown",
      "metadata": {
        "id": "7iziWWURgck8"
      },
      "source": [
        "### Train the Network"
      ]
    },
    {
      "cell_type": "code",
      "metadata": {
        "id": "4zn_HgFuHhTr",
        "colab": {
          "base_uri": "https://localhost:8080/"
        },
        "outputId": "a1478d99-8a81-46a7-effe-e2902932f737"
      },
      "source": [
        "model = Model()\n",
        "\n",
        "# Store Some history of weights\n",
        "Ws, bs = [], []\n",
        "epochs = range(20)\n",
        "for epoch in epochs:\n",
        "  Ws.append(model.W.numpy())\n",
        "  bs.append(model.b.numpy())\n",
        "  current_loss = loss(outputs, model(inputs))\n",
        "\n",
        "  train(model, inputs, outputs, learning_rate=0.1)\n",
        "  print('Epoch %2d: W=%1.2f b=%1.2f loss=%2.5f' % (epoch, Ws[-1], bs[-1], current_loss))"
      ],
      "execution_count": null,
      "outputs": [
        {
          "output_type": "stream",
          "text": [
            "Epoch  0: W=8.00 b=40.00 loss=122.29107\n",
            "Epoch  1: W=7.06 b=42.00 loss=78.26422\n",
            "Epoch  2: W=6.31 b=43.60 loss=50.21274\n",
            "Epoch  3: W=5.71 b=44.88 loss=32.33903\n",
            "Epoch  4: W=5.24 b=45.90 loss=20.94980\n",
            "Epoch  5: W=4.87 b=46.72 loss=13.69216\n",
            "Epoch  6: W=4.58 b=47.37 loss=9.06712\n",
            "Epoch  7: W=4.34 b=47.90 loss=6.11961\n",
            "Epoch  8: W=4.16 b=48.32 loss=4.24108\n",
            "Epoch  9: W=4.01 b=48.65 loss=3.04379\n",
            "Epoch 10: W=3.90 b=48.92 loss=2.28066\n",
            "Epoch 11: W=3.80 b=49.13 loss=1.79423\n",
            "Epoch 12: W=3.73 b=49.30 loss=1.48416\n",
            "Epoch 13: W=3.67 b=49.44 loss=1.28650\n",
            "Epoch 14: W=3.63 b=49.55 loss=1.16049\n",
            "Epoch 15: W=3.59 b=49.63 loss=1.08016\n",
            "Epoch 16: W=3.56 b=49.70 loss=1.02894\n",
            "Epoch 17: W=3.54 b=49.76 loss=0.99628\n",
            "Epoch 18: W=3.52 b=49.80 loss=0.97546\n",
            "Epoch 19: W=3.51 b=49.84 loss=0.96219\n"
          ],
          "name": "stdout"
        }
      ]
    },
    {
      "cell_type": "code",
      "metadata": {
        "id": "FSEt07wdHvi2",
        "colab": {
          "base_uri": "https://localhost:8080/",
          "height": 265
        },
        "outputId": "5ae24e8a-6a50-4f46-fb8e-b8e2674b016e"
      },
      "source": [
        "import matplotlib.pyplot as plt\n",
        "\n",
        "plt.plot(epochs, Ws, 'r', epochs, bs, 'b')\n",
        "plt.plot([TRUE_W] * len(epochs), 'r--',\n",
        "         [TRUE_b] * len(epochs), 'b--')\n",
        "plt.legend(['W', 'b', 'True W', 'True b'])\n",
        "plt.show()"
      ],
      "execution_count": null,
      "outputs": [
        {
          "output_type": "display_data",
          "data": {
            "image/png": "[encoded data removed]",
            "text/plain": [
              "<Figure size 432x288 with 1 Axes>"
            ]
          },
          "metadata": {
            "tags": [],
            "needs_background": "light"
          }
        }
      ]
    },
    {
      "cell_type": "markdown",
      "metadata": {
        "id": "iKUVGoRxgck_"
      },
      "source": [
        "## Challenge\n",
        "\n",
        "Lecture with Bruno Janota ~ 56:00\n",
        "\n",
        "In the module project, you will be asked to explain the logic of backpropagation and gradient descent."
      ]
    },
    {
      "cell_type": "markdown",
      "metadata": {
        "id": "O8zRvscnQipe"
      },
      "source": [
        "### In the following two sections we'll look at batch size and learning rate hyperparameters in isolation. \n",
        "However, it's important to know that recent research found some interesting relationships between batch sizes and learning rates. The best available suggestion today is to scale batch size proportionally to a learning rate:\n",
        "- https://openreview.net/pdf?id=B1Yy1BxCZ\n",
        "- https://papers.nips.cc/paper/8398-control-batch-size-and-learning-rate-to-generalize-well-theoretical-and-empirical-evidence.pdf"
      ]
    },
    {
      "cell_type": "markdown",
      "metadata": {
        "id": "vTqZg-6igclA",
        "toc-hr-collapsed": true
      },
      "source": [
        "# Batch Size (Learn)"
      ]
    },
    {
      "cell_type": "markdown",
      "metadata": {
        "id": "0nrm-racgclA"
      },
      "source": [
        "## Overview\n",
        "\n",
        "The What - Stochastic Gradient Descent calculates an approximation of the gradient over the entire dataset by reviewing the predictions of a random sample. \n",
        "\n",
        "The Why - *Speed*. Calculating the gradient over the entire dataset is extremely expensive computationally. \n",
        "\n",
        "### Batch Size\n",
        "Batches are the number of observations our model is shown to make predictions and update the weights. Batches are selected randomly during epoch. All observations are considered when passing thru an epoch at some point."
      ]
    },
    {
      "cell_type": "markdown",
      "metadata": {
        "id": "ZAJLn12LTuc8"
      },
      "source": [
        "- Batch Gradient Descent:  \r\n",
        "    Direct approach. Goes straight to the bottom but is very computationally expensive because it goes through all the layers at once.\r\n",
        "\r\n",
        "- Mini-Batch Gradient Descent:  \r\n",
        "    units - \r\n",
        "\r\n",
        "- Stochastic Gradient Descent:\r\n",
        "    sgd - the most used because you specify the batch size that it looks at a time and updates the weight before moving on to the next batch."
      ]
    },
    {
      "cell_type": "markdown",
      "metadata": {
        "id": "oNQ2ZCi7I4i6"
      },
      "source": [
        "### Baseline Model"
      ]
    },
    {
      "cell_type": "code",
      "metadata": {
        "id": "mZjW2lYVI9Q2"
      },
      "source": [
        "from tensorflow.keras.datasets import mnist\n",
        "\n",
        "(X_train, y_train), (X_test, y_test) = mnist.load_data()\n",
        "\n",
        "X_train = X_train / 255.\n",
        "X_test = X_test / 255.\n",
        "\n",
        "X_train = X_train.reshape((60000, 784))\n",
        "X_test = X_test.reshape((10000, 784))"
      ],
      "execution_count": null,
      "outputs": []
    },
    {
      "cell_type": "code",
      "metadata": {
        "id": "o7x17kDKJSy5"
      },
      "source": [
        "# Our Model\n",
        "from tensorflow.keras import Sequential\n",
        "from tensorflow.keras.layers import Dense\n",
        "from tensorflow.keras.optimizers import Adam, SGD\n",
        "\n",
        "# Create a function to train the model for each iteration\n",
        "def create_model(learning_rate=0.01):\n",
        "    opt = SGD(lr=learning_rate)\n",
        "    model = Sequential([\n",
        "                        Dense(64, input_dim=784, activation='relu'),\n",
        "                        Dense(32, activation='relu'),\n",
        "                        Dense(10, activation='softmax')\n",
        "    ])\n",
        "    model.compile(optimizer=opt, \n",
        "                loss='sparse_categorical_crossentropy',\n",
        "                metrics=['accuracy'])\n",
        "    return model"
      ],
      "execution_count": null,
      "outputs": []
    },
    {
      "cell_type": "markdown",
      "metadata": {
        "id": "ZF7UE-KluPsX"
      },
      "source": [
        "## Follow Along\n",
        "Let's run a series of experiments for a default, small, and large batch size."
      ]
    },
    {
      "cell_type": "markdown",
      "metadata": {
        "id": "VhpDaVFRJl3U"
      },
      "source": [
        "### Default\n",
        "Batch Size is 32"
      ]
    },
    {
      "cell_type": "code",
      "metadata": {
        "id": "P-ChVGikgclD",
        "colab": {
          "base_uri": "https://localhost:8080/"
        },
        "outputId": "64353345-916d-4d07-d049-fd51ae78d78f"
      },
      "source": [
        "model = create_model()\r\n",
        "model.summary()"
      ],
      "execution_count": null,
      "outputs": [
        {
          "output_type": "stream",
          "text": [
            "Model: \"sequential\"\n",
            "_________________________________________________________________\n",
            "Layer (type)                 Output Shape              Param #   \n",
            "=================================================================\n",
            "dense (Dense)                (None, 64)                50240     \n",
            "_________________________________________________________________\n",
            "dense_1 (Dense)              (None, 32)                2080      \n",
            "_________________________________________________________________\n",
            "dense_2 (Dense)              (None, 10)                330       \n",
            "=================================================================\n",
            "Total params: 52,650\n",
            "Trainable params: 52,650\n",
            "Non-trainable params: 0\n",
            "_________________________________________________________________\n"
          ],
          "name": "stdout"
        }
      ]
    },
    {
      "cell_type": "code",
      "metadata": {
        "colab": {
          "base_uri": "https://localhost:8080/"
        },
        "id": "84-lv2PaWUsU",
        "outputId": "bf0e0534-10d2-41d0-c7a3-390ce9060063"
      },
      "source": [
        "bt_default = model.fit(X_train, y_train,\r\n",
        "                       epochs=20,\r\n",
        "                       batch_size=32,\r\n",
        "                       validation_data=(X_test, y_test))"
      ],
      "execution_count": null,
      "outputs": [
        {
          "output_type": "stream",
          "text": [
            "Epoch 1/20\n",
            "1875/1875 [==============================] - 4s 2ms/step - loss: 1.1151 - accuracy: 0.6822 - val_loss: 0.3341 - val_accuracy: 0.9046\n",
            "Epoch 2/20\n",
            "1875/1875 [==============================] - 3s 2ms/step - loss: 0.3253 - accuracy: 0.9068 - val_loss: 0.2661 - val_accuracy: 0.9218\n",
            "Epoch 3/20\n",
            "1875/1875 [==============================] - 3s 2ms/step - loss: 0.2614 - accuracy: 0.9237 - val_loss: 0.2294 - val_accuracy: 0.9359\n",
            "Epoch 4/20\n",
            "1875/1875 [==============================] - 3s 2ms/step - loss: 0.2251 - accuracy: 0.9355 - val_loss: 0.2027 - val_accuracy: 0.9396\n",
            "Epoch 5/20\n",
            "1875/1875 [==============================] - 3s 2ms/step - loss: 0.2036 - accuracy: 0.9415 - val_loss: 0.1844 - val_accuracy: 0.9466\n",
            "Epoch 6/20\n",
            "1875/1875 [==============================] - 3s 2ms/step - loss: 0.1843 - accuracy: 0.9458 - val_loss: 0.1660 - val_accuracy: 0.9530\n",
            "Epoch 7/20\n",
            "1875/1875 [==============================] - 3s 2ms/step - loss: 0.1606 - accuracy: 0.9547 - val_loss: 0.1571 - val_accuracy: 0.9537\n",
            "Epoch 8/20\n",
            "1875/1875 [==============================] - 3s 2ms/step - loss: 0.1533 - accuracy: 0.9567 - val_loss: 0.1481 - val_accuracy: 0.9573\n",
            "Epoch 9/20\n",
            "1875/1875 [==============================] - 3s 2ms/step - loss: 0.1433 - accuracy: 0.9584 - val_loss: 0.1397 - val_accuracy: 0.9573\n",
            "Epoch 10/20\n",
            "1875/1875 [==============================] - 3s 2ms/step - loss: 0.1322 - accuracy: 0.9620 - val_loss: 0.1358 - val_accuracy: 0.9600\n",
            "Epoch 11/20\n",
            "1875/1875 [==============================] - 3s 2ms/step - loss: 0.1252 - accuracy: 0.9631 - val_loss: 0.1241 - val_accuracy: 0.9620\n",
            "Epoch 12/20\n",
            "1875/1875 [==============================] - 3s 2ms/step - loss: 0.1170 - accuracy: 0.9662 - val_loss: 0.1210 - val_accuracy: 0.9638\n",
            "Epoch 13/20\n",
            "1875/1875 [==============================] - 3s 2ms/step - loss: 0.1118 - accuracy: 0.9683 - val_loss: 0.1166 - val_accuracy: 0.9652\n",
            "Epoch 14/20\n",
            "1875/1875 [==============================] - 3s 2ms/step - loss: 0.0986 - accuracy: 0.9723 - val_loss: 0.1138 - val_accuracy: 0.9649\n",
            "Epoch 15/20\n",
            "1875/1875 [==============================] - 3s 1ms/step - loss: 0.0978 - accuracy: 0.9721 - val_loss: 0.1131 - val_accuracy: 0.9653\n",
            "Epoch 16/20\n",
            "1875/1875 [==============================] - 3s 2ms/step - loss: 0.0941 - accuracy: 0.9727 - val_loss: 0.1056 - val_accuracy: 0.9681\n",
            "Epoch 17/20\n",
            "1875/1875 [==============================] - 3s 2ms/step - loss: 0.0882 - accuracy: 0.9755 - val_loss: 0.1025 - val_accuracy: 0.9677\n",
            "Epoch 18/20\n",
            "1875/1875 [==============================] - 3s 2ms/step - loss: 0.0874 - accuracy: 0.9746 - val_loss: 0.1020 - val_accuracy: 0.9698\n",
            "Epoch 19/20\n",
            "1875/1875 [==============================] - 3s 2ms/step - loss: 0.0834 - accuracy: 0.9762 - val_loss: 0.0983 - val_accuracy: 0.9690\n",
            "Epoch 20/20\n",
            "1875/1875 [==============================] - 3s 2ms/step - loss: 0.0795 - accuracy: 0.9781 - val_loss: 0.0954 - val_accuracy: 0.9710\n"
          ],
          "name": "stdout"
        }
      ]
    },
    {
      "cell_type": "markdown",
      "metadata": {
        "id": "KvsbOFnDJuG0"
      },
      "source": [
        "### Small Batch Size\n",
        "Batch Size is 8"
      ]
    },
    {
      "cell_type": "code",
      "metadata": {
        "id": "diDzvb-UJ1je",
        "colab": {
          "base_uri": "https://localhost:8080/"
        },
        "outputId": "57c8bc6f-9b58-442a-b1b5-f746c714a01e"
      },
      "source": [
        "model = create_model()\r\n",
        "bt_small = model.fit(X_train, y_train,\r\n",
        "                       epochs=20,\r\n",
        "                       batch_size=8,\r\n",
        "                       validation_data=(X_test, y_test))"
      ],
      "execution_count": null,
      "outputs": [
        {
          "output_type": "stream",
          "text": [
            "Epoch 1/20\n",
            "7500/7500 [==============================] - 13s 2ms/step - loss: 0.6644 - accuracy: 0.8084 - val_loss: 0.2232 - val_accuracy: 0.9378\n",
            "Epoch 2/20\n",
            "7500/7500 [==============================] - 10s 1ms/step - loss: 0.2145 - accuracy: 0.9379 - val_loss: 0.1606 - val_accuracy: 0.9526\n",
            "Epoch 3/20\n",
            "7500/7500 [==============================] - 10s 1ms/step - loss: 0.1584 - accuracy: 0.9548 - val_loss: 0.1398 - val_accuracy: 0.9565\n",
            "Epoch 4/20\n",
            "7500/7500 [==============================] - 10s 1ms/step - loss: 0.1281 - accuracy: 0.9632 - val_loss: 0.1245 - val_accuracy: 0.9617\n",
            "Epoch 5/20\n",
            "7500/7500 [==============================] - 10s 1ms/step - loss: 0.1056 - accuracy: 0.9690 - val_loss: 0.1225 - val_accuracy: 0.9626\n",
            "Epoch 6/20\n",
            "7500/7500 [==============================] - 10s 1ms/step - loss: 0.0879 - accuracy: 0.9742 - val_loss: 0.1060 - val_accuracy: 0.9680\n",
            "Epoch 7/20\n",
            "7500/7500 [==============================] - 10s 1ms/step - loss: 0.0774 - accuracy: 0.9772 - val_loss: 0.0992 - val_accuracy: 0.9713\n",
            "Epoch 8/20\n",
            "7500/7500 [==============================] - 10s 1ms/step - loss: 0.0684 - accuracy: 0.9805 - val_loss: 0.0990 - val_accuracy: 0.9704\n",
            "Epoch 9/20\n",
            "7500/7500 [==============================] - 10s 1ms/step - loss: 0.0624 - accuracy: 0.9815 - val_loss: 0.0948 - val_accuracy: 0.9726\n",
            "Epoch 10/20\n",
            "7500/7500 [==============================] - 10s 1ms/step - loss: 0.0581 - accuracy: 0.9826 - val_loss: 0.0975 - val_accuracy: 0.9706\n",
            "Epoch 11/20\n",
            "7500/7500 [==============================] - 10s 1ms/step - loss: 0.0491 - accuracy: 0.9851 - val_loss: 0.0885 - val_accuracy: 0.9730\n",
            "Epoch 12/20\n",
            "7500/7500 [==============================] - 11s 1ms/step - loss: 0.0430 - accuracy: 0.9871 - val_loss: 0.0900 - val_accuracy: 0.9727\n",
            "Epoch 13/20\n",
            "7500/7500 [==============================] - 12s 2ms/step - loss: 0.0392 - accuracy: 0.9881 - val_loss: 0.0930 - val_accuracy: 0.9725\n",
            "Epoch 14/20\n",
            "7500/7500 [==============================] - 12s 2ms/step - loss: 0.0353 - accuracy: 0.9908 - val_loss: 0.0892 - val_accuracy: 0.9740\n",
            "Epoch 15/20\n",
            "7500/7500 [==============================] - 10s 1ms/step - loss: 0.0329 - accuracy: 0.9907 - val_loss: 0.0947 - val_accuracy: 0.9741\n",
            "Epoch 16/20\n",
            "7500/7500 [==============================] - 10s 1ms/step - loss: 0.0313 - accuracy: 0.9909 - val_loss: 0.1064 - val_accuracy: 0.9709\n",
            "Epoch 17/20\n",
            "7500/7500 [==============================] - 11s 1ms/step - loss: 0.0267 - accuracy: 0.9927 - val_loss: 0.0921 - val_accuracy: 0.9762\n",
            "Epoch 18/20\n",
            "7500/7500 [==============================] - 10s 1ms/step - loss: 0.0239 - accuracy: 0.9930 - val_loss: 0.0942 - val_accuracy: 0.9742\n",
            "Epoch 19/20\n",
            "7500/7500 [==============================] - 11s 1ms/step - loss: 0.0223 - accuracy: 0.9934 - val_loss: 0.1045 - val_accuracy: 0.9716\n",
            "Epoch 20/20\n",
            "7500/7500 [==============================] - 11s 1ms/step - loss: 0.0193 - accuracy: 0.9948 - val_loss: 0.1033 - val_accuracy: 0.9718\n"
          ],
          "name": "stdout"
        }
      ]
    },
    {
      "cell_type": "markdown",
      "metadata": {
        "id": "_iPvvvt5J2Xl"
      },
      "source": [
        "### Large Batch Size\n",
        "Batch Size is 512"
      ]
    },
    {
      "cell_type": "code",
      "metadata": {
        "id": "7h8Z5293KABT",
        "colab": {
          "base_uri": "https://localhost:8080/"
        },
        "outputId": "3688a6d7-b6a8-4a32-906b-05ef95958cf8"
      },
      "source": [
        "model = create_model()\r\n",
        "bt_large = model.fit(X_train, y_train,\r\n",
        "                       epochs=20,\r\n",
        "                       batch_size=512,\r\n",
        "                       validation_data=(X_test, y_test))"
      ],
      "execution_count": null,
      "outputs": [
        {
          "output_type": "stream",
          "text": [
            "Epoch 1/20\n",
            "118/118 [==============================] - 1s 8ms/step - loss: 2.2646 - accuracy: 0.1740 - val_loss: 1.9751 - val_accuracy: 0.4324\n",
            "Epoch 2/20\n",
            "118/118 [==============================] - 1s 6ms/step - loss: 1.8790 - accuracy: 0.4755 - val_loss: 1.5060 - val_accuracy: 0.6390\n",
            "Epoch 3/20\n",
            "118/118 [==============================] - 1s 6ms/step - loss: 1.4024 - accuracy: 0.6649 - val_loss: 1.0620 - val_accuracy: 0.7525\n",
            "Epoch 4/20\n",
            "118/118 [==============================] - 1s 6ms/step - loss: 1.0079 - accuracy: 0.7573 - val_loss: 0.8067 - val_accuracy: 0.8043\n",
            "Epoch 5/20\n",
            "118/118 [==============================] - 1s 6ms/step - loss: 0.7852 - accuracy: 0.8043 - val_loss: 0.6637 - val_accuracy: 0.8353\n",
            "Epoch 6/20\n",
            "118/118 [==============================] - 1s 6ms/step - loss: 0.6616 - accuracy: 0.8270 - val_loss: 0.5760 - val_accuracy: 0.8510\n",
            "Epoch 7/20\n",
            "118/118 [==============================] - 1s 6ms/step - loss: 0.5722 - accuracy: 0.8496 - val_loss: 0.5144 - val_accuracy: 0.8650\n",
            "Epoch 8/20\n",
            "118/118 [==============================] - 1s 6ms/step - loss: 0.5209 - accuracy: 0.8613 - val_loss: 0.4728 - val_accuracy: 0.8717\n",
            "Epoch 9/20\n",
            "118/118 [==============================] - 1s 6ms/step - loss: 0.4865 - accuracy: 0.8705 - val_loss: 0.4407 - val_accuracy: 0.8789\n",
            "Epoch 10/20\n",
            "118/118 [==============================] - 1s 6ms/step - loss: 0.4513 - accuracy: 0.8756 - val_loss: 0.4157 - val_accuracy: 0.8846\n",
            "Epoch 11/20\n",
            "118/118 [==============================] - 1s 6ms/step - loss: 0.4279 - accuracy: 0.8828 - val_loss: 0.3970 - val_accuracy: 0.8898\n",
            "Epoch 12/20\n",
            "118/118 [==============================] - 1s 6ms/step - loss: 0.4061 - accuracy: 0.8878 - val_loss: 0.3807 - val_accuracy: 0.8925\n",
            "Epoch 13/20\n",
            "118/118 [==============================] - 1s 6ms/step - loss: 0.3913 - accuracy: 0.8911 - val_loss: 0.3674 - val_accuracy: 0.8957\n",
            "Epoch 14/20\n",
            "118/118 [==============================] - 1s 6ms/step - loss: 0.3773 - accuracy: 0.8942 - val_loss: 0.3571 - val_accuracy: 0.8983\n",
            "Epoch 15/20\n",
            "118/118 [==============================] - 1s 6ms/step - loss: 0.3738 - accuracy: 0.8944 - val_loss: 0.3477 - val_accuracy: 0.9011\n",
            "Epoch 16/20\n",
            "118/118 [==============================] - 1s 6ms/step - loss: 0.3536 - accuracy: 0.9007 - val_loss: 0.3400 - val_accuracy: 0.9031\n",
            "Epoch 17/20\n",
            "118/118 [==============================] - 1s 6ms/step - loss: 0.3540 - accuracy: 0.9013 - val_loss: 0.3328 - val_accuracy: 0.9050\n",
            "Epoch 18/20\n",
            "118/118 [==============================] - 1s 6ms/step - loss: 0.3427 - accuracy: 0.9039 - val_loss: 0.3256 - val_accuracy: 0.9081\n",
            "Epoch 19/20\n",
            "118/118 [==============================] - 1s 6ms/step - loss: 0.3392 - accuracy: 0.9036 - val_loss: 0.3194 - val_accuracy: 0.9083\n",
            "Epoch 20/20\n",
            "118/118 [==============================] - 1s 6ms/step - loss: 0.3343 - accuracy: 0.9062 - val_loss: 0.3152 - val_accuracy: 0.9100\n"
          ],
          "name": "stdout"
        }
      ]
    },
    {
      "cell_type": "markdown",
      "metadata": {
        "id": "B0ujUz6BKUGz"
      },
      "source": [
        "### Visualization of Results"
      ]
    },
    {
      "cell_type": "code",
      "metadata": {
        "id": "o-5DOZNMKYt-",
        "colab": {
          "base_uri": "https://localhost:8080/",
          "height": 204
        },
        "outputId": "873d2f94-4f0d-476e-a489-e35105fbb5e2"
      },
      "source": [
        "import seaborn as sns\r\n",
        "import pandas as pd\r\n",
        "\r\n",
        "batch_sizes = []\r\n",
        "\r\n",
        "for exp, result in zip([bt_default, bt_small, bt_large], [\"32_\", \"8_\", \"512_\"]):\r\n",
        "    df = pd.DataFrame.from_dict(exp.history)\r\n",
        "    df['epoch'] = df.index.values\r\n",
        "    df['Batch Size'] = result\r\n",
        "    batch_sizes.append(df)\r\n",
        "\r\n",
        "df = pd.concat(batch_sizes)\r\n",
        "df['Batch Size'] = df['Batch Size'].astype('str')\r\n",
        "df.head()"
      ],
      "execution_count": null,
      "outputs": [
        {
          "output_type": "execute_result",
          "data": {
            "text/html": [
              "<div>\n",
              "<style scoped>\n",
              "    .dataframe tbody tr th:only-of-type {\n",
              "        vertical-align: middle;\n",
              "    }\n",
              "\n",
              "    .dataframe tbody tr th {\n",
              "        vertical-align: top;\n",
              "    }\n",
              "\n",
              "    .dataframe thead th {\n",
              "        text-align: right;\n",
              "    }\n",
              "</style>\n",
              "<table border=\"1\" class=\"dataframe\">\n",
              "  <thead>\n",
              "    <tr style=\"text-align: right;\">\n",
              "      <th></th>\n",
              "      <th>loss</th>\n",
              "      <th>accuracy</th>\n",
              "      <th>val_loss</th>\n",
              "      <th>val_accuracy</th>\n",
              "      <th>epoch</th>\n",
              "      <th>Batch Size</th>\n",
              "    </tr>\n",
              "  </thead>\n",
              "  <tbody>\n",
              "    <tr>\n",
              "      <th>0</th>\n",
              "      <td>0.665537</td>\n",
              "      <td>0.818900</td>\n",
              "      <td>0.334140</td>\n",
              "      <td>0.9046</td>\n",
              "      <td>0</td>\n",
              "      <td>32_</td>\n",
              "    </tr>\n",
              "    <tr>\n",
              "      <th>1</th>\n",
              "      <td>0.307778</td>\n",
              "      <td>0.912617</td>\n",
              "      <td>0.266076</td>\n",
              "      <td>0.9218</td>\n",
              "      <td>1</td>\n",
              "      <td>32_</td>\n",
              "    </tr>\n",
              "    <tr>\n",
              "      <th>2</th>\n",
              "      <td>0.255837</td>\n",
              "      <td>0.925833</td>\n",
              "      <td>0.229350</td>\n",
              "      <td>0.9359</td>\n",
              "      <td>2</td>\n",
              "      <td>32_</td>\n",
              "    </tr>\n",
              "    <tr>\n",
              "      <th>3</th>\n",
              "      <td>0.222781</td>\n",
              "      <td>0.936600</td>\n",
              "      <td>0.202696</td>\n",
              "      <td>0.9396</td>\n",
              "      <td>3</td>\n",
              "      <td>32_</td>\n",
              "    </tr>\n",
              "    <tr>\n",
              "      <th>4</th>\n",
              "      <td>0.198538</td>\n",
              "      <td>0.943450</td>\n",
              "      <td>0.184369</td>\n",
              "      <td>0.9466</td>\n",
              "      <td>4</td>\n",
              "      <td>32_</td>\n",
              "    </tr>\n",
              "  </tbody>\n",
              "</table>\n",
              "</div>"
            ],
            "text/plain": [
              "       loss  accuracy  val_loss  val_accuracy  epoch Batch Size\n",
              "0  0.665537  0.818900  0.334140        0.9046      0        32_\n",
              "1  0.307778  0.912617  0.266076        0.9218      1        32_\n",
              "2  0.255837  0.925833  0.229350        0.9359      2        32_\n",
              "3  0.222781  0.936600  0.202696        0.9396      3        32_\n",
              "4  0.198538  0.943450  0.184369        0.9466      4        32_"
            ]
          },
          "metadata": {
            "tags": []
          },
          "execution_count": 14
        }
      ]
    },
    {
      "cell_type": "code",
      "metadata": {
        "colab": {
          "base_uri": "https://localhost:8080/",
          "height": 282
        },
        "id": "tBY9cfX7ZqRt",
        "outputId": "cdcf48dc-32ca-4eb9-ded4-4932c131c576"
      },
      "source": [
        "sns.lineplot(x='epoch', y='val_accuracy', hue='Batch Size', data=df);"
      ],
      "execution_count": null,
      "outputs": [
        {
          "output_type": "display_data",
          "data": {
            "image/png": "[encoded data removed]",
            "text/plain": [
              "<Figure size 432x288 with 1 Axes>"
            ]
          },
          "metadata": {
            "tags": [],
            "needs_background": "light"
          }
        }
      ]
    },
    {
      "cell_type": "markdown",
      "metadata": {
        "id": "4kZ2vUYYgclS"
      },
      "source": [
        "## Challenge\n",
        "\n",
        "You will be expected to experiment with batch size on today's assignment."
      ]
    },
    {
      "cell_type": "markdown",
      "metadata": {
        "id": "46cP9Pm_gclS"
      },
      "source": [
        "# Learning Rate (Learn)\r\n",
        "\r\n",
        "Lecture with Bruno Janota ~ 1:29:00"
      ]
    },
    {
      "cell_type": "markdown",
      "metadata": {
        "id": "Bna67ADZgclT",
        "toc-hr-collapsed": true
      },
      "source": [
        "## Overview\n",
        "\n",
        "Learning Rate controls the size of the update to our weights that the optimization algorithm makes. VERY IMPORTANT hyperparameter.\n",
        "\n",
        "* Too high of a learning rate causes unstable results\n",
        "* Too Low of a learning rate the model will underfit\n",
        "* Goldy Locks parameters - it needs be \"just right\"\n",
        "* Scale of 0-1"
      ]
    },
    {
      "cell_type": "markdown",
      "metadata": {
        "id": "gsVYOn7bgcle",
        "toc-hr-collapsed": true
      },
      "source": [
        "## Follow Along\n",
        "\n",
        "Same experiment with Batch but different learning rates:\n",
        "* High Learning = .75\n",
        "* Default Learning = .01\n",
        "* Low Learning Rate = .0001"
      ]
    },
    {
      "cell_type": "markdown",
      "metadata": {
        "id": "CI_H8Em1NOii"
      },
      "source": [
        "### Default Learning Rate"
      ]
    },
    {
      "cell_type": "code",
      "metadata": {
        "colab": {
          "base_uri": "https://localhost:8080/"
        },
        "id": "vR-2XY_4bRla",
        "outputId": "164e8b18-20e1-45d2-b515-a25c2d52eac8"
      },
      "source": [
        "model = create_model(learning_rate=0.01)\r\n",
        "lr_default = model.fit(X_train, y_train,\r\n",
        "                       epochs=20,\r\n",
        "                       batch_size=32,\r\n",
        "                       validation_data=(X_test, y_test))"
      ],
      "execution_count": null,
      "outputs": [
        {
          "output_type": "stream",
          "text": [
            "Epoch 1/20\n",
            "1875/1875 [==============================] - 4s 2ms/step - loss: 1.2087 - accuracy: 0.6539 - val_loss: 0.3402 - val_accuracy: 0.9048\n",
            "Epoch 2/20\n",
            "1875/1875 [==============================] - 3s 2ms/step - loss: 0.3320 - accuracy: 0.9067 - val_loss: 0.2707 - val_accuracy: 0.9258\n",
            "Epoch 3/20\n",
            "1875/1875 [==============================] - 3s 2ms/step - loss: 0.2672 - accuracy: 0.9240 - val_loss: 0.2364 - val_accuracy: 0.9334\n",
            "Epoch 4/20\n",
            "1875/1875 [==============================] - 3s 2ms/step - loss: 0.2327 - accuracy: 0.9345 - val_loss: 0.2069 - val_accuracy: 0.9416\n",
            "Epoch 5/20\n",
            "1875/1875 [==============================] - 3s 2ms/step - loss: 0.2001 - accuracy: 0.9417 - val_loss: 0.1842 - val_accuracy: 0.9477\n",
            "Epoch 6/20\n",
            "1875/1875 [==============================] - 3s 2ms/step - loss: 0.1804 - accuracy: 0.9483 - val_loss: 0.1661 - val_accuracy: 0.9522\n",
            "Epoch 7/20\n",
            "1875/1875 [==============================] - 3s 2ms/step - loss: 0.1646 - accuracy: 0.9529 - val_loss: 0.1552 - val_accuracy: 0.9550\n",
            "Epoch 8/20\n",
            "1875/1875 [==============================] - 3s 2ms/step - loss: 0.1466 - accuracy: 0.9577 - val_loss: 0.1448 - val_accuracy: 0.9590\n",
            "Epoch 9/20\n",
            "1875/1875 [==============================] - 3s 2ms/step - loss: 0.1353 - accuracy: 0.9603 - val_loss: 0.1385 - val_accuracy: 0.9598\n",
            "Epoch 10/20\n",
            "1875/1875 [==============================] - 3s 2ms/step - loss: 0.1241 - accuracy: 0.9643 - val_loss: 0.1286 - val_accuracy: 0.9632\n",
            "Epoch 11/20\n",
            "1875/1875 [==============================] - 3s 2ms/step - loss: 0.1157 - accuracy: 0.9667 - val_loss: 0.1245 - val_accuracy: 0.9646\n",
            "Epoch 12/20\n",
            "1875/1875 [==============================] - 3s 2ms/step - loss: 0.1144 - accuracy: 0.9667 - val_loss: 0.1199 - val_accuracy: 0.9646\n",
            "Epoch 13/20\n",
            "1875/1875 [==============================] - 3s 2ms/step - loss: 0.1043 - accuracy: 0.9705 - val_loss: 0.1132 - val_accuracy: 0.9647\n",
            "Epoch 14/20\n",
            "1875/1875 [==============================] - 3s 2ms/step - loss: 0.0995 - accuracy: 0.9714 - val_loss: 0.1093 - val_accuracy: 0.9671\n",
            "Epoch 15/20\n",
            "1875/1875 [==============================] - 3s 2ms/step - loss: 0.0924 - accuracy: 0.9731 - val_loss: 0.1093 - val_accuracy: 0.9670\n",
            "Epoch 16/20\n",
            "1875/1875 [==============================] - 3s 2ms/step - loss: 0.0900 - accuracy: 0.9730 - val_loss: 0.1038 - val_accuracy: 0.9691\n",
            "Epoch 17/20\n",
            "1875/1875 [==============================] - 3s 2ms/step - loss: 0.0822 - accuracy: 0.9761 - val_loss: 0.1047 - val_accuracy: 0.9687\n",
            "Epoch 18/20\n",
            "1875/1875 [==============================] - 3s 2ms/step - loss: 0.0840 - accuracy: 0.9769 - val_loss: 0.0991 - val_accuracy: 0.9693\n",
            "Epoch 19/20\n",
            "1875/1875 [==============================] - 3s 2ms/step - loss: 0.0788 - accuracy: 0.9773 - val_loss: 0.0976 - val_accuracy: 0.9701\n",
            "Epoch 20/20\n",
            "1875/1875 [==============================] - 3s 2ms/step - loss: 0.0746 - accuracy: 0.9792 - val_loss: 0.0979 - val_accuracy: 0.9700\n"
          ],
          "name": "stdout"
        }
      ]
    },
    {
      "cell_type": "markdown",
      "metadata": {
        "id": "IQZ4SZdKNMRO"
      },
      "source": [
        "### High Learning Rate"
      ]
    },
    {
      "cell_type": "code",
      "metadata": {
        "id": "Ny72mU_dNWMR",
        "colab": {
          "base_uri": "https://localhost:8080/"
        },
        "outputId": "a3d7a661-7fb8-4d45-bb59-3574d60a3c3f"
      },
      "source": [
        "model = create_model(learning_rate=0.75)\r\n",
        "lr_high = model.fit(X_train, y_train,\r\n",
        "                    epochs=20,\r\n",
        "                    batch_size=32,\r\n",
        "                    validation_data=(X_test, y_test))"
      ],
      "execution_count": null,
      "outputs": [
        {
          "output_type": "stream",
          "text": [
            "Epoch 1/20\n",
            "1875/1875 [==============================] - 4s 2ms/step - loss: 1.3614 - accuracy: 0.5118 - val_loss: 0.5632 - val_accuracy: 0.8041\n",
            "Epoch 2/20\n",
            "1875/1875 [==============================] - 3s 2ms/step - loss: 0.5454 - accuracy: 0.8475 - val_loss: 0.3943 - val_accuracy: 0.9055\n",
            "Epoch 3/20\n",
            "1875/1875 [==============================] - 3s 2ms/step - loss: 0.4450 - accuracy: 0.8844 - val_loss: 0.5605 - val_accuracy: 0.8429\n",
            "Epoch 4/20\n",
            "1875/1875 [==============================] - 3s 2ms/step - loss: 0.4644 - accuracy: 0.8843 - val_loss: 0.5595 - val_accuracy: 0.8154\n",
            "Epoch 5/20\n",
            "1875/1875 [==============================] - 3s 2ms/step - loss: 0.5446 - accuracy: 0.8359 - val_loss: 0.3938 - val_accuracy: 0.9089\n",
            "Epoch 6/20\n",
            "1875/1875 [==============================] - 3s 2ms/step - loss: 0.4120 - accuracy: 0.9067 - val_loss: 0.4043 - val_accuracy: 0.8949\n",
            "Epoch 7/20\n",
            "1875/1875 [==============================] - 4s 2ms/step - loss: 0.3588 - accuracy: 0.9144 - val_loss: 0.3867 - val_accuracy: 0.9074\n",
            "Epoch 8/20\n",
            "1875/1875 [==============================] - 5s 3ms/step - loss: 0.3360 - accuracy: 0.9213 - val_loss: 0.3348 - val_accuracy: 0.9288\n",
            "Epoch 9/20\n",
            "1875/1875 [==============================] - 3s 2ms/step - loss: 0.3575 - accuracy: 0.9205 - val_loss: 0.4330 - val_accuracy: 0.8897\n",
            "Epoch 10/20\n",
            "1875/1875 [==============================] - 3s 2ms/step - loss: 0.3641 - accuracy: 0.9152 - val_loss: 0.3326 - val_accuracy: 0.9236\n",
            "Epoch 11/20\n",
            "1875/1875 [==============================] - 3s 2ms/step - loss: 0.3706 - accuracy: 0.9113 - val_loss: 0.6042 - val_accuracy: 0.7975\n",
            "Epoch 12/20\n",
            "1875/1875 [==============================] - 3s 2ms/step - loss: 0.6280 - accuracy: 0.7843 - val_loss: 0.6762 - val_accuracy: 0.7430\n",
            "Epoch 13/20\n",
            "1875/1875 [==============================] - 3s 2ms/step - loss: 0.6415 - accuracy: 0.7768 - val_loss: 0.7093 - val_accuracy: 0.7170\n",
            "Epoch 14/20\n",
            "1875/1875 [==============================] - 3s 2ms/step - loss: 0.8209 - accuracy: 0.6927 - val_loss: 0.5860 - val_accuracy: 0.8195\n",
            "Epoch 15/20\n",
            "1875/1875 [==============================] - 3s 2ms/step - loss: 0.6252 - accuracy: 0.7900 - val_loss: 0.7516 - val_accuracy: 0.7261\n",
            "Epoch 16/20\n",
            "1875/1875 [==============================] - 3s 2ms/step - loss: 0.7776 - accuracy: 0.7252 - val_loss: 0.8669 - val_accuracy: 0.7194\n",
            "Epoch 17/20\n",
            "1875/1875 [==============================] - 3s 2ms/step - loss: 0.8984 - accuracy: 0.6659 - val_loss: 1.2606 - val_accuracy: 0.4592\n",
            "Epoch 18/20\n",
            "1875/1875 [==============================] - 3s 2ms/step - loss: 1.4359 - accuracy: 0.3978 - val_loss: 1.2218 - val_accuracy: 0.4749\n",
            "Epoch 19/20\n",
            "1875/1875 [==============================] - 3s 2ms/step - loss: 1.3309 - accuracy: 0.4336 - val_loss: 1.6877 - val_accuracy: 0.3756\n",
            "Epoch 20/20\n",
            "1875/1875 [==============================] - 3s 2ms/step - loss: 1.4531 - accuracy: 0.3758 - val_loss: 1.5966 - val_accuracy: 0.3044\n"
          ],
          "name": "stdout"
        }
      ]
    },
    {
      "cell_type": "markdown",
      "metadata": {
        "id": "kAqDmTVBNSMR"
      },
      "source": [
        "### Low Learning Rate"
      ]
    },
    {
      "cell_type": "code",
      "metadata": {
        "id": "Ech1ER64NXBn",
        "colab": {
          "base_uri": "https://localhost:8080/"
        },
        "outputId": "60983d72-d99f-4267-8ed6-07414aec6db1"
      },
      "source": [
        "model = create_model(learning_rate=0.0001)\r\n",
        "lr_low = model.fit(X_train, y_train,\r\n",
        "                   epochs=20,\r\n",
        "                   batch_size=32,\r\n",
        "                   validation_data=(X_test, y_test))"
      ],
      "execution_count": null,
      "outputs": [
        {
          "output_type": "stream",
          "text": [
            "Epoch 1/20\n",
            "1875/1875 [==============================] - 4s 2ms/step - loss: 2.3108 - accuracy: 0.1391 - val_loss: 2.2439 - val_accuracy: 0.1799\n",
            "Epoch 2/20\n",
            "1875/1875 [==============================] - 3s 2ms/step - loss: 2.2300 - accuracy: 0.2077 - val_loss: 2.1720 - val_accuracy: 0.2757\n",
            "Epoch 3/20\n",
            "1875/1875 [==============================] - 3s 2ms/step - loss: 2.1592 - accuracy: 0.2996 - val_loss: 2.0963 - val_accuracy: 0.3653\n",
            "Epoch 4/20\n",
            "1875/1875 [==============================] - 3s 2ms/step - loss: 2.0833 - accuracy: 0.3796 - val_loss: 2.0133 - val_accuracy: 0.4348\n",
            "Epoch 5/20\n",
            "1875/1875 [==============================] - 3s 2ms/step - loss: 1.9976 - accuracy: 0.4380 - val_loss: 1.9229 - val_accuracy: 0.4844\n",
            "Epoch 6/20\n",
            "1875/1875 [==============================] - 3s 2ms/step - loss: 1.9087 - accuracy: 0.4897 - val_loss: 1.8276 - val_accuracy: 0.5271\n",
            "Epoch 7/20\n",
            "1875/1875 [==============================] - 4s 2ms/step - loss: 1.8167 - accuracy: 0.5278 - val_loss: 1.7302 - val_accuracy: 0.5597\n",
            "Epoch 8/20\n",
            "1875/1875 [==============================] - 3s 2ms/step - loss: 1.7205 - accuracy: 0.5555 - val_loss: 1.6331 - val_accuracy: 0.5858\n",
            "Epoch 9/20\n",
            "1875/1875 [==============================] - 3s 2ms/step - loss: 1.6241 - accuracy: 0.5830 - val_loss: 1.5387 - val_accuracy: 0.6071\n",
            "Epoch 10/20\n",
            "1875/1875 [==============================] - 3s 2ms/step - loss: 1.5346 - accuracy: 0.6030 - val_loss: 1.4487 - val_accuracy: 0.6273\n",
            "Epoch 11/20\n",
            "1875/1875 [==============================] - 3s 2ms/step - loss: 1.4483 - accuracy: 0.6218 - val_loss: 1.3645 - val_accuracy: 0.6449\n",
            "Epoch 12/20\n",
            "1875/1875 [==============================] - 3s 2ms/step - loss: 1.3586 - accuracy: 0.6435 - val_loss: 1.2863 - val_accuracy: 0.6624\n",
            "Epoch 13/20\n",
            "1875/1875 [==============================] - 3s 2ms/step - loss: 1.2883 - accuracy: 0.6554 - val_loss: 1.2143 - val_accuracy: 0.6813\n",
            "Epoch 14/20\n",
            "1875/1875 [==============================] - 3s 2ms/step - loss: 1.2205 - accuracy: 0.6761 - val_loss: 1.1485 - val_accuracy: 0.7000\n",
            "Epoch 15/20\n",
            "1875/1875 [==============================] - 3s 2ms/step - loss: 1.1556 - accuracy: 0.6969 - val_loss: 1.0887 - val_accuracy: 0.7197\n",
            "Epoch 16/20\n",
            "1875/1875 [==============================] - 3s 2ms/step - loss: 1.0974 - accuracy: 0.7177 - val_loss: 1.0345 - val_accuracy: 0.7388\n",
            "Epoch 17/20\n",
            "1875/1875 [==============================] - 3s 2ms/step - loss: 1.0467 - accuracy: 0.7333 - val_loss: 0.9854 - val_accuracy: 0.7564\n",
            "Epoch 18/20\n",
            "1875/1875 [==============================] - 3s 2ms/step - loss: 0.9920 - accuracy: 0.7524 - val_loss: 0.9409 - val_accuracy: 0.7693\n",
            "Epoch 19/20\n",
            "1875/1875 [==============================] - 3s 2ms/step - loss: 0.9498 - accuracy: 0.7658 - val_loss: 0.9005 - val_accuracy: 0.7801\n",
            "Epoch 20/20\n",
            "1875/1875 [==============================] - 3s 2ms/step - loss: 0.9147 - accuracy: 0.7738 - val_loss: 0.8638 - val_accuracy: 0.7889\n"
          ],
          "name": "stdout"
        }
      ]
    },
    {
      "cell_type": "markdown",
      "metadata": {
        "id": "sZe6DyhANXdU"
      },
      "source": [
        "### Visualization of Results"
      ]
    },
    {
      "cell_type": "code",
      "metadata": {
        "id": "Bn-BdFdMNph-",
        "colab": {
          "base_uri": "https://localhost:8080/",
          "height": 204
        },
        "outputId": "f2473a14-25f7-400f-864a-437e645e527f"
      },
      "source": [
        "learning_rates = []\r\n",
        "for exp, result in zip([lr_default, lr_low, lr_high], [\"0.01_\", \"0.0001_\", \"0.75_\"]):\r\n",
        "    df = pd.DataFrame.from_dict(exp.history)\r\n",
        "    df['epoch'] = df.index.values\r\n",
        "    df['Learning Rate'] = result\r\n",
        "    learning_rates.append(df)\r\n",
        "df = pd.concat(learning_rates)\r\n",
        "df['Learning Rate'] = df['Learning Rate'].astype('str')\r\n",
        "df.head()"
      ],
      "execution_count": null,
      "outputs": [
        {
          "output_type": "execute_result",
          "data": {
            "text/html": [
              "<div>\n",
              "<style scoped>\n",
              "    .dataframe tbody tr th:only-of-type {\n",
              "        vertical-align: middle;\n",
              "    }\n",
              "\n",
              "    .dataframe tbody tr th {\n",
              "        vertical-align: top;\n",
              "    }\n",
              "\n",
              "    .dataframe thead th {\n",
              "        text-align: right;\n",
              "    }\n",
              "</style>\n",
              "<table border=\"1\" class=\"dataframe\">\n",
              "  <thead>\n",
              "    <tr style=\"text-align: right;\">\n",
              "      <th></th>\n",
              "      <th>loss</th>\n",
              "      <th>accuracy</th>\n",
              "      <th>val_loss</th>\n",
              "      <th>val_accuracy</th>\n",
              "      <th>epoch</th>\n",
              "      <th>Learning Rate</th>\n",
              "    </tr>\n",
              "  </thead>\n",
              "  <tbody>\n",
              "    <tr>\n",
              "      <th>0</th>\n",
              "      <td>0.731934</td>\n",
              "      <td>0.800067</td>\n",
              "      <td>0.340164</td>\n",
              "      <td>0.9048</td>\n",
              "      <td>0</td>\n",
              "      <td>0.01_</td>\n",
              "    </tr>\n",
              "    <tr>\n",
              "      <th>1</th>\n",
              "      <td>0.312616</td>\n",
              "      <td>0.911683</td>\n",
              "      <td>0.270717</td>\n",
              "      <td>0.9258</td>\n",
              "      <td>1</td>\n",
              "      <td>0.01_</td>\n",
              "    </tr>\n",
              "    <tr>\n",
              "      <th>2</th>\n",
              "      <td>0.258135</td>\n",
              "      <td>0.926117</td>\n",
              "      <td>0.236438</td>\n",
              "      <td>0.9334</td>\n",
              "      <td>2</td>\n",
              "      <td>0.01_</td>\n",
              "    </tr>\n",
              "    <tr>\n",
              "      <th>3</th>\n",
              "      <td>0.223782</td>\n",
              "      <td>0.936300</td>\n",
              "      <td>0.206911</td>\n",
              "      <td>0.9416</td>\n",
              "      <td>3</td>\n",
              "      <td>0.01_</td>\n",
              "    </tr>\n",
              "    <tr>\n",
              "      <th>4</th>\n",
              "      <td>0.197882</td>\n",
              "      <td>0.942933</td>\n",
              "      <td>0.184213</td>\n",
              "      <td>0.9477</td>\n",
              "      <td>4</td>\n",
              "      <td>0.01_</td>\n",
              "    </tr>\n",
              "  </tbody>\n",
              "</table>\n",
              "</div>"
            ],
            "text/plain": [
              "       loss  accuracy  val_loss  val_accuracy  epoch Learning Rate\n",
              "0  0.731934  0.800067  0.340164        0.9048      0         0.01_\n",
              "1  0.312616  0.911683  0.270717        0.9258      1         0.01_\n",
              "2  0.258135  0.926117  0.236438        0.9334      2         0.01_\n",
              "3  0.223782  0.936300  0.206911        0.9416      3         0.01_\n",
              "4  0.197882  0.942933  0.184213        0.9477      4         0.01_"
            ]
          },
          "metadata": {
            "tags": []
          },
          "execution_count": 19
        }
      ]
    },
    {
      "cell_type": "code",
      "metadata": {
        "colab": {
          "base_uri": "https://localhost:8080/",
          "height": 281
        },
        "id": "48xZMCGYe5sc",
        "outputId": "b83941b3-d1ff-4c53-e8ad-aa0c1a7307f5"
      },
      "source": [
        "sns.lineplot(x='epoch', y='val_accuracy', hue='Learning Rate', data=df);"
      ],
      "execution_count": null,
      "outputs": [
        {
          "output_type": "display_data",
          "data": {
            "image/png": "[encoded data removed]",
            "text/plain": [
              "<Figure size 432x288 with 1 Axes>"
            ]
          },
          "metadata": {
            "tags": [],
            "needs_background": "light"
          }
        }
      ]
    },
    {
      "cell_type": "markdown",
      "metadata": {
        "id": "Kb2aiw_Sgcl7"
      },
      "source": [
        "## Challenge\n",
        "\n",
        "You will be expected to experiment with different learning rates today.\n",
        "\n",
        "---"
      ]
    },
    {
      "cell_type": "code",
      "metadata": {
        "id": "dNmHcd3xgprb"
      },
      "source": [
        ""
      ],
      "execution_count": null,
      "outputs": []
    }
  ]
}