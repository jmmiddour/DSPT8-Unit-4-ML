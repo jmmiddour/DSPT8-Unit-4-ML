{
 "cells": [
  {
   "cell_type": "markdown",
   "metadata": {},
   "source": [
    "<img align=\"left\" src=\"https://lever-client-logos.s3.amazonaws.com/864372b1-534c-480e-acd5-9711f850815c-1524247202159.png\" width=200>\n",
    "<br></br>\n",
    "<br></br>\n",
    "\n",
    "# Topic Modeling\n",
    "## *Data Science Unit 4 Sprint 1 Assignment 4*\n",
    "\n",
    "Analyze a corpus of Amazon reviews from Unit 4 Sprint 1 Module 1's lecture using topic modeling: \n",
    "\n",
    "- Fit a Gensim LDA topic model on Amazon Reviews\n",
    "- Select appropriate number of topics\n",
    "- Create some dope visualization of the topics\n",
    "- Write a few bullets on your findings in markdown at the end\n",
    "- **Note**: You don't *have* to use generators for this assignment"
   ]
  },
  {
   "cell_type": "code",
   "execution_count": 1,
   "metadata": {
    "pycharm": {
     "name": "#%%\n"
    }
   },
   "outputs": [],
   "source": [
    "# Imports\n",
    "import re\n",
    "import numpy as np\n",
    "import pandas as pd\n",
    "from pprint import pprint\n",
    "\n",
    "import gensim\n",
    "import gensim.corpora as corpora\n",
    "from gensim.utils import simple_preprocess\n",
    "from gensim import models\n",
    "from gensim.models import CoherenceModel\n",
    "\n",
    "# Visualization\n",
    "import pyLDAvis\n",
    "import pyLDAvis.gensim\n",
    "import matplotlib.pyplot as plt\n",
    "%matplotlib inline\n",
    "from explore_data import get_num_words_per_sample\n",
    "from explore_data import plot_sample_length_distribution\n",
    "from explore_data import plot_class_distribution\n",
    "from explore_data import plot_frequency_distribution_of_ngrams\n",
    "import seaborn as sns\n",
    "sns.set()\n",
    "\n",
    "# Leverage tqdm for progress_apply\n",
    "from tqdm import tqdm\n",
    "tqdm.pandas()\n",
    "\n",
    "# SKLearn libraries\n",
    "from sklearn.ensemble import RandomForestClassifier\n",
    "from sklearn.model_selection import GridSearchCV, train_test_split\n",
    "from sklearn.feature_extraction.text import TfidfVectorizer\n",
    "from sklearn.pipeline import Pipeline\n",
    "\n",
    "# Set option to display more of the text in the columns\n",
    "pd.set_option('display.max_colwidth', 300)"
   ]
  },
  {
   "cell_type": "code",
   "execution_count": 2,
   "metadata": {},
   "outputs": [
    {
     "name": "stderr",
     "output_type": "stream",
     "text": [
      "C:\\Users\\sahmj\\anaconda3\\envs\\u4-s1-NLP\\lib\\site-packages\\ipykernel\\ipkernel.py:283: DeprecationWarning: `should_run_async` will not call `transform_cell` automatically in the future. Please pass the result to `transformed_cell` argument and any exception that happen during thetransform in `preprocessing_exc_tuple` in IPython 7.17 and above.\n",
      "  and should_run_async(code)\n"
     ]
    }
   ],
   "source": [
    "# Ignore warnings\n",
    "import warnings\n",
    "warnings.filterwarnings(\"ignore\")"
   ]
  },
  {
   "cell_type": "code",
   "execution_count": 3,
   "metadata": {
    "pycharm": {
     "name": "#%%\n"
    }
   },
   "outputs": [
    {
     "name": "stdout",
     "output_type": "stream",
     "text": [
      "✔ Download and installation successful\n",
      "You can now load the model via spacy.load('en_core_web_md')\n"
     ]
    }
   ],
   "source": [
    "# Download spacy model\n",
    "import spacy\n",
    "import spacy.cli\n",
    "spacy.cli.download(\"en_core_web_md\")"
   ]
  },
  {
   "cell_type": "code",
   "execution_count": 4,
   "metadata": {
    "pycharm": {
     "name": "#%%\n"
    }
   },
   "outputs": [
    {
     "data": {
      "text/plain": "                     id             dateAdded           dateUpdated  \\\n0  AVpgNzjwLJeJML43Kpxn  2015-10-30T08:59:32Z  2019-04-25T09:08:16Z   \n1  AVpgNzjwLJeJML43Kpxn  2015-10-30T08:59:32Z  2019-04-25T09:08:16Z   \n2  AVpgNzjwLJeJML43Kpxn  2015-10-30T08:59:32Z  2019-04-25T09:08:16Z   \n3  AVpgNzjwLJeJML43Kpxn  2015-10-30T08:59:32Z  2019-04-25T09:08:16Z   \n4  AVpgNzjwLJeJML43Kpxn  2015-10-30T08:59:32Z  2019-04-25T09:08:16Z   \n\n                                                         name  \\\n0  AmazonBasics AAA Performance Alkaline Batteries (36 Count)   \n1  AmazonBasics AAA Performance Alkaline Batteries (36 Count)   \n2  AmazonBasics AAA Performance Alkaline Batteries (36 Count)   \n3  AmazonBasics AAA Performance Alkaline Batteries (36 Count)   \n4  AmazonBasics AAA Performance Alkaline Batteries (36 Count)   \n\n                   asins         brand  \\\n0  B00QWO9P0O,B00LH3DMUO  Amazonbasics   \n1  B00QWO9P0O,B00LH3DMUO  Amazonbasics   \n2  B00QWO9P0O,B00LH3DMUO  Amazonbasics   \n3  B00QWO9P0O,B00LH3DMUO  Amazonbasics   \n4  B00QWO9P0O,B00LH3DMUO  Amazonbasics   \n\n                                                                                                                                                                                                                                                            categories  \\\n0  AA,AAA,Health,Electronics,Health & Household,Camcorder Batteries,Camera & Photo,Batteries,Household Batteries,Robot Check,Accessories,Camera Batteries,Health and Beauty,Household Supplies,Batteries & Chargers,Health, Household & Baby Care,Health Personal Care   \n1  AA,AAA,Health,Electronics,Health & Household,Camcorder Batteries,Camera & Photo,Batteries,Household Batteries,Robot Check,Accessories,Camera Batteries,Health and Beauty,Household Supplies,Batteries & Chargers,Health, Household & Baby Care,Health Personal Care   \n2  AA,AAA,Health,Electronics,Health & Household,Camcorder Batteries,Camera & Photo,Batteries,Household Batteries,Robot Check,Accessories,Camera Batteries,Health and Beauty,Household Supplies,Batteries & Chargers,Health, Household & Baby Care,Health Personal Care   \n3  AA,AAA,Health,Electronics,Health & Household,Camcorder Batteries,Camera & Photo,Batteries,Household Batteries,Robot Check,Accessories,Camera Batteries,Health and Beauty,Household Supplies,Batteries & Chargers,Health, Household & Baby Care,Health Personal Care   \n4  AA,AAA,Health,Electronics,Health & Household,Camcorder Batteries,Camera & Photo,Batteries,Household Batteries,Robot Check,Accessories,Camera Batteries,Health and Beauty,Household Supplies,Batteries & Chargers,Health, Household & Baby Care,Health Personal Care   \n\n  primaryCategories  \\\n0   Health & Beauty   \n1   Health & Beauty   \n2   Health & Beauty   \n3   Health & Beauty   \n4   Health & Beauty   \n\n                                                                                                                                                                                                                                                                                                     imageURLs  \\\n0  https://images-na.ssl-images-amazon.com/images/I/81qmNyJo%2BkL._SL1500_.jpg,https://images-na.ssl-images-amazon.com/images/I/81ZTa1BrkzL._SL1500_.jpg,http://ecx.images-amazon.com/images/I/41pSoRu7UlL._SS40_.jpg,https://www.upccodesearch.com/images/barcode/0841710106442.png,https://images-na.ssl-...   \n1  https://images-na.ssl-images-amazon.com/images/I/81qmNyJo%2BkL._SL1500_.jpg,https://images-na.ssl-images-amazon.com/images/I/81ZTa1BrkzL._SL1500_.jpg,http://ecx.images-amazon.com/images/I/41pSoRu7UlL._SS40_.jpg,https://www.upccodesearch.com/images/barcode/0841710106442.png,https://images-na.ssl-...   \n2  https://images-na.ssl-images-amazon.com/images/I/81qmNyJo%2BkL._SL1500_.jpg,https://images-na.ssl-images-amazon.com/images/I/81ZTa1BrkzL._SL1500_.jpg,http://ecx.images-amazon.com/images/I/41pSoRu7UlL._SS40_.jpg,https://www.upccodesearch.com/images/barcode/0841710106442.png,https://images-na.ssl-...   \n3  https://images-na.ssl-images-amazon.com/images/I/81qmNyJo%2BkL._SL1500_.jpg,https://images-na.ssl-images-amazon.com/images/I/81ZTa1BrkzL._SL1500_.jpg,http://ecx.images-amazon.com/images/I/41pSoRu7UlL._SS40_.jpg,https://www.upccodesearch.com/images/barcode/0841710106442.png,https://images-na.ssl-...   \n4  https://images-na.ssl-images-amazon.com/images/I/81qmNyJo%2BkL._SL1500_.jpg,https://images-na.ssl-images-amazon.com/images/I/81ZTa1BrkzL._SL1500_.jpg,http://ecx.images-amazon.com/images/I/41pSoRu7UlL._SS40_.jpg,https://www.upccodesearch.com/images/barcode/0841710106442.png,https://images-na.ssl-...   \n\n                                                                                                                                                                           keys  \\\n0  amazonbasics/hl002619,amazonbasicsaaaperformancealkalinebatteries36count/b00lh3dmuo,0841710106442,841710106442,amazonbasicsaaaperformancealkalinebatteries36count/b00qwo9p0o   \n1  amazonbasics/hl002619,amazonbasicsaaaperformancealkalinebatteries36count/b00lh3dmuo,0841710106442,841710106442,amazonbasicsaaaperformancealkalinebatteries36count/b00qwo9p0o   \n2  amazonbasics/hl002619,amazonbasicsaaaperformancealkalinebatteries36count/b00lh3dmuo,0841710106442,841710106442,amazonbasicsaaaperformancealkalinebatteries36count/b00qwo9p0o   \n3  amazonbasics/hl002619,amazonbasicsaaaperformancealkalinebatteries36count/b00lh3dmuo,0841710106442,841710106442,amazonbasicsaaaperformancealkalinebatteries36count/b00qwo9p0o   \n4  amazonbasics/hl002619,amazonbasicsaaaperformancealkalinebatteries36count/b00lh3dmuo,0841710106442,841710106442,amazonbasicsaaaperformancealkalinebatteries36count/b00qwo9p0o   \n\n   ... reviews.didPurchase reviews.doRecommend reviews.id reviews.numHelpful  \\\n0  ...                 NaN                 NaN        NaN                NaN   \n1  ...                 NaN                 NaN        NaN                NaN   \n2  ...                 NaN                 NaN        NaN                NaN   \n3  ...                 NaN                 NaN        NaN                NaN   \n4  ...                 NaN                 NaN        NaN                NaN   \n\n  reviews.rating                                  reviews.sourceURLs  \\\n0              3  https://www.amazon.com/product-reviews/B00QWO9P0O/   \n1              4  https://www.amazon.com/product-reviews/B00QWO9P0O/   \n2              5  https://www.amazon.com/product-reviews/B00QWO9P0O/   \n3              5  https://www.amazon.com/product-reviews/B00QWO9P0O/   \n4              5  https://www.amazon.com/product-reviews/B00QWO9P0O/   \n\n                                                                                                                                  reviews.text  \\\n0  I order 3 of them and one of the item is bad quality. Is missing backup spring so I have to put a pcs of aluminum to make the battery work.   \n1                                                                          Bulk is always the less expensive way to go for products like these   \n2                                                                                     Well they are not Duracell but for the price i am happy.   \n3                                                                          Seem to work as well as name brand batteries at a much better price   \n4                                                                                    These batteries are very long lasting the price is great.   \n\n                                                                              reviews.title  \\\n0  ... 3 of them and one of the item is bad quality. Is missing backup spring so I have ...   \n1                                 ... always the less expensive way to go for products like   \n2                                        ... are not Duracell but for the price i am happy.   \n3                                      ... as well as name brand batteries at a much better   \n4                                   ... batteries are very long lasting the price is great.   \n\n   reviews.username  \\\n0        Byger yang   \n1              ByMG   \n2  BySharon Lambert   \n3     Bymark sexson   \n4           Bylinda   \n\n                                                                                                                                                                                                                                                                                                    sourceURLs  \n0  https://www.barcodable.com/upc/841710106442,https://www.amazon.com/AmazonBasics-Performance-Alkaline-Batteries-Count/dp/B00LH3DMUO/,https://www.amazon.com/AmazonBasics-Performance-Alkaline-Batteries-Count/dp/B00LH3DMUO,https://www.amazon.com/AmazonBasics-Performance-Alkaline-Batteries-36-Pack/dp...  \n1  https://www.barcodable.com/upc/841710106442,https://www.amazon.com/AmazonBasics-Performance-Alkaline-Batteries-Count/dp/B00LH3DMUO/,https://www.amazon.com/AmazonBasics-Performance-Alkaline-Batteries-Count/dp/B00LH3DMUO,https://www.amazon.com/AmazonBasics-Performance-Alkaline-Batteries-36-Pack/dp...  \n2  https://www.barcodable.com/upc/841710106442,https://www.amazon.com/AmazonBasics-Performance-Alkaline-Batteries-Count/dp/B00LH3DMUO/,https://www.amazon.com/AmazonBasics-Performance-Alkaline-Batteries-Count/dp/B00LH3DMUO,https://www.amazon.com/AmazonBasics-Performance-Alkaline-Batteries-36-Pack/dp...  \n3  https://www.barcodable.com/upc/841710106442,https://www.amazon.com/AmazonBasics-Performance-Alkaline-Batteries-Count/dp/B00LH3DMUO/,https://www.amazon.com/AmazonBasics-Performance-Alkaline-Batteries-Count/dp/B00LH3DMUO,https://www.amazon.com/AmazonBasics-Performance-Alkaline-Batteries-36-Pack/dp...  \n4  https://www.barcodable.com/upc/841710106442,https://www.amazon.com/AmazonBasics-Performance-Alkaline-Batteries-Count/dp/B00LH3DMUO/,https://www.amazon.com/AmazonBasics-Performance-Alkaline-Batteries-Count/dp/B00LH3DMUO,https://www.amazon.com/AmazonBasics-Performance-Alkaline-Batteries-36-Pack/dp...  \n\n[5 rows x 24 columns]",
      "text/html": "<div>\n<style scoped>\n    .dataframe tbody tr th:only-of-type {\n        vertical-align: middle;\n    }\n\n    .dataframe tbody tr th {\n        vertical-align: top;\n    }\n\n    .dataframe thead th {\n        text-align: right;\n    }\n</style>\n<table border=\"1\" class=\"dataframe\">\n  <thead>\n    <tr style=\"text-align: right;\">\n      <th></th>\n      <th>id</th>\n      <th>dateAdded</th>\n      <th>dateUpdated</th>\n      <th>name</th>\n      <th>asins</th>\n      <th>brand</th>\n      <th>categories</th>\n      <th>primaryCategories</th>\n      <th>imageURLs</th>\n      <th>keys</th>\n      <th>...</th>\n      <th>reviews.didPurchase</th>\n      <th>reviews.doRecommend</th>\n      <th>reviews.id</th>\n      <th>reviews.numHelpful</th>\n      <th>reviews.rating</th>\n      <th>reviews.sourceURLs</th>\n      <th>reviews.text</th>\n      <th>reviews.title</th>\n      <th>reviews.username</th>\n      <th>sourceURLs</th>\n    </tr>\n  </thead>\n  <tbody>\n    <tr>\n      <th>0</th>\n      <td>AVpgNzjwLJeJML43Kpxn</td>\n      <td>2015-10-30T08:59:32Z</td>\n      <td>2019-04-25T09:08:16Z</td>\n      <td>AmazonBasics AAA Performance Alkaline Batteries (36 Count)</td>\n      <td>B00QWO9P0O,B00LH3DMUO</td>\n      <td>Amazonbasics</td>\n      <td>AA,AAA,Health,Electronics,Health &amp; Household,Camcorder Batteries,Camera &amp; Photo,Batteries,Household Batteries,Robot Check,Accessories,Camera Batteries,Health and Beauty,Household Supplies,Batteries &amp; Chargers,Health, Household &amp; Baby Care,Health Personal Care</td>\n      <td>Health &amp; Beauty</td>\n      <td>https://images-na.ssl-images-amazon.com/images/I/81qmNyJo%2BkL._SL1500_.jpg,https://images-na.ssl-images-amazon.com/images/I/81ZTa1BrkzL._SL1500_.jpg,http://ecx.images-amazon.com/images/I/41pSoRu7UlL._SS40_.jpg,https://www.upccodesearch.com/images/barcode/0841710106442.png,https://images-na.ssl-...</td>\n      <td>amazonbasics/hl002619,amazonbasicsaaaperformancealkalinebatteries36count/b00lh3dmuo,0841710106442,841710106442,amazonbasicsaaaperformancealkalinebatteries36count/b00qwo9p0o</td>\n      <td>...</td>\n      <td>NaN</td>\n      <td>NaN</td>\n      <td>NaN</td>\n      <td>NaN</td>\n      <td>3</td>\n      <td>https://www.amazon.com/product-reviews/B00QWO9P0O/</td>\n      <td>I order 3 of them and one of the item is bad quality. Is missing backup spring so I have to put a pcs of aluminum to make the battery work.</td>\n      <td>... 3 of them and one of the item is bad quality. Is missing backup spring so I have ...</td>\n      <td>Byger yang</td>\n      <td>https://www.barcodable.com/upc/841710106442,https://www.amazon.com/AmazonBasics-Performance-Alkaline-Batteries-Count/dp/B00LH3DMUO/,https://www.amazon.com/AmazonBasics-Performance-Alkaline-Batteries-Count/dp/B00LH3DMUO,https://www.amazon.com/AmazonBasics-Performance-Alkaline-Batteries-36-Pack/dp...</td>\n    </tr>\n    <tr>\n      <th>1</th>\n      <td>AVpgNzjwLJeJML43Kpxn</td>\n      <td>2015-10-30T08:59:32Z</td>\n      <td>2019-04-25T09:08:16Z</td>\n      <td>AmazonBasics AAA Performance Alkaline Batteries (36 Count)</td>\n      <td>B00QWO9P0O,B00LH3DMUO</td>\n      <td>Amazonbasics</td>\n      <td>AA,AAA,Health,Electronics,Health &amp; Household,Camcorder Batteries,Camera &amp; Photo,Batteries,Household Batteries,Robot Check,Accessories,Camera Batteries,Health and Beauty,Household Supplies,Batteries &amp; Chargers,Health, Household &amp; Baby Care,Health Personal Care</td>\n      <td>Health &amp; Beauty</td>\n      <td>https://images-na.ssl-images-amazon.com/images/I/81qmNyJo%2BkL._SL1500_.jpg,https://images-na.ssl-images-amazon.com/images/I/81ZTa1BrkzL._SL1500_.jpg,http://ecx.images-amazon.com/images/I/41pSoRu7UlL._SS40_.jpg,https://www.upccodesearch.com/images/barcode/0841710106442.png,https://images-na.ssl-...</td>\n      <td>amazonbasics/hl002619,amazonbasicsaaaperformancealkalinebatteries36count/b00lh3dmuo,0841710106442,841710106442,amazonbasicsaaaperformancealkalinebatteries36count/b00qwo9p0o</td>\n      <td>...</td>\n      <td>NaN</td>\n      <td>NaN</td>\n      <td>NaN</td>\n      <td>NaN</td>\n      <td>4</td>\n      <td>https://www.amazon.com/product-reviews/B00QWO9P0O/</td>\n      <td>Bulk is always the less expensive way to go for products like these</td>\n      <td>... always the less expensive way to go for products like</td>\n      <td>ByMG</td>\n      <td>https://www.barcodable.com/upc/841710106442,https://www.amazon.com/AmazonBasics-Performance-Alkaline-Batteries-Count/dp/B00LH3DMUO/,https://www.amazon.com/AmazonBasics-Performance-Alkaline-Batteries-Count/dp/B00LH3DMUO,https://www.amazon.com/AmazonBasics-Performance-Alkaline-Batteries-36-Pack/dp...</td>\n    </tr>\n    <tr>\n      <th>2</th>\n      <td>AVpgNzjwLJeJML43Kpxn</td>\n      <td>2015-10-30T08:59:32Z</td>\n      <td>2019-04-25T09:08:16Z</td>\n      <td>AmazonBasics AAA Performance Alkaline Batteries (36 Count)</td>\n      <td>B00QWO9P0O,B00LH3DMUO</td>\n      <td>Amazonbasics</td>\n      <td>AA,AAA,Health,Electronics,Health &amp; Household,Camcorder Batteries,Camera &amp; Photo,Batteries,Household Batteries,Robot Check,Accessories,Camera Batteries,Health and Beauty,Household Supplies,Batteries &amp; Chargers,Health, Household &amp; Baby Care,Health Personal Care</td>\n      <td>Health &amp; Beauty</td>\n      <td>https://images-na.ssl-images-amazon.com/images/I/81qmNyJo%2BkL._SL1500_.jpg,https://images-na.ssl-images-amazon.com/images/I/81ZTa1BrkzL._SL1500_.jpg,http://ecx.images-amazon.com/images/I/41pSoRu7UlL._SS40_.jpg,https://www.upccodesearch.com/images/barcode/0841710106442.png,https://images-na.ssl-...</td>\n      <td>amazonbasics/hl002619,amazonbasicsaaaperformancealkalinebatteries36count/b00lh3dmuo,0841710106442,841710106442,amazonbasicsaaaperformancealkalinebatteries36count/b00qwo9p0o</td>\n      <td>...</td>\n      <td>NaN</td>\n      <td>NaN</td>\n      <td>NaN</td>\n      <td>NaN</td>\n      <td>5</td>\n      <td>https://www.amazon.com/product-reviews/B00QWO9P0O/</td>\n      <td>Well they are not Duracell but for the price i am happy.</td>\n      <td>... are not Duracell but for the price i am happy.</td>\n      <td>BySharon Lambert</td>\n      <td>https://www.barcodable.com/upc/841710106442,https://www.amazon.com/AmazonBasics-Performance-Alkaline-Batteries-Count/dp/B00LH3DMUO/,https://www.amazon.com/AmazonBasics-Performance-Alkaline-Batteries-Count/dp/B00LH3DMUO,https://www.amazon.com/AmazonBasics-Performance-Alkaline-Batteries-36-Pack/dp...</td>\n    </tr>\n    <tr>\n      <th>3</th>\n      <td>AVpgNzjwLJeJML43Kpxn</td>\n      <td>2015-10-30T08:59:32Z</td>\n      <td>2019-04-25T09:08:16Z</td>\n      <td>AmazonBasics AAA Performance Alkaline Batteries (36 Count)</td>\n      <td>B00QWO9P0O,B00LH3DMUO</td>\n      <td>Amazonbasics</td>\n      <td>AA,AAA,Health,Electronics,Health &amp; Household,Camcorder Batteries,Camera &amp; Photo,Batteries,Household Batteries,Robot Check,Accessories,Camera Batteries,Health and Beauty,Household Supplies,Batteries &amp; Chargers,Health, Household &amp; Baby Care,Health Personal Care</td>\n      <td>Health &amp; Beauty</td>\n      <td>https://images-na.ssl-images-amazon.com/images/I/81qmNyJo%2BkL._SL1500_.jpg,https://images-na.ssl-images-amazon.com/images/I/81ZTa1BrkzL._SL1500_.jpg,http://ecx.images-amazon.com/images/I/41pSoRu7UlL._SS40_.jpg,https://www.upccodesearch.com/images/barcode/0841710106442.png,https://images-na.ssl-...</td>\n      <td>amazonbasics/hl002619,amazonbasicsaaaperformancealkalinebatteries36count/b00lh3dmuo,0841710106442,841710106442,amazonbasicsaaaperformancealkalinebatteries36count/b00qwo9p0o</td>\n      <td>...</td>\n      <td>NaN</td>\n      <td>NaN</td>\n      <td>NaN</td>\n      <td>NaN</td>\n      <td>5</td>\n      <td>https://www.amazon.com/product-reviews/B00QWO9P0O/</td>\n      <td>Seem to work as well as name brand batteries at a much better price</td>\n      <td>... as well as name brand batteries at a much better</td>\n      <td>Bymark sexson</td>\n      <td>https://www.barcodable.com/upc/841710106442,https://www.amazon.com/AmazonBasics-Performance-Alkaline-Batteries-Count/dp/B00LH3DMUO/,https://www.amazon.com/AmazonBasics-Performance-Alkaline-Batteries-Count/dp/B00LH3DMUO,https://www.amazon.com/AmazonBasics-Performance-Alkaline-Batteries-36-Pack/dp...</td>\n    </tr>\n    <tr>\n      <th>4</th>\n      <td>AVpgNzjwLJeJML43Kpxn</td>\n      <td>2015-10-30T08:59:32Z</td>\n      <td>2019-04-25T09:08:16Z</td>\n      <td>AmazonBasics AAA Performance Alkaline Batteries (36 Count)</td>\n      <td>B00QWO9P0O,B00LH3DMUO</td>\n      <td>Amazonbasics</td>\n      <td>AA,AAA,Health,Electronics,Health &amp; Household,Camcorder Batteries,Camera &amp; Photo,Batteries,Household Batteries,Robot Check,Accessories,Camera Batteries,Health and Beauty,Household Supplies,Batteries &amp; Chargers,Health, Household &amp; Baby Care,Health Personal Care</td>\n      <td>Health &amp; Beauty</td>\n      <td>https://images-na.ssl-images-amazon.com/images/I/81qmNyJo%2BkL._SL1500_.jpg,https://images-na.ssl-images-amazon.com/images/I/81ZTa1BrkzL._SL1500_.jpg,http://ecx.images-amazon.com/images/I/41pSoRu7UlL._SS40_.jpg,https://www.upccodesearch.com/images/barcode/0841710106442.png,https://images-na.ssl-...</td>\n      <td>amazonbasics/hl002619,amazonbasicsaaaperformancealkalinebatteries36count/b00lh3dmuo,0841710106442,841710106442,amazonbasicsaaaperformancealkalinebatteries36count/b00qwo9p0o</td>\n      <td>...</td>\n      <td>NaN</td>\n      <td>NaN</td>\n      <td>NaN</td>\n      <td>NaN</td>\n      <td>5</td>\n      <td>https://www.amazon.com/product-reviews/B00QWO9P0O/</td>\n      <td>These batteries are very long lasting the price is great.</td>\n      <td>... batteries are very long lasting the price is great.</td>\n      <td>Bylinda</td>\n      <td>https://www.barcodable.com/upc/841710106442,https://www.amazon.com/AmazonBasics-Performance-Alkaline-Batteries-Count/dp/B00LH3DMUO/,https://www.amazon.com/AmazonBasics-Performance-Alkaline-Batteries-Count/dp/B00LH3DMUO,https://www.amazon.com/AmazonBasics-Performance-Alkaline-Batteries-36-Pack/dp...</td>\n    </tr>\n  </tbody>\n</table>\n<p>5 rows × 24 columns</p>\n</div>"
     },
     "execution_count": 4,
     "metadata": {},
     "output_type": "execute_result"
    }
   ],
   "source": [
    "# Read in the data set of Amazon reviews\n",
    "amazon = pd.read_csv('data/Datafiniti_Amazon_Consumer_Reviews_of_Amazon_Products_May19.csv')\n",
    "\n",
    "# Look at the dataset\n",
    "amazon.head()"
   ]
  },
  {
   "cell_type": "code",
   "execution_count": 5,
   "metadata": {
    "pycharm": {
     "name": "#%%\n"
    }
   },
   "outputs": [
    {
     "data": {
      "text/plain": "Index(['id', 'dateAdded', 'dateUpdated', 'name', 'asins', 'brand',\n       'categories', 'primaryCategories', 'imageURLs', 'keys', 'manufacturer',\n       'manufacturerNumber', 'reviews.date', 'reviews.dateSeen',\n       'reviews.didPurchase', 'reviews.doRecommend', 'reviews.id',\n       'reviews.numHelpful', 'reviews.rating', 'reviews.sourceURLs',\n       'reviews.text', 'reviews.title', 'reviews.username', 'sourceURLs'],\n      dtype='object')"
     },
     "execution_count": 5,
     "metadata": {},
     "output_type": "execute_result"
    }
   ],
   "source": [
    "# Look at the keys (columns in the csv)\n",
    "amazon.keys()"
   ]
  },
  {
   "cell_type": "code",
   "execution_count": 6,
   "metadata": {
    "pycharm": {
     "name": "#%%\n"
    }
   },
   "outputs": [
    {
     "data": {
      "text/plain": "Amazon          16153\nAmazonbasics    12169\nAmazonBasics       10\nName: brand, dtype: int64"
     },
     "execution_count": 6,
     "metadata": {},
     "output_type": "execute_result"
    }
   ],
   "source": [
    "# Get the value counts on the brand column\n",
    "amazon['brand'].value_counts()\n",
    "\n",
    "# Found that their are some values with the same name but cased different, \n",
    "#   need to take care of the casing issue to group them together."
   ]
  },
  {
   "cell_type": "code",
   "execution_count": 7,
   "metadata": {
    "pycharm": {
     "name": "#%%\n"
    }
   },
   "outputs": [
    {
     "data": {
      "text/plain": "Electronics                    13995\nHealth & Beauty                12071\nToys & Games,Electronics        1676\nOffice Supplies,Electronics      386\nElectronics,Media                185\nOffice Supplies                    9\nAnimals & Pet Supplies             6\nHome & Garden                      2\nElectronics,Furniture              2\nName: primaryCategories, dtype: int64"
     },
     "execution_count": 7,
     "metadata": {},
     "output_type": "execute_result"
    }
   ],
   "source": [
    "# What are the primary categories?\n",
    "amazon['primaryCategories'].value_counts()\n",
    "\n",
    "# Looks like I can clean these up a little better by \n",
    "#   combining some of them together, which means that I\n",
    "#   can probably pass in few topics than the number of categories"
   ]
  },
  {
   "cell_type": "code",
   "execution_count": 8,
   "metadata": {
    "pycharm": {
     "name": "#%%\n"
    }
   },
   "outputs": [
    {
     "data": {
      "text/plain": "11774                                                                                                             It's a battery...\n6011                                                                                                                       Perfect!\n6145                                                                                        Good deal. Good battery. No complaints.\n18018    I would recommend the Fire Tablet to anyone. IT is very easy to set up, download apps and use. Movies are crisp and clear.\n13082                                           The best ebook reader in the market. The text is crisp and I love the backlighting.\nName: reviews.text, dtype: object"
     },
     "execution_count": 8,
     "metadata": {},
     "output_type": "execute_result"
    }
   ],
   "source": [
    "# Look at a few sample reviews to see what I am working with\n",
    "amazon['reviews.text'].sample(5)\n",
    "\n",
    "# Text seams to be cleaned already, \n",
    "#   so no real need for cleaning before tokenizing/lemmatizing."
   ]
  },
  {
   "cell_type": "code",
   "execution_count": 9,
   "metadata": {
    "pycharm": {
     "name": "#%%\n"
    }
   },
   "outputs": [
    {
     "data": {
      "text/plain": "                     id  \\\n0  AVpgNzjwLJeJML43Kpxn   \n1  AVpgNzjwLJeJML43Kpxn   \n2  AVpgNzjwLJeJML43Kpxn   \n3  AVpgNzjwLJeJML43Kpxn   \n4  AVpgNzjwLJeJML43Kpxn   \n\n                                                         name  \\\n0  AmazonBasics AAA Performance Alkaline Batteries (36 Count)   \n1  AmazonBasics AAA Performance Alkaline Batteries (36 Count)   \n2  AmazonBasics AAA Performance Alkaline Batteries (36 Count)   \n3  AmazonBasics AAA Performance Alkaline Batteries (36 Count)   \n4  AmazonBasics AAA Performance Alkaline Batteries (36 Count)   \n\n  primaryCategories  \\\n0   Health & Beauty   \n1   Health & Beauty   \n2   Health & Beauty   \n3   Health & Beauty   \n4   Health & Beauty   \n\n                                                                                                                                  reviews.text  \\\n0  I order 3 of them and one of the item is bad quality. Is missing backup spring so I have to put a pcs of aluminum to make the battery work.   \n1                                                                          Bulk is always the less expensive way to go for products like these   \n2                                                                                     Well they are not Duracell but for the price i am happy.   \n3                                                                          Seem to work as well as name brand batteries at a much better price   \n4                                                                                    These batteries are very long lasting the price is great.   \n\n   reviews.rating  \n0               3  \n1               4  \n2               5  \n3               5  \n4               5  ",
      "text/html": "<div>\n<style scoped>\n    .dataframe tbody tr th:only-of-type {\n        vertical-align: middle;\n    }\n\n    .dataframe tbody tr th {\n        vertical-align: top;\n    }\n\n    .dataframe thead th {\n        text-align: right;\n    }\n</style>\n<table border=\"1\" class=\"dataframe\">\n  <thead>\n    <tr style=\"text-align: right;\">\n      <th></th>\n      <th>id</th>\n      <th>name</th>\n      <th>primaryCategories</th>\n      <th>reviews.text</th>\n      <th>reviews.rating</th>\n    </tr>\n  </thead>\n  <tbody>\n    <tr>\n      <th>0</th>\n      <td>AVpgNzjwLJeJML43Kpxn</td>\n      <td>AmazonBasics AAA Performance Alkaline Batteries (36 Count)</td>\n      <td>Health &amp; Beauty</td>\n      <td>I order 3 of them and one of the item is bad quality. Is missing backup spring so I have to put a pcs of aluminum to make the battery work.</td>\n      <td>3</td>\n    </tr>\n    <tr>\n      <th>1</th>\n      <td>AVpgNzjwLJeJML43Kpxn</td>\n      <td>AmazonBasics AAA Performance Alkaline Batteries (36 Count)</td>\n      <td>Health &amp; Beauty</td>\n      <td>Bulk is always the less expensive way to go for products like these</td>\n      <td>4</td>\n    </tr>\n    <tr>\n      <th>2</th>\n      <td>AVpgNzjwLJeJML43Kpxn</td>\n      <td>AmazonBasics AAA Performance Alkaline Batteries (36 Count)</td>\n      <td>Health &amp; Beauty</td>\n      <td>Well they are not Duracell but for the price i am happy.</td>\n      <td>5</td>\n    </tr>\n    <tr>\n      <th>3</th>\n      <td>AVpgNzjwLJeJML43Kpxn</td>\n      <td>AmazonBasics AAA Performance Alkaline Batteries (36 Count)</td>\n      <td>Health &amp; Beauty</td>\n      <td>Seem to work as well as name brand batteries at a much better price</td>\n      <td>5</td>\n    </tr>\n    <tr>\n      <th>4</th>\n      <td>AVpgNzjwLJeJML43Kpxn</td>\n      <td>AmazonBasics AAA Performance Alkaline Batteries (36 Count)</td>\n      <td>Health &amp; Beauty</td>\n      <td>These batteries are very long lasting the price is great.</td>\n      <td>5</td>\n    </tr>\n  </tbody>\n</table>\n</div>"
     },
     "execution_count": 9,
     "metadata": {},
     "output_type": "execute_result"
    }
   ],
   "source": [
    "# Pull out just the columns that will be useful for my needs\n",
    "amazon = amazon[['id', 'name', 'primaryCategories', 'reviews.text', 'reviews.rating']]\n",
    "amazon.head()"
   ]
  },
  {
   "cell_type": "code",
   "execution_count": 10,
   "metadata": {
    "pycharm": {
     "name": "#%%\n"
    }
   },
   "outputs": [
    {
     "data": {
      "text/plain": "                         id  \\\n7239   AVpgNzjwLJeJML43Kpxn   \n8591   AVpe7xlELJeJML43ypLz   \n910    AVpgNzjwLJeJML43Kpxn   \n27485  AVqkIhxunnc1JgDc3kg_   \n6779   AVpgNzjwLJeJML43Kpxn   \n\n                                                                                    name  \\\n7239                          AmazonBasics AAA Performance Alkaline Batteries (36 Count)   \n8591      AmazonBasics AA Performance Alkaline Batteries (48 Count) - Packaging May Vary   \n910                           AmazonBasics AAA Performance Alkaline Batteries (36 Count)   \n27485  Fire HD 8 Tablet with Alexa, 8 HD Display, 16 GB, Tangerine - with Special Offers   \n6779                          AmazonBasics AAA Performance Alkaline Batteries (36 Count)   \n\n      primaryCategories  \\\n7239    Health & Beauty   \n8591    Health & Beauty   \n910     Health & Beauty   \n27485       Electronics   \n6779    Health & Beauty   \n\n                                                                                                                                                                                                                                                                                                      reviews.text  \\\n7239   The best batteries you can get for the price, i have been using it in my xbox controllers so far i am satisfied with the results.Update: my controller batteries just died after like one month of use, i was rarely using my controllers(playing games). So, don't expect longer life from thess batter...   \n8591                                                                                                                                                                                                                                                                    Batteries were packaged good and seem fine   \n910                                                                                  These batteries are usually a good buy for the money. I have had leakage on one occasion and dead cells a couple of times, but overall I have been satisfied. I think these batteries are as good as any other on the market.   \n27485                                                                                                                                                                                                                                                    Good tablet. Gave as gift and person enjoys it. Recommend   \n6779                                                                                                                                                                                                                                                                                                  packed in 4.   \n\n       reviews.rating  \n7239                5  \n8591                5  \n910                 4  \n27485               5  \n6779                5  ",
      "text/html": "<div>\n<style scoped>\n    .dataframe tbody tr th:only-of-type {\n        vertical-align: middle;\n    }\n\n    .dataframe tbody tr th {\n        vertical-align: top;\n    }\n\n    .dataframe thead th {\n        text-align: right;\n    }\n</style>\n<table border=\"1\" class=\"dataframe\">\n  <thead>\n    <tr style=\"text-align: right;\">\n      <th></th>\n      <th>id</th>\n      <th>name</th>\n      <th>primaryCategories</th>\n      <th>reviews.text</th>\n      <th>reviews.rating</th>\n    </tr>\n  </thead>\n  <tbody>\n    <tr>\n      <th>7239</th>\n      <td>AVpgNzjwLJeJML43Kpxn</td>\n      <td>AmazonBasics AAA Performance Alkaline Batteries (36 Count)</td>\n      <td>Health &amp; Beauty</td>\n      <td>The best batteries you can get for the price, i have been using it in my xbox controllers so far i am satisfied with the results.Update: my controller batteries just died after like one month of use, i was rarely using my controllers(playing games). So, don't expect longer life from thess batter...</td>\n      <td>5</td>\n    </tr>\n    <tr>\n      <th>8591</th>\n      <td>AVpe7xlELJeJML43ypLz</td>\n      <td>AmazonBasics AA Performance Alkaline Batteries (48 Count) - Packaging May Vary</td>\n      <td>Health &amp; Beauty</td>\n      <td>Batteries were packaged good and seem fine</td>\n      <td>5</td>\n    </tr>\n    <tr>\n      <th>910</th>\n      <td>AVpgNzjwLJeJML43Kpxn</td>\n      <td>AmazonBasics AAA Performance Alkaline Batteries (36 Count)</td>\n      <td>Health &amp; Beauty</td>\n      <td>These batteries are usually a good buy for the money. I have had leakage on one occasion and dead cells a couple of times, but overall I have been satisfied. I think these batteries are as good as any other on the market.</td>\n      <td>4</td>\n    </tr>\n    <tr>\n      <th>27485</th>\n      <td>AVqkIhxunnc1JgDc3kg_</td>\n      <td>Fire HD 8 Tablet with Alexa, 8 HD Display, 16 GB, Tangerine - with Special Offers</td>\n      <td>Electronics</td>\n      <td>Good tablet. Gave as gift and person enjoys it. Recommend</td>\n      <td>5</td>\n    </tr>\n    <tr>\n      <th>6779</th>\n      <td>AVpgNzjwLJeJML43Kpxn</td>\n      <td>AmazonBasics AAA Performance Alkaline Batteries (36 Count)</td>\n      <td>Health &amp; Beauty</td>\n      <td>packed in 4.</td>\n      <td>5</td>\n    </tr>\n  </tbody>\n</table>\n</div>"
     },
     "execution_count": 10,
     "metadata": {},
     "output_type": "execute_result"
    }
   ],
   "source": [
    "# Look at a sample of the new dataset\n",
    "amazon.sample(5)"
   ]
  },
  {
   "cell_type": "code",
   "execution_count": 11,
   "metadata": {
    "pycharm": {
     "name": "#%%\n"
    }
   },
   "outputs": [],
   "source": [
    "# Load the spacy vocab library\n",
    "nlp = spacy.load('en_core_web_md')"
   ]
  },
  {
   "cell_type": "code",
   "execution_count": 12,
   "metadata": {
    "pycharm": {
     "name": "#%%\n"
    }
   },
   "outputs": [
    {
     "name": "stderr",
     "output_type": "stream",
     "text": [
      "100%|██████████| 28332/28332 [03:49<00:00, 123.30it/s]\n"
     ]
    }
   ],
   "source": [
    "# Create a 'lemmas' column\n",
    "def get_lemmas(x):\n",
    "    lemmas = []\n",
    "    for token in nlp(x):\n",
    "        if (token.is_stop == False) and (token.is_punct == False) and (token.is_space == False):\n",
    "            lemmas.append(token.lemma_)\n",
    "    return lemmas\n",
    "\n",
    "amazon['lemmas'] = amazon['reviews.text'].progress_apply(get_lemmas)"
   ]
  },
  {
   "cell_type": "code",
   "execution_count": 13,
   "metadata": {
    "pycharm": {
     "name": "#%%\n"
    }
   },
   "outputs": [
    {
     "data": {
      "text/plain": "                     id  \\\n0  AVpgNzjwLJeJML43Kpxn   \n1  AVpgNzjwLJeJML43Kpxn   \n2  AVpgNzjwLJeJML43Kpxn   \n3  AVpgNzjwLJeJML43Kpxn   \n4  AVpgNzjwLJeJML43Kpxn   \n\n                                                         name  \\\n0  AmazonBasics AAA Performance Alkaline Batteries (36 Count)   \n1  AmazonBasics AAA Performance Alkaline Batteries (36 Count)   \n2  AmazonBasics AAA Performance Alkaline Batteries (36 Count)   \n3  AmazonBasics AAA Performance Alkaline Batteries (36 Count)   \n4  AmazonBasics AAA Performance Alkaline Batteries (36 Count)   \n\n  primaryCategories  \\\n0   Health & Beauty   \n1   Health & Beauty   \n2   Health & Beauty   \n3   Health & Beauty   \n4   Health & Beauty   \n\n                                                                                                                                  reviews.text  \\\n0  I order 3 of them and one of the item is bad quality. Is missing backup spring so I have to put a pcs of aluminum to make the battery work.   \n1                                                                          Bulk is always the less expensive way to go for products like these   \n2                                                                                     Well they are not Duracell but for the price i am happy.   \n3                                                                          Seem to work as well as name brand batteries at a much better price   \n4                                                                                    These batteries are very long lasting the price is great.   \n\n   reviews.rating  \\\n0               3   \n1               4   \n2               5   \n3               5   \n4               5   \n\n                                                                              lemmas  \n0  [order, 3, item, bad, quality, miss, backup, spring, pc, aluminum, battery, work]  \n1                                              [bulk, expensive, way, product, like]  \n2                                                           [Duracell, price, happy]  \n3                                                [work, brand, battery, well, price]  \n4                                                [battery, long, last, price, great]  ",
      "text/html": "<div>\n<style scoped>\n    .dataframe tbody tr th:only-of-type {\n        vertical-align: middle;\n    }\n\n    .dataframe tbody tr th {\n        vertical-align: top;\n    }\n\n    .dataframe thead th {\n        text-align: right;\n    }\n</style>\n<table border=\"1\" class=\"dataframe\">\n  <thead>\n    <tr style=\"text-align: right;\">\n      <th></th>\n      <th>id</th>\n      <th>name</th>\n      <th>primaryCategories</th>\n      <th>reviews.text</th>\n      <th>reviews.rating</th>\n      <th>lemmas</th>\n    </tr>\n  </thead>\n  <tbody>\n    <tr>\n      <th>0</th>\n      <td>AVpgNzjwLJeJML43Kpxn</td>\n      <td>AmazonBasics AAA Performance Alkaline Batteries (36 Count)</td>\n      <td>Health &amp; Beauty</td>\n      <td>I order 3 of them and one of the item is bad quality. Is missing backup spring so I have to put a pcs of aluminum to make the battery work.</td>\n      <td>3</td>\n      <td>[order, 3, item, bad, quality, miss, backup, spring, pc, aluminum, battery, work]</td>\n    </tr>\n    <tr>\n      <th>1</th>\n      <td>AVpgNzjwLJeJML43Kpxn</td>\n      <td>AmazonBasics AAA Performance Alkaline Batteries (36 Count)</td>\n      <td>Health &amp; Beauty</td>\n      <td>Bulk is always the less expensive way to go for products like these</td>\n      <td>4</td>\n      <td>[bulk, expensive, way, product, like]</td>\n    </tr>\n    <tr>\n      <th>2</th>\n      <td>AVpgNzjwLJeJML43Kpxn</td>\n      <td>AmazonBasics AAA Performance Alkaline Batteries (36 Count)</td>\n      <td>Health &amp; Beauty</td>\n      <td>Well they are not Duracell but for the price i am happy.</td>\n      <td>5</td>\n      <td>[Duracell, price, happy]</td>\n    </tr>\n    <tr>\n      <th>3</th>\n      <td>AVpgNzjwLJeJML43Kpxn</td>\n      <td>AmazonBasics AAA Performance Alkaline Batteries (36 Count)</td>\n      <td>Health &amp; Beauty</td>\n      <td>Seem to work as well as name brand batteries at a much better price</td>\n      <td>5</td>\n      <td>[work, brand, battery, well, price]</td>\n    </tr>\n    <tr>\n      <th>4</th>\n      <td>AVpgNzjwLJeJML43Kpxn</td>\n      <td>AmazonBasics AAA Performance Alkaline Batteries (36 Count)</td>\n      <td>Health &amp; Beauty</td>\n      <td>These batteries are very long lasting the price is great.</td>\n      <td>5</td>\n      <td>[battery, long, last, price, great]</td>\n    </tr>\n  </tbody>\n</table>\n</div>"
     },
     "execution_count": 13,
     "metadata": {},
     "output_type": "execute_result"
    }
   ],
   "source": [
    "# Look at the first 5 rows to check my work\n",
    "amazon.head()"
   ]
  },
  {
   "cell_type": "code",
   "execution_count": 14,
   "metadata": {
    "pycharm": {
     "name": "#%%\n"
    }
   },
   "outputs": [],
   "source": [
    "# Create dictionary - Maps a number to a word\n",
    "id2word = corpora.Dictionary(amazon['lemmas'])"
   ]
  },
  {
   "cell_type": "code",
   "execution_count": 15,
   "metadata": {
    "pycharm": {
     "name": "#%%\n"
    }
   },
   "outputs": [
    {
     "data": {
      "text/plain": "9755"
     },
     "execution_count": 15,
     "metadata": {},
     "output_type": "execute_result"
    }
   ],
   "source": [
    "# Look at the amount of words now\n",
    "len(id2word.keys())"
   ]
  },
  {
   "cell_type": "code",
   "execution_count": 16,
   "metadata": {
    "pycharm": {
     "name": "#%%\n"
    },
    "scrolled": false
   },
   "outputs": [
    {
     "data": {
      "text/plain": "<Figure size 1008x432 with 1 Axes>",
      "image/png": "[encoded data removed]"
     },
     "metadata": {},
     "output_type": "display_data"
    }
   ],
   "source": [
    "# Look at the count of the top 30 ngrams\n",
    "plot_frequency_distribution_of_ngrams(amazon['reviews.text'],\n",
    "                                      ngram_range=(1, 2),\n",
    "                                      num_ngrams=30)"
   ]
  },
  {
   "cell_type": "code",
   "execution_count": 17,
   "metadata": {
    "pycharm": {
     "name": "#%%\n"
    }
   },
   "outputs": [],
   "source": [
    "# Remove extreme values from the dataset\n",
    "id2word.filter_extremes(no_below=3, no_above=0.80)"
   ]
  },
  {
   "cell_type": "code",
   "execution_count": 18,
   "metadata": {
    "pycharm": {
     "name": "#%%\n"
    }
   },
   "outputs": [
    {
     "data": {
      "text/plain": "4572"
     },
     "execution_count": 18,
     "metadata": {},
     "output_type": "execute_result"
    }
   ],
   "source": [
    "# Look at the amount of words now\n",
    "len(id2word.keys())"
   ]
  },
  {
   "cell_type": "code",
   "execution_count": 19,
   "metadata": {
    "pycharm": {
     "name": "#%%\n"
    }
   },
   "outputs": [],
   "source": [
    "corpus = [id2word.doc2bow(text) for text in amazon['lemmas']]"
   ]
  },
  {
   "cell_type": "code",
   "execution_count": 20,
   "metadata": {
    "pycharm": {
     "name": "#%%\n"
    }
   },
   "outputs": [
    {
     "data": {
      "text/plain": "'They seem to work okay so far and the price was great.'"
     },
     "execution_count": 20,
     "metadata": {},
     "output_type": "execute_result"
    }
   ],
   "source": [
    "# Look at a random review\n",
    "amazon['reviews.text'][33]"
   ]
  },
  {
   "cell_type": "code",
   "execution_count": 21,
   "metadata": {
    "pycharm": {
     "name": "#%%\n"
    }
   },
   "outputs": [
    {
     "data": {
      "text/plain": "[(11, 1), (19, 1), (22, 1), (177, 1), (178, 1)]"
     },
     "execution_count": 21,
     "metadata": {},
     "output_type": "execute_result"
    }
   ],
   "source": [
    "# Look at the corpus for the review above\n",
    "corpus[33]"
   ]
  },
  {
   "cell_type": "code",
   "execution_count": 22,
   "metadata": {
    "pycharm": {
     "name": "#%%\n"
    }
   },
   "outputs": [
    {
     "data": {
      "text/plain": "[('work', 1), ('price', 1), ('great', 1), ('far', 1), ('okay', 1)]"
     },
     "execution_count": 22,
     "metadata": {},
     "output_type": "execute_result"
    }
   ],
   "source": [
    "# Human readable format of the corpus (term-frequency)\n",
    "[(id2word[word_id], word_count) for word_id, word_count in corpus[33]]"
   ]
  },
  {
   "cell_type": "code",
   "execution_count": 39,
   "metadata": {
    "pycharm": {
     "name": "#%%\n"
    }
   },
   "outputs": [
    {
     "name": "stdout",
     "output_type": "stream",
     "text": [
      "Wall time: 1min 33s\n"
     ]
    }
   ],
   "source": [
    "%%time  \n",
    "# If you have just 1 % in front it will only time what is on that line, 2 % in front gives time of whole cell\n",
    "# Train an LDA model\n",
    "lda_model = gensim.models.ldamodel.LdaModel(corpus=corpus,\n",
    "                                            id2word=id2word,\n",
    "                                            num_topics=7,\n",
    "                                            chunksize=100,\n",
    "                                            passes=10,\n",
    "                                            per_word_topics=True)"
   ]
  },
  {
   "cell_type": "code",
   "execution_count": 24,
   "metadata": {
    "pycharm": {
     "name": "#%%\n"
    }
   },
   "outputs": [],
   "source": [
    "lda_model.save('lda_model.model')"
   ]
  },
  {
   "cell_type": "code",
   "execution_count": 25,
   "metadata": {
    "pycharm": {
     "name": "#%%\n"
    }
   },
   "outputs": [],
   "source": [
    "lda =  models.LdaModel.load('lda_model.model')"
   ]
  },
  {
   "cell_type": "code",
   "execution_count": 26,
   "metadata": {
    "pycharm": {
     "name": "#%%\n"
    }
   },
   "outputs": [
    {
     "name": "stdout",
     "output_type": "stream",
     "text": [
      "[(0,\n",
      "  '0.061*\"tablet\" + 0.055*\"love\" + 0.045*\"use\" + 0.035*\"buy\" + 0.026*\"old\" + '\n",
      "  '0.022*\"kid\" + 0.020*\"book\" + 0.019*\"game\" + 0.018*\"year\" + 0.017*\"like\"'),\n",
      " (1,\n",
      "  '0.083*\"read\" + 0.038*\"screen\" + 0.034*\"app\" + 0.031*\"movie\" + 0.030*\"enjoy\" '\n",
      "  '+ 0.029*\"download\" + 0.024*\"little\" + 0.024*\"watch\" + 0.022*\"internet\" + '\n",
      "  '0.016*\"overall\"'),\n",
      " (2,\n",
      "  '0.124*\"tablet\" + 0.054*\"perfect\" + 0.044*\"fast\" + 0.038*\"look\" + '\n",
      "  '0.035*\"Amazon\" + 0.030*\"app\" + 0.028*\"life\" + 0.027*\"$\" + 0.026*\"web\" + '\n",
      "  '0.020*\"value\"'),\n",
      " (3,\n",
      "  '0.318*\"great\" + 0.108*\"price\" + 0.077*\"product\" + 0.065*\"work\" + '\n",
      "  '0.033*\"quality\" + 0.023*\"money\" + 0.019*\"buy\" + 0.017*\"beat\" + '\n",
      "  '0.015*\"check\" + 0.014*\"ad\"'),\n",
      " (4,\n",
      "  '0.281*\"good\" + 0.207*\"easy\" + 0.051*\"price\" + 0.044*\"work\" + 0.022*\"issue\" '\n",
      "  '+ 0.022*\"sale\" + 0.021*\"Friday\" + 0.021*\"Prime\" + 0.017*\"Black\" + '\n",
      "  '0.017*\"fine\"'),\n",
      " (5,\n",
      "  '0.084*\"need\" + 0.071*\"nice\" + 0.067*\"size\" + 0.050*\"son\" + 0.044*\"far\" + '\n",
      "  '0.036*\"big\" + 0.032*\"case\" + 0.028*\"like\" + 0.028*\"think\" + 0.026*\"user\"'),\n",
      " (6,\n",
      "  '0.067*\"purchase\" + 0.054*\"Kindle\" + 0.054*\"Fire\" + 0.043*\"Amazon\" + '\n",
      "  '0.030*\"screen\" + 0.022*\"set\" + 0.021*\"store\" + 0.017*\"access\" + '\n",
      "  '0.013*\"problem\" + 0.013*\"HD\"')]\n"
     ]
    }
   ],
   "source": [
    "# View the top 10 words per topic\n",
    "pprint(lda.print_topics())"
   ]
  },
  {
   "cell_type": "code",
   "execution_count": null,
   "metadata": {
    "pycharm": {
     "name": "#%%\n"
    }
   },
   "outputs": [],
   "source": [
    "# %%time\n",
    "# # Compute Perplexity\n",
    "# print('\\nPerplexity: ', lda.log_perplexity(corpus))  # a measure of how good the model is. lower the better.\n",
    "\n",
    "# # Compute Coherence Score\n",
    "# coherence_model_lda = CoherenceModel(model=lda,\n",
    "#                                      corpus=corpus\n",
    "#                                      texts=amazon['lemmas'],\n",
    "#                                      dictionary=id2word,\n",
    "#                                      coherence='u_mass')\n",
    "# coherence_lda = coherence_model_lda.get_coherence()\n",
    "# print('\\nCoherence Score: ', coherence_lda)  # Above .7 great model, below .3 bad model\n",
    "\n",
    "# ^--- Having problems with the coherence taking too long to run.\n",
    "#      Therefore commentting this out since I am running out of time to turn in assignment.\n",
    "#      Need to circle back around to debug this issue."
   ]
  },
  {
   "cell_type": "code",
   "execution_count": 27,
   "metadata": {
    "pycharm": {
     "name": "#%%\n"
    }
   },
   "outputs": [
    {
     "data": {
      "text/plain": "<IPython.core.display.HTML object>",
      "text/html": "\n<link rel=\"stylesheet\" type=\"text/css\" href=\"https://cdn.rawgit.com/bmabey/pyLDAvis/files/ldavis.v1.0.0.css\">\n\n\n<div id=\"ldavis_el1894428335497288961889670663\"></div>\n<script type=\"text/javascript\">\n\nvar ldavis_el1894428335497288961889670663_data = {\"mdsDat\": {\"x\": [0.10437421452213196, 0.12070501242163192, -0.2809828333435841, 0.1953801502225722, -0.024874060286702398, 0.18480844673656333, -0.29941093027261306], \"y\": [-0.20261944525935005, 0.02760987260082094, -0.07454989998189904, 0.1620256366630073, 0.3301469151412018, -0.2049012453689303, -0.03771183379485059], \"topics\": [1, 2, 3, 4, 5, 6, 7], \"cluster\": [1, 1, 1, 1, 1, 1, 1], \"Freq\": [38.595818031629456, 13.739325845679328, 13.499442156994107, 10.832985308207158, 8.120546785608735, 7.936508019730856, 7.275373852150363]}, \"tinfo\": {\"Term\": [\"great\", \"good\", \"tablet\", \"easy\", \"price\", \"product\", \"love\", \"read\", \"purchase\", \"work\", \"need\", \"use\", \"Kindle\", \"Fire\", \"nice\", \"size\", \"Amazon\", \"screen\", \"app\", \"like\", \"perfect\", \"son\", \"buy\", \"old\", \"far\", \"quality\", \"fast\", \"kid\", \"look\", \"movie\", \"love\", \"use\", \"old\", \"kid\", \"book\", \"game\", \"year\", \"kindle\", \"play\", \"fire\", \"want\", \"gift\", \"recommend\", \"8\", \"device\", \"new\", \"lot\", \"Christmas\", \"thing\", \"daughter\", \"happy\", \"video\", \"child\", \"light\", \"7\", \"amazon\", \"charge\", \"2\", \"come\", \"able\", \"get\", \"buy\", \"tablet\", \"time\", \"like\", \"feature\", \"app\", \"purchase\", \"Kindle\", \"Fire\", \"set\", \"store\", \"access\", \"problem\", \"HD\", \"upgrade\", \"know\", \"add\", \"travel\", \"e\", \"load\", \"worth\", \"basic\", \"clear\", \"show\", \"keep\", \"display\", \"age\", \"wish\", \"account\", \"start\", \"return\", \"Tablet\", \"sd\", \"expensive\", \"especially\", \"carry\", \"HD8\", \"Amazon\", \"screen\", \"well\", \"great\", \"product\", \"quality\", \"money\", \"beat\", \"check\", \"ad\", \"absolutely\", \"present\", \"cost\", \"durable\", \"thank\", \"point\", \"tell\", \"performance\", \"glad\", \"reason\", \"extremely\", \"difference\", \"brand\", \"perfectly\", \"live\", \"advertise\", \"Ipad\", \"surprised\", \"consider\", \"save\", \"solid\", \"reasonable\", \"general\", \"price\", \"high\", \"work\", \"low\", \"battery\", \"buy\", \"Amazon\", \"long\", \"time\", \"read\", \"movie\", \"enjoy\", \"download\", \"little\", \"internet\", \"overall\", \"learn\", \"email\", \"iPad\", \"excellent\", \"item\", \"deal\", \"available\", \"try\", \"surf\", \"computer\", \"large\", \"amazing\", \"mom\", \"library\", \"say\", \"husband\", \"etc\", \"decide\", \"member\", \"review\", \"content\", \"inexpensive\", \"wifi\", \"watch\", \"screen\", \"app\", \"find\", \"need\", \"nice\", \"size\", \"son\", \"far\", \"big\", \"case\", \"think\", \"user\", \"pay\", \"friendly\", \"make\", \"5\", \"model\", \"fit\", \"plus\", \"complaint\", \"star\", \"graphic\", \"ok\", \"satisfied\", \"freeze\", \"open\", \"ask\", \"annoying\", \"wrong\", \"button\", \"design\", \"require\", \"benefit\", \"view\", \"like\", \"browser\", \"work\", \"perfect\", \"fast\", \"look\", \"life\", \"$\", \"web\", \"value\", \"version\", \"Google\", \"phone\", \"granddaughter\", \"pleased\", \"option\", \"black\", \"10\", \"GB\", \"inch\", \"google\", \"Android\", \"android\", \"speaker\", \"100\", \"Play\", \"purpose\", \"experience\", \"lightweight\", \"responsive\", \"browsing\", \"grandkid\", \"beginner\", \"tablet\", \"Amazon\", \"app\", \"good\", \"easy\", \"issue\", \"sale\", \"Friday\", \"Prime\", \"Black\", \"fine\", \"navigate\", \"online\", \"fact\", \"see\", \"setup\", \"powerful\", \"Buy\", \"micro\", \"expandable\", \"news\", \"Best\", \"64\", \"cable\", \"subscription\", \"okay\", \"selection\", \"loaded\", \"normal\", \"explain\", \"trouble\", \"fully\", \"Mother\", \"resolution\", \"work\", \"price\", \"cheap\", \"buy\", \"battery\"], \"Freq\": [13865.0, 6596.0, 10768.0, 4854.0, 5924.0, 3332.0, 6835.0, 2888.0, 2958.0, 4132.0, 2193.0, 5653.0, 2410.0, 2385.0, 1850.0, 1758.0, 3222.0, 2666.0, 3028.0, 2919.0, 1393.0, 1315.0, 5587.0, 3247.0, 1157.0, 1436.0, 1121.0, 2794.0, 981.0, 1099.0, 6834.947360995638, 5652.429736638249, 3246.265309291947, 2794.1121682922726, 2543.4915620108764, 2321.2834823416133, 2281.1031656940672, 1986.5042441249545, 1905.1685461566888, 1816.2310538529496, 1710.805577343255, 1514.5211166358242, 1312.739772311288, 1250.2341847633402, 1243.2486173883806, 1194.7528889186328, 1142.0265855547768, 1131.4641192223744, 1016.664572682303, 985.8400073709174, 936.9201083771735, 920.9748444726602, 864.2961089199216, 841.2865536317582, 826.7742637852824, 730.0936449419557, 704.6387758580831, 697.0682856203216, 665.5901023428221, 629.1988568705441, 2040.6348261239452, 4416.6663927771915, 7592.477772229937, 1453.8410217488902, 2177.7875853701544, 1053.3059031129683, 1068.8367935166582, 2957.4439224441617, 2409.7469631518343, 2384.9500108570014, 963.5722193605832, 910.1781746502899, 762.3020658786538, 595.5016522221389, 576.1235955670948, 556.4651323697093, 507.974982881875, 502.4345392192435, 482.3329313287287, 444.9917278044149, 441.890292769936, 433.4205623931239, 425.53640870496946, 422.8239686162616, 411.2511522980389, 403.3724878754322, 389.4499769940594, 362.1986626366099, 355.3160729112168, 353.10006053685737, 347.8124532708087, 341.3051146909806, 340.8921815947006, 332.5950329012563, 324.46961980137723, 309.8931640480395, 302.99022689471377, 415.06528385491293, 1889.4489505693195, 1348.5690812698717, 533.6185202512598, 13864.981482110534, 3331.426940974302, 1436.1942848931267, 981.3808713843264, 735.5708660193776, 666.5224961321126, 600.4246135543394, 590.6309243431451, 497.72682764227847, 482.1312730644767, 457.44049808191687, 454.41669263482413, 403.10595917408256, 348.9892254194861, 344.20152670291145, 301.43849991085625, 257.5163531043578, 222.110728426825, 218.3154807282669, 216.51628688423764, 198.4231710361385, 180.12080652099274, 153.1249303793377, 152.7596373574858, 150.41687346592556, 149.0870698003972, 140.97759918454145, 138.09903096633002, 134.8010732685457, 137.0319641445604, 4723.442181714856, 372.6568717451494, 2843.1706431192456, 549.2281963711956, 570.0695663693755, 826.8285893416734, 428.8398549826967, 241.66799693927527, 187.24637246700635, 2888.061843909585, 1098.4662966466337, 1053.5394146555207, 1029.5974241804952, 854.5650869174261, 771.2535830287934, 567.6517712810042, 542.6528139942004, 536.8665064571834, 479.62352045272894, 468.9008720091395, 445.7182835513449, 444.3539567784444, 408.77573145977203, 397.66700375956503, 379.757046080046, 377.6542093063297, 372.54334521590357, 349.6954195257299, 348.47740195189823, 320.72626319426513, 319.18048177412095, 305.3407574982346, 297.7169613212218, 271.5785593167143, 270.5687785233189, 266.4629928954907, 252.54049783494432, 252.47606451329034, 248.1534184533904, 853.0727070532588, 1316.9016353016177, 1182.9244533240542, 392.5015665982229, 2192.5624303118366, 1849.261240460091, 1758.1037143293806, 1314.9682590963816, 1156.6648725260898, 930.3923778856051, 842.2428231557305, 730.6363215660685, 682.0837386550177, 594.8783768488847, 544.3383685804453, 479.920631941297, 475.6468087552394, 471.85657158996037, 288.35875339817943, 271.6622288481413, 266.386984489515, 245.75973791273375, 234.57881148760174, 232.0063455967016, 229.930516499437, 197.75515329485174, 184.582886280474, 184.57057952363974, 179.44979777011685, 176.6793504352781, 172.34565225487017, 147.22256079267115, 142.88978958304557, 129.5202973377359, 298.1964991596659, 740.8551498949785, 170.97873626040248, 259.6081935218941, 1392.943507891995, 1121.081892744393, 981.1121135172572, 721.0699238466802, 696.5929621950327, 661.0347914753148, 506.67489427302854, 473.71092339477775, 446.4655786861928, 425.3010067450008, 354.0931392496944, 328.17843891628684, 312.63407700549675, 301.35529658420944, 300.2660196978661, 293.68470263690625, 282.8063814915915, 264.04461288847267, 248.54299810406343, 230.98356097362253, 197.05084198617192, 195.14137100316577, 191.42992864275922, 186.53764757846025, 180.07906459815212, 176.89095864108387, 172.22587152036886, 172.093410263162, 169.35710543184942, 168.40505802651444, 3175.679393654571, 903.607305828515, 775.8566722796879, 6595.835844526058, 4853.228895124715, 519.7850271392424, 516.604500394268, 497.5732238951527, 491.6074414644475, 408.76819123198317, 396.8559899754876, 386.44186734483054, 350.8397160555201, 328.48493684827815, 179.3113962385297, 166.6929369971294, 164.18651940768083, 162.0735589054579, 150.2110342561536, 149.7904222263696, 117.79196675671041, 107.7983140977877, 101.49009527474816, 88.55537110476693, 86.07447479030628, 85.46761919372425, 84.94709664490165, 77.83764310325681, 76.83128748856994, 78.67863768443698, 69.45592859692773, 61.27429738969052, 60.896138861652666, 270.210408262987, 1029.1701811629569, 1200.1256355036178, 233.7157390306604, 343.27090688294817, 192.14011232088177], \"Total\": [13865.0, 6596.0, 10768.0, 4854.0, 5924.0, 3332.0, 6835.0, 2888.0, 2958.0, 4132.0, 2193.0, 5653.0, 2410.0, 2385.0, 1850.0, 1758.0, 3222.0, 2666.0, 3028.0, 2919.0, 1393.0, 1315.0, 5587.0, 3247.0, 1157.0, 1436.0, 1121.0, 2794.0, 981.0, 1099.0, 6835.773750392847, 5653.258361288302, 3247.0915530394614, 2794.9382705635744, 2544.319843011641, 2322.110095177454, 2281.928945733441, 1987.3311639823378, 1905.9954110725682, 1817.059144154717, 1711.6344254207554, 1515.3484736513367, 1313.570223657658, 1251.0638236778548, 1244.0773532287694, 1195.5806497059957, 1142.8539111240839, 1132.2908667368722, 1017.4924736056314, 986.6655644717097, 937.7483837418555, 921.803757828162, 865.1221307846802, 842.1143743750383, 827.6038607913638, 730.9221449491507, 705.4653232356973, 697.8937692844096, 666.4167039260219, 630.0265304467155, 2203.6003858023614, 5587.261035523547, 10768.870638610833, 1641.718178688273, 2919.3295702750743, 1175.0613944508361, 3028.217322842286, 2958.258851595518, 2410.5609925838558, 2385.7643377455997, 964.3862832228583, 910.9940235884577, 763.117306691933, 596.3167118435556, 576.938417671983, 557.2792555446981, 508.78951987164703, 503.2493149251853, 483.14780453459076, 445.8071362343419, 442.7050734962275, 434.23589810003523, 426.3519580876729, 423.639649693132, 412.0669822676651, 404.18785178006755, 390.2661713380529, 363.0117741466845, 356.1302477240446, 353.9138851286273, 348.62810327920977, 342.1194043761403, 341.7189239089301, 333.416826613147, 325.2856464062764, 310.70871881902565, 303.80546120693214, 416.2837754220926, 3222.400384281586, 2666.1736617173224, 1251.3714322425171, 13865.725633790202, 3332.1709263913012, 1436.9387818382825, 982.1250215416665, 736.315276920866, 667.2702656780995, 601.1714071055543, 591.3752172204727, 498.4713643044532, 482.8761585834924, 458.18382744746657, 455.16142249234696, 403.85240447675557, 349.73468500315045, 344.945817070869, 302.1831340115752, 258.2624175040506, 222.8550757190759, 219.06282351232187, 217.26115058426163, 199.17018064012098, 180.86543643928118, 153.87004968324925, 153.50509493968238, 151.16144011086504, 149.83292191787513, 141.72225077049885, 138.84382323572663, 135.54466753756924, 137.79393811310362, 5924.177203332886, 416.27504832832454, 4132.417617205346, 690.4741994471667, 1375.9627671287435, 5587.261035523547, 3222.400384281586, 732.377329113249, 1641.718178688273, 2888.888996607748, 1099.2937947863816, 1054.3666340438092, 1030.4246471523218, 855.3924448576856, 772.0810369096794, 568.4810735130033, 543.4793443294982, 537.6959060766748, 480.45159145107743, 469.7287002746885, 446.5461245997468, 445.18309400745375, 409.6035678151728, 398.4948569661584, 380.5856836332223, 378.4824650506204, 373.3712943708521, 350.5243222680105, 349.30528715130185, 321.55515221105935, 320.0091321707885, 306.17022322205236, 298.5441747824039, 272.4079043437251, 271.3997699961927, 267.2907889420437, 253.3671539475068, 253.3057052457869, 248.98162733166683, 1399.9000670959035, 2666.1736617173224, 3028.217322842286, 702.26342360124, 2193.3623207684577, 1850.0615058196602, 1758.904063114262, 1315.7673966202178, 1157.4651126141337, 931.1931088652299, 843.0411699238451, 731.436269890377, 682.8829814079953, 595.6803488714198, 545.1366886287731, 480.71951025967337, 476.4455989939197, 472.656776268579, 289.1572710687025, 272.46175516725737, 267.18630723915857, 246.55934802087117, 235.38060402045804, 232.80701977842077, 230.73071261721225, 198.55795591246437, 185.38225375262027, 185.37181639712554, 180.25021442636682, 177.4793417679124, 173.14463635895075, 148.02140311719052, 143.6931327104947, 130.32660307283913, 300.6062796980434, 2919.3295702750743, 206.29072568611528, 4132.417617205346, 1393.7691884220726, 1121.9087120899708, 981.9378905156425, 721.8964546522695, 697.4191106140125, 661.8620188102708, 507.5014816929949, 474.53716487052543, 447.29052499371875, 426.1279350714745, 354.91751603866885, 329.00430024603173, 313.459670290089, 302.1831349737537, 301.0922000984266, 294.5120493875794, 283.6325774847397, 264.8714448926755, 249.37363028942437, 231.80954373171937, 197.87688767527055, 195.96724236964081, 192.254644974874, 187.36432386466788, 180.9059511043754, 177.7174202467621, 173.05199440228674, 172.92169896271648, 170.1812709037498, 169.23080368040434, 10768.870638610833, 3222.400384281586, 3028.217322842286, 6596.640696561107, 4854.033119574038, 520.5897531506552, 517.4094178385099, 498.37814938938055, 492.4159026588373, 409.5730477055598, 397.66191921898326, 387.24571640232995, 351.6451403020556, 329.2900759382185, 180.1168046612899, 167.49661377568583, 164.99553521871937, 162.8772717128045, 151.01816584234462, 150.59583946356423, 118.59840397248249, 108.60409177216496, 102.34076615529523, 89.35916225077465, 86.87947502911761, 86.27390676978435, 85.75097901685632, 78.65061788300602, 77.63893136022325, 79.513332123083, 70.2612816747473, 62.079620487266496, 61.70281361602863, 443.00524778309773, 4132.417617205346, 5924.177203332886, 531.9209620496063, 5587.261035523547, 1375.9627671287435], \"Category\": [\"Default\", \"Default\", \"Default\", \"Default\", \"Default\", \"Default\", \"Default\", \"Default\", \"Default\", \"Default\", \"Default\", \"Default\", \"Default\", \"Default\", \"Default\", \"Default\", \"Default\", \"Default\", \"Default\", \"Default\", \"Default\", \"Default\", \"Default\", \"Default\", \"Default\", \"Default\", \"Default\", \"Default\", \"Default\", \"Default\", \"Topic1\", \"Topic1\", \"Topic1\", \"Topic1\", \"Topic1\", \"Topic1\", \"Topic1\", \"Topic1\", \"Topic1\", \"Topic1\", \"Topic1\", \"Topic1\", \"Topic1\", \"Topic1\", \"Topic1\", \"Topic1\", \"Topic1\", \"Topic1\", \"Topic1\", \"Topic1\", \"Topic1\", \"Topic1\", \"Topic1\", \"Topic1\", \"Topic1\", \"Topic1\", \"Topic1\", \"Topic1\", \"Topic1\", \"Topic1\", \"Topic1\", \"Topic1\", \"Topic1\", \"Topic1\", \"Topic1\", \"Topic1\", \"Topic1\", \"Topic2\", \"Topic2\", \"Topic2\", \"Topic2\", \"Topic2\", \"Topic2\", \"Topic2\", \"Topic2\", \"Topic2\", \"Topic2\", \"Topic2\", \"Topic2\", \"Topic2\", \"Topic2\", \"Topic2\", \"Topic2\", \"Topic2\", \"Topic2\", \"Topic2\", \"Topic2\", \"Topic2\", \"Topic2\", \"Topic2\", \"Topic2\", \"Topic2\", \"Topic2\", \"Topic2\", \"Topic2\", \"Topic2\", \"Topic2\", \"Topic2\", \"Topic2\", \"Topic2\", \"Topic2\", \"Topic3\", \"Topic3\", \"Topic3\", \"Topic3\", \"Topic3\", \"Topic3\", \"Topic3\", \"Topic3\", \"Topic3\", \"Topic3\", \"Topic3\", \"Topic3\", \"Topic3\", \"Topic3\", \"Topic3\", \"Topic3\", \"Topic3\", \"Topic3\", \"Topic3\", \"Topic3\", \"Topic3\", \"Topic3\", \"Topic3\", \"Topic3\", \"Topic3\", \"Topic3\", \"Topic3\", \"Topic3\", \"Topic3\", \"Topic3\", \"Topic3\", \"Topic3\", \"Topic3\", \"Topic3\", \"Topic3\", \"Topic3\", \"Topic3\", \"Topic3\", \"Topic3\", \"Topic4\", \"Topic4\", \"Topic4\", \"Topic4\", \"Topic4\", \"Topic4\", \"Topic4\", \"Topic4\", \"Topic4\", \"Topic4\", \"Topic4\", \"Topic4\", \"Topic4\", \"Topic4\", \"Topic4\", \"Topic4\", \"Topic4\", \"Topic4\", \"Topic4\", \"Topic4\", \"Topic4\", \"Topic4\", \"Topic4\", \"Topic4\", \"Topic4\", \"Topic4\", \"Topic4\", \"Topic4\", \"Topic4\", \"Topic4\", \"Topic4\", \"Topic4\", \"Topic4\", \"Topic4\", \"Topic5\", \"Topic5\", \"Topic5\", \"Topic5\", \"Topic5\", \"Topic5\", \"Topic5\", \"Topic5\", \"Topic5\", \"Topic5\", \"Topic5\", \"Topic5\", \"Topic5\", \"Topic5\", \"Topic5\", \"Topic5\", \"Topic5\", \"Topic5\", \"Topic5\", \"Topic5\", \"Topic5\", \"Topic5\", \"Topic5\", \"Topic5\", \"Topic5\", \"Topic5\", \"Topic5\", \"Topic5\", \"Topic5\", \"Topic5\", \"Topic5\", \"Topic5\", \"Topic5\", \"Topic5\", \"Topic6\", \"Topic6\", \"Topic6\", \"Topic6\", \"Topic6\", \"Topic6\", \"Topic6\", \"Topic6\", \"Topic6\", \"Topic6\", \"Topic6\", \"Topic6\", \"Topic6\", \"Topic6\", \"Topic6\", \"Topic6\", \"Topic6\", \"Topic6\", \"Topic6\", \"Topic6\", \"Topic6\", \"Topic6\", \"Topic6\", \"Topic6\", \"Topic6\", \"Topic6\", \"Topic6\", \"Topic6\", \"Topic6\", \"Topic6\", \"Topic6\", \"Topic6\", \"Topic6\", \"Topic7\", \"Topic7\", \"Topic7\", \"Topic7\", \"Topic7\", \"Topic7\", \"Topic7\", \"Topic7\", \"Topic7\", \"Topic7\", \"Topic7\", \"Topic7\", \"Topic7\", \"Topic7\", \"Topic7\", \"Topic7\", \"Topic7\", \"Topic7\", \"Topic7\", \"Topic7\", \"Topic7\", \"Topic7\", \"Topic7\", \"Topic7\", \"Topic7\", \"Topic7\", \"Topic7\", \"Topic7\", \"Topic7\", \"Topic7\", \"Topic7\", \"Topic7\", \"Topic7\", \"Topic7\", \"Topic7\", \"Topic7\"], \"logprob\": [30.0, 29.0, 28.0, 27.0, 26.0, 25.0, 24.0, 23.0, 22.0, 21.0, 20.0, 19.0, 18.0, 17.0, 16.0, 15.0, 14.0, 13.0, 12.0, 11.0, 10.0, 9.0, 8.0, 7.0, 6.0, 5.0, 4.0, 3.0, 2.0, 1.0, -2.9021999835968018, -3.092099905014038, -3.646699905395508, -3.7967000007629395, -3.890700101852417, -3.982100009918213, -3.9995999336242676, -4.137899875640869, -4.179699897766113, -4.227499961853027, -4.287300109863281, -4.40910005569458, -4.55210018157959, -4.600900173187256, -4.606500148773193, -4.646299839019775, -4.691400051116943, -4.700699806213379, -4.807700157165527, -4.838500022888184, -4.889400005340576, -4.906599998474121, -4.970099925994873, -4.997099876403809, -5.014500141143799, -5.138800144195557, -5.174300193786621, -5.185100078582764, -5.231299877166748, -5.287499904632568, -4.111000061035156, -3.3387999534606934, -2.797100067138672, -4.449999809265137, -4.045899868011475, -4.772299766540527, -4.757699966430664, -2.7070000171661377, -2.911799907684326, -2.9221999645233154, -3.8285000324249268, -3.885499954223633, -4.06279993057251, -4.309700012207031, -4.342800140380859, -4.377500057220459, -4.468699932098389, -4.479599952697754, -4.520500183105469, -4.60099983215332, -4.607999801635742, -4.627399921417236, -4.6458001136779785, -4.652100086212158, -4.679900169372559, -4.69920015335083, -4.734399795532227, -4.8069000244140625, -4.826099872589111, -4.832399845123291, -4.847400188446045, -4.866300106048584, -4.867499828338623, -4.892199993133545, -4.916900157928467, -4.962900161743164, -4.985400199890137, -4.6707000732421875, -3.155100107192993, -3.492300033569336, -4.419400215148926, -1.1444000005722046, -2.5703001022338867, -3.4117000102996826, -3.7925000190734863, -4.0808000564575195, -4.1793999671936035, -4.283899784088135, -4.300300121307373, -4.471399784088135, -4.503300189971924, -4.555799961090088, -4.5625, -4.682300090789795, -4.826499938964844, -4.8403000831604, -4.972899913787842, -5.13040018081665, -5.278299808502197, -5.295599937438965, -5.303800106048584, -5.39109992980957, -5.4878997802734375, -5.650199890136719, -5.652599811553955, -5.668099880218506, -5.677000045776367, -5.732900142669678, -5.753499984741211, -5.777699947357178, -5.761300086975098, -2.2211999893188477, -4.760799884796143, -2.728800058364868, -4.373000144958496, -4.335700035095215, -3.963900089263916, -4.6203999519348145, -5.193900108337402, -5.449100017547607, -2.4930999279022217, -3.4598000049591064, -3.501499891281128, -3.5244998931884766, -3.7107999324798584, -3.8134000301361084, -4.119900226593018, -4.164999961853027, -4.1757001876831055, -4.288400173187256, -4.310999870300293, -4.361800193786621, -4.364799976348877, -4.448299884796143, -4.475800037384033, -4.521900177001953, -4.527500152587891, -4.541100025177002, -4.604400157928467, -4.607900142669678, -4.690899848937988, -4.695700168609619, -4.739999771118164, -4.7652997970581055, -4.8572001457214355, -4.860899925231934, -4.876200199127197, -4.929900169372559, -4.930099964141846, -4.947400093078613, -3.712599992752075, -3.27839994430542, -3.385699987411499, -4.488900184631348, -2.4804000854492188, -2.650700092315674, -2.701200008392334, -2.9916999340057373, -3.1198999881744385, -3.337599992752075, -3.4372000694274902, -3.5792999267578125, -3.648099899291992, -3.784899950027466, -3.873699903488159, -3.9995999336242676, -4.008600234985352, -4.016600131988525, -4.508999824523926, -4.568699836730957, -4.5883002281188965, -4.668900012969971, -4.715400218963623, -4.726500034332275, -4.735499858856201, -4.886199951171875, -4.955100059509277, -4.9552001953125, -4.98330020904541, -4.998899936676025, -5.02370023727417, -5.181300163269043, -5.21120023727417, -5.3094000816345215, -4.475500106811523, -3.5653998851776123, -5.031700134277344, -4.614099979400635, -2.911099910736084, -3.1282999515533447, -3.2616000175476074, -3.5696001052856445, -3.604099988937378, -3.6565001010894775, -3.9223999977111816, -3.9897000789642334, -4.048999786376953, -4.097499847412109, -4.280799865722656, -4.356800079345703, -4.405300140380859, -4.441999912261963, -4.4456000328063965, -4.467800140380859, -4.5055999755859375, -4.57420015335083, -4.634699821472168, -4.708000183105469, -4.8668999671936035, -4.8765997886657715, -4.8958001136779785, -4.9217000007629395, -4.956900119781494, -4.974800109863281, -5.001500129699707, -5.002299785614014, -5.0183000564575195, -5.023900032043457, -2.0869998931884766, -3.343899965286255, -3.496299982070923, -1.2690999507904053, -1.5758999586105347, -3.8099000453948975, -3.8160998821258545, -3.853600025177002, -3.8657000064849854, -4.05019998550415, -4.079800128936768, -4.106400012969971, -4.203000068664551, -4.268799781799316, -4.874199867248535, -4.947199821472168, -4.962299823760986, -4.975299835205078, -5.051300048828125, -5.054100036621094, -5.294400215148926, -5.3831000328063965, -5.443399906158447, -5.579699993133545, -5.608099937438965, -5.615200042724609, -5.621300220489502, -5.708700180053711, -5.721700191497803, -5.697999954223633, -5.8225998878479, -5.947999954223633, -5.95419979095459, -4.464099884033203, -3.126800060272217, -2.9732000827789307, -4.6092000007629395, -4.224800109863281, -4.805099964141846], \"loglift\": [30.0, 29.0, 28.0, 27.0, 26.0, 25.0, 24.0, 23.0, 22.0, 21.0, 20.0, 19.0, 18.0, 17.0, 16.0, 15.0, 14.0, 13.0, 12.0, 11.0, 10.0, 9.0, 8.0, 7.0, 6.0, 5.0, 4.0, 3.0, 2.0, 1.0, 0.9519, 0.9519, 0.9518, 0.9517, 0.9517, 0.9517, 0.9517, 0.9516, 0.9516, 0.9516, 0.9515, 0.9515, 0.9514, 0.9514, 0.9514, 0.9513, 0.9513, 0.9513, 0.9512, 0.9512, 0.9511, 0.9511, 0.9511, 0.951, 0.951, 0.9509, 0.9509, 0.9508, 0.9508, 0.9507, 0.8752, 0.7169, 0.6025, 0.8305, 0.659, 0.8426, -0.0894, 1.9846, 1.9846, 1.9846, 1.9841, 1.984, 1.9838, 1.9835, 1.9835, 1.9834, 1.9833, 1.9833, 1.9832, 1.9831, 1.9831, 1.983, 1.983, 1.983, 1.9829, 1.9829, 1.9828, 1.9827, 1.9826, 1.9826, 1.9826, 1.9825, 1.9825, 1.9824, 1.9824, 1.9823, 1.9822, 1.982, 1.4511, 1.3033, 1.1326, 2.0025, 2.0023, 2.002, 2.0018, 2.0015, 2.0014, 2.0013, 2.0013, 2.001, 2.001, 2.0009, 2.0009, 2.0007, 2.0004, 2.0004, 2.0001, 1.9996, 1.9992, 1.9991, 1.9991, 1.9988, 1.9984, 1.9977, 1.9977, 1.9976, 1.9975, 1.9973, 1.9971, 1.997, 1.997, 1.776, 1.8918, 1.6286, 1.7737, 1.1214, 0.0919, -0.0143, 0.8938, -0.1686, 2.2223, 2.2218, 2.2218, 2.2218, 2.2216, 2.2215, 2.2211, 2.2211, 2.221, 2.2208, 2.2208, 2.2207, 2.2207, 2.2206, 2.2205, 2.2204, 2.2204, 2.2204, 2.2202, 2.2202, 2.22, 2.22, 2.2199, 2.2198, 2.2195, 2.2195, 2.2195, 2.2193, 2.2193, 2.2192, 1.7273, 1.5172, 1.2826, 1.6408, 2.5104, 2.5103, 2.5103, 2.5102, 2.5101, 2.5099, 2.5098, 2.5097, 2.5096, 2.5094, 2.5093, 2.5091, 2.5091, 2.5091, 2.508, 2.5078, 2.5078, 2.5075, 2.5074, 2.5073, 2.5073, 2.5067, 2.5065, 2.5064, 2.5063, 2.5063, 2.5061, 2.5054, 2.5052, 2.5046, 2.5027, 1.1395, 2.323, -0.2567, 2.5331, 2.533, 2.5329, 2.5326, 2.5325, 2.5324, 2.5321, 2.532, 2.5319, 2.5318, 2.5314, 2.5312, 2.5311, 2.531, 2.5309, 2.5309, 2.5308, 2.5306, 2.5304, 2.5301, 2.5295, 2.5295, 2.5294, 2.5293, 2.5291, 2.529, 2.5289, 2.5289, 2.5288, 2.5288, 1.3126, 1.2622, 1.1719, 2.6206, 2.6205, 2.6191, 2.6191, 2.6191, 2.619, 2.6187, 2.6186, 2.6186, 2.6184, 2.6182, 2.6162, 2.6159, 2.6158, 2.6157, 2.6153, 2.6153, 2.6139, 2.6132, 2.6123, 2.6116, 2.6114, 2.6113, 2.6113, 2.6103, 2.6102, 2.6101, 2.6091, 2.6076, 2.6075, 2.1263, 1.2306, 1.0241, 1.7983, -0.169, 0.652]}, \"token.table\": {\"Topic\": [6, 6, 6, 1, 5, 7, 1, 1, 2, 3, 6, 6, 7, 7, 7, 1, 2, 7, 6, 6, 2, 2, 6, 3, 2, 7, 6, 7, 2, 1, 3, 2, 2, 3, 2, 3, 2, 4, 1, 6, 5, 1, 4, 6, 5, 4, 2, 1, 2, 3, 7, 3, 6, 5, 5, 6, 1, 3, 4, 5, 6, 5, 1, 3, 7, 7, 2, 5, 1, 1, 7, 3, 1, 2, 1, 5, 4, 3, 4, 3, 1, 4, 4, 5, 1, 3, 2, 4, 3, 2, 7, 4, 4, 2, 4, 4, 7, 2, 6, 7, 3, 7, 5, 6, 1, 5, 1, 4, 7, 1, 5, 5, 5, 7, 1, 3, 1, 2, 1, 3, 7, 6, 6, 6, 5, 3, 1, 1, 3, 4, 4, 6, 4, 4, 7, 4, 2, 1, 1, 2, 4, 4, 4, 6, 1, 6, 1, 5, 4, 3, 2, 7, 1, 3, 6, 1, 1, 1, 3, 5, 4, 7, 5, 4, 3, 4, 7, 5, 1, 7, 5, 7, 5, 7, 1, 7, 5, 6, 4, 5, 6, 3, 3, 6, 1, 6, 5, 3, 7, 3, 3, 7, 2, 3, 2, 6, 3, 4, 3, 3, 1, 5, 2, 6, 7, 6, 2, 4, 7, 5, 3, 4, 2, 4, 2, 7, 7, 2, 7, 2, 5, 3, 5, 6, 5, 2, 2, 7, 4, 3, 1, 6, 3, 3, 1, 5, 1, 3, 2, 7, 4, 2, 1, 5, 6, 6, 1, 1, 5, 1, 1, 4, 6, 1, 2, 3, 4, 4, 2, 3, 5, 7, 2, 5, 1], \"Freq\": [0.99939905487585, 0.9963725393813937, 0.9950642650376416, 0.9987193333373272, 0.9990647431839844, 0.9868990021702524, 0.9992703504418329, 0.9991496647431405, 0.5862089668354917, 0.13313057002245948, 0.28053621282122, 0.9985017249458544, 0.9944376702359221, 0.9986008656849613, 0.994613909580022, 0.9988599512945006, 0.9996796256304502, 0.9992412400305996, 0.9982613635379464, 0.9971147946991793, 0.9983734526194847, 0.9969161050757, 0.0024022074821101204, 0.9967095884349582, 0.999767277166775, 0.9886096990584226, 0.9934740459714876, 0.9991553833728936, 0.9978961542407242, 0.99837065520719, 0.9993655175097863, 0.9985358650863568, 0.9974177754334358, 0.9980514590486027, 0.9975175029788744, 0.9943455553238574, 0.9972128338011547, 0.9985041772148137, 0.9987383814329297, 0.9965077204385671, 0.9930640058856766, 0.3530129729911974, 0.39065888404919225, 0.25625637702635096, 0.9979942129048949, 0.9985264585990004, 0.9991744893368109, 0.2645420419039158, 0.181690962846096, 0.41425539528909894, 0.13953865946580174, 0.9995718180367187, 0.9927270706417685, 0.9974939646615618, 0.9987187309980378, 0.9960847087847691, 0.9994812590031611, 0.9987979876588182, 0.1696634683095486, 0.8289272308837945, 0.994669847866142, 0.9933891318667373, 0.7905483513150573, 0.14801527881764825, 0.061389650102120136, 0.9959806891455998, 0.9973487599474602, 0.9987649832997608, 0.9993404023977209, 0.5602336084890163, 0.43991498116251615, 0.9995949681980437, 0.9987029221138264, 0.998490109002792, 0.9993747096620372, 0.9955599998689427, 0.9987252644569521, 0.9944409952952018, 0.9985509015601017, 0.9981855418456306, 0.9993254406602646, 0.9973424552203819, 0.998502597254996, 0.993099625488742, 0.9991340142749376, 0.9951483163812043, 0.9967556210836523, 0.9995878911150899, 0.9974162609491006, 0.998189494584677, 0.9997871626442201, 0.9987057627391057, 0.9996522708212009, 0.9977190250028405, 0.9981772386522011, 0.9984486784089148, 0.9960434533537801, 0.9960476386816324, 0.9949921431614337, 0.993544074818945, 0.9961630861836246, 0.9960822507798245, 0.999598162735909, 0.9991900302759232, 0.8961233897843428, 0.10297334298566523, 0.4400058291736645, 0.5596190642888355, 0.9983354724528734, 0.9994171107978933, 0.9959977798088032, 0.9971899594256987, 0.9979148557554761, 0.9826090997529867, 0.9995219455013097, 0.9942382217681307, 0.9262114914981936, 0.07351605175046906, 0.9997700372835715, 0.996084711956393, 0.9999028753284318, 0.9967099326504273, 0.9974148471202281, 0.9930587490769305, 0.9983830272590134, 0.999947667088664, 0.9992019354500306, 0.1032970872808236, 0.8960421757150512, 0.9961778672996439, 0.9990600687788055, 0.997769729096885, 0.9948453381872313, 0.9985998400970884, 0.9988671441435681, 0.9987770029350578, 0.9970611393320304, 0.9996642964986181, 0.9998333624569776, 0.9984482387297479, 0.9990055626223816, 0.9991180081920324, 0.9982735396797655, 0.9987581949648148, 0.9986766947472363, 0.9959631405533237, 0.7460617061453523, 0.2538254014020689, 0.9995412107506386, 0.9952150258428635, 0.9984073516694552, 0.991727746068393, 0.6690540251884699, 0.330430763460428, 0.9990448575977142, 0.9992528256535921, 0.9998868086596923, 0.20420748539611283, 0.7951057410103968, 0.9985032638694346, 0.9985270068718249, 0.9932579909399275, 0.9986104583673507, 0.9962631909698623, 0.9988545027191136, 0.9988230673251157, 0.9967831370378912, 0.9998348103434499, 0.9995143366479388, 0.9949543674076649, 0.9994262321461632, 0.991770477142984, 0.9965335247227989, 0.9852341592321341, 0.9996638366915033, 0.9981653655116591, 0.9979380240293638, 0.9985335584330081, 0.9991537563246734, 0.9988578624883148, 0.9994481235282985, 0.9941247196926765, 0.9972580706184512, 0.9973530600116951, 0.9994777473928922, 0.9969474555643172, 0.9983052477696406, 0.9978893168214265, 0.9939662899520301, 0.9990543803752681, 0.7972415135291505, 0.20255977476921036, 0.999468886520761, 0.9996485995415099, 0.9995744619863677, 0.9980555323598796, 0.9993466793087167, 0.9996922704164847, 0.9989839113774792, 0.9959816380277868, 0.9995658978504627, 0.995176298982282, 0.0022573096029995915, 0.38599994211293015, 0.6094735928098897, 0.9939209345380833, 0.996728030150229, 0.9951708439069197, 0.9992087159135599, 0.9968330500568231, 0.9949037588200004, 0.9968465519594923, 0.5059685418732585, 0.4939663229407572, 0.9987498333021128, 0.9937995532210886, 0.9912423271959531, 0.9995994517657724, 0.9970350816981237, 0.9974106581852462, 0.9994860077174071, 0.9939225007201509, 0.9994167687828495, 0.9955685189636215, 0.9977313858697265, 0.9981983572944871, 0.9989088582770914, 0.9898770678710609, 0.9984610991468961, 0.9923165583100213, 0.7049950040981601, 0.29492414818437257, 0.9978993075761307, 0.9974483283623042, 0.9995159928762065, 0.999403543537098, 0.8856574891323558, 0.11390505534233186, 0.99762432008628, 0.9820486953172018, 0.998758184810901, 0.997704462292522, 0.999777409556068, 0.9987069799189098, 0.999011861617976, 0.9988680236021724, 0.9991280597184202, 0.006653220957356526, 0.9913299226461224, 0.9996293452554278, 0.390027840439124, 0.6093292085981186, 0.9986975853187341, 0.43472304543913565, 0.4267318129862103, 0.13265445871855977, 0.005593862717047701, 0.9960574306538723, 0.9968263079834758, 0.687974997532474, 0.06291716474092271, 0.24900677891695946, 0.9971538555300407, 0.9972991686630255, 0.9995929120688977], \"Term\": [\"$\", \"10\", \"100\", \"2\", \"5\", \"64\", \"7\", \"8\", \"Amazon\", \"Amazon\", \"Amazon\", \"Android\", \"Best\", \"Black\", \"Buy\", \"Christmas\", \"Fire\", \"Friday\", \"GB\", \"Google\", \"HD\", \"HD8\", \"HD8\", \"Ipad\", \"Kindle\", \"Mother\", \"Play\", \"Prime\", \"Tablet\", \"able\", \"absolutely\", \"access\", \"account\", \"ad\", \"add\", \"advertise\", \"age\", \"amazing\", \"amazon\", \"android\", \"annoying\", \"app\", \"app\", \"app\", \"ask\", \"available\", \"basic\", \"battery\", \"battery\", \"battery\", \"battery\", \"beat\", \"beginner\", \"benefit\", \"big\", \"black\", \"book\", \"brand\", \"browser\", \"browser\", \"browsing\", \"button\", \"buy\", \"buy\", \"buy\", \"cable\", \"carry\", \"case\", \"charge\", \"cheap\", \"cheap\", \"check\", \"child\", \"clear\", \"come\", \"complaint\", \"computer\", \"consider\", \"content\", \"cost\", \"daughter\", \"deal\", \"decide\", \"design\", \"device\", \"difference\", \"display\", \"download\", \"durable\", \"e\", \"easy\", \"email\", \"enjoy\", \"especially\", \"etc\", \"excellent\", \"expandable\", \"expensive\", \"experience\", \"explain\", \"extremely\", \"fact\", \"far\", \"fast\", \"feature\", \"feature\", \"find\", \"find\", \"fine\", \"fire\", \"fit\", \"freeze\", \"friendly\", \"fully\", \"game\", \"general\", \"get\", \"get\", \"gift\", \"glad\", \"good\", \"google\", \"granddaughter\", \"grandkid\", \"graphic\", \"great\", \"happy\", \"high\", \"high\", \"husband\", \"iPad\", \"inch\", \"inexpensive\", \"internet\", \"issue\", \"item\", \"keep\", \"kid\", \"kindle\", \"know\", \"large\", \"learn\", \"library\", \"life\", \"light\", \"lightweight\", \"like\", \"like\", \"little\", \"live\", \"load\", \"loaded\", \"long\", \"long\", \"look\", \"lot\", \"love\", \"low\", \"low\", \"make\", \"member\", \"micro\", \"model\", \"mom\", \"money\", \"movie\", \"navigate\", \"need\", \"new\", \"news\", \"nice\", \"normal\", \"ok\", \"okay\", \"old\", \"online\", \"open\", \"option\", \"overall\", \"pay\", \"perfect\", \"perfectly\", \"performance\", \"phone\", \"play\", \"pleased\", \"plus\", \"point\", \"powerful\", \"present\", \"price\", \"price\", \"problem\", \"product\", \"purchase\", \"purpose\", \"quality\", \"read\", \"reason\", \"reasonable\", \"recommend\", \"require\", \"resolution\", \"resolution\", \"resolution\", \"responsive\", \"return\", \"review\", \"sale\", \"satisfied\", \"save\", \"say\", \"screen\", \"screen\", \"sd\", \"see\", \"selection\", \"set\", \"setup\", \"show\", \"size\", \"solid\", \"son\", \"speaker\", \"star\", \"start\", \"store\", \"subscription\", \"surf\", \"surprised\", \"tablet\", \"tablet\", \"tell\", \"thank\", \"thing\", \"think\", \"time\", \"time\", \"travel\", \"trouble\", \"try\", \"upgrade\", \"use\", \"user\", \"value\", \"version\", \"video\", \"view\", \"view\", \"want\", \"watch\", \"watch\", \"web\", \"well\", \"well\", \"well\", \"well\", \"wifi\", \"wish\", \"work\", \"work\", \"work\", \"worth\", \"wrong\", \"year\"]}, \"R\": 30, \"lambda.step\": 0.01, \"plot.opts\": {\"xlab\": \"PC1\", \"ylab\": \"PC2\"}, \"topic.order\": [1, 7, 4, 2, 6, 3, 5]};\n\nfunction LDAvis_load_lib(url, callback){\n  var s = document.createElement('script');\n  s.src = url;\n  s.async = true;\n  s.onreadystatechange = s.onload = callback;\n  s.onerror = function(){console.warn(\"failed to load library \" + url);};\n  document.getElementsByTagName(\"head\")[0].appendChild(s);\n}\n\nif(typeof(LDAvis) !== \"undefined\"){\n   // already loaded: just create the visualization\n   !function(LDAvis){\n       new LDAvis(\"#\" + \"ldavis_el1894428335497288961889670663\", ldavis_el1894428335497288961889670663_data);\n   }(LDAvis);\n}else if(typeof define === \"function\" && define.amd){\n   // require.js is available: use it to load d3/LDAvis\n   require.config({paths: {d3: \"https://cdnjs.cloudflare.com/ajax/libs/d3/3.5.5/d3.min\"}});\n   require([\"d3\"], function(d3){\n      window.d3 = d3;\n      LDAvis_load_lib(\"https://cdn.rawgit.com/bmabey/pyLDAvis/files/ldavis.v1.0.0.js\", function(){\n        new LDAvis(\"#\" + \"ldavis_el1894428335497288961889670663\", ldavis_el1894428335497288961889670663_data);\n      });\n    });\n}else{\n    // require.js not available: dynamically load d3 & LDAvis\n    LDAvis_load_lib(\"https://cdnjs.cloudflare.com/ajax/libs/d3/3.5.5/d3.min.js\", function(){\n         LDAvis_load_lib(\"https://cdn.rawgit.com/bmabey/pyLDAvis/files/ldavis.v1.0.0.js\", function(){\n                 new LDAvis(\"#\" + \"ldavis_el1894428335497288961889670663\", ldavis_el1894428335497288961889670663_data);\n            })\n         });\n}\n</script>"
     },
     "execution_count": 27,
     "metadata": {},
     "output_type": "execute_result"
    }
   ],
   "source": [
    "pyLDAvis.enable_notebook()\n",
    "vis = pyLDAvis.gensim.prepare(lda, corpus, id2word)\n",
    "pyLDAvis.display(vis)"
   ]
  },
  {
   "cell_type": "code",
   "execution_count": 35,
   "metadata": {
    "pycharm": {
     "name": "#%%\n"
    }
   },
   "outputs": [],
   "source": [
    "def compute_coherence_values(dictionary, corpus, texts, limit, start=2, step=3):\n",
    "    \"\"\"\n",
    "    Compute c_v coherence for various number of topics\n",
    "\n",
    "    Parameters:\n",
    "    ----------\n",
    "    dictionary : Gensim dictionary\n",
    "    corpus : Gensim corpus\n",
    "    texts : List of input texts\n",
    "    limit : Max num of topics\n",
    "\n",
    "    Returns:\n",
    "    -------\n",
    "    model_list : List of LDA topic models\n",
    "    coherence_values : Coherence values corresponding to the LDA model with respective number of topics\n",
    "    \"\"\"\n",
    "\n",
    "    coherence_values = []\n",
    "    model_list = []\n",
    "\n",
    "    for num_topics in range(start, limit, step):\n",
    "        model = gensim.models.ldamulticore.LdaMulticore(corpus=corpus,\n",
    "                                                        id2word=id2word,\n",
    "                                                        num_topics=num_topics,\n",
    "                                                        chunksize=300,\n",
    "                                                        passes=10,\n",
    "                                                        per_word_topics=True,\n",
    "                                                        workers=10)\n",
    "        model_list.append(model)\n",
    "        coherencemodel = CoherenceModel(model=model, texts=texts, dictionary=dictionary, coherence='c_v')\n",
    "        coherence_values.append(coherencemodel.get_coherence())\n",
    "\n",
    "    return model_list, coherence_values"
   ]
  },
  {
   "cell_type": "code",
   "execution_count": 36,
   "metadata": {
    "pycharm": {
     "name": "#%%\n"
    }
   },
   "outputs": [
    {
     "name": "stdout",
     "output_type": "stream",
     "text": [
      "Wall time: 13min 3s\n"
     ]
    }
   ],
   "source": [
    "%%time\n",
    "model_list, coherence_values = compute_coherence_values(dictionary=id2word,\n",
    "                                                        corpus=corpus,\n",
    "                                                        texts=amazon['lemmas'],\n",
    "                                                        start=2,\n",
    "                                                        limit=30,\n",
    "                                                        step=2)"
   ]
  },
  {
   "cell_type": "code",
   "execution_count": 38,
   "metadata": {
    "pycharm": {
     "name": "#%%\n"
    }
   },
   "outputs": [
    {
     "data": {
      "text/plain": "<Figure size 432x288 with 1 Axes>",
      "image/png": "[encoded data removed]"
     },
     "metadata": {},
     "output_type": "display_data"
    }
   ],
   "source": [
    "start=2; limit=30; step=2;\n",
    "x = range(start, limit, step)\n",
    "plt.plot(x, coherence_values)\n",
    "plt.xlabel(\"Num Topics\")\n",
    "plt.ylabel(\"Coherence score\")\n",
    "plt.legend((\"coherence_values\"), loc='best');"
   ]
  },
  {
   "cell_type": "code",
   "execution_count": 40,
   "metadata": {
    "pycharm": {
     "name": "#%%\n"
    }
   },
   "outputs": [
    {
     "ename": "KeyboardInterrupt",
     "evalue": "",
     "output_type": "error",
     "traceback": [
      "\u001B[1;31m---------------------------------------------------------------------------\u001B[0m",
      "\u001B[1;31mKeyboardInterrupt\u001B[0m                         Traceback (most recent call last)",
      "\u001B[1;32m<timed exec>\u001B[0m in \u001B[0;36m<module>\u001B[1;34m\u001B[0m\n",
      "\u001B[1;32m~\\anaconda3\\envs\\u4-s1-NLP\\lib\\site-packages\\gensim\\models\\ldamodel.py\u001B[0m in \u001B[0;36m__init__\u001B[1;34m(self, corpus, num_topics, id2word, distributed, chunksize, passes, update_every, alpha, eta, decay, offset, eval_every, iterations, gamma_threshold, minimum_probability, random_state, ns_conf, minimum_phi_value, per_word_topics, callbacks, dtype)\u001B[0m\n\u001B[0;32m    517\u001B[0m         \u001B[1;32mif\u001B[0m \u001B[0mcorpus\u001B[0m \u001B[1;32mis\u001B[0m \u001B[1;32mnot\u001B[0m \u001B[1;32mNone\u001B[0m\u001B[1;33m:\u001B[0m\u001B[1;33m\u001B[0m\u001B[1;33m\u001B[0m\u001B[0m\n\u001B[0;32m    518\u001B[0m             \u001B[0muse_numpy\u001B[0m \u001B[1;33m=\u001B[0m \u001B[0mself\u001B[0m\u001B[1;33m.\u001B[0m\u001B[0mdispatcher\u001B[0m \u001B[1;32mis\u001B[0m \u001B[1;32mnot\u001B[0m \u001B[1;32mNone\u001B[0m\u001B[1;33m\u001B[0m\u001B[1;33m\u001B[0m\u001B[0m\n\u001B[1;32m--> 519\u001B[1;33m             \u001B[0mself\u001B[0m\u001B[1;33m.\u001B[0m\u001B[0mupdate\u001B[0m\u001B[1;33m(\u001B[0m\u001B[0mcorpus\u001B[0m\u001B[1;33m,\u001B[0m \u001B[0mchunks_as_numpy\u001B[0m\u001B[1;33m=\u001B[0m\u001B[0muse_numpy\u001B[0m\u001B[1;33m)\u001B[0m\u001B[1;33m\u001B[0m\u001B[1;33m\u001B[0m\u001B[0m\n\u001B[0m\u001B[0;32m    520\u001B[0m \u001B[1;33m\u001B[0m\u001B[0m\n\u001B[0;32m    521\u001B[0m     \u001B[1;32mdef\u001B[0m \u001B[0minit_dir_prior\u001B[0m\u001B[1;33m(\u001B[0m\u001B[0mself\u001B[0m\u001B[1;33m,\u001B[0m \u001B[0mprior\u001B[0m\u001B[1;33m,\u001B[0m \u001B[0mname\u001B[0m\u001B[1;33m)\u001B[0m\u001B[1;33m:\u001B[0m\u001B[1;33m\u001B[0m\u001B[1;33m\u001B[0m\u001B[0m\n",
      "\u001B[1;32m~\\anaconda3\\envs\\u4-s1-NLP\\lib\\site-packages\\gensim\\models\\ldamodel.py\u001B[0m in \u001B[0;36mupdate\u001B[1;34m(self, corpus, chunksize, decay, offset, passes, update_every, eval_every, iterations, gamma_threshold, chunks_as_numpy)\u001B[0m\n\u001B[0;32m    978\u001B[0m                         \u001B[0mpass_\u001B[0m\u001B[1;33m,\u001B[0m \u001B[0mchunk_no\u001B[0m \u001B[1;33m*\u001B[0m \u001B[0mchunksize\u001B[0m \u001B[1;33m+\u001B[0m \u001B[0mlen\u001B[0m\u001B[1;33m(\u001B[0m\u001B[0mchunk\u001B[0m\u001B[1;33m)\u001B[0m\u001B[1;33m,\u001B[0m \u001B[0mlencorpus\u001B[0m\u001B[1;33m\u001B[0m\u001B[1;33m\u001B[0m\u001B[0m\n\u001B[0;32m    979\u001B[0m                     )\n\u001B[1;32m--> 980\u001B[1;33m                     \u001B[0mgammat\u001B[0m \u001B[1;33m=\u001B[0m \u001B[0mself\u001B[0m\u001B[1;33m.\u001B[0m\u001B[0mdo_estep\u001B[0m\u001B[1;33m(\u001B[0m\u001B[0mchunk\u001B[0m\u001B[1;33m,\u001B[0m \u001B[0mother\u001B[0m\u001B[1;33m)\u001B[0m\u001B[1;33m\u001B[0m\u001B[1;33m\u001B[0m\u001B[0m\n\u001B[0m\u001B[0;32m    981\u001B[0m \u001B[1;33m\u001B[0m\u001B[0m\n\u001B[0;32m    982\u001B[0m                     \u001B[1;32mif\u001B[0m \u001B[0mself\u001B[0m\u001B[1;33m.\u001B[0m\u001B[0moptimize_alpha\u001B[0m\u001B[1;33m:\u001B[0m\u001B[1;33m\u001B[0m\u001B[1;33m\u001B[0m\u001B[0m\n",
      "\u001B[1;32m~\\anaconda3\\envs\\u4-s1-NLP\\lib\\site-packages\\gensim\\models\\ldamodel.py\u001B[0m in \u001B[0;36mdo_estep\u001B[1;34m(self, chunk, state)\u001B[0m\n\u001B[0;32m    740\u001B[0m         \u001B[1;32mif\u001B[0m \u001B[0mstate\u001B[0m \u001B[1;32mis\u001B[0m \u001B[1;32mNone\u001B[0m\u001B[1;33m:\u001B[0m\u001B[1;33m\u001B[0m\u001B[1;33m\u001B[0m\u001B[0m\n\u001B[0;32m    741\u001B[0m             \u001B[0mstate\u001B[0m \u001B[1;33m=\u001B[0m \u001B[0mself\u001B[0m\u001B[1;33m.\u001B[0m\u001B[0mstate\u001B[0m\u001B[1;33m\u001B[0m\u001B[1;33m\u001B[0m\u001B[0m\n\u001B[1;32m--> 742\u001B[1;33m         \u001B[0mgamma\u001B[0m\u001B[1;33m,\u001B[0m \u001B[0msstats\u001B[0m \u001B[1;33m=\u001B[0m \u001B[0mself\u001B[0m\u001B[1;33m.\u001B[0m\u001B[0minference\u001B[0m\u001B[1;33m(\u001B[0m\u001B[0mchunk\u001B[0m\u001B[1;33m,\u001B[0m \u001B[0mcollect_sstats\u001B[0m\u001B[1;33m=\u001B[0m\u001B[1;32mTrue\u001B[0m\u001B[1;33m)\u001B[0m\u001B[1;33m\u001B[0m\u001B[1;33m\u001B[0m\u001B[0m\n\u001B[0m\u001B[0;32m    743\u001B[0m         \u001B[0mstate\u001B[0m\u001B[1;33m.\u001B[0m\u001B[0msstats\u001B[0m \u001B[1;33m+=\u001B[0m \u001B[0msstats\u001B[0m\u001B[1;33m\u001B[0m\u001B[1;33m\u001B[0m\u001B[0m\n\u001B[0;32m    744\u001B[0m         \u001B[0mstate\u001B[0m\u001B[1;33m.\u001B[0m\u001B[0mnumdocs\u001B[0m \u001B[1;33m+=\u001B[0m \u001B[0mgamma\u001B[0m\u001B[1;33m.\u001B[0m\u001B[0mshape\u001B[0m\u001B[1;33m[\u001B[0m\u001B[1;36m0\u001B[0m\u001B[1;33m]\u001B[0m  \u001B[1;31m# avoids calling len(chunk) on a generator\u001B[0m\u001B[1;33m\u001B[0m\u001B[1;33m\u001B[0m\u001B[0m\n",
      "\u001B[1;32m~\\anaconda3\\envs\\u4-s1-NLP\\lib\\site-packages\\gensim\\models\\ldamodel.py\u001B[0m in \u001B[0;36minference\u001B[1;34m(self, chunk, collect_sstats)\u001B[0m\n\u001B[0;32m    694\u001B[0m                 \u001B[0mElogthetad\u001B[0m \u001B[1;33m=\u001B[0m \u001B[0mdirichlet_expectation\u001B[0m\u001B[1;33m(\u001B[0m\u001B[0mgammad\u001B[0m\u001B[1;33m)\u001B[0m\u001B[1;33m\u001B[0m\u001B[1;33m\u001B[0m\u001B[0m\n\u001B[0;32m    695\u001B[0m                 \u001B[0mexpElogthetad\u001B[0m \u001B[1;33m=\u001B[0m \u001B[0mnp\u001B[0m\u001B[1;33m.\u001B[0m\u001B[0mexp\u001B[0m\u001B[1;33m(\u001B[0m\u001B[0mElogthetad\u001B[0m\u001B[1;33m)\u001B[0m\u001B[1;33m\u001B[0m\u001B[1;33m\u001B[0m\u001B[0m\n\u001B[1;32m--> 696\u001B[1;33m                 \u001B[0mphinorm\u001B[0m \u001B[1;33m=\u001B[0m \u001B[0mnp\u001B[0m\u001B[1;33m.\u001B[0m\u001B[0mdot\u001B[0m\u001B[1;33m(\u001B[0m\u001B[0mexpElogthetad\u001B[0m\u001B[1;33m,\u001B[0m \u001B[0mexpElogbetad\u001B[0m\u001B[1;33m)\u001B[0m \u001B[1;33m+\u001B[0m \u001B[0mepsilon\u001B[0m\u001B[1;33m\u001B[0m\u001B[1;33m\u001B[0m\u001B[0m\n\u001B[0m\u001B[0;32m    697\u001B[0m                 \u001B[1;31m# If gamma hasn't changed much, we're done.\u001B[0m\u001B[1;33m\u001B[0m\u001B[1;33m\u001B[0m\u001B[1;33m\u001B[0m\u001B[0m\n\u001B[0;32m    698\u001B[0m                 \u001B[0mmeanchange\u001B[0m \u001B[1;33m=\u001B[0m \u001B[0mmean_absolute_difference\u001B[0m\u001B[1;33m(\u001B[0m\u001B[0mgammad\u001B[0m\u001B[1;33m,\u001B[0m \u001B[0mlastgamma\u001B[0m\u001B[1;33m)\u001B[0m\u001B[1;33m\u001B[0m\u001B[1;33m\u001B[0m\u001B[0m\n",
      "\u001B[1;32m<__array_function__ internals>\u001B[0m in \u001B[0;36mdot\u001B[1;34m(*args, **kwargs)\u001B[0m\n",
      "\u001B[1;31mKeyboardInterrupt\u001B[0m: "
     ]
    }
   ],
   "source": [
    "%%time\n",
    "# Train an LDA model\n",
    "lda_model = gensim.models.ldamodel.LdaModel(corpus=corpus,\n",
    "                                            id2word=id2word,\n",
    "                                            num_topics=6,\n",
    "                                            chunksize=300,\n",
    "                                            passes=10,\n",
    "                                            per_word_topics=True)"
   ]
  },
  {
   "cell_type": "code",
   "execution_count": 41,
   "outputs": [],
   "source": [
    "lda_model.save('lda_model.model')"
   ],
   "metadata": {
    "collapsed": false,
    "pycharm": {
     "name": "#%%\n"
    }
   }
  },
  {
   "cell_type": "code",
   "execution_count": 42,
   "outputs": [],
   "source": [
    "lda =  models.LdaModel.load('lda_model.model')"
   ],
   "metadata": {
    "collapsed": false,
    "pycharm": {
     "name": "#%%\n"
    }
   }
  },
  {
   "cell_type": "code",
   "execution_count": 43,
   "outputs": [
    {
     "name": "stdout",
     "output_type": "stream",
     "text": [
      "[(0,\n",
      "  '0.364*\"great\" + 0.159*\"good\" + 0.128*\"price\" + 0.085*\"work\" + '\n",
      "  '0.039*\"little\" + 0.023*\"money\" + 0.023*\"value\" + 0.020*\"deal\" + 0.009*\"far\" '\n",
      "  '+ 0.008*\"glad\"'),\n",
      " (1,\n",
      "  '0.070*\"book\" + 0.056*\"good\" + 0.044*\"screen\" + 0.041*\"nice\" + 0.039*\"read\" '\n",
      "  '+ 0.039*\"size\" + 0.031*\"well\" + 0.029*\"son\" + 0.025*\"price\" + '\n",
      "  '0.023*\"battery\"'),\n",
      " (2,\n",
      "  '0.107*\"tablet\" + 0.063*\"app\" + 0.043*\"Amazon\" + 0.040*\"product\" + '\n",
      "  '0.029*\"watch\" + 0.027*\"recommend\" + 0.023*\"movie\" + 0.021*\"download\" + '\n",
      "  '0.016*\"ipad\" + 0.014*\"$\"'),\n",
      " (3,\n",
      "  '0.123*\"kindle\" + 0.069*\"fast\" + 0.039*\"long\" + 0.034*\"user\" + '\n",
      "  '0.034*\"awesome\" + 0.034*\"learn\" + 0.032*\"HD\" + 0.027*\"grandson\" + '\n",
      "  '0.027*\"friendly\" + 0.027*\"time\"'),\n",
      " (4,\n",
      "  '0.076*\"use\" + 0.031*\"game\" + 0.030*\"get\" + 0.029*\"Kindle\" + 0.029*\"Fire\" + '\n",
      "  '0.026*\"play\" + 0.023*\"want\" + 0.020*\"read\" + 0.017*\"8\" + 0.017*\"device\"'),\n",
      " (5,\n",
      "  '0.212*\"love\" + 0.086*\"like\" + 0.043*\"perfect\" + 0.027*\"child\" + '\n",
      "  '0.026*\"quality\" + 0.023*\"amazon\" + 0.021*\"come\" + 0.018*\"overall\" + '\n",
      "  '0.017*\"card\" + 0.017*\"way\"'),\n",
      " (6,\n",
      "  '0.089*\"tablet\" + 0.083*\"buy\" + 0.065*\"easy\" + 0.052*\"old\" + 0.045*\"kid\" + '\n",
      "  '0.043*\"purchase\" + 0.037*\"year\" + 0.029*\"fire\" + 0.028*\"need\" + '\n",
      "  '0.024*\"gift\"')]\n"
     ]
    }
   ],
   "source": [
    "# View the top 10 words per topic\n",
    "pprint(lda.print_topics())"
   ],
   "metadata": {
    "collapsed": false,
    "pycharm": {
     "name": "#%%\n"
    }
   }
  },
  {
   "cell_type": "code",
   "execution_count": 46,
   "outputs": [
    {
     "name": "stdout",
     "output_type": "stream",
     "text": [
      "\n",
      "Perplexity:  -7.092262837165051\n",
      "\n",
      "Coherence Score:  -4.068616590083496\n"
     ]
    }
   ],
   "source": [
    "# %%time\n",
    "# Compute Perplexity\n",
    "print('\\nPerplexity: ', lda.log_perplexity(corpus))  # a measure of how good the model is. lower the better.\n",
    "\n",
    "# Compute Coherence Score\n",
    "coherence_model_lda = CoherenceModel(model=lda,\n",
    "                                     corpus=corpus,\n",
    "                                     texts=amazon['lemmas'],\n",
    "                                     dictionary=id2word,\n",
    "                                     coherence='u_mass')\n",
    "coherence_lda = coherence_model_lda.get_coherence()\n",
    "print('\\nCoherence Score: ', coherence_lda)\n",
    "\n",
    "# Final Coherence Score does not look right,\n",
    "#   need to look at this with fresh eyes tomorrow\n",
    "#   to see if I can figure out where I went wrong."
   ],
   "metadata": {
    "collapsed": false,
    "pycharm": {
     "name": "#%%\n"
    }
   }
  },
  {
   "cell_type": "code",
   "execution_count": null,
   "metadata": {
    "pycharm": {
     "name": "#%%\n"
    }
   },
   "outputs": [],
   "source": []
  },
  {
   "cell_type": "code",
   "execution_count": null,
   "metadata": {
    "pycharm": {
     "name": "#%%\n"
    }
   },
   "outputs": [],
   "source": []
  },
  {
   "cell_type": "code",
   "execution_count": null,
   "metadata": {
    "pycharm": {
     "name": "#%%\n"
    }
   },
   "outputs": [],
   "source": []
  },
  {
   "cell_type": "code",
   "execution_count": null,
   "metadata": {
    "pycharm": {
     "name": "#%%\n"
    }
   },
   "outputs": [],
   "source": []
  },
  {
   "cell_type": "code",
   "execution_count": null,
   "metadata": {
    "pycharm": {
     "name": "#%%\n"
    }
   },
   "outputs": [],
   "source": []
  },
  {
   "cell_type": "code",
   "execution_count": null,
   "metadata": {
    "pycharm": {
     "name": "#%%\n"
    }
   },
   "outputs": [],
   "source": []
  },
  {
   "cell_type": "code",
   "execution_count": null,
   "metadata": {
    "pycharm": {
     "name": "#%%\n"
    }
   },
   "outputs": [],
   "source": []
  },
  {
   "cell_type": "code",
   "execution_count": null,
   "metadata": {
    "pycharm": {
     "name": "#%%\n"
    }
   },
   "outputs": [],
   "source": []
  },
  {
   "cell_type": "code",
   "execution_count": null,
   "metadata": {
    "pycharm": {
     "name": "#%%\n"
    }
   },
   "outputs": [],
   "source": []
  },
  {
   "cell_type": "code",
   "execution_count": null,
   "metadata": {
    "pycharm": {
     "name": "#%%\n"
    }
   },
   "outputs": [],
   "source": []
  },
  {
   "cell_type": "code",
   "execution_count": null,
   "metadata": {
    "pycharm": {
     "name": "#%%\n"
    }
   },
   "outputs": [],
   "source": []
  },
  {
   "cell_type": "code",
   "execution_count": null,
   "metadata": {
    "pycharm": {
     "name": "#%%\n"
    }
   },
   "outputs": [],
   "source": []
  },
  {
   "cell_type": "code",
   "execution_count": null,
   "metadata": {
    "pycharm": {
     "name": "#%%\n"
    }
   },
   "outputs": [],
   "source": []
  },
  {
   "cell_type": "markdown",
   "metadata": {},
   "source": [
    "## Stretch Goals\n",
    "\n",
    "* Incorporate Named Entity Recognition in your analysis\n",
    "* Incorporate some custom pre-processing from our previous lessons (like spacy lemmatization)\n",
    "* Analyze a dataset of interest to you with topic modeling"
   ]
  }
 ],
 "metadata": {
  "kernelspec": {
   "name": "u4-s1-nlp",
   "language": "python",
   "display_name": "u4-s1-NLP (Python 3)"
  },
  "language_info": {
   "codemirror_mode": {
    "name": "ipython",
    "version": 3
   },
   "file_extension": ".py",
   "mimetype": "text/x-python",
   "name": "python",
   "nbconvert_exporter": "python",
   "pygments_lexer": "ipython3",
   "version": "3.8.0"
  }
 },
 "nbformat": 4,
 "nbformat_minor": 2
}