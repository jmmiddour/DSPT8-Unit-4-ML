{
 "cells": [
  {
   "cell_type": "markdown",
   "metadata": {},
   "source": [
    "<img align=\"left\" src=\"https://lever-client-logos.s3.amazonaws.com/864372b1-534c-480e-acd5-9711f850815c-1524247202159.png\" width=200>\n",
    "<br></br>\n",
    "<br></br>\n",
    "\n",
    "# Topic Modeling\n",
    "## *Data Science Unit 4 Sprint 1 Assignment 4*\n",
    "\n",
    "Analyze a corpus of Amazon reviews from Unit 4 Sprint 1 Module 1's lecture using topic modeling: \n",
    "\n",
    "- Fit a Gensim LDA topic model on Amazon Reviews\n",
    "- Select appropriate number of topics\n",
    "- Create some dope visualization of the topics\n",
    "- Write a few bullets on your findings in markdown at the end\n",
    "- **Note**: You don't *have* to use generators for this assignment"
   ]
  },
  {
   "cell_type": "code",
   "execution_count": 4,
   "metadata": {},
   "outputs": [],
   "source": [
    "# Ignore warnings\n",
    "import warnings\n",
    "warnings.filterwarnings(\"ignore\")"
   ]
  },
  {
   "cell_type": "code",
   "execution_count": 5,
   "metadata": {},
   "outputs": [],
   "source": [
    "# Imports\n",
    "import re\n",
    "import numpy as np\n",
    "import pandas as pd\n",
    "from pprint import pprint\n",
    "\n",
    "import gensim\n",
    "import gensim.corpora as corpora\n",
    "from gensim.utils import simple_preprocess\n",
    "from gensim import models\n",
    "from gensim.models import CoherenceModel\n",
    "\n",
    "# Visualization\n",
    "import pyLDAvis\n",
    "import pyLDAvis.gensim\n",
    "import matplotlib.pyplot as plt\n",
    "%matplotlib inline\n",
    "from explore_data import get_num_words_per_sample \n",
    "from explore_data import plot_sample_length_distribution\n",
    "from explore_data import plot_class_distribution\n",
    "from explore_data import plot_frequency_distribution_of_ngrams\n",
    "import seaborn as sns\n",
    "sns.set()\n",
    "\n",
    "# Leverage tqdm for progress_apply\n",
    "from tqdm import tqdm\n",
    "tqdm.pandas()\n",
    "\n",
    "# SKLearn libraries\n",
    "from sklearn.ensemble import RandomForestClassifier\n",
    "from sklearn.model_selection import GridSearchCV, train_test_split\n",
    "from sklearn.feature_extraction.text import TfidfVectorizer\n",
    "from sklearn.pipeline import Pipeline"
   ]
  },
  {
   "cell_type": "code",
   "execution_count": 6,
   "metadata": {},
   "outputs": [
    {
     "name": "stdout",
     "output_type": "stream",
     "text": [
      "✔ Download and installation successful\n",
      "You can now load the model via spacy.load('en_core_web_lg')\n"
     ]
    }
   ],
   "source": [
    "# Download spacy model\n",
    "import spacy\n",
    "import spacy.cli\n",
    "spacy.cli.download(\"en_core_web_lg\")"
   ]
  },
  {
   "cell_type": "code",
   "execution_count": 7,
   "metadata": {},
   "outputs": [
    {
     "data": {
      "text/html": [
       "<div>\n",
       "<style scoped>\n",
       "    .dataframe tbody tr th:only-of-type {\n",
       "        vertical-align: middle;\n",
       "    }\n",
       "\n",
       "    .dataframe tbody tr th {\n",
       "        vertical-align: top;\n",
       "    }\n",
       "\n",
       "    .dataframe thead th {\n",
       "        text-align: right;\n",
       "    }\n",
       "</style>\n",
       "<table border=\"1\" class=\"dataframe\">\n",
       "  <thead>\n",
       "    <tr style=\"text-align: right;\">\n",
       "      <th></th>\n",
       "      <th>id</th>\n",
       "      <th>dateAdded</th>\n",
       "      <th>dateUpdated</th>\n",
       "      <th>name</th>\n",
       "      <th>asins</th>\n",
       "      <th>brand</th>\n",
       "      <th>categories</th>\n",
       "      <th>primaryCategories</th>\n",
       "      <th>imageURLs</th>\n",
       "      <th>keys</th>\n",
       "      <th>...</th>\n",
       "      <th>reviews.didPurchase</th>\n",
       "      <th>reviews.doRecommend</th>\n",
       "      <th>reviews.id</th>\n",
       "      <th>reviews.numHelpful</th>\n",
       "      <th>reviews.rating</th>\n",
       "      <th>reviews.sourceURLs</th>\n",
       "      <th>reviews.text</th>\n",
       "      <th>reviews.title</th>\n",
       "      <th>reviews.username</th>\n",
       "      <th>sourceURLs</th>\n",
       "    </tr>\n",
       "  </thead>\n",
       "  <tbody>\n",
       "    <tr>\n",
       "      <th>0</th>\n",
       "      <td>AVpgNzjwLJeJML43Kpxn</td>\n",
       "      <td>2015-10-30T08:59:32Z</td>\n",
       "      <td>2019-04-25T09:08:16Z</td>\n",
       "      <td>AmazonBasics AAA Performance Alkaline Batterie...</td>\n",
       "      <td>B00QWO9P0O,B00LH3DMUO</td>\n",
       "      <td>Amazonbasics</td>\n",
       "      <td>AA,AAA,Health,Electronics,Health &amp; Household,C...</td>\n",
       "      <td>Health &amp; Beauty</td>\n",
       "      <td>https://images-na.ssl-images-amazon.com/images...</td>\n",
       "      <td>amazonbasics/hl002619,amazonbasicsaaaperforman...</td>\n",
       "      <td>...</td>\n",
       "      <td>NaN</td>\n",
       "      <td>NaN</td>\n",
       "      <td>NaN</td>\n",
       "      <td>NaN</td>\n",
       "      <td>3</td>\n",
       "      <td>https://www.amazon.com/product-reviews/B00QWO9...</td>\n",
       "      <td>I order 3 of them and one of the item is bad q...</td>\n",
       "      <td>... 3 of them and one of the item is bad quali...</td>\n",
       "      <td>Byger yang</td>\n",
       "      <td>https://www.barcodable.com/upc/841710106442,ht...</td>\n",
       "    </tr>\n",
       "    <tr>\n",
       "      <th>1</th>\n",
       "      <td>AVpgNzjwLJeJML43Kpxn</td>\n",
       "      <td>2015-10-30T08:59:32Z</td>\n",
       "      <td>2019-04-25T09:08:16Z</td>\n",
       "      <td>AmazonBasics AAA Performance Alkaline Batterie...</td>\n",
       "      <td>B00QWO9P0O,B00LH3DMUO</td>\n",
       "      <td>Amazonbasics</td>\n",
       "      <td>AA,AAA,Health,Electronics,Health &amp; Household,C...</td>\n",
       "      <td>Health &amp; Beauty</td>\n",
       "      <td>https://images-na.ssl-images-amazon.com/images...</td>\n",
       "      <td>amazonbasics/hl002619,amazonbasicsaaaperforman...</td>\n",
       "      <td>...</td>\n",
       "      <td>NaN</td>\n",
       "      <td>NaN</td>\n",
       "      <td>NaN</td>\n",
       "      <td>NaN</td>\n",
       "      <td>4</td>\n",
       "      <td>https://www.amazon.com/product-reviews/B00QWO9...</td>\n",
       "      <td>Bulk is always the less expensive way to go fo...</td>\n",
       "      <td>... always the less expensive way to go for pr...</td>\n",
       "      <td>ByMG</td>\n",
       "      <td>https://www.barcodable.com/upc/841710106442,ht...</td>\n",
       "    </tr>\n",
       "    <tr>\n",
       "      <th>2</th>\n",
       "      <td>AVpgNzjwLJeJML43Kpxn</td>\n",
       "      <td>2015-10-30T08:59:32Z</td>\n",
       "      <td>2019-04-25T09:08:16Z</td>\n",
       "      <td>AmazonBasics AAA Performance Alkaline Batterie...</td>\n",
       "      <td>B00QWO9P0O,B00LH3DMUO</td>\n",
       "      <td>Amazonbasics</td>\n",
       "      <td>AA,AAA,Health,Electronics,Health &amp; Household,C...</td>\n",
       "      <td>Health &amp; Beauty</td>\n",
       "      <td>https://images-na.ssl-images-amazon.com/images...</td>\n",
       "      <td>amazonbasics/hl002619,amazonbasicsaaaperforman...</td>\n",
       "      <td>...</td>\n",
       "      <td>NaN</td>\n",
       "      <td>NaN</td>\n",
       "      <td>NaN</td>\n",
       "      <td>NaN</td>\n",
       "      <td>5</td>\n",
       "      <td>https://www.amazon.com/product-reviews/B00QWO9...</td>\n",
       "      <td>Well they are not Duracell but for the price i...</td>\n",
       "      <td>... are not Duracell but for the price i am ha...</td>\n",
       "      <td>BySharon Lambert</td>\n",
       "      <td>https://www.barcodable.com/upc/841710106442,ht...</td>\n",
       "    </tr>\n",
       "    <tr>\n",
       "      <th>3</th>\n",
       "      <td>AVpgNzjwLJeJML43Kpxn</td>\n",
       "      <td>2015-10-30T08:59:32Z</td>\n",
       "      <td>2019-04-25T09:08:16Z</td>\n",
       "      <td>AmazonBasics AAA Performance Alkaline Batterie...</td>\n",
       "      <td>B00QWO9P0O,B00LH3DMUO</td>\n",
       "      <td>Amazonbasics</td>\n",
       "      <td>AA,AAA,Health,Electronics,Health &amp; Household,C...</td>\n",
       "      <td>Health &amp; Beauty</td>\n",
       "      <td>https://images-na.ssl-images-amazon.com/images...</td>\n",
       "      <td>amazonbasics/hl002619,amazonbasicsaaaperforman...</td>\n",
       "      <td>...</td>\n",
       "      <td>NaN</td>\n",
       "      <td>NaN</td>\n",
       "      <td>NaN</td>\n",
       "      <td>NaN</td>\n",
       "      <td>5</td>\n",
       "      <td>https://www.amazon.com/product-reviews/B00QWO9...</td>\n",
       "      <td>Seem to work as well as name brand batteries a...</td>\n",
       "      <td>... as well as name brand batteries at a much ...</td>\n",
       "      <td>Bymark sexson</td>\n",
       "      <td>https://www.barcodable.com/upc/841710106442,ht...</td>\n",
       "    </tr>\n",
       "    <tr>\n",
       "      <th>4</th>\n",
       "      <td>AVpgNzjwLJeJML43Kpxn</td>\n",
       "      <td>2015-10-30T08:59:32Z</td>\n",
       "      <td>2019-04-25T09:08:16Z</td>\n",
       "      <td>AmazonBasics AAA Performance Alkaline Batterie...</td>\n",
       "      <td>B00QWO9P0O,B00LH3DMUO</td>\n",
       "      <td>Amazonbasics</td>\n",
       "      <td>AA,AAA,Health,Electronics,Health &amp; Household,C...</td>\n",
       "      <td>Health &amp; Beauty</td>\n",
       "      <td>https://images-na.ssl-images-amazon.com/images...</td>\n",
       "      <td>amazonbasics/hl002619,amazonbasicsaaaperforman...</td>\n",
       "      <td>...</td>\n",
       "      <td>NaN</td>\n",
       "      <td>NaN</td>\n",
       "      <td>NaN</td>\n",
       "      <td>NaN</td>\n",
       "      <td>5</td>\n",
       "      <td>https://www.amazon.com/product-reviews/B00QWO9...</td>\n",
       "      <td>These batteries are very long lasting the pric...</td>\n",
       "      <td>... batteries are very long lasting the price ...</td>\n",
       "      <td>Bylinda</td>\n",
       "      <td>https://www.barcodable.com/upc/841710106442,ht...</td>\n",
       "    </tr>\n",
       "  </tbody>\n",
       "</table>\n",
       "<p>5 rows × 24 columns</p>\n",
       "</div>"
      ],
      "text/plain": [
       "                     id             dateAdded           dateUpdated  \\\n",
       "0  AVpgNzjwLJeJML43Kpxn  2015-10-30T08:59:32Z  2019-04-25T09:08:16Z   \n",
       "1  AVpgNzjwLJeJML43Kpxn  2015-10-30T08:59:32Z  2019-04-25T09:08:16Z   \n",
       "2  AVpgNzjwLJeJML43Kpxn  2015-10-30T08:59:32Z  2019-04-25T09:08:16Z   \n",
       "3  AVpgNzjwLJeJML43Kpxn  2015-10-30T08:59:32Z  2019-04-25T09:08:16Z   \n",
       "4  AVpgNzjwLJeJML43Kpxn  2015-10-30T08:59:32Z  2019-04-25T09:08:16Z   \n",
       "\n",
       "                                                name                  asins  \\\n",
       "0  AmazonBasics AAA Performance Alkaline Batterie...  B00QWO9P0O,B00LH3DMUO   \n",
       "1  AmazonBasics AAA Performance Alkaline Batterie...  B00QWO9P0O,B00LH3DMUO   \n",
       "2  AmazonBasics AAA Performance Alkaline Batterie...  B00QWO9P0O,B00LH3DMUO   \n",
       "3  AmazonBasics AAA Performance Alkaline Batterie...  B00QWO9P0O,B00LH3DMUO   \n",
       "4  AmazonBasics AAA Performance Alkaline Batterie...  B00QWO9P0O,B00LH3DMUO   \n",
       "\n",
       "          brand                                         categories  \\\n",
       "0  Amazonbasics  AA,AAA,Health,Electronics,Health & Household,C...   \n",
       "1  Amazonbasics  AA,AAA,Health,Electronics,Health & Household,C...   \n",
       "2  Amazonbasics  AA,AAA,Health,Electronics,Health & Household,C...   \n",
       "3  Amazonbasics  AA,AAA,Health,Electronics,Health & Household,C...   \n",
       "4  Amazonbasics  AA,AAA,Health,Electronics,Health & Household,C...   \n",
       "\n",
       "  primaryCategories                                          imageURLs  \\\n",
       "0   Health & Beauty  https://images-na.ssl-images-amazon.com/images...   \n",
       "1   Health & Beauty  https://images-na.ssl-images-amazon.com/images...   \n",
       "2   Health & Beauty  https://images-na.ssl-images-amazon.com/images...   \n",
       "3   Health & Beauty  https://images-na.ssl-images-amazon.com/images...   \n",
       "4   Health & Beauty  https://images-na.ssl-images-amazon.com/images...   \n",
       "\n",
       "                                                keys  ... reviews.didPurchase  \\\n",
       "0  amazonbasics/hl002619,amazonbasicsaaaperforman...  ...                 NaN   \n",
       "1  amazonbasics/hl002619,amazonbasicsaaaperforman...  ...                 NaN   \n",
       "2  amazonbasics/hl002619,amazonbasicsaaaperforman...  ...                 NaN   \n",
       "3  amazonbasics/hl002619,amazonbasicsaaaperforman...  ...                 NaN   \n",
       "4  amazonbasics/hl002619,amazonbasicsaaaperforman...  ...                 NaN   \n",
       "\n",
       "  reviews.doRecommend reviews.id reviews.numHelpful reviews.rating  \\\n",
       "0                 NaN        NaN                NaN              3   \n",
       "1                 NaN        NaN                NaN              4   \n",
       "2                 NaN        NaN                NaN              5   \n",
       "3                 NaN        NaN                NaN              5   \n",
       "4                 NaN        NaN                NaN              5   \n",
       "\n",
       "                                  reviews.sourceURLs  \\\n",
       "0  https://www.amazon.com/product-reviews/B00QWO9...   \n",
       "1  https://www.amazon.com/product-reviews/B00QWO9...   \n",
       "2  https://www.amazon.com/product-reviews/B00QWO9...   \n",
       "3  https://www.amazon.com/product-reviews/B00QWO9...   \n",
       "4  https://www.amazon.com/product-reviews/B00QWO9...   \n",
       "\n",
       "                                        reviews.text  \\\n",
       "0  I order 3 of them and one of the item is bad q...   \n",
       "1  Bulk is always the less expensive way to go fo...   \n",
       "2  Well they are not Duracell but for the price i...   \n",
       "3  Seem to work as well as name brand batteries a...   \n",
       "4  These batteries are very long lasting the pric...   \n",
       "\n",
       "                                       reviews.title  reviews.username  \\\n",
       "0  ... 3 of them and one of the item is bad quali...        Byger yang   \n",
       "1  ... always the less expensive way to go for pr...              ByMG   \n",
       "2  ... are not Duracell but for the price i am ha...  BySharon Lambert   \n",
       "3  ... as well as name brand batteries at a much ...     Bymark sexson   \n",
       "4  ... batteries are very long lasting the price ...           Bylinda   \n",
       "\n",
       "                                          sourceURLs  \n",
       "0  https://www.barcodable.com/upc/841710106442,ht...  \n",
       "1  https://www.barcodable.com/upc/841710106442,ht...  \n",
       "2  https://www.barcodable.com/upc/841710106442,ht...  \n",
       "3  https://www.barcodable.com/upc/841710106442,ht...  \n",
       "4  https://www.barcodable.com/upc/841710106442,ht...  \n",
       "\n",
       "[5 rows x 24 columns]"
      ]
     },
     "execution_count": 7,
     "metadata": {},
     "output_type": "execute_result"
    }
   ],
   "source": [
    "# Read in the data set of Amazon reviews\n",
    "amazon = pd.read_csv('data/Datafiniti_Amazon_Consumer_Reviews_of_Amazon_Products_May19.csv')\n",
    "\n",
    "# Look at the dataset\n",
    "amazon.head()"
   ]
  },
  {
   "cell_type": "code",
   "execution_count": 8,
   "metadata": {},
   "outputs": [
    {
     "data": {
      "text/plain": [
       "Index(['id', 'dateAdded', 'dateUpdated', 'name', 'asins', 'brand',\n",
       "       'categories', 'primaryCategories', 'imageURLs', 'keys', 'manufacturer',\n",
       "       'manufacturerNumber', 'reviews.date', 'reviews.dateSeen',\n",
       "       'reviews.didPurchase', 'reviews.doRecommend', 'reviews.id',\n",
       "       'reviews.numHelpful', 'reviews.rating', 'reviews.sourceURLs',\n",
       "       'reviews.text', 'reviews.title', 'reviews.username', 'sourceURLs'],\n",
       "      dtype='object')"
      ]
     },
     "execution_count": 8,
     "metadata": {},
     "output_type": "execute_result"
    }
   ],
   "source": [
    "amazon.keys()"
   ]
  },
  {
   "cell_type": "code",
   "execution_count": 9,
   "metadata": {},
   "outputs": [
    {
     "data": {
      "text/plain": [
       "Amazon          16153\n",
       "Amazonbasics    12169\n",
       "AmazonBasics       10\n",
       "Name: brand, dtype: int64"
      ]
     },
     "execution_count": 9,
     "metadata": {},
     "output_type": "execute_result"
    }
   ],
   "source": [
    "amazon['brand'].value_counts()"
   ]
  },
  {
   "cell_type": "code",
   "execution_count": 10,
   "metadata": {},
   "outputs": [
    {
     "data": {
      "text/plain": [
       "Electronics                    13995\n",
       "Health & Beauty                12071\n",
       "Toys & Games,Electronics        1676\n",
       "Office Supplies,Electronics      386\n",
       "Electronics,Media                185\n",
       "Office Supplies                    9\n",
       "Animals & Pet Supplies             6\n",
       "Electronics,Furniture              2\n",
       "Home & Garden                      2\n",
       "Name: primaryCategories, dtype: int64"
      ]
     },
     "execution_count": 10,
     "metadata": {},
     "output_type": "execute_result"
    }
   ],
   "source": [
    "amazon['primaryCategories'].value_counts()"
   ]
  },
  {
   "cell_type": "code",
   "execution_count": 11,
   "metadata": {},
   "outputs": [
    {
     "data": {
      "text/plain": [
       "\"Good price but batteries just don't last as long as name brands. My hope was to power Christmas decorations through the holidays and save a few bucks. Many of these batteries did not make it. In the future I will stick with proven brands.\""
      ]
     },
     "execution_count": 11,
     "metadata": {},
     "output_type": "execute_result"
    }
   ],
   "source": [
    "amazon['reviews.text'][998]"
   ]
  },
  {
   "cell_type": "code",
   "execution_count": 12,
   "metadata": {},
   "outputs": [
    {
     "data": {
      "text/html": [
       "<div>\n",
       "<style scoped>\n",
       "    .dataframe tbody tr th:only-of-type {\n",
       "        vertical-align: middle;\n",
       "    }\n",
       "\n",
       "    .dataframe tbody tr th {\n",
       "        vertical-align: top;\n",
       "    }\n",
       "\n",
       "    .dataframe thead th {\n",
       "        text-align: right;\n",
       "    }\n",
       "</style>\n",
       "<table border=\"1\" class=\"dataframe\">\n",
       "  <thead>\n",
       "    <tr style=\"text-align: right;\">\n",
       "      <th></th>\n",
       "      <th>id</th>\n",
       "      <th>name</th>\n",
       "      <th>primaryCategories</th>\n",
       "      <th>reviews.text</th>\n",
       "      <th>reviews.rating</th>\n",
       "    </tr>\n",
       "  </thead>\n",
       "  <tbody>\n",
       "    <tr>\n",
       "      <th>0</th>\n",
       "      <td>AVpgNzjwLJeJML43Kpxn</td>\n",
       "      <td>AmazonBasics AAA Performance Alkaline Batterie...</td>\n",
       "      <td>Health &amp; Beauty</td>\n",
       "      <td>I order 3 of them and one of the item is bad q...</td>\n",
       "      <td>3</td>\n",
       "    </tr>\n",
       "    <tr>\n",
       "      <th>1</th>\n",
       "      <td>AVpgNzjwLJeJML43Kpxn</td>\n",
       "      <td>AmazonBasics AAA Performance Alkaline Batterie...</td>\n",
       "      <td>Health &amp; Beauty</td>\n",
       "      <td>Bulk is always the less expensive way to go fo...</td>\n",
       "      <td>4</td>\n",
       "    </tr>\n",
       "    <tr>\n",
       "      <th>2</th>\n",
       "      <td>AVpgNzjwLJeJML43Kpxn</td>\n",
       "      <td>AmazonBasics AAA Performance Alkaline Batterie...</td>\n",
       "      <td>Health &amp; Beauty</td>\n",
       "      <td>Well they are not Duracell but for the price i...</td>\n",
       "      <td>5</td>\n",
       "    </tr>\n",
       "    <tr>\n",
       "      <th>3</th>\n",
       "      <td>AVpgNzjwLJeJML43Kpxn</td>\n",
       "      <td>AmazonBasics AAA Performance Alkaline Batterie...</td>\n",
       "      <td>Health &amp; Beauty</td>\n",
       "      <td>Seem to work as well as name brand batteries a...</td>\n",
       "      <td>5</td>\n",
       "    </tr>\n",
       "    <tr>\n",
       "      <th>4</th>\n",
       "      <td>AVpgNzjwLJeJML43Kpxn</td>\n",
       "      <td>AmazonBasics AAA Performance Alkaline Batterie...</td>\n",
       "      <td>Health &amp; Beauty</td>\n",
       "      <td>These batteries are very long lasting the pric...</td>\n",
       "      <td>5</td>\n",
       "    </tr>\n",
       "  </tbody>\n",
       "</table>\n",
       "</div>"
      ],
      "text/plain": [
       "                     id                                               name  \\\n",
       "0  AVpgNzjwLJeJML43Kpxn  AmazonBasics AAA Performance Alkaline Batterie...   \n",
       "1  AVpgNzjwLJeJML43Kpxn  AmazonBasics AAA Performance Alkaline Batterie...   \n",
       "2  AVpgNzjwLJeJML43Kpxn  AmazonBasics AAA Performance Alkaline Batterie...   \n",
       "3  AVpgNzjwLJeJML43Kpxn  AmazonBasics AAA Performance Alkaline Batterie...   \n",
       "4  AVpgNzjwLJeJML43Kpxn  AmazonBasics AAA Performance Alkaline Batterie...   \n",
       "\n",
       "  primaryCategories                                       reviews.text  \\\n",
       "0   Health & Beauty  I order 3 of them and one of the item is bad q...   \n",
       "1   Health & Beauty  Bulk is always the less expensive way to go fo...   \n",
       "2   Health & Beauty  Well they are not Duracell but for the price i...   \n",
       "3   Health & Beauty  Seem to work as well as name brand batteries a...   \n",
       "4   Health & Beauty  These batteries are very long lasting the pric...   \n",
       "\n",
       "   reviews.rating  \n",
       "0               3  \n",
       "1               4  \n",
       "2               5  \n",
       "3               5  \n",
       "4               5  "
      ]
     },
     "execution_count": 12,
     "metadata": {},
     "output_type": "execute_result"
    }
   ],
   "source": [
    "amazon = amazon[['id', 'name', 'primaryCategories', 'reviews.text', 'reviews.rating']]\n",
    "amazon.head()"
   ]
  },
  {
   "cell_type": "code",
   "execution_count": 13,
   "metadata": {},
   "outputs": [
    {
     "data": {
      "text/html": [
       "<div>\n",
       "<style scoped>\n",
       "    .dataframe tbody tr th:only-of-type {\n",
       "        vertical-align: middle;\n",
       "    }\n",
       "\n",
       "    .dataframe tbody tr th {\n",
       "        vertical-align: top;\n",
       "    }\n",
       "\n",
       "    .dataframe thead th {\n",
       "        text-align: right;\n",
       "    }\n",
       "</style>\n",
       "<table border=\"1\" class=\"dataframe\">\n",
       "  <thead>\n",
       "    <tr style=\"text-align: right;\">\n",
       "      <th></th>\n",
       "      <th>id</th>\n",
       "      <th>name</th>\n",
       "      <th>primaryCategories</th>\n",
       "      <th>reviews.text</th>\n",
       "      <th>reviews.rating</th>\n",
       "    </tr>\n",
       "  </thead>\n",
       "  <tbody>\n",
       "    <tr>\n",
       "      <th>12135</th>\n",
       "      <td>AVpflnS7ilAPnD_xehxE</td>\n",
       "      <td>AmazonBasics 15.6-Inch Laptop and Tablet Bag</td>\n",
       "      <td>Electronics</td>\n",
       "      <td>This is a quality product, well constructed with durable materials. Many pockets for laptop accessories or other supplies. Sometimes I use it as just a briefcase and it also serves that purpose well. All in all, it's a great value for a reasonably low price.</td>\n",
       "      <td>5</td>\n",
       "    </tr>\n",
       "    <tr>\n",
       "      <th>19728</th>\n",
       "      <td>AVzYlGkFvKc47QAVeZRI</td>\n",
       "      <td>All-New Fire HD 8 Tablet with Alexa, 8 HD Display, 16 GB, Marine Blue - with Special Offers</td>\n",
       "      <td>Electronics</td>\n",
       "      <td>These were bought as gifts for elementary age kids. It is a great tablet which also gives the kids ability to download books to the Kindle app.</td>\n",
       "      <td>5</td>\n",
       "    </tr>\n",
       "    <tr>\n",
       "      <th>20364</th>\n",
       "      <td>AVzYlGkFvKc47QAVeZRI</td>\n",
       "      <td>All-New Fire HD 8 Tablet with Alexa, 8 HD Display, 16 GB, Marine Blue - with Special Offers</td>\n",
       "      <td>Electronics</td>\n",
       "      <td>I got this tablet because my wife bought the same thing when she upgraded her Kindle. I was shopping all kinds of tablets. But I didn't want to spend big money just to surf my emails and watch video. This does both very well. Super fast with my wi-fi! Great tablet for the money!</td>\n",
       "      <td>5</td>\n",
       "    </tr>\n",
       "    <tr>\n",
       "      <th>17948</th>\n",
       "      <td>AVpgdkC8ilAPnD_xsvyi</td>\n",
       "      <td>Fire Tablet, 7 Display, Wi-Fi, 16 GB - Includes Special Offers, Black</td>\n",
       "      <td>Electronics</td>\n",
       "      <td>It's a nice upgrade from the 6\" screen. Size is just right for small kids hands. Reading kindle books is much easier.</td>\n",
       "      <td>4</td>\n",
       "    </tr>\n",
       "    <tr>\n",
       "      <th>20707</th>\n",
       "      <td>AVzYlGkFvKc47QAVeZRI</td>\n",
       "      <td>All-New Fire HD 8 Tablet with Alexa, 8 HD Display, 16 GB, Marine Blue - with Special Offers</td>\n",
       "      <td>Electronics</td>\n",
       "      <td>I got the tablet for $50 but doesn't have the full Android operating system. Even with a software hack, not all the apps from Play Store were usable on this tablet. Returned it and got a Samsung Tablet.</td>\n",
       "      <td>3</td>\n",
       "    </tr>\n",
       "  </tbody>\n",
       "</table>\n",
       "</div>"
      ],
      "text/plain": [
       "                         id  \\\n",
       "12135  AVpflnS7ilAPnD_xehxE   \n",
       "19728  AVzYlGkFvKc47QAVeZRI   \n",
       "20364  AVzYlGkFvKc47QAVeZRI   \n",
       "17948  AVpgdkC8ilAPnD_xsvyi   \n",
       "20707  AVzYlGkFvKc47QAVeZRI   \n",
       "\n",
       "                                                                                              name  \\\n",
       "12135  AmazonBasics 15.6-Inch Laptop and Tablet Bag                                                  \n",
       "19728  All-New Fire HD 8 Tablet with Alexa, 8 HD Display, 16 GB, Marine Blue - with Special Offers   \n",
       "20364  All-New Fire HD 8 Tablet with Alexa, 8 HD Display, 16 GB, Marine Blue - with Special Offers   \n",
       "17948  Fire Tablet, 7 Display, Wi-Fi, 16 GB - Includes Special Offers, Black                         \n",
       "20707  All-New Fire HD 8 Tablet with Alexa, 8 HD Display, 16 GB, Marine Blue - with Special Offers   \n",
       "\n",
       "      primaryCategories  \\\n",
       "12135  Electronics        \n",
       "19728  Electronics        \n",
       "20364  Electronics        \n",
       "17948  Electronics        \n",
       "20707  Electronics        \n",
       "\n",
       "                                                                                                                                                                                                                                                                                  reviews.text  \\\n",
       "12135  This is a quality product, well constructed with durable materials. Many pockets for laptop accessories or other supplies. Sometimes I use it as just a briefcase and it also serves that purpose well. All in all, it's a great value for a reasonably low price.                        \n",
       "19728  These were bought as gifts for elementary age kids. It is a great tablet which also gives the kids ability to download books to the Kindle app.                                                                                                                                           \n",
       "20364  I got this tablet because my wife bought the same thing when she upgraded her Kindle. I was shopping all kinds of tablets. But I didn't want to spend big money just to surf my emails and watch video. This does both very well. Super fast with my wi-fi! Great tablet for the money!   \n",
       "17948  It's a nice upgrade from the 6\" screen. Size is just right for small kids hands. Reading kindle books is much easier.                                                                                                                                                                     \n",
       "20707  I got the tablet for $50 but doesn't have the full Android operating system. Even with a software hack, not all the apps from Play Store were usable on this tablet. Returned it and got a Samsung Tablet.                                                                                \n",
       "\n",
       "       reviews.rating  \n",
       "12135  5               \n",
       "19728  5               \n",
       "20364  5               \n",
       "17948  4               \n",
       "20707  3               "
      ]
     },
     "execution_count": 13,
     "metadata": {},
     "output_type": "execute_result"
    }
   ],
   "source": [
    "# Set option to display max column width\n",
    "pd.set_option('display.max_colwidth', 0)\n",
    "\n",
    "# Look at a sample of the training set\n",
    "amazon.sample(5)"
   ]
  },
  {
   "cell_type": "code",
   "execution_count": 14,
   "metadata": {},
   "outputs": [],
   "source": [
    "# Load the spacy vocab\n",
    "nlp = spacy.load('en_core_web_lg')"
   ]
  },
  {
   "cell_type": "code",
   "execution_count": 15,
   "metadata": {
    "scrolled": false
   },
   "outputs": [
    {
     "name": "stderr",
     "output_type": "stream",
     "text": [
      "100%|███████████████████████████████████████████████████████████████████████████| 28332/28332 [03:35<00:00, 131.20it/s]\n"
     ]
    }
   ],
   "source": [
    "# Create a 'lemmas' column\n",
    "def get_lemmas(x):\n",
    "    lemmas = []\n",
    "    for token in nlp(x):\n",
    "        if (token.is_stop==False) and (token.is_punct==False):\n",
    "            lemmas.append(token.lemma_)\n",
    "    return lemmas\n",
    "\n",
    "amazon['lemmas'] = amazon['reviews.text'].progress_apply(get_lemmas)"
   ]
  },
  {
   "cell_type": "code",
   "execution_count": 16,
   "metadata": {
    "scrolled": false
   },
   "outputs": [
    {
     "data": {
      "text/html": [
       "<div>\n",
       "<style scoped>\n",
       "    .dataframe tbody tr th:only-of-type {\n",
       "        vertical-align: middle;\n",
       "    }\n",
       "\n",
       "    .dataframe tbody tr th {\n",
       "        vertical-align: top;\n",
       "    }\n",
       "\n",
       "    .dataframe thead th {\n",
       "        text-align: right;\n",
       "    }\n",
       "</style>\n",
       "<table border=\"1\" class=\"dataframe\">\n",
       "  <thead>\n",
       "    <tr style=\"text-align: right;\">\n",
       "      <th></th>\n",
       "      <th>id</th>\n",
       "      <th>name</th>\n",
       "      <th>primaryCategories</th>\n",
       "      <th>reviews.text</th>\n",
       "      <th>reviews.rating</th>\n",
       "      <th>lemmas</th>\n",
       "    </tr>\n",
       "  </thead>\n",
       "  <tbody>\n",
       "    <tr>\n",
       "      <th>0</th>\n",
       "      <td>AVpgNzjwLJeJML43Kpxn</td>\n",
       "      <td>AmazonBasics AAA Performance Alkaline Batteries (36 Count)</td>\n",
       "      <td>Health &amp; Beauty</td>\n",
       "      <td>I order 3 of them and one of the item is bad quality. Is missing backup spring so I have to put a pcs of aluminum to make the battery work.</td>\n",
       "      <td>3</td>\n",
       "      <td>[order, 3, item, bad, quality, miss, backup, spring, pc, aluminum, battery, work]</td>\n",
       "    </tr>\n",
       "    <tr>\n",
       "      <th>1</th>\n",
       "      <td>AVpgNzjwLJeJML43Kpxn</td>\n",
       "      <td>AmazonBasics AAA Performance Alkaline Batteries (36 Count)</td>\n",
       "      <td>Health &amp; Beauty</td>\n",
       "      <td>Bulk is always the less expensive way to go for products like these</td>\n",
       "      <td>4</td>\n",
       "      <td>[bulk, expensive, way, product, like]</td>\n",
       "    </tr>\n",
       "    <tr>\n",
       "      <th>2</th>\n",
       "      <td>AVpgNzjwLJeJML43Kpxn</td>\n",
       "      <td>AmazonBasics AAA Performance Alkaline Batteries (36 Count)</td>\n",
       "      <td>Health &amp; Beauty</td>\n",
       "      <td>Well they are not Duracell but for the price i am happy.</td>\n",
       "      <td>5</td>\n",
       "      <td>[Duracell, price, happy]</td>\n",
       "    </tr>\n",
       "    <tr>\n",
       "      <th>3</th>\n",
       "      <td>AVpgNzjwLJeJML43Kpxn</td>\n",
       "      <td>AmazonBasics AAA Performance Alkaline Batteries (36 Count)</td>\n",
       "      <td>Health &amp; Beauty</td>\n",
       "      <td>Seem to work as well as name brand batteries at a much better price</td>\n",
       "      <td>5</td>\n",
       "      <td>[work, brand, battery, well, price]</td>\n",
       "    </tr>\n",
       "    <tr>\n",
       "      <th>4</th>\n",
       "      <td>AVpgNzjwLJeJML43Kpxn</td>\n",
       "      <td>AmazonBasics AAA Performance Alkaline Batteries (36 Count)</td>\n",
       "      <td>Health &amp; Beauty</td>\n",
       "      <td>These batteries are very long lasting the price is great.</td>\n",
       "      <td>5</td>\n",
       "      <td>[battery, long, last, price, great]</td>\n",
       "    </tr>\n",
       "  </tbody>\n",
       "</table>\n",
       "</div>"
      ],
      "text/plain": [
       "                     id  \\\n",
       "0  AVpgNzjwLJeJML43Kpxn   \n",
       "1  AVpgNzjwLJeJML43Kpxn   \n",
       "2  AVpgNzjwLJeJML43Kpxn   \n",
       "3  AVpgNzjwLJeJML43Kpxn   \n",
       "4  AVpgNzjwLJeJML43Kpxn   \n",
       "\n",
       "                                                         name  \\\n",
       "0  AmazonBasics AAA Performance Alkaline Batteries (36 Count)   \n",
       "1  AmazonBasics AAA Performance Alkaline Batteries (36 Count)   \n",
       "2  AmazonBasics AAA Performance Alkaline Batteries (36 Count)   \n",
       "3  AmazonBasics AAA Performance Alkaline Batteries (36 Count)   \n",
       "4  AmazonBasics AAA Performance Alkaline Batteries (36 Count)   \n",
       "\n",
       "  primaryCategories  \\\n",
       "0  Health & Beauty    \n",
       "1  Health & Beauty    \n",
       "2  Health & Beauty    \n",
       "3  Health & Beauty    \n",
       "4  Health & Beauty    \n",
       "\n",
       "                                                                                                                                  reviews.text  \\\n",
       "0  I order 3 of them and one of the item is bad quality. Is missing backup spring so I have to put a pcs of aluminum to make the battery work.   \n",
       "1  Bulk is always the less expensive way to go for products like these                                                                           \n",
       "2  Well they are not Duracell but for the price i am happy.                                                                                      \n",
       "3  Seem to work as well as name brand batteries at a much better price                                                                           \n",
       "4  These batteries are very long lasting the price is great.                                                                                     \n",
       "\n",
       "   reviews.rating  \\\n",
       "0  3                \n",
       "1  4                \n",
       "2  5                \n",
       "3  5                \n",
       "4  5                \n",
       "\n",
       "                                                                              lemmas  \n",
       "0  [order, 3, item, bad, quality, miss, backup, spring, pc, aluminum, battery, work]  \n",
       "1  [bulk, expensive, way, product, like]                                              \n",
       "2  [Duracell, price, happy]                                                           \n",
       "3  [work, brand, battery, well, price]                                                \n",
       "4  [battery, long, last, price, great]                                                "
      ]
     },
     "execution_count": 16,
     "metadata": {},
     "output_type": "execute_result"
    }
   ],
   "source": [
    "# Look at the first 5 rows to check my work\n",
    "amazon.head()"
   ]
  },
  {
   "cell_type": "code",
   "execution_count": 17,
   "metadata": {},
   "outputs": [],
   "source": [
    "# Create dictionary - Maps a number to a word\n",
    "id2word = corpora.Dictionary(amazon['lemmas'])"
   ]
  },
  {
   "cell_type": "code",
   "execution_count": 18,
   "metadata": {},
   "outputs": [
    {
     "data": {
      "text/plain": [
       "9727"
      ]
     },
     "execution_count": 18,
     "metadata": {},
     "output_type": "execute_result"
    }
   ],
   "source": [
    "# Look at the amount of words now\n",
    "len(id2word.keys())"
   ]
  },
  {
   "cell_type": "code",
   "execution_count": 19,
   "metadata": {},
   "outputs": [
    {
     "data": {
      "image/png": "[encoded data removed]",
      "text/plain": [
       "<Figure size 1008x432 with 1 Axes>"
      ]
     },
     "metadata": {},
     "output_type": "display_data"
    }
   ],
   "source": [
    "# Look at the count of the top 30 ngrams\n",
    "plot_frequency_distribution_of_ngrams(amazon['reviews.text'],\n",
    "                                      ngram_range=(1, 2),\n",
    "                                      num_ngrams=30)"
   ]
  },
  {
   "cell_type": "code",
   "execution_count": 20,
   "metadata": {},
   "outputs": [],
   "source": [
    "# Remove extreme values from the dataset\n",
    "id2word.filter_extremes(no_below=3, no_above=0.80)"
   ]
  },
  {
   "cell_type": "code",
   "execution_count": 21,
   "metadata": {},
   "outputs": [
    {
     "data": {
      "text/plain": [
       "4564"
      ]
     },
     "execution_count": 21,
     "metadata": {},
     "output_type": "execute_result"
    }
   ],
   "source": [
    "# Look at the amount of words now\n",
    "len(id2word.keys())"
   ]
  },
  {
   "cell_type": "code",
   "execution_count": 22,
   "metadata": {},
   "outputs": [],
   "source": [
    "corpus = [id2word.doc2bow(text) for text in amazon['lemmas']]"
   ]
  },
  {
   "cell_type": "code",
   "execution_count": 23,
   "metadata": {},
   "outputs": [
    {
     "data": {
      "text/plain": [
       "'They seem to work okay so far and the price was great.'"
      ]
     },
     "execution_count": 23,
     "metadata": {},
     "output_type": "execute_result"
    }
   ],
   "source": [
    "# Look at a random review\n",
    "amazon['reviews.text'][33]"
   ]
  },
  {
   "cell_type": "code",
   "execution_count": 24,
   "metadata": {},
   "outputs": [
    {
     "data": {
      "text/plain": [
       "[(11, 1), (19, 1), (22, 1), (178, 1), (179, 1)]"
      ]
     },
     "execution_count": 24,
     "metadata": {},
     "output_type": "execute_result"
    }
   ],
   "source": [
    "# Look at the corpus for the review above\n",
    "corpus[33]"
   ]
  },
  {
   "cell_type": "code",
   "execution_count": 25,
   "metadata": {},
   "outputs": [
    {
     "data": {
      "text/plain": [
       "[('work', 1), ('price', 1), ('great', 1), ('far', 1), ('okay', 1)]"
      ]
     },
     "execution_count": 25,
     "metadata": {},
     "output_type": "execute_result"
    }
   ],
   "source": [
    "# Human readable format of the corpus (term-frequency)\n",
    "[(id2word[word_id], word_count) for word_id, word_count in corpus[33]]"
   ]
  },
  {
   "cell_type": "code",
   "execution_count": 26,
   "metadata": {},
   "outputs": [
    {
     "name": "stdout",
     "output_type": "stream",
     "text": [
      "Wall time: 0 ns\n"
     ]
    }
   ],
   "source": [
    "# Train an LDA model\n",
    "%time\n",
    "lda_model = gensim.models.ldamodel.LdaModel(corpus=corpus,\n",
    "                                            id2word=id2word,\n",
    "                                            num_topics=10,\n",
    "                                            chunksize=100,\n",
    "                                            passes=10,\n",
    "                                            per_word_topics=True)"
   ]
  },
  {
   "cell_type": "code",
   "execution_count": 27,
   "metadata": {},
   "outputs": [],
   "source": [
    "lda_model.save('lda_model.model')"
   ]
  },
  {
   "cell_type": "code",
   "execution_count": 28,
   "metadata": {},
   "outputs": [],
   "source": [
    "lda =  models.LdaModel.load('lda_model.model')"
   ]
  },
  {
   "cell_type": "code",
   "execution_count": 29,
   "metadata": {},
   "outputs": [
    {
     "name": "stdout",
     "output_type": "stream",
     "text": [
      "[(0,\n",
      "  '0.509*\"great\" + 0.236*\"price\" + 0.023*\"hold\" + 0.018*\"lot\" + 0.017*\"Buy\" + '\n",
      "  '0.016*\"high\" + 0.015*\"point\" + 0.013*\"tell\" + 0.011*\"grandkid\" + '\n",
      "  '0.010*\"hope\"'),\n",
      " (1,\n",
      "  '0.181*\"tablet\" + 0.050*\"app\" + 0.048*\"read\" + 0.045*\"purchase\" + '\n",
      "  '0.041*\"like\" + 0.034*\"fire\" + 0.032*\"Fire\" + 0.019*\"movie\" + 0.018*\"screen\" '\n",
      "  '+ 0.018*\"download\"'),\n",
      " (2,\n",
      "  '0.215*\"good\" + 0.161*\"easy\" + 0.035*\"set\" + 0.034*\"lot\" + 0.029*\"amazon\" + '\n",
      "  '0.028*\"buy\" + 0.020*\"have\" + 0.019*\"cheap\" + 0.019*\"pay\" + 0.018*\"know\"'),\n",
      " (3,\n",
      "  '0.064*\"old\" + 0.043*\"get\" + 0.038*\"play\" + 0.036*\"buy\" + 0.029*\"screen\" + '\n",
      "  '0.028*\"size\" + 0.027*\"perfect\" + 0.025*\"8\" + 0.024*\"new\" + 0.023*\"Amazon\"'),\n",
      " (4,\n",
      "  '0.063*\"recommend\" + 0.045*\"video\" + 0.038*\"internet\" + 0.029*\"free\" + '\n",
      "  '0.028*\"Amazon\" + 0.027*\"card\" + 0.026*\"replace\" + 0.022*\"low\" + 0.022*\"4\" + '\n",
      "  '0.021*\"travel\"'),\n",
      " (5,\n",
      "  '0.190*\"use\" + 0.045*\"7\" + 0.038*\"2\" + 0.038*\"$\" + 0.036*\"web\" + 0.028*\"day\" '\n",
      "  '+ 0.028*\"value\" + 0.026*\"pretty\" + 0.025*\"add\" + 0.024*\"sale\"'),\n",
      " (6,\n",
      "  '0.132*\"work\" + 0.111*\"game\" + 0.085*\"need\" + 0.051*\"son\" + 0.049*\"thing\" + '\n",
      "  '0.047*\"watch\" + 0.045*\"iPad\" + 0.030*\"able\" + 0.029*\"picture\" + '\n",
      "  '0.028*\"take\"'),\n",
      " (7,\n",
      "  '0.080*\"book\" + 0.072*\"year\" + 0.069*\"use\" + 0.064*\"kindle\" + 0.050*\"time\" + '\n",
      "  '0.047*\"nice\" + 0.042*\"Kindle\" + 0.034*\"enjoy\" + 0.030*\"far\" + '\n",
      "  '0.023*\"charge\"'),\n",
      " (8,\n",
      "  '0.089*\"battery\" + 0.062*\"big\" + 0.059*\"life\" + 0.053*\"reading\" + '\n",
      "  '0.051*\"long\" + 0.045*\"user\" + 0.042*\"storage\" + 0.033*\"Amazon\" + 0.028*\"ad\" '\n",
      "  '+ 0.028*\"absolutely\"'),\n",
      " (9,\n",
      "  '0.212*\"love\" + 0.087*\"kid\" + 0.077*\"buy\" + 0.060*\"product\" + 0.053*\"want\" + '\n",
      "  '0.047*\"gift\" + 0.035*\"Christmas\" + 0.027*\"little\" + 0.026*\"quality\" + '\n",
      "  '0.018*\"money\"')]\n"
     ]
    }
   ],
   "source": [
    "# View the top 10 words per topic\n",
    "pprint(lda.print_topics())"
   ]
  },
  {
   "cell_type": "code",
   "execution_count": 30,
   "metadata": {},
   "outputs": [
    {
     "name": "stdout",
     "output_type": "stream",
     "text": [
      "\n",
      "Perplexity:  -7.404793173351102\n",
      "\n",
      "Coherence Score:  0.38089183765059736\n"
     ]
    }
   ],
   "source": [
    "# Compute Perplexity\n",
    "print('\\nPerplexity: ', lda.log_perplexity(corpus))  # a measure of how good the model is. lower the better.\n",
    "\n",
    "# Compute Coherence Score\n",
    "coherence_model_lda = CoherenceModel(model=lda, \n",
    "                                     texts=amazon['lemmas'], \n",
    "                                     dictionary=id2word, \n",
    "                                     coherence='c_v')\n",
    "coherence_lda = coherence_model_lda.get_coherence()\n",
    "print('\\nCoherence Score: ', coherence_lda)"
   ]
  },
  {
   "cell_type": "code",
   "execution_count": 31,
   "metadata": {},
   "outputs": [
    {
     "data": {
      "text/html": [
       "\n",
       "<link rel=\"stylesheet\" type=\"text/css\" href=\"https://cdn.rawgit.com/bmabey/pyLDAvis/files/ldavis.v1.0.0.css\">\n",
       "\n",
       "\n",
       "<div id=\"ldavis_el1683620837011698402988329031\"></div>\n",
       "<script type=\"text/javascript\">\n",
       "\n",
       "var ldavis_el1683620837011698402988329031_data = {\"mdsDat\": {\"x\": [0.18580911417872514, -0.09579535619655247, 0.17317591429261267, -0.2976346077867493, 0.16177077657563954, 0.08021496794842874, 0.06865611142947933, 0.01691572418165428, -0.0036762319370275617, -0.28943641268621023], \"y\": [-0.06180821177089188, 0.20967696085607296, -0.23542400682694914, -0.12801814685789342, -0.16477836468721474, 0.06558875612731126, 0.16601608844676463, 0.18192272426894396, 0.11042550011174809, -0.14360129966789187], \"topics\": [1, 2, 3, 4, 5, 6, 7, 8, 9, 10], \"cluster\": [1, 1, 1, 1, 1, 1, 1, 1, 1, 1], \"Freq\": [16.754828839386565, 15.74935354150419, 10.388180834534547, 10.190676572492102, 9.50355485831464, 9.435597348495692, 7.656542364731391, 7.475033590938006, 6.435601792608485, 6.410630256994383]}, \"tinfo\": {\"Term\": [\"great\", \"tablet\", \"love\", \"good\", \"price\", \"use\", \"easy\", \"work\", \"game\", \"kid\", \"battery\", \"buy\", \"old\", \"book\", \"year\", \"need\", \"kindle\", \"app\", \"product\", \"read\", \"big\", \"life\", \"purchase\", \"get\", \"recommend\", \"want\", \"reading\", \"time\", \"long\", \"play\", \"old\", \"get\", \"play\", \"size\", \"perfect\", \"8\", \"new\", \"fast\", \"look\", \"daughter\", \"wife\", \"go\", \"small\", \"overall\", \"camera\", \"give\", \"excellent\", \"version\", \"issue\", \"worth\", \"slow\", \"color\", \"run\", \"definitely\", \"break\", \"simple\", \"option\", \"hour\", \"yr\", \"black\", \"device\", \"store\", \"screen\", \"buy\", \"Amazon\", \"try\", \"think\", \"happy\", \"watch\", \"tablet\", \"app\", \"read\", \"purchase\", \"fire\", \"Fire\", \"movie\", \"download\", \"child\", \"light\", \"access\", \"case\", \"hd\", \"awesome\", \"email\", \"right\", \"3\", \"music\", \"Google\", \"grandson\", \"phone\", \"HD\", \"load\", \"HD8\", \"keep\", \"sure\", \"mom\", \"pleased\", \"library\", \"say\", \"like\", \"way\", \"screen\", \"Kindle\", \"feature\", \"love\", \"kid\", \"product\", \"want\", \"gift\", \"Christmas\", \"little\", \"quality\", \"money\", \"learn\", \"beat\", \"better\", \"amazing\", \"fine\", \"wish\", \"online\", \"present\", \"tv\", \"feel\", \"inexpensive\", \"replacement\", \"sound\", \"friend\", \"hard\", \"niece\", \"let\", \"adult\", \"daily\", \"wonderful\", \"functionality\", \"buy\", \"happy\", \"well\", \"Amazon\", \"book\", \"year\", \"kindle\", \"time\", \"nice\", \"enjoy\", \"far\", \"charge\", \"reader\", \"memory\", \"upgrade\", \"item\", \"friendly\", \"expect\", \"e\", \"check\", \"navigate\", \"carry\", \"offer\", \"end\", \"compare\", \"affordable\", \"build\", \"unit\", \"gb\", \"glad\", \"browser\", \"people\", \"program\", \"dollar\", \"Kindle\", \"use\", \"well\", \"feature\", \"resolution\", \"good\", \"easy\", \"set\", \"amazon\", \"have\", \"cheap\", \"pay\", \"know\", \"deal\", \"available\", \"make\", \"basic\", \"help\", \"granddaughter\", \"start\", \"husband\", \"expensive\", \"prime\", \"especially\", \"durable\", \"google\", \"family\", \"extra\", \"plenty\", \"pick\", \"see\", \"sell\", \"law\", \"couple\", \"impressed\", \"lot\", \"find\", \"buy\", \"Amazon\", \"well\", \"battery\", \"big\", \"life\", \"reading\", \"long\", \"user\", \"storage\", \"ad\", \"absolutely\", \"etc\", \"fact\", \"member\", \"young\", \"complaint\", \"plus\", \"star\", \"actually\", \"last\", \"receive\", \"longer\", \"wrong\", \"leave\", \"disappoint\", \"boy\", \"lose\", \"type\", \"flight\", \"simply\", \"technology\", \"capacity\", \"one\", \"Amazon\", \"recommend\", \"video\", \"internet\", \"free\", \"card\", \"replace\", \"low\", \"4\", \"travel\", \"5\", \"clear\", \"model\", \"large\", \"display\", \"age\", \"highly\", \"cost\", \"bit\", \"previous\", \"GB\", \"tech\", \"space\", \"original\", \"sd\", \"SD\", \"cover\", \"experience\", \"ability\", \"bright\", \"huge\", \"come\", \"Amazon\", \"like\", \"work\", \"game\", \"need\", \"son\", \"thing\", \"iPad\", \"able\", \"picture\", \"take\", \"control\", \"problem\", \"parental\", \"Netflix\", \"Prime\", \"computer\", \"android\", \"thank\", \"educational\", \"Samsung\", \"playing\", \"stuff\", \"setup\", \"exactly\", \"require\", \"youtube\", \"lack\", \"close\", \"live\", \"appropriate\", \"minute\", \"watch\", \"surf\", \"device\", \"great\", \"price\", \"hold\", \"Buy\", \"high\", \"point\", \"tell\", \"grandkid\", \"hope\", \"function\", \"instal\", \"heavy\", \"surprised\", \"pass\", \"Ipad\", \"bulky\", \"deliver\", \"got\", \"os\", \"fraction\", \"course\", \"enjoyment\", \"entry\", \"Freetime\", \"half\", \"backup\", \"business\", \"frequently\", \"watching\", \"later\", \"lot\", \"7\", \"2\", \"$\", \"web\", \"day\", \"value\", \"pretty\", \"add\", \"sale\", \"Friday\", \"show\", \"ipad\", \"Black\", \"10\", \"inch\", \"limit\", \"ease\", \"100\", \"stream\", \"favorite\", \"school\", \"lightweight\", \"touch\", \"keyboard\", \"stop\", \"laptop\", \"tool\", \"parent\", \"Alexa\", \"limited\", \"use\"], \"Freq\": [10563.0, 9212.0, 7092.0, 6601.0, 4902.0, 6201.0, 4931.0, 3180.0, 2687.0, 2900.0, 2707.0, 5427.0, 3484.0, 2637.0, 2377.0, 2054.0, 2089.0, 2523.0, 2015.0, 2463.0, 1883.0, 1793.0, 2280.0, 2315.0, 1567.0, 1779.0, 1615.0, 1632.0, 1560.0, 2039.0, 3483.3272043543393, 2314.3801600522584, 2038.6177445094747, 1522.417054831402, 1485.500891617499, 1339.1039374613, 1278.3907927541927, 1187.271501165228, 1072.6750215377226, 1055.9168177921595, 791.3723882272485, 721.1849723723395, 628.1138535933677, 612.2208637727525, 538.3711736776729, 511.2112273045251, 508.8580225884018, 504.27612826582447, 467.6027040874649, 419.0079647476952, 418.695217418882, 415.7530824053485, 393.74043162479535, 381.43142855320696, 373.9294686898486, 371.58391405322, 332.78625908413716, 325.9870244506717, 319.53003021565, 312.55866879355546, 1179.1219520067557, 752.2346318622122, 1582.3556289896783, 1960.6698766314416, 1236.4357436268494, 402.13435552659786, 405.06083807484964, 427.88162916096337, 445.91694321689596, 9211.466678433433, 2522.1839165732663, 2462.6302190224565, 2279.118614380633, 1742.0691775380365, 1631.1956552192876, 947.9203699595218, 897.9028713273119, 738.4334428659103, 718.4503439929366, 587.6125518408109, 581.5011092173133, 566.4151218412788, 467.80569103457225, 462.03345497868514, 437.5223032466982, 403.08432098819526, 392.15910192617497, 378.93271875604637, 369.8425031446799, 360.98057781113823, 359.6581452889049, 341.9516097687875, 320.26251948279923, 319.75815669098694, 299.8395165276882, 299.27067137162857, 285.77218965566857, 275.95901934933164, 274.6461196197585, 2063.8040995318174, 419.64219047461944, 911.1461202075317, 753.9986718779131, 538.4033772552106, 7091.47009843481, 2899.0947653076723, 2014.766767558016, 1778.6263141679906, 1575.0527225481924, 1176.3171141487549, 895.2319650279857, 867.5749965343946, 592.8210584333225, 554.2099452895998, 444.3082389888715, 356.5889252433253, 355.36819216813973, 346.49906085861846, 331.7796474188366, 306.3237430405648, 300.65444894292375, 288.6113180234203, 287.24838452329556, 264.4572792866808, 258.98766491675224, 256.96375063956765, 248.62875246010648, 242.14448173351295, 221.09633805827417, 219.1202451879843, 214.72090978991804, 169.717861021071, 159.08511055058855, 157.79235672035367, 2595.3084744844336, 558.8096625241258, 275.8137478513923, 300.77034369346666, 2636.254085719992, 2376.425415995734, 2088.916554319864, 1631.700173753755, 1557.5464994801985, 1105.97305285238, 974.199372175931, 753.8787092389833, 576.5311586013281, 532.8215935262551, 523.2547480986191, 467.8861909103698, 458.43940399909474, 449.5386047721169, 418.4508570307967, 403.4514402667138, 341.24337409019074, 284.88520657126406, 269.76285380470654, 249.9325511117068, 247.93718285540547, 240.61263378764687, 229.57234710624755, 212.53409367861383, 211.52815208366349, 182.44807844351385, 180.20654737249643, 178.14087968151307, 172.6430445110832, 171.1415171561569, 1377.1463646376696, 2272.747999518316, 590.3684383141292, 542.4597026525369, 199.3308251747902, 6600.592295659548, 4930.957681693513, 1065.0384737043819, 892.0864382803045, 626.929724905976, 596.2135023367498, 580.7778559762813, 553.5524817670531, 540.7091218933771, 497.4011002341415, 468.52676392934563, 463.8141386266156, 451.8982592682073, 419.1357787084652, 379.1071824446525, 371.54254527952884, 353.65720731588266, 350.79920047339715, 337.77439253560584, 320.96238438860644, 316.87848975989704, 304.49157625140975, 275.8928662932208, 209.56918826658585, 191.64996439165827, 181.84811484632894, 175.62768068167168, 169.60516650262036, 168.4255399794391, 154.1075006457248, 1053.2795200867606, 424.7434259913939, 870.6967489776916, 513.0753468022682, 304.05026007407207, 2706.721915627761, 1882.7652238523792, 1792.7409544307038, 1614.2367901205212, 1559.9390213331853, 1380.2330973657145, 1278.1711642523505, 862.7411038697569, 858.9853781936258, 750.8283128335353, 690.5753147633494, 682.4247766952257, 590.1587720184974, 539.0083664241783, 537.1167853862514, 497.26320400432365, 481.3609193392565, 394.04984909101466, 389.18354443725326, 371.64686663827405, 357.47667476604994, 269.70754702201947, 242.89481521173448, 212.24256049827196, 200.57822174351682, 193.54410139098098, 192.3414489169662, 187.13295453814723, 184.38816665862777, 182.4805857780937, 267.83691174793057, 989.6531592247908, 1567.0211606865944, 1099.1784058603462, 927.5175300459388, 721.6727143059088, 668.7405541629079, 652.8690892791675, 548.5667910209827, 543.348336606359, 527.7202505596872, 458.93336904016434, 455.49069236227064, 455.28415844081184, 448.0101165245953, 419.5332746322284, 383.89570848857016, 368.74837729270615, 334.32340446097146, 323.2163413551687, 320.9660415841916, 319.3928188860237, 284.97863273682395, 271.78557702428714, 246.49726928953328, 241.07968673548973, 220.1954963822758, 219.53334587016005, 213.5922757229846, 212.3543141576792, 196.67473262658135, 182.79103024060498, 370.3905519615348, 693.2149158530707, 429.7887648008447, 3179.176919591237, 2686.446283223126, 2053.7673699273028, 1235.0419271923774, 1181.0691141535954, 1093.2737011353165, 730.9326792995965, 697.2892629806163, 682.7931252120685, 650.6213501349764, 628.5031705666275, 527.0400859876237, 489.3119558316452, 444.18102563793167, 442.0684098630721, 323.8682241462355, 305.27798672990065, 242.31637371688237, 197.21607090574332, 183.01697833080158, 182.21279622433826, 161.75854352154124, 157.08864234512495, 134.15704081112702, 132.10152579424917, 124.82472689824206, 123.61717946878088, 122.09002048245308, 106.9152077591285, 97.18474909982088, 1138.9861923324615, 210.5487723101288, 165.62426259149424, 10562.579979498754, 4901.36171094277, 471.20518358262996, 342.83730873836913, 332.42127591710636, 306.4727877710235, 265.3020998118622, 220.21309487569977, 203.06860225178863, 196.30352808442976, 130.9318566281757, 124.69323477706735, 116.17193733427466, 116.01769883963756, 106.10254240827261, 100.45143225616982, 74.08557128321289, 65.1337457468167, 65.18838215033466, 61.56445413817122, 61.356743978914686, 61.19800118281109, 60.54858433629012, 57.006594014108416, 56.93446236240513, 53.17233638840212, 48.60545316258186, 44.91326468484674, 42.773600664723666, 39.96467090738982, 365.93865305877523, 935.5128521055015, 788.7218477528331, 783.3895754071654, 743.4906584793773, 583.5648144557164, 576.6124328411839, 532.1695380695852, 519.1151146053484, 490.975565888746, 472.88465382782834, 431.0570573972064, 406.82766970708684, 388.4757130822847, 337.6565217635162, 318.02497305951954, 250.7644417830698, 216.81129814228876, 216.11243200828935, 212.02272100292927, 208.03154681030134, 200.47610141536381, 198.90885193757777, 196.01820126412946, 192.70222665423108, 191.24142851527316, 189.2918554338162, 177.99644020859017, 175.34771214181646, 174.15568052529403, 156.76075571357933, 3927.4834784990885], \"Total\": [10563.0, 9212.0, 7092.0, 6601.0, 4902.0, 6201.0, 4931.0, 3180.0, 2687.0, 2900.0, 2707.0, 5427.0, 3484.0, 2637.0, 2377.0, 2054.0, 2089.0, 2523.0, 2015.0, 2463.0, 1883.0, 1793.0, 2280.0, 2315.0, 1567.0, 1779.0, 1615.0, 1632.0, 1560.0, 2039.0, 3484.237106189059, 2315.290094394277, 2039.527700559164, 1523.327056276452, 1486.4108324605002, 1340.013967376467, 1279.3007887041304, 1188.1815807019088, 1073.5850454127, 1056.8266699297951, 792.282363423795, 722.0949114033707, 629.0237884877337, 613.1308690323777, 539.2811306748578, 512.1212328839968, 509.7679835565325, 505.1860575808043, 468.51265077617165, 419.9179241061204, 419.60512953634446, 416.6629721128478, 394.6503992616752, 382.3414154617479, 374.83933186840824, 372.49388767298075, 333.69620097285036, 326.8969673155487, 320.4398375946032, 313.46885401653435, 1345.563813988894, 872.8136960333984, 2494.3438486359173, 5427.406326275172, 3733.586785810338, 466.22383665245053, 586.9859262025803, 987.5185791859541, 1585.7207463813036, 9212.393910809324, 2523.111110759239, 2463.5574451790567, 2280.0458512202, 1742.9964496629677, 1632.122902533951, 948.8476092438619, 898.8300556011341, 739.3605362843114, 719.3775984139043, 588.5397648308405, 582.4282362266781, 567.3424462911988, 468.732917070301, 462.9608279998084, 438.44956913287797, 404.0114315041834, 393.08638976009996, 379.8598951062418, 370.7696024469223, 361.907837330745, 360.5854187718298, 342.87879961746677, 321.18988862360817, 320.6853531615444, 300.7668177609436, 300.1979343843394, 286.69938517591174, 276.8863516665999, 275.57338972841615, 2494.42516799224, 488.95487589426403, 2494.3438486359173, 2131.9893818640303, 1081.7074851089653, 7092.3824804399665, 2900.0071118256024, 2015.6792400756356, 1779.538863983654, 1575.9650950244072, 1177.2294662521535, 896.1444242438756, 868.4875724491751, 593.7335394538163, 555.1223202786027, 445.22084931155234, 357.5014744073363, 356.28062246295474, 347.41177932078034, 332.6921791371084, 307.2363453886433, 301.56687385272596, 289.52389341240314, 288.16095932990345, 265.36988597709234, 259.9002742145351, 257.8763258328758, 249.54112747165084, 243.05702141237236, 222.00862331743704, 220.03285648253356, 215.63323884291916, 170.63037404907433, 159.99756369226694, 158.7051330401236, 5427.406326275172, 987.5185791859541, 1170.9661235383955, 3733.586785810338, 2637.166336977671, 2377.337634349729, 2089.828772062711, 1632.6124004063488, 1558.458836625472, 1106.8852629484115, 975.1117030945803, 754.790919716634, 577.4433114908607, 533.7339611111488, 524.1669760250552, 468.79841086737133, 459.35166080018854, 450.4509454244227, 419.36304378079404, 404.36389743236936, 342.1555467028889, 285.7975638208456, 270.6752138494636, 250.84486747475373, 248.8495722424616, 241.5249677636853, 230.48471564061109, 213.4464616545645, 212.44060902690902, 183.36032368274644, 181.11899402941586, 179.0532347314046, 173.55533823826795, 172.05424690336983, 2131.9893818640303, 6201.053767680269, 1170.9661235383955, 1081.7074851089653, 376.5382850631464, 6601.49136980352, 4931.856711210195, 1065.9374727955178, 892.9854688112898, 627.8287504619628, 597.1125957823286, 581.6770244970047, 554.4515283170687, 541.6081756163092, 498.30018618631414, 469.4257985835198, 464.7132825150591, 452.7972652214634, 420.0347150936554, 380.00631435601304, 372.44165937331655, 354.5563407169625, 351.6982527995633, 338.6734766549781, 321.8613188991496, 317.77762948946656, 305.3906384152988, 276.7919660583965, 210.46826648022258, 192.5489567841415, 182.74717578851832, 176.52707760186502, 170.50416678278475, 169.3247578377099, 155.0068007830864, 1420.0131893444027, 803.4812164375277, 5427.406326275172, 3733.586785810338, 1170.9661235383955, 2707.517875898731, 1883.5612312589046, 1793.5368951911028, 1615.0328190263442, 1560.7349771550305, 1381.0290855411936, 1278.9671919897723, 863.5371293274205, 859.7813530686999, 751.6243418634933, 691.3713320270459, 683.2208322998404, 590.9547074065161, 539.8043445788186, 537.9127438839449, 498.05920765591276, 482.1569920613769, 394.84577243942573, 389.979528510872, 372.44285817455875, 358.2726819163355, 270.5035505806227, 243.6908274674967, 213.03851572524658, 201.3742356334911, 194.3401219084213, 193.13755817853172, 187.92897734708578, 185.18418928750043, 183.27668324416732, 338.5204405011717, 3733.586785810338, 1567.9213056552423, 1100.0785804407608, 928.417737237055, 722.5728324483212, 669.6406942248589, 653.7693064496347, 549.4669864329736, 544.248452089142, 528.6204638680202, 459.8334714996886, 456.39085538813794, 456.1843067406901, 448.9103053561251, 420.4334761329986, 384.7957825704723, 369.64850263196905, 335.2236327231245, 324.1165242631753, 321.8662191937997, 320.29299751094885, 285.8788317332155, 272.6857160532556, 247.39743072144074, 241.97983143874072, 221.09567232808692, 220.43345054235218, 214.49243367801864, 213.25446280637766, 197.57491930690588, 183.69125720609446, 751.7747327049491, 3733.586785810338, 2494.42516799224, 3180.079641797964, 2687.348931506762, 2054.670057155521, 1235.9445775001423, 1181.971813176033, 1094.1764611851795, 731.8353863722539, 698.1920168786787, 683.6958261487581, 651.5239502980601, 629.4058608260541, 527.9426762078648, 490.2146980085014, 445.0839622254368, 442.9711548189435, 324.77095203565364, 306.1806876935001, 243.21895621077346, 198.11881502431652, 183.91957549504335, 183.11548230634347, 162.66117651603813, 157.99130491297586, 135.06002958723712, 133.0041950673344, 125.72750206139051, 124.51991602503539, 122.9926861328247, 107.81780108712562, 98.0874864259459, 1585.7207463813036, 432.11646180792894, 1345.563813988894, 10563.470965263636, 4902.252729546345, 472.0962052281625, 343.7283980638473, 333.3123451062049, 307.3638161559555, 266.1932388002798, 221.10401804294148, 203.9597358736782, 197.19453903319646, 131.82288668949596, 125.5842792445171, 117.06306064930438, 116.90890196355787, 106.99355002845748, 101.34271305779389, 74.97662248651037, 66.02480965093065, 66.08146793744288, 62.4554659312779, 62.247798798010606, 62.09366374778154, 61.439519986290186, 57.89780133624377, 57.82590838911311, 54.06381041000056, 49.496574738987135, 45.804383284492104, 43.66498268138885, 40.855948532900946, 1420.0131893444027, 936.4180004596043, 789.6268598943506, 784.2947062365839, 744.3958231295196, 584.4698887380388, 577.5175256972857, 533.0746091987083, 520.0202346573346, 491.8806263597731, 473.78974378586685, 431.9621409726202, 407.7327894718332, 389.38081890183196, 338.56167999090087, 318.9301266265101, 251.66948290322398, 217.71633306377328, 217.01760446950505, 212.92786467140073, 208.93667961563966, 201.38113485418856, 199.81394726158524, 196.9232744929617, 193.6074532225199, 192.14660577340047, 190.19692182991156, 178.90146655961516, 176.2527131163729, 175.06077789427042, 157.66586898621065, 6201.053767680269], \"Category\": [\"Default\", \"Default\", \"Default\", \"Default\", \"Default\", \"Default\", \"Default\", \"Default\", \"Default\", \"Default\", \"Default\", \"Default\", \"Default\", \"Default\", \"Default\", \"Default\", \"Default\", \"Default\", \"Default\", \"Default\", \"Default\", \"Default\", \"Default\", \"Default\", \"Default\", \"Default\", \"Default\", \"Default\", \"Default\", \"Default\", \"Topic1\", \"Topic1\", \"Topic1\", \"Topic1\", \"Topic1\", \"Topic1\", \"Topic1\", \"Topic1\", \"Topic1\", \"Topic1\", \"Topic1\", \"Topic1\", \"Topic1\", \"Topic1\", \"Topic1\", \"Topic1\", \"Topic1\", \"Topic1\", \"Topic1\", \"Topic1\", \"Topic1\", \"Topic1\", \"Topic1\", \"Topic1\", \"Topic1\", \"Topic1\", \"Topic1\", \"Topic1\", \"Topic1\", \"Topic1\", \"Topic1\", \"Topic1\", \"Topic1\", \"Topic1\", \"Topic1\", \"Topic1\", \"Topic1\", \"Topic1\", \"Topic1\", \"Topic2\", \"Topic2\", \"Topic2\", \"Topic2\", \"Topic2\", \"Topic2\", \"Topic2\", \"Topic2\", \"Topic2\", \"Topic2\", \"Topic2\", \"Topic2\", \"Topic2\", \"Topic2\", \"Topic2\", \"Topic2\", \"Topic2\", \"Topic2\", \"Topic2\", \"Topic2\", \"Topic2\", \"Topic2\", \"Topic2\", \"Topic2\", \"Topic2\", \"Topic2\", \"Topic2\", \"Topic2\", \"Topic2\", \"Topic2\", \"Topic2\", \"Topic2\", \"Topic2\", \"Topic2\", \"Topic2\", \"Topic3\", \"Topic3\", \"Topic3\", \"Topic3\", \"Topic3\", \"Topic3\", \"Topic3\", \"Topic3\", \"Topic3\", \"Topic3\", \"Topic3\", \"Topic3\", \"Topic3\", \"Topic3\", \"Topic3\", \"Topic3\", \"Topic3\", \"Topic3\", \"Topic3\", \"Topic3\", \"Topic3\", \"Topic3\", \"Topic3\", \"Topic3\", \"Topic3\", \"Topic3\", \"Topic3\", \"Topic3\", \"Topic3\", \"Topic3\", \"Topic3\", \"Topic3\", \"Topic3\", \"Topic3\", \"Topic4\", \"Topic4\", \"Topic4\", \"Topic4\", \"Topic4\", \"Topic4\", \"Topic4\", \"Topic4\", \"Topic4\", \"Topic4\", \"Topic4\", \"Topic4\", \"Topic4\", \"Topic4\", \"Topic4\", \"Topic4\", \"Topic4\", \"Topic4\", \"Topic4\", \"Topic4\", \"Topic4\", \"Topic4\", \"Topic4\", \"Topic4\", \"Topic4\", \"Topic4\", \"Topic4\", \"Topic4\", \"Topic4\", \"Topic4\", \"Topic4\", \"Topic4\", \"Topic4\", \"Topic4\", \"Topic4\", \"Topic5\", \"Topic5\", \"Topic5\", \"Topic5\", \"Topic5\", \"Topic5\", \"Topic5\", \"Topic5\", \"Topic5\", \"Topic5\", \"Topic5\", \"Topic5\", \"Topic5\", \"Topic5\", \"Topic5\", \"Topic5\", \"Topic5\", \"Topic5\", \"Topic5\", \"Topic5\", \"Topic5\", \"Topic5\", \"Topic5\", \"Topic5\", \"Topic5\", \"Topic5\", \"Topic5\", \"Topic5\", \"Topic5\", \"Topic5\", \"Topic5\", \"Topic5\", \"Topic5\", \"Topic5\", \"Topic5\", \"Topic6\", \"Topic6\", \"Topic6\", \"Topic6\", \"Topic6\", \"Topic6\", \"Topic6\", \"Topic6\", \"Topic6\", \"Topic6\", \"Topic6\", \"Topic6\", \"Topic6\", \"Topic6\", \"Topic6\", \"Topic6\", \"Topic6\", \"Topic6\", \"Topic6\", \"Topic6\", \"Topic6\", \"Topic6\", \"Topic6\", \"Topic6\", \"Topic6\", \"Topic6\", \"Topic6\", \"Topic6\", \"Topic6\", \"Topic6\", \"Topic6\", \"Topic6\", \"Topic7\", \"Topic7\", \"Topic7\", \"Topic7\", \"Topic7\", \"Topic7\", \"Topic7\", \"Topic7\", \"Topic7\", \"Topic7\", \"Topic7\", \"Topic7\", \"Topic7\", \"Topic7\", \"Topic7\", \"Topic7\", \"Topic7\", \"Topic7\", \"Topic7\", \"Topic7\", \"Topic7\", \"Topic7\", \"Topic7\", \"Topic7\", \"Topic7\", \"Topic7\", \"Topic7\", \"Topic7\", \"Topic7\", \"Topic7\", \"Topic7\", \"Topic7\", \"Topic7\", \"Topic8\", \"Topic8\", \"Topic8\", \"Topic8\", \"Topic8\", \"Topic8\", \"Topic8\", \"Topic8\", \"Topic8\", \"Topic8\", \"Topic8\", \"Topic8\", \"Topic8\", \"Topic8\", \"Topic8\", \"Topic8\", \"Topic8\", \"Topic8\", \"Topic8\", \"Topic8\", \"Topic8\", \"Topic8\", \"Topic8\", \"Topic8\", \"Topic8\", \"Topic8\", \"Topic8\", \"Topic8\", \"Topic8\", \"Topic8\", \"Topic8\", \"Topic8\", \"Topic8\", \"Topic9\", \"Topic9\", \"Topic9\", \"Topic9\", \"Topic9\", \"Topic9\", \"Topic9\", \"Topic9\", \"Topic9\", \"Topic9\", \"Topic9\", \"Topic9\", \"Topic9\", \"Topic9\", \"Topic9\", \"Topic9\", \"Topic9\", \"Topic9\", \"Topic9\", \"Topic9\", \"Topic9\", \"Topic9\", \"Topic9\", \"Topic9\", \"Topic9\", \"Topic9\", \"Topic9\", \"Topic9\", \"Topic9\", \"Topic9\", \"Topic9\", \"Topic10\", \"Topic10\", \"Topic10\", \"Topic10\", \"Topic10\", \"Topic10\", \"Topic10\", \"Topic10\", \"Topic10\", \"Topic10\", \"Topic10\", \"Topic10\", \"Topic10\", \"Topic10\", \"Topic10\", \"Topic10\", \"Topic10\", \"Topic10\", \"Topic10\", \"Topic10\", \"Topic10\", \"Topic10\", \"Topic10\", \"Topic10\", \"Topic10\", \"Topic10\", \"Topic10\", \"Topic10\", \"Topic10\", \"Topic10\", \"Topic10\"], \"logprob\": [30.0, 29.0, 28.0, 27.0, 26.0, 25.0, 24.0, 23.0, 22.0, 21.0, 20.0, 19.0, 18.0, 17.0, 16.0, 15.0, 14.0, 13.0, 12.0, 11.0, 10.0, 9.0, 8.0, 7.0, 6.0, 5.0, 4.0, 3.0, 2.0, 1.0, -2.74180006980896, -3.150599956512451, -3.2774999141693115, -3.5694000720977783, -3.5940001010894775, -3.697700023651123, -3.7441000938415527, -3.8180999755859375, -3.919600009918213, -3.93530011177063, -4.223700046539307, -4.3165998458862305, -4.454800128936768, -4.480400085449219, -4.60890007019043, -4.660699844360352, -4.665299892425537, -4.6743998527526855, -4.749899864196777, -4.859600067138672, -4.860400199890137, -4.867400169372559, -4.921800136566162, -4.95359992980957, -4.973400115966797, -4.979700088500977, -5.090000152587891, -5.110599994659424, -5.1305999755859375, -5.152699947357178, -3.825000047683716, -4.274400234222412, -3.5308001041412354, -3.316499948501587, -3.7774999141693115, -4.900700092315674, -4.893499851226807, -4.838600158691406, -4.797399997711182, -1.7073999643325806, -3.002700090408325, -3.026599884033203, -3.104099988937378, -3.37280011177063, -3.438499927520752, -3.981300115585327, -4.0355000495910645, -4.231100082397461, -4.258500099182129, -4.459499835968018, -4.46999979019165, -4.496300220489502, -4.687600135803223, -4.699999809265137, -4.754499912261963, -4.83650016784668, -4.863900184631348, -4.898200035095215, -4.922500133514404, -4.946800231933594, -4.950500011444092, -5.000899791717529, -5.066500186920166, -5.067999839782715, -5.132400035858154, -5.134300231933594, -5.1803998947143555, -5.215400218963623, -5.220099925994873, -3.2032999992370605, -4.796199798583984, -4.020899772644043, -4.21019983291626, -4.546999931335449, -1.5528000593185425, -2.4472999572753906, -2.811199903488159, -2.9358999729156494, -3.0573999881744385, -3.349299907684326, -3.6224000453948975, -3.6538000106811523, -4.034599781036377, -4.101900100708008, -4.322999954223633, -4.542900085449219, -4.546299934387207, -4.571599960327148, -4.614999771118164, -4.694799900054932, -4.713500022888184, -4.75439977645874, -4.759099960327148, -4.841800212860107, -4.86269998550415, -4.870500087738037, -4.903500080108643, -4.929900169372559, -5.020899772644043, -5.029900074005127, -5.050099849700928, -5.285299777984619, -5.349999904632568, -5.3582000732421875, -2.558000087738037, -4.093699932098389, -4.799799919128418, -4.713099956512451, -2.523200035095215, -2.6268999576568604, -2.7558999061584473, -3.0028998851776123, -3.0494000911712646, -3.3917999267578125, -3.518699884414673, -3.775099992752075, -4.043300151824951, -4.122099876403809, -4.140200138092041, -4.252099990844727, -4.272500038146973, -4.292099952697754, -4.363699913024902, -4.400199890136719, -4.567699909210205, -4.748199939727783, -4.802700042724609, -4.8790998458862305, -4.8871002197265625, -4.917099952697754, -4.964099884033203, -5.041200160980225, -5.045899868011475, -5.19379997253418, -5.206200122833252, -5.217700004577637, -5.249100208282471, -5.257800102233887, -3.172499895095825, -2.6714999675750732, -4.019499778747559, -4.1041998863220215, -5.105299949645996, -1.535599946975708, -1.8272000551223755, -3.3596999645233154, -3.536900043487549, -3.8896000385284424, -3.9398999214172363, -3.966099977493286, -4.014100074768066, -4.037600040435791, -4.121099948883057, -4.1809000968933105, -4.190999984741211, -4.2170000076293945, -4.292300224304199, -4.3927001953125, -4.412799835205078, -4.462100028991699, -4.470300197601318, -4.5081000328063965, -4.559199810028076, -4.572000026702881, -4.611800193786621, -4.7104997634887695, -4.985400199890137, -5.07480001449585, -5.127299785614014, -5.162099838256836, -5.197000026702881, -5.203999996185303, -5.292799949645996, -3.370800018310547, -4.2789998054504395, -3.561199903488159, -4.090099811553955, -4.61329984664917, -2.419800043106079, -2.7827999591827393, -2.8317999839782715, -2.9367001056671143, -2.970900058746338, -3.0933001041412354, -3.170099973678589, -3.563199996948242, -3.567500114440918, -3.7021000385284424, -3.785799980163574, -3.797600030899048, -3.9428999423980713, -4.033599853515625, -4.037099838256836, -4.114200115203857, -4.146699905395508, -4.346799850463867, -4.3592000007629395, -4.405399799346924, -4.444200038909912, -4.72599983215332, -4.830699920654297, -4.96560001373291, -5.02209997177124, -5.057799816131592, -5.064000129699707, -5.0914998054504395, -5.106299877166748, -5.116700172424316, -4.732900142669678, -3.4258999824523926, -2.7574000358581543, -3.1120998859405518, -3.281899929046631, -3.5327999591827393, -3.6089999675750732, -3.632999897003174, -3.8071000576019287, -3.8166000843048096, -3.8457999229431152, -3.9855000972747803, -3.993000030517578, -3.9934000968933105, -4.0096001625061035, -4.075200080871582, -4.164000034332275, -4.2042999267578125, -4.302299976348877, -4.335999965667725, -4.3429999351501465, -4.347899913787842, -4.461999893188477, -4.509399890899658, -4.60699987411499, -4.629199981689453, -4.719900131225586, -4.722899913787842, -4.75029993057251, -4.756100177764893, -4.832799911499023, -4.906000137329102, -4.19980001449585, -3.572999954223633, -4.05109977722168, -2.0260000228881836, -2.1944000720977783, -2.462899923324585, -2.9714999198913574, -3.016200065612793, -3.093400001525879, -3.4960999488830566, -3.5432000160217285, -3.564199924468994, -3.6124000549316406, -3.6470000743865967, -3.8231000900268555, -3.89739990234375, -3.9941000938415527, -3.9988999366760254, -4.309999942779541, -4.369200229644775, -4.600100040435791, -4.806099891662598, -4.880799770355225, -4.885200023651123, -5.004300117492676, -5.033599853515625, -5.191400051116943, -5.2067999839782715, -5.263500213623047, -5.273200035095215, -5.285600185394287, -5.418300151824951, -5.513800144195557, -3.052500009536743, -4.740699768066406, -4.9807000160217285, -0.675599992275238, -1.4434000253677368, -3.785399913787842, -4.103400230407715, -4.134300231933594, -4.2154998779296875, -4.359799861907959, -4.54610013961792, -4.627099990844727, -4.660999774932861, -5.065999984741211, -5.114799976348877, -5.1855998039245605, -5.1869001388549805, -5.276199817657471, -5.330999851226807, -5.63539981842041, -5.764200210571289, -5.763400077819824, -5.8206000328063965, -5.82390022277832, -5.826499938964844, -5.837200164794922, -5.897500038146973, -5.898799896240234, -5.967100143432617, -6.0569000244140625, -6.135900020599365, -6.184700012207031, -6.252699851989746, -4.0381999015808105, -3.0957000255584717, -3.266400098800659, -3.273099899291992, -3.3254001140594482, -3.5676000118255615, -3.5796000957489014, -3.6598000526428223, -3.6846001148223877, -3.7404000759124756, -3.777899980545044, -3.870500087738037, -3.9284000396728516, -3.9744999408721924, -4.114699840545654, -4.174600124359131, -4.412300109863281, -4.557700157165527, -4.560999870300293, -4.580100059509277, -4.599100112915039, -4.636099815368652, -4.643899917602539, -4.658599853515625, -4.675600051879883, -4.683199882507324, -4.69350004196167, -4.755000114440918, -4.769999980926514, -4.776800155639648, -4.881999969482422, -1.6610000133514404], \"loglift\": [30.0, 29.0, 28.0, 27.0, 26.0, 25.0, 24.0, 23.0, 22.0, 21.0, 20.0, 19.0, 18.0, 17.0, 16.0, 15.0, 14.0, 13.0, 12.0, 11.0, 10.0, 9.0, 8.0, 7.0, 6.0, 5.0, 4.0, 3.0, 2.0, 1.0, 1.7862, 1.7861, 1.786, 1.7859, 1.7859, 1.7858, 1.7858, 1.7857, 1.7856, 1.7856, 1.7853, 1.7852, 1.785, 1.785, 1.7848, 1.7847, 1.7847, 1.7847, 1.7845, 1.7843, 1.7843, 1.7843, 1.7842, 1.7841, 1.7841, 1.784, 1.7838, 1.7837, 1.7836, 1.7836, 1.6544, 1.6378, 1.3314, 0.7683, 0.6813, 1.6386, 1.4155, 0.9501, 0.5178, 1.8483, 1.848, 1.848, 1.848, 1.8478, 1.8478, 1.8474, 1.8473, 1.8471, 1.8471, 1.8468, 1.8468, 1.8467, 1.8464, 1.8464, 1.8463, 1.8461, 1.846, 1.8459, 1.8459, 1.8458, 1.8458, 1.8457, 1.8455, 1.8455, 1.8453, 1.8453, 1.8451, 1.845, 1.845, 1.6589, 1.6955, 0.8413, 0.809, 1.1507, 2.2644, 2.2642, 2.264, 2.264, 2.2639, 2.2637, 2.2635, 2.2635, 2.263, 2.2629, 2.2624, 2.2619, 2.2619, 2.2619, 2.2618, 2.2615, 2.2615, 2.2613, 2.2613, 2.2611, 2.261, 2.261, 2.2608, 2.2607, 2.2604, 2.2603, 2.2603, 2.2591, 2.2588, 2.2587, 1.5267, 1.6951, 0.8186, -0.2543, 2.2834, 2.2833, 2.2833, 2.2831, 2.2831, 2.2829, 2.2828, 2.2825, 2.2821, 2.282, 2.282, 2.2817, 2.2817, 2.2817, 2.2815, 2.2814, 2.281, 2.2805, 2.2803, 2.2801, 2.28, 2.2799, 2.2797, 2.2794, 2.2794, 2.2787, 2.2786, 2.2786, 2.2784, 2.2784, 1.8467, 1.28, 1.5989, 1.5935, 1.6476, 2.3534, 2.3533, 2.3527, 2.3525, 2.3521, 2.352, 2.352, 2.3519, 2.3518, 2.3517, 2.3516, 2.3516, 2.3515, 2.3514, 2.3511, 2.3511, 2.351, 2.3509, 2.3508, 2.3507, 2.3507, 2.3506, 2.3503, 2.3492, 2.3488, 2.3486, 2.3484, 2.3482, 2.3482, 2.3477, 2.0547, 1.716, 0.5236, 0.3688, 1.0051, 2.3604, 2.3603, 2.3602, 2.3602, 2.3602, 2.3601, 2.3601, 2.3598, 2.3598, 2.3596, 2.3595, 2.3595, 2.3593, 2.3592, 2.3592, 2.3591, 2.359, 2.3587, 2.3586, 2.3585, 2.3585, 2.3577, 2.3574, 2.3569, 2.3567, 2.3566, 2.3566, 2.3564, 2.3564, 2.3563, 2.1265, 1.0329, 2.569, 2.5688, 2.5686, 2.5684, 2.5683, 2.5682, 2.568, 2.568, 2.5679, 2.5677, 2.5676, 2.5676, 2.5676, 2.5675, 2.5673, 2.5672, 2.5669, 2.5668, 2.5668, 2.5668, 2.5665, 2.5663, 2.566, 2.5659, 2.5655, 2.5655, 2.5654, 2.5654, 2.565, 2.5647, 1.8617, 0.8858, 0.8111, 2.5933, 2.5933, 2.5932, 2.5929, 2.5928, 2.5928, 2.5924, 2.5923, 2.5923, 2.5922, 2.5922, 2.5919, 2.5918, 2.5916, 2.5916, 2.5908, 2.5906, 2.5899, 2.589, 2.5887, 2.5887, 2.588, 2.5879, 2.5869, 2.5868, 2.5864, 2.5863, 2.5862, 2.5852, 2.5844, 2.2627, 1.8746, 0.4988, 2.7432, 2.7431, 2.7414, 2.7407, 2.7406, 2.7404, 2.74, 2.7393, 2.7389, 2.7388, 2.7365, 2.7362, 2.7357, 2.7357, 2.735, 2.7345, 2.7314, 2.7297, 2.7297, 2.729, 2.7289, 2.7288, 2.7287, 2.7278, 2.7278, 2.7267, 2.7252, 2.7237, 2.7227, 2.7213, 1.3874, 2.7462, 2.7461, 2.7461, 2.746, 2.7457, 2.7456, 2.7455, 2.7455, 2.7454, 2.7453, 2.7451, 2.745, 2.7449, 2.7445, 2.7444, 2.7436, 2.743, 2.743, 2.743, 2.7429, 2.7427, 2.7427, 2.7426, 2.7425, 2.7425, 2.7424, 2.7421, 2.7421, 2.742, 2.7415, 2.2905]}, \"token.table\": {\"Topic\": [10, 10, 10, 10, 2, 7, 7, 10, 1, 10, 1, 3, 5, 6, 7, 10, 9, 3, 2, 9, 10, 7, 2, 2, 2, 9, 2, 4, 8, 8, 7, 8, 7, 8, 6, 2, 6, 6, 10, 3, 4, 7, 3, 5, 8, 2, 8, 5, 2, 9, 5, 6, 3, 3, 6, 7, 1, 4, 6, 1, 7, 4, 4, 9, 9, 1, 3, 5, 1, 6, 7, 4, 2, 4, 5, 4, 2, 7, 8, 1, 1, 7, 4, 6, 8, 8, 7, 5, 9, 7, 3, 1, 10, 5, 1, 9, 1, 8, 6, 7, 4, 2, 5, 4, 10, 5, 8, 2, 4, 4, 9, 9, 5, 6, 8, 1, 4, 5, 7, 5, 6, 5, 4, 1, 10, 2, 4, 3, 1, 5, 3, 2, 6, 9, 7, 9, 3, 4, 9, 3, 8, 4, 1, 3, 1, 4, 1, 5, 5, 9, 5, 9, 2, 9, 9, 1, 3, 3, 5, 2, 9, 5, 9, 7, 9, 9, 1, 7, 5, 8, 5, 10, 3, 9, 7, 10, 1, 4, 2, 10, 3, 4, 5, 8, 10, 7, 6, 9, 5, 3, 6, 3, 2, 6, 2, 10, 2, 7, 10, 10, 3, 8, 2, 6, 6, 1, 6, 5, 9, 3, 7, 5, 6, 4, 8, 7, 2, 3, 2, 2, 4, 8, 1, 4, 3, 4, 1, 5, 6, 3, 1, 7, 9, 1, 10, 8, 9, 5, 4, 1, 2, 5, 8, 1, 8, 2, 5, 6, 9, 3, 10, 7, 9, 5, 8, 3, 4, 2, 3, 2, 4, 6, 6, 7, 7, 3, 8, 2, 4, 2, 1, 10, 2, 10, 1, 2, 7, 5, 5, 5, 8, 10, 1, 6, 1, 1, 1, 8, 3, 7, 6, 5, 10, 6, 1, 4, 10, 8, 2, 1, 8, 9, 2, 8, 7, 6, 9, 8, 8, 1, 2, 4, 10, 10, 7, 1, 6, 3, 6, 4, 4, 4, 10, 6, 10, 1, 7, 3, 1, 8, 9, 2, 4, 10, 3, 4, 5, 1, 3, 3, 8, 1, 6, 4, 6, 8, 1], \"Freq\": [0.9983492095174319, 0.9983409817941713, 0.995310958887448, 0.999206131495534, 0.9974965275105763, 0.9977060989620646, 0.9981874492585971, 0.999553617658568, 0.9992433158152432, 0.9939405165050101, 0.331048953970341, 0.08061952681640182, 0.1374013862352629, 0.2651605699277003, 0.18561239894939022, 0.9964538086243532, 0.9978808906452007, 0.9989556273543954, 0.9993119987886895, 0.9844933431749895, 0.9983331344837558, 0.9959630790526269, 0.9977362835157912, 0.9983764768585937, 0.9962953733422083, 0.9907139259498052, 0.353660297942369, 0.6458756369584112, 0.9975221101826688, 0.9975645893417122, 0.9950443519922858, 0.9943528078129319, 0.9941175308133334, 0.9988585050848731, 0.9990912188710407, 0.999082874491929, 0.9976003831108403, 0.9993779893079539, 0.9980380866179045, 0.9970633523555223, 0.9978264451557698, 0.9979319353108385, 0.9964055792478922, 0.9988964335415204, 0.9976261669006378, 0.9995596267027238, 0.9924149715642525, 0.9973907571733718, 0.9984363865996825, 0.9803230589569435, 0.9984651127008921, 0.9998087266926875, 0.997257879289705, 0.9985972801701933, 0.9997020371572792, 0.9965551763653102, 0.9985043043016018, 0.9995577309776342, 0.9951252208000456, 0.9977608223122569, 0.9970901199963907, 0.9938217742682796, 0.9978969727373728, 0.9867507685823631, 0.9899674928698451, 0.3613143888833976, 0.4781289337850162, 0.16048181168660852, 0.9976243732591672, 0.9930341207535578, 0.9990432268672075, 0.9972093400301146, 0.9992647399283859, 0.9989521340334474, 0.9981367068955045, 0.9966270543907856, 0.9981598473037947, 0.9969524906739091, 0.9958246355953946, 0.998408852820576, 0.5068007521736329, 0.49216870945995844, 0.9965860007923428, 0.9985099331139208, 0.9978076341802878, 0.9991958080776303, 0.9963498017332949, 0.9921762307259306, 0.9799543305609951, 0.9980336444342466, 0.9963056164379442, 0.999217780972683, 0.9991960428636395, 0.99887709299141, 0.9964915768799781, 0.9869743067355952, 0.8762126238404708, 0.1233683592514997, 0.9971651478446031, 0.99896897807238, 0.9938725900560773, 0.9990765155259757, 0.9973239440449212, 0.996749728425029, 0.9967097872093802, 0.9998262903282962, 0.9949882351698068, 0.9979246019496735, 0.9966319124514725, 0.9992002215784738, 0.982386870386262, 0.9928462984999189, 0.9980114278164622, 0.9991693432094743, 0.9937255729768047, 0.9984934645146318, 0.9989989022578301, 0.9984308820543514, 0.9977041909144551, 0.9971387678996817, 0.9994629050846566, 0.995446362002074, 0.9988599223134619, 0.9990055554461542, 0.9955169211200121, 0.497361816763064, 0.5010596741367671, 0.9959711428897129, 0.4704528149095695, 0.5289482707316588, 0.9959362940325729, 0.999428312281898, 0.9941101141111032, 0.9927073487566475, 0.9992072322365343, 0.9824387268900432, 0.9978315098712043, 0.9970574596425015, 0.9939423320795138, 0.9955569613495404, 0.9994980437817558, 0.9979259660903476, 0.9994427936277185, 0.9993876164976914, 0.9978106104336222, 0.9925811448440717, 0.9984837015382884, 0.9999255668490658, 0.9975529130520739, 0.984478415669068, 0.9975365962467538, 0.9950067933965494, 0.9979243108338891, 0.9999554156711195, 0.9857173296171063, 0.43340956719296897, 0.5660652992076394, 0.9956511381311671, 0.998679973700865, 0.9976337989516304, 0.9953475128572463, 0.9982392446185083, 0.9960627167716014, 0.9982456235387088, 0.9976780045761379, 0.9952944836412585, 0.9972561161306741, 0.9962368529857744, 0.9988141515262828, 0.998924797574328, 0.9935047960605594, 0.9970836037462232, 0.9948378242992855, 0.9937576341243821, 0.9995500546571868, 0.9982027703173384, 0.9989057909635474, 0.9982968993732421, 0.9978628485685807, 0.9968624491856637, 0.9996527209117883, 0.9996034258529741, 0.9991856306746251, 0.9942136601025026, 0.9937069337484761, 0.9979721887752099, 0.9978579675952958, 0.9790495983170808, 0.9970430823345975, 0.9979782468879301, 0.9981384696077303, 0.9953058988596298, 0.9967988611166101, 0.9997006500437531, 0.9980850134658883, 0.9959264742389595, 0.8274451470762345, 0.1723844056408822, 0.997339832801733, 0.9957767081075176, 0.9987229466446312, 0.9919289011075613, 0.9974369963425933, 0.9995290826656744, 0.9988109365911074, 0.9994550544316914, 0.9981415912898995, 0.7415424081280211, 0.2577440848764062, 0.9998050753123116, 0.9991501101167056, 0.9990929374039419, 0.9982131219627323, 0.9986248558933353, 0.98891309721993, 0.9974038853963398, 0.9960095182307094, 0.9987645308794731, 0.9991066961273819, 0.9972362569948988, 0.9966227444972788, 0.9996738857641948, 0.9989832033907773, 0.9997055830961403, 0.9954568281971873, 0.9975054463249113, 0.9996449420199155, 0.2067821957704138, 0.7916804066638699, 0.9959759142848826, 0.9979136682682611, 0.9943514743974274, 0.9836343233405972, 0.9981555829440418, 0.992892517259886, 0.9982144345393028, 0.992225553843272, 0.9988360817627443, 0.994117756470669, 0.9997236077324463, 0.997491523429167, 0.9971490015146802, 0.9982927090974089, 0.9997412633527756, 0.9950001216968439, 0.997560562693629, 0.9977751207435988, 0.9983031748284033, 0.995562860414046, 0.9981202383223206, 0.9979841298381785, 0.9973087601551683, 0.999744458391793, 0.9980146253386102, 0.9993551683399938, 0.9996630217436728, 0.996800223813885, 0.999541302548964, 0.9994385959400661, 0.99977372349074, 0.9992322856944761, 0.9993604965706103, 0.9974882565897438, 0.9994124031276829, 0.9988232753632739, 0.9965360782428726, 0.9921514189617999, 0.46741594940467834, 0.5284987155200624, 0.9989746388991393, 0.9983519609687663, 0.9982096746393728, 0.9979192848446606, 0.9931416870046512, 0.6342349315092018, 0.36522631011686657, 0.9959507722899262, 0.9959114236086308, 0.9970141827020228, 0.9991205180233891, 0.9959352530812849, 0.9977726266231253, 0.9986741052958852, 0.9950567636763645, 0.999128843493599, 0.9985578595356708, 0.998372416899852, 0.9992357444521883, 0.9966017592733823, 0.9974853246323996, 0.9978733298378363, 0.9973518483298931, 0.9940326514289164, 0.9992437710710408, 0.8615813471048288, 0.13748638517630246, 0.995642352057432, 0.9939083124359888, 0.9974504575782257, 0.5114361972588586, 0.48829428788062973, 0.9909189060715824, 0.9998486917925113, 0.9989822577202531, 0.9969258593653564, 0.99360534345801, 0.9955173962882842, 0.9961438204924211, 0.9991778034254288, 0.689965435151211, 0.3083549228700474, 0.9996248954092248, 0.994961100224884, 0.9953115014193272, 0.9988262583262854, 0.8622467758972037, 0.13512822607344235, 0.9981905002511938, 0.9982498626373117, 0.9979083201890363, 0.997773655956152, 0.3665506033582255, 0.6332794629950512, 0.9992548415149488, 0.9991038788014946, 0.9976522361157709, 0.999019542367302, 0.999697188977122, 0.2812601153247159, 0.7182853617821781, 0.9847708016686726, 0.8589749703013997, 0.13907213804879803, 0.9981248912391106, 0.23570280510420766, 0.5038574456937772, 0.2596146838828954, 0.9983814313141424, 0.9979194607492617, 0.9937651319854744, 0.9996604985033162, 0.9978140392361808, 0.9964477282791192, 0.9994373393453241, 0.9983844660266672, 0.9924498992920786, 0.9986273941532836], \"Term\": [\"$\", \"10\", \"100\", \"2\", \"3\", \"4\", \"5\", \"7\", \"8\", \"Alexa\", \"Amazon\", \"Amazon\", \"Amazon\", \"Amazon\", \"Amazon\", \"Black\", \"Buy\", \"Christmas\", \"Fire\", \"Freetime\", \"Friday\", \"GB\", \"Google\", \"HD\", \"HD8\", \"Ipad\", \"Kindle\", \"Kindle\", \"Netflix\", \"Prime\", \"SD\", \"Samsung\", \"ability\", \"able\", \"absolutely\", \"access\", \"actually\", \"ad\", \"add\", \"adult\", \"affordable\", \"age\", \"amazing\", \"amazon\", \"android\", \"app\", \"appropriate\", \"available\", \"awesome\", \"backup\", \"basic\", \"battery\", \"beat\", \"better\", \"big\", \"bit\", \"black\", \"book\", \"boy\", \"break\", \"bright\", \"browser\", \"build\", \"bulky\", \"business\", \"buy\", \"buy\", \"buy\", \"camera\", \"capacity\", \"card\", \"carry\", \"case\", \"charge\", \"cheap\", \"check\", \"child\", \"clear\", \"close\", \"color\", \"come\", \"come\", \"compare\", \"complaint\", \"computer\", \"control\", \"cost\", \"couple\", \"course\", \"cover\", \"daily\", \"daughter\", \"day\", \"deal\", \"definitely\", \"deliver\", \"device\", \"device\", \"disappoint\", \"display\", \"dollar\", \"download\", \"durable\", \"e\", \"ease\", \"easy\", \"educational\", \"email\", \"end\", \"enjoy\", \"enjoyment\", \"entry\", \"especially\", \"etc\", \"exactly\", \"excellent\", \"expect\", \"expensive\", \"experience\", \"extra\", \"fact\", \"family\", \"far\", \"fast\", \"favorite\", \"feature\", \"feature\", \"feel\", \"find\", \"find\", \"fine\", \"fire\", \"flight\", \"fraction\", \"free\", \"frequently\", \"friend\", \"friendly\", \"function\", \"functionality\", \"game\", \"gb\", \"get\", \"gift\", \"give\", \"glad\", \"go\", \"good\", \"google\", \"got\", \"granddaughter\", \"grandkid\", \"grandson\", \"great\", \"half\", \"happy\", \"happy\", \"hard\", \"have\", \"hd\", \"heavy\", \"help\", \"high\", \"highly\", \"hold\", \"hope\", \"hour\", \"huge\", \"husband\", \"iPad\", \"impressed\", \"inch\", \"inexpensive\", \"instal\", \"internet\", \"ipad\", \"issue\", \"item\", \"keep\", \"keyboard\", \"kid\", \"kindle\", \"know\", \"lack\", \"laptop\", \"large\", \"last\", \"later\", \"law\", \"learn\", \"leave\", \"let\", \"library\", \"life\", \"light\", \"lightweight\", \"like\", \"like\", \"limit\", \"limited\", \"little\", \"live\", \"load\", \"long\", \"longer\", \"look\", \"lose\", \"lot\", \"lot\", \"love\", \"low\", \"make\", \"member\", \"memory\", \"minute\", \"model\", \"mom\", \"money\", \"movie\", \"music\", \"navigate\", \"need\", \"new\", \"nice\", \"niece\", \"offer\", \"old\", \"one\", \"one\", \"online\", \"option\", \"original\", \"os\", \"overall\", \"parent\", \"parental\", \"pass\", \"pay\", \"people\", \"perfect\", \"phone\", \"pick\", \"picture\", \"play\", \"playing\", \"pleased\", \"plenty\", \"plus\", \"point\", \"present\", \"pretty\", \"previous\", \"price\", \"prime\", \"problem\", \"product\", \"program\", \"purchase\", \"quality\", \"read\", \"reader\", \"reading\", \"receive\", \"recommend\", \"replace\", \"replacement\", \"require\", \"resolution\", \"resolution\", \"right\", \"run\", \"sale\", \"say\", \"school\", \"screen\", \"screen\", \"sd\", \"see\", \"sell\", \"set\", \"setup\", \"show\", \"simple\", \"simply\", \"size\", \"slow\", \"small\", \"son\", \"sound\", \"space\", \"star\", \"start\", \"stop\", \"storage\", \"store\", \"store\", \"stream\", \"stuff\", \"sure\", \"surf\", \"surf\", \"surprised\", \"tablet\", \"take\", \"tech\", \"technology\", \"tell\", \"thank\", \"thing\", \"think\", \"think\", \"time\", \"tool\", \"touch\", \"travel\", \"try\", \"try\", \"tv\", \"type\", \"unit\", \"upgrade\", \"use\", \"use\", \"user\", \"value\", \"version\", \"video\", \"want\", \"watch\", \"watch\", \"watching\", \"way\", \"way\", \"web\", \"well\", \"well\", \"well\", \"wife\", \"wish\", \"wonderful\", \"work\", \"worth\", \"wrong\", \"year\", \"young\", \"youtube\", \"yr\"]}, \"R\": 30, \"lambda.step\": 0.01, \"plot.opts\": {\"xlab\": \"PC1\", \"ylab\": \"PC2\"}, \"topic.order\": [4, 2, 10, 8, 3, 9, 5, 7, 1, 6]};\n",
       "\n",
       "function LDAvis_load_lib(url, callback){\n",
       "  var s = document.createElement('script');\n",
       "  s.src = url;\n",
       "  s.async = true;\n",
       "  s.onreadystatechange = s.onload = callback;\n",
       "  s.onerror = function(){console.warn(\"failed to load library \" + url);};\n",
       "  document.getElementsByTagName(\"head\")[0].appendChild(s);\n",
       "}\n",
       "\n",
       "if(typeof(LDAvis) !== \"undefined\"){\n",
       "   // already loaded: just create the visualization\n",
       "   !function(LDAvis){\n",
       "       new LDAvis(\"#\" + \"ldavis_el1683620837011698402988329031\", ldavis_el1683620837011698402988329031_data);\n",
       "   }(LDAvis);\n",
       "}else if(typeof define === \"function\" && define.amd){\n",
       "   // require.js is available: use it to load d3/LDAvis\n",
       "   require.config({paths: {d3: \"https://cdnjs.cloudflare.com/ajax/libs/d3/3.5.5/d3.min\"}});\n",
       "   require([\"d3\"], function(d3){\n",
       "      window.d3 = d3;\n",
       "      LDAvis_load_lib(\"https://cdn.rawgit.com/bmabey/pyLDAvis/files/ldavis.v1.0.0.js\", function(){\n",
       "        new LDAvis(\"#\" + \"ldavis_el1683620837011698402988329031\", ldavis_el1683620837011698402988329031_data);\n",
       "      });\n",
       "    });\n",
       "}else{\n",
       "    // require.js not available: dynamically load d3 & LDAvis\n",
       "    LDAvis_load_lib(\"https://cdnjs.cloudflare.com/ajax/libs/d3/3.5.5/d3.min.js\", function(){\n",
       "         LDAvis_load_lib(\"https://cdn.rawgit.com/bmabey/pyLDAvis/files/ldavis.v1.0.0.js\", function(){\n",
       "                 new LDAvis(\"#\" + \"ldavis_el1683620837011698402988329031\", ldavis_el1683620837011698402988329031_data);\n",
       "            })\n",
       "         });\n",
       "}\n",
       "</script>"
      ],
      "text/plain": [
       "<IPython.core.display.HTML object>"
      ]
     },
     "execution_count": 31,
     "metadata": {},
     "output_type": "execute_result"
    }
   ],
   "source": [
    "pyLDAvis.enable_notebook()\n",
    "vis = pyLDAvis.gensim.prepare(lda, corpus, id2word)\n",
    "pyLDAvis.display(vis)"
   ]
  },
  {
   "cell_type": "code",
   "execution_count": 32,
   "metadata": {},
   "outputs": [],
   "source": [
    "def compute_coherence_values(dictionary, corpus, texts, limit, start=2, step=3):\n",
    "    \"\"\"\n",
    "    Compute c_v coherence for various number of topics\n",
    "\n",
    "    Parameters:\n",
    "    ----------\n",
    "    dictionary : Gensim dictionary\n",
    "    corpus : Gensim corpus\n",
    "    texts : List of input texts\n",
    "    limit : Max num of topics\n",
    "\n",
    "    Returns:\n",
    "    -------\n",
    "    model_list : List of LDA topic models\n",
    "    coherence_values : Coherence values corresponding to the LDA model with respective number of topics\n",
    "    \"\"\"\n",
    "    coherence_values = []\n",
    "    model_list = []\n",
    "    for num_topics in range(start, limit, step):\n",
    "        model = gensim.models.ldamulticore.LdaMulticore(corpus=corpus,\n",
    "                                                        id2word=id2word,\n",
    "                                                        num_topics=num_topics, \n",
    "                                                        chunksize=100,\n",
    "                                                        passes=10,\n",
    "                                                        per_word_topics=True,\n",
    "                                                        workers=12)\n",
    "        model_list.append(model)\n",
    "        coherencemodel = CoherenceModel(model=model, texts=texts, dictionary=dictionary, coherence='c_v')\n",
    "        coherence_values.append(coherencemodel.get_coherence())\n",
    "\n",
    "    return model_list, coherence_values"
   ]
  },
  {
   "cell_type": "code",
   "execution_count": 33,
   "metadata": {},
   "outputs": [
    {
     "name": "stdout",
     "output_type": "stream",
     "text": [
      "Wall time: 0 ns\n"
     ]
    }
   ],
   "source": [
    "%time\n",
    "model_list, coherence_values = compute_coherence_values(dictionary=id2word, \n",
    "                                                        corpus=corpus, \n",
    "                                                        texts=amazon['lemmas'], \n",
    "                                                        start=10, \n",
    "                                                        limit=41, \n",
    "                                                        step=5)"
   ]
  },
  {
   "cell_type": "code",
   "execution_count": 34,
   "metadata": {},
   "outputs": [
    {
     "data": {
      "image/png": "[encoded data removed]",
      "text/plain": [
       "<Figure size 432x288 with 1 Axes>"
      ]
     },
     "metadata": {},
     "output_type": "display_data"
    }
   ],
   "source": [
    "start=10; limit=41; step=5;\n",
    "x = range(start, limit, step)\n",
    "plt.plot(x, coherence_values)\n",
    "plt.xlabel(\"Num Topics\")\n",
    "plt.ylabel(\"Coherence score\")\n",
    "plt.legend((\"coherence_values\"), loc='best');"
   ]
  },
  {
   "cell_type": "code",
   "execution_count": null,
   "metadata": {},
   "outputs": [],
   "source": []
  },
  {
   "cell_type": "code",
   "execution_count": null,
   "metadata": {},
   "outputs": [],
   "source": []
  },
  {
   "cell_type": "markdown",
   "metadata": {},
   "source": [
    "## Stretch Goals\n",
    "\n",
    "* Incorporate Named Entity Recognition in your analysis\n",
    "* Incorporate some custom pre-processing from our previous lessons (like spacy lemmatization)\n",
    "* Analyze a dataset of interest to you with topic modeling"
   ]
  }
 ],
 "metadata": {
  "kernelspec": {
   "display_name": "u4-s1-NLP (Python 3)",
   "language": "python",
   "name": "u4-s1-nlp"
  },
  "language_info": {
   "codemirror_mode": {
    "name": "ipython",
    "version": 3
   },
   "file_extension": ".py",
   "mimetype": "text/x-python",
   "name": "python",
   "nbconvert_exporter": "python",
   "pygments_lexer": "ipython3",
   "version": "3.8.0"
  }
 },
 "nbformat": 4,
 "nbformat_minor": 2
}
