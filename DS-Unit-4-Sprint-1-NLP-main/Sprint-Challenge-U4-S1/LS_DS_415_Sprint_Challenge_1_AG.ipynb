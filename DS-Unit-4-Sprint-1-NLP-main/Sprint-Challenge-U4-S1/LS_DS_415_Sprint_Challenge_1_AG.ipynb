{
 "cells": [
  {
   "cell_type": "markdown",
   "metadata": {},
   "source": [
    "# Sprint Challenge\n",
    "## *Data Science Unit 4 Sprint 1*\n",
    "\n",
    "After a week of Natural Language Processing, you've learned some cool new stuff: how to process text, how turn text into vectors, and how to model topics from documents. Apply your newly acquired skills to one of the most famous NLP datasets out there: [Yelp](https://www.yelp.com/dataset). As part of the job selection process, some of my friends have been asked to create analysis of this dataset, so I want to empower you to have a head start.  \n",
    "\n",
    "The real dataset is massive (almost 8 gigs uncompressed). I've sampled the data for you to something more managable for the Sprint Challenge. You can analyze the full dataset as a stretch goal or after the sprint challenge. As you work on the challenge, I suggest adding notes about your findings and things you want to analyze in the future.\n",
    "\n",
    "## Challenge Objectives\n",
    "*Successfully complete these all these objectives to earn a 2. There are more details on each objective further down in the notebook.*\n",
    "* <a href=\"#p1\">Part 1</a>: Write a function to tokenize the yelp reviews\n",
    "* <a href=\"#p2\">Part 2</a>: Create a vector representation of those tokens\n",
    "* <a href=\"#p3\">Part 3</a>: Use your tokens in a classification model on yelp rating\n",
    "* <a href=\"#p4\">Part 4</a>: Estimate & Interpret a topic model of the Yelp reviews"
   ]
  },
  {
   "cell_type": "markdown",
   "metadata": {},
   "source": [
    "### Import Data"
   ]
  },
  {
   "cell_type": "code",
   "execution_count": 1,
   "metadata": {
    "deletable": false,
    "nbgrader": {
     "cell_type": "code",
     "checksum": "7bec125eb29f89460cf0c19ba9aa9a2f",
     "grade": false,
     "grade_id": "cell-395851cd95d17235",
     "locked": false,
     "schema_version": 3,
     "solution": true,
     "task": false
    }
   },
   "outputs": [
    {
     "data": {
      "text/plain": "              business_id  cool                date  funny  \\\n0  nDuEqIyRc8YKS1q1fX0CZg     1 2015-03-31 16:50:30      0   \n1  eMYeEapscbKNqUDCx705hg     0 2015-12-16 05:31:03      0   \n2  6Q7-wkCPc1KF75jZLOTcMw     1 2010-06-20 19:14:48      1   \n3  k3zrItO4l9hwfLRwHBDc9w     3 2010-07-13 00:33:45      4   \n4  6hpfRwGlOzbNv7k5eP9rsQ     1 2018-06-30 02:30:01      0   \n\n                review_id  stars  \\\n0  eZs2tpEJtXPwawvHnHZIgQ      1   \n1  DoQDWJsNbU0KL1O29l_Xug      4   \n2  DDOdGU7zh56yQHmUnL1idQ      3   \n3  LfTMUWnfGFMOfOIyJcwLVA      1   \n4  zJSUdI7bJ8PNJAg4lnl_Gg      4   \n\n                                                text  useful  \\\n0  BEWARE!!! FAKE, FAKE, FAKE....We also own a sm...      10   \n1  Came here for lunch Togo. Service was quick. S...       0   \n2  I've been to Vegas dozens of times and had nev...       2   \n3  We went here on a night where they closed off ...       5   \n4  3.5 to 4 stars\\n\\nNot bad for the price, $12.9...       5   \n\n                  user_id  \n0  n1LM36qNg4rqGXIcvVXv8w  \n1  5CgjjDAic2-FAvCtiHpytA  \n2  BdV-cf3LScmb8kZ7iiBcMA  \n3  cZZnBqh4gAEy4CdNvJailQ  \n4  n9QO4ClYAS7h9fpQwa5bhA  ",
      "text/html": "<div>\n<style scoped>\n    .dataframe tbody tr th:only-of-type {\n        vertical-align: middle;\n    }\n\n    .dataframe tbody tr th {\n        vertical-align: top;\n    }\n\n    .dataframe thead th {\n        text-align: right;\n    }\n</style>\n<table border=\"1\" class=\"dataframe\">\n  <thead>\n    <tr style=\"text-align: right;\">\n      <th></th>\n      <th>business_id</th>\n      <th>cool</th>\n      <th>date</th>\n      <th>funny</th>\n      <th>review_id</th>\n      <th>stars</th>\n      <th>text</th>\n      <th>useful</th>\n      <th>user_id</th>\n    </tr>\n  </thead>\n  <tbody>\n    <tr>\n      <th>0</th>\n      <td>nDuEqIyRc8YKS1q1fX0CZg</td>\n      <td>1</td>\n      <td>2015-03-31 16:50:30</td>\n      <td>0</td>\n      <td>eZs2tpEJtXPwawvHnHZIgQ</td>\n      <td>1</td>\n      <td>BEWARE!!! FAKE, FAKE, FAKE....We also own a sm...</td>\n      <td>10</td>\n      <td>n1LM36qNg4rqGXIcvVXv8w</td>\n    </tr>\n    <tr>\n      <th>1</th>\n      <td>eMYeEapscbKNqUDCx705hg</td>\n      <td>0</td>\n      <td>2015-12-16 05:31:03</td>\n      <td>0</td>\n      <td>DoQDWJsNbU0KL1O29l_Xug</td>\n      <td>4</td>\n      <td>Came here for lunch Togo. Service was quick. S...</td>\n      <td>0</td>\n      <td>5CgjjDAic2-FAvCtiHpytA</td>\n    </tr>\n    <tr>\n      <th>2</th>\n      <td>6Q7-wkCPc1KF75jZLOTcMw</td>\n      <td>1</td>\n      <td>2010-06-20 19:14:48</td>\n      <td>1</td>\n      <td>DDOdGU7zh56yQHmUnL1idQ</td>\n      <td>3</td>\n      <td>I've been to Vegas dozens of times and had nev...</td>\n      <td>2</td>\n      <td>BdV-cf3LScmb8kZ7iiBcMA</td>\n    </tr>\n    <tr>\n      <th>3</th>\n      <td>k3zrItO4l9hwfLRwHBDc9w</td>\n      <td>3</td>\n      <td>2010-07-13 00:33:45</td>\n      <td>4</td>\n      <td>LfTMUWnfGFMOfOIyJcwLVA</td>\n      <td>1</td>\n      <td>We went here on a night where they closed off ...</td>\n      <td>5</td>\n      <td>cZZnBqh4gAEy4CdNvJailQ</td>\n    </tr>\n    <tr>\n      <th>4</th>\n      <td>6hpfRwGlOzbNv7k5eP9rsQ</td>\n      <td>1</td>\n      <td>2018-06-30 02:30:01</td>\n      <td>0</td>\n      <td>zJSUdI7bJ8PNJAg4lnl_Gg</td>\n      <td>4</td>\n      <td>3.5 to 4 stars\\n\\nNot bad for the price, $12.9...</td>\n      <td>5</td>\n      <td>n9QO4ClYAS7h9fpQwa5bhA</td>\n    </tr>\n  </tbody>\n</table>\n</div>"
     },
     "execution_count": 1,
     "metadata": {},
     "output_type": "execute_result"
    }
   ],
   "source": [
    "import pandas as pd\n",
    "\n",
    "# Load reviews from URL\n",
    "data_url = 'https://raw.githubusercontent.com/LambdaSchool/data-science-practice-datasets/main/unit_4/unit1_nlp/review_sample.json'\n",
    "\n",
    "# Import data into a DataFrame named df\n",
    "df = pd.read_json(data_url, lines=True)\n",
    "# df = pd.DataFrame(df)\n",
    "df.head()\n",
    "\n",
    "# raise NotImplementedError()"
   ]
  },
  {
   "cell_type": "code",
   "execution_count": 2,
   "metadata": {
    "deletable": false,
    "editable": false,
    "nbgrader": {
     "cell_type": "code",
     "checksum": "356579363f311da83f4ef7abaf3c9212",
     "grade": true,
     "grade_id": "cell-cb5006475e42b8f9",
     "locked": true,
     "points": 1,
     "schema_version": 3,
     "solution": false,
     "task": false
    }
   },
   "outputs": [],
   "source": [
    "# Visible Testing\n",
    "assert isinstance(df, pd.DataFrame), 'df is not a DataFrame. Did you import the data into df?'\n",
    "assert df.shape[0] == 10000, 'DataFrame df has the wrong number of rows.'"
   ]
  },
  {
   "cell_type": "markdown",
   "metadata": {},
   "source": [
    "## Part 1: Tokenize Function\n",
    "<a id=\"#p1\"></a>\n",
    "\n",
    "Complete the function `tokenize`. Your function should\n",
    "- accept one document at a time\n",
    "- return a list of tokens\n",
    "\n",
    "You are free to use any method you have learned this week."
   ]
  },
  {
   "cell_type": "code",
   "execution_count": 3,
   "metadata": {},
   "outputs": [],
   "source": [
    "# Import NLP libraries\n",
    "import spacy\n",
    "from spacy.tokenizer import Tokenizer\n",
    "\n",
    "# Optional: consider using spacy in your function\n",
    "# if you do use this pre-trained model, YOU MUST USE THE SMALL VERSION en_core_web_sm\n",
    "# if you don't already have the small version downloaded, you'll have to download it\n",
    "# this is due to limited computational resources on CodeGrader\n",
    "# if you don't plan on using this model in the SC, simply comment it out \n",
    "nlp = spacy.load('en_core_web_sm')"
   ]
  },
  {
   "cell_type": "code",
   "execution_count": 4,
   "metadata": {
    "deletable": false,
    "nbgrader": {
     "cell_type": "code",
     "checksum": "4837ed2a1cc13057ba40203859d46ff6",
     "grade": false,
     "grade_id": "cell-3d570d5a1cd6cb64",
     "locked": false,
     "schema_version": 3,
     "solution": true,
     "task": false
    }
   },
   "outputs": [
    {
     "data": {
      "text/plain": "0    [beware!!!, fake,, fake,, fake....we, small, b...\n1    [came, lunch, togo., service, quick., staff, f...\n2    [i've, vegas, dozens, times, stepped, foot, ci...\n3    [went, night, closed, street, party..., best, ...\n4    [3.5, 4, stars, bad, price,, $12.99, lunch,, s...\nName: tokens, dtype: object"
     },
     "execution_count": 4,
     "metadata": {},
     "output_type": "execute_result"
    }
   ],
   "source": [
    "# Initialize the Tokenizer\n",
    "tokenizer = Tokenizer(nlp.vocab)\n",
    "\n",
    "def tokenize(doc):\n",
    "    \"\"\"\n",
    "    This function will take a document\n",
    "      and return a list of tokens for each document\n",
    "    :param doc: Can be a single document or a DataFrame with multiple docs\n",
    "    :return: A list of token for each document\n",
    "    \"\"\"\n",
    "    tokens = []  # empty list to hold tokens\n",
    "\n",
    "    # Iterate through all docs in the dataframe using a pipeline\n",
    "    for doc in tokenizer.pipe(doc, batch_size=250):\n",
    "        doc_tokens = []  # Temp empty list to hold tokens for each doc\n",
    "\n",
    "        # Iterate through each token within the doc\n",
    "        for token in doc:\n",
    "            if (token.is_stop != True) & (  # if it is not a default stop word\n",
    "                token.is_punct != True) & (  # if it is not punctuation\n",
    "                token.is_space != True):  # if it is not an extra whitespace\n",
    "                # Add to the end of the temp list and lowercase all tokens\n",
    "                doc_tokens.append(token.text.lower())\n",
    "\n",
    "        # Add all the doc tokens to the tokens list\n",
    "        tokens.append(doc_tokens)\n",
    "\n",
    "    # Return the list of tokens for all docs in the dataframe\n",
    "    return tokens\n",
    "\n",
    "# raise NotImplementedError()\n",
    "\n",
    "# Add a tokenized column to my dataframe\n",
    "df['tokens'] = tokenize(df['text'])\n",
    "df['tokens'].head()"
   ]
  },
  {
   "cell_type": "code",
   "execution_count": 5,
   "metadata": {
    "deletable": false,
    "editable": false,
    "nbgrader": {
     "cell_type": "code",
     "checksum": "2181ca9d36070260b1f75dcfd9e58965",
     "grade": true,
     "grade_id": "cell-02da164f6fbe730a",
     "locked": true,
     "points": 1,
     "schema_version": 3,
     "solution": false,
     "task": false
    }
   },
   "outputs": [],
   "source": [
    "'''Testing'''\n",
    "assert isinstance(tokenize(df.sample(n=1)[\"text\"].iloc[0]), list), \"Make sure your tokenizer function accepts a single document and returns a list of tokens!\""
   ]
  },
  {
   "cell_type": "markdown",
   "metadata": {},
   "source": [
    "## Part 2: Vector Representation\n",
    "<a id=\"#p2\"></a>\n",
    "1. Create a vector representation of the reviews\n",
    "2. Write a fake review and query for the 10 most similiar reviews, print the text of the reviews. Do you notice any patterns?\n",
    "    - Given the size of the dataset, use `NearestNeighbors` model for this. "
   ]
  },
  {
   "cell_type": "code",
   "execution_count": 6,
   "metadata": {
    "deletable": false,
    "nbgrader": {
     "cell_type": "code",
     "checksum": "9f570a35b1d17ce543ee41f516a0828c",
     "grade": false,
     "grade_id": "cell-0e96491cb529202c",
     "locked": false,
     "schema_version": 3,
     "solution": true,
     "task": false
    }
   },
   "outputs": [
    {
     "name": "stdout",
     "output_type": "stream",
     "text": [
      "(10000, 5000)\n"
     ]
    },
    {
     "data": {
      "text/plain": "       00  000  00pm   10  10 10  10 15  10 30  10 mins  10 minutes  10 years  \\\n8989  0.0  0.0   0.0  0.0    0.0    0.0    0.0      0.0         0.0       0.0   \n4977  0.0  0.0   0.0  0.0    0.0    0.0    0.0      0.0         0.0       0.0   \n1666  0.0  0.0   0.0  0.0    0.0    0.0    0.0      0.0         0.0       0.0   \n2732  0.0  0.0   0.0  0.0    0.0    0.0    0.0      0.0         0.0       0.0   \n4342  0.0  0.0   0.0  0.0    0.0    0.0    0.0      0.0         0.0       0.0   \n\n      ...  young  younger  yuck  yum  yummy  zero  zero stars  zone  zucchini  \\\n8989  ...    0.0      0.0   0.0  0.0    0.0   0.0         0.0   0.0       0.0   \n4977  ...    0.0      0.0   0.0  0.0    0.0   0.0         0.0   0.0       0.0   \n1666  ...    0.0      0.0   0.0  0.0    0.0   0.0         0.0   0.0       0.0   \n2732  ...    0.0      0.0   0.0  0.0    0.0   0.0         0.0   0.0       0.0   \n4342  ...    0.0      0.0   0.0  0.0    0.0   0.0         0.0   0.0       0.0   \n\n      était  \n8989    0.0  \n4977    0.0  \n1666    0.0  \n2732    0.0  \n4342    0.0  \n\n[5 rows x 5000 columns]",
      "text/html": "<div>\n<style scoped>\n    .dataframe tbody tr th:only-of-type {\n        vertical-align: middle;\n    }\n\n    .dataframe tbody tr th {\n        vertical-align: top;\n    }\n\n    .dataframe thead th {\n        text-align: right;\n    }\n</style>\n<table border=\"1\" class=\"dataframe\">\n  <thead>\n    <tr style=\"text-align: right;\">\n      <th></th>\n      <th>00</th>\n      <th>000</th>\n      <th>00pm</th>\n      <th>10</th>\n      <th>10 10</th>\n      <th>10 15</th>\n      <th>10 30</th>\n      <th>10 mins</th>\n      <th>10 minutes</th>\n      <th>10 years</th>\n      <th>...</th>\n      <th>young</th>\n      <th>younger</th>\n      <th>yuck</th>\n      <th>yum</th>\n      <th>yummy</th>\n      <th>zero</th>\n      <th>zero stars</th>\n      <th>zone</th>\n      <th>zucchini</th>\n      <th>était</th>\n    </tr>\n  </thead>\n  <tbody>\n    <tr>\n      <th>8989</th>\n      <td>0.0</td>\n      <td>0.0</td>\n      <td>0.0</td>\n      <td>0.0</td>\n      <td>0.0</td>\n      <td>0.0</td>\n      <td>0.0</td>\n      <td>0.0</td>\n      <td>0.0</td>\n      <td>0.0</td>\n      <td>...</td>\n      <td>0.0</td>\n      <td>0.0</td>\n      <td>0.0</td>\n      <td>0.0</td>\n      <td>0.0</td>\n      <td>0.0</td>\n      <td>0.0</td>\n      <td>0.0</td>\n      <td>0.0</td>\n      <td>0.0</td>\n    </tr>\n    <tr>\n      <th>4977</th>\n      <td>0.0</td>\n      <td>0.0</td>\n      <td>0.0</td>\n      <td>0.0</td>\n      <td>0.0</td>\n      <td>0.0</td>\n      <td>0.0</td>\n      <td>0.0</td>\n      <td>0.0</td>\n      <td>0.0</td>\n      <td>...</td>\n      <td>0.0</td>\n      <td>0.0</td>\n      <td>0.0</td>\n      <td>0.0</td>\n      <td>0.0</td>\n      <td>0.0</td>\n      <td>0.0</td>\n      <td>0.0</td>\n      <td>0.0</td>\n      <td>0.0</td>\n    </tr>\n    <tr>\n      <th>1666</th>\n      <td>0.0</td>\n      <td>0.0</td>\n      <td>0.0</td>\n      <td>0.0</td>\n      <td>0.0</td>\n      <td>0.0</td>\n      <td>0.0</td>\n      <td>0.0</td>\n      <td>0.0</td>\n      <td>0.0</td>\n      <td>...</td>\n      <td>0.0</td>\n      <td>0.0</td>\n      <td>0.0</td>\n      <td>0.0</td>\n      <td>0.0</td>\n      <td>0.0</td>\n      <td>0.0</td>\n      <td>0.0</td>\n      <td>0.0</td>\n      <td>0.0</td>\n    </tr>\n    <tr>\n      <th>2732</th>\n      <td>0.0</td>\n      <td>0.0</td>\n      <td>0.0</td>\n      <td>0.0</td>\n      <td>0.0</td>\n      <td>0.0</td>\n      <td>0.0</td>\n      <td>0.0</td>\n      <td>0.0</td>\n      <td>0.0</td>\n      <td>...</td>\n      <td>0.0</td>\n      <td>0.0</td>\n      <td>0.0</td>\n      <td>0.0</td>\n      <td>0.0</td>\n      <td>0.0</td>\n      <td>0.0</td>\n      <td>0.0</td>\n      <td>0.0</td>\n      <td>0.0</td>\n    </tr>\n    <tr>\n      <th>4342</th>\n      <td>0.0</td>\n      <td>0.0</td>\n      <td>0.0</td>\n      <td>0.0</td>\n      <td>0.0</td>\n      <td>0.0</td>\n      <td>0.0</td>\n      <td>0.0</td>\n      <td>0.0</td>\n      <td>0.0</td>\n      <td>...</td>\n      <td>0.0</td>\n      <td>0.0</td>\n      <td>0.0</td>\n      <td>0.0</td>\n      <td>0.0</td>\n      <td>0.0</td>\n      <td>0.0</td>\n      <td>0.0</td>\n      <td>0.0</td>\n      <td>0.0</td>\n    </tr>\n  </tbody>\n</table>\n<p>5 rows × 5000 columns</p>\n</div>"
     },
     "execution_count": 6,
     "metadata": {},
     "output_type": "execute_result"
    }
   ],
   "source": [
    "# Create a vector representation of the reviews \n",
    "# Name that doc-term matrix \"dtm\"\n",
    "\n",
    "# Import TF-IDF vectorizer\n",
    "from sklearn.feature_extraction.text import TfidfVectorizer\n",
    "\n",
    "# Instantiate the vectorizer object\n",
    "tfidf = TfidfVectorizer(stop_words='english',\n",
    "                        ngram_range=(1, 3),\n",
    "                        max_df=0.6,\n",
    "                        min_df=5,\n",
    "                        max_features=5000)\n",
    "\n",
    "# Fit the vectorizer\n",
    "dtm_fit = tfidf.fit_transform(df.text)\n",
    "\n",
    "# Turn into a Document Term Matrix\n",
    "dtm = pd.DataFrame(dtm_fit.todense(), columns=tfidf.get_feature_names())\n",
    "\n",
    "# Check my work\n",
    "print(dtm.shape)\n",
    "dtm.sample(5)\n",
    "\n",
    "# raise NotImplementedError()"
   ]
  },
  {
   "cell_type": "code",
   "execution_count": 7,
   "metadata": {
    "deletable": false,
    "nbgrader": {
     "cell_type": "code",
     "checksum": "32b220e23c9aa1f602f08d1c2e879d0a",
     "grade": false,
     "grade_id": "cell-3d5bc610a8ec6b24",
     "locked": false,
     "schema_version": 3,
     "solution": true,
     "task": false
    }
   },
   "outputs": [
    {
     "data": {
      "text/plain": "NearestNeighbors(algorithm='kd_tree', leaf_size=8, metric='minkowski',\n                 metric_params=None, n_jobs=10, n_neighbors=10, p=2,\n                 radius=1.0)"
     },
     "execution_count": 7,
     "metadata": {},
     "output_type": "execute_result"
    }
   ],
   "source": [
    "# Create and fit a NearestNeighbors model named \"nn\"\n",
    "from sklearn.neighbors import NearestNeighbors\n",
    "\n",
    "# Fit on the DTM dataframe\n",
    "nn = NearestNeighbors(n_neighbors=10,\n",
    "                      algorithm='kd_tree',\n",
    "                      leaf_size=8,\n",
    "                      n_jobs=10)\n",
    "nn.fit(dtm)\n",
    "\n",
    "# raise NotImplementedError()"
   ]
  },
  {
   "cell_type": "code",
   "execution_count": 8,
   "metadata": {
    "deletable": false,
    "editable": false,
    "nbgrader": {
     "cell_type": "code",
     "checksum": "d270ed23df3c7d3c6cf08ab174ccaf9e",
     "grade": true,
     "grade_id": "cell-c43704dcff67e99b",
     "locked": true,
     "points": 1,
     "schema_version": 3,
     "solution": false,
     "task": false
    }
   },
   "outputs": [],
   "source": [
    "'''Testing.'''\n",
    "assert nn.__module__ == 'sklearn.neighbors._unsupervised', ' nn is not a NearestNeighbors instance.'\n",
    "assert nn.n_neighbors == 10, 'nn has the wrong value for n_neighbors'"
   ]
  },
  {
   "cell_type": "code",
   "execution_count": 9,
   "metadata": {
    "deletable": false,
    "nbgrader": {
     "cell_type": "code",
     "checksum": "3da2ced9f187ed0aa1a890785e2ba00e",
     "grade": false,
     "grade_id": "cell-496203e8746296ca",
     "locked": false,
     "schema_version": 3,
     "solution": true,
     "task": false
    }
   },
   "outputs": [
    {
     "data": {
      "text/plain": "(array([[1.        , 1.        , 1.24862091, 1.25107865, 1.26698043,\n         1.26870021, 1.27037035, 1.27291029, 1.27428966, 1.27807897]]),\n array([[6204, 6311, 9617, 7235, 4281, 9266, 6008,  889, 2114, 7340]],\n       dtype=int64))"
     },
     "execution_count": 9,
     "metadata": {},
     "output_type": "execute_result"
    }
   ],
   "source": [
    "# Create a fake review and find the 10 most similar reviews\n",
    "fake = [\"\"\"\n",
    "    I ate lunch here with my best friend and my husband.\n",
    "    The soup was ice cold and the service was horrible.\n",
    "    The waitress made me feel like we were just a burden on her,\n",
    "    whenever she actually came to the table.\n",
    "    The prices are really low though.\n",
    "    This is one of those places where you get what you pay for.\n",
    "    You could not pay me enough to come back here again!\n",
    "\"\"\"]\n",
    "\n",
    "# Vectorize my fake review\n",
    "my_review = tfidf.transform(fake)\n",
    "\n",
    "# Run my KNN on my vectorized fake review\n",
    "nn.kneighbors(my_review.todense())\n",
    "\n",
    "# raise NotImplementedError()\n"
   ]
  },
  {
   "cell_type": "code",
   "execution_count": 10,
   "outputs": [
    {
     "name": "stdout",
     "output_type": "stream",
     "text": [
      "Closest Review to mine:\n",
      "旅行でラスベガスに来ましたがネイルがはげてるのが気になり、探したお店でした。\n",
      "質問にも丁寧に答えてくれましたし、日本人の方も日本語が話せる方も居て、とても綺麗で居心地のいいお店でした。 \n",
      "ネイルはちはるさんと言う綺麗な方が丁寧にしてくれとても気に入りました。\n",
      "予定になかったまつ毛エクステもお願いし、日本ではまだあまりないブラウンカラーのエクステをしてもらい、とても気に入りました。\n",
      "また是非マッサージなどで伺いたいと思います。\n",
      "\n",
      "\n",
      "2nd closest Review to mine:\n",
      "天氣很熱吃不下東西，今天我點了一個韓國冷面湯、餐後點了甜點，冰沙系列不會太甜膩，覺得店家很用心製作，包含擺盤精緻、佐料衛生，夏日想開胃，這是一個不錯的選擇，服務人員也很敬業，以後會常常來\n",
      "\n",
      "\n",
      "3rd closest Review to mine:\n",
      "The service was horrible. I had to ask the manager to find out about our food since it was more than an hour wait from the time we ordered. Our waitress did not update us to why there was a delay and did not refill our drinks. I know that since I don't drink alcohol I do not get looked in on as frequently but an hour without service?  Then the food was brought out by the manager cold. Also miraculously the waitress came to the table when the manager brought our food. I can count on one hand how many times I have not tipped in my 48 years since high school paying for my meals. Last night was one of them. The food wasn't good either.\n",
      "\n",
      "\n",
      "4th closest Review to mine:\n",
      "The service here is horrible. The food wasn't good at all and it's very over priced!!\n",
      "\n",
      "\n",
      "5th closest Review to mine:\n",
      "Really enjoyed our meal at The Beacher! Their food is delicious, the atmosphere is very cozy and the service was fabulous! \n",
      "The owner came to see us at our table and made us feel so welcome! We have finally found our brunch place!\n",
      "\n",
      "\n",
      "6th closest Review to mine:\n",
      "Single handedly the worst experience I've ever had at Westgate, we decided to come here for my friends 25th bday and the service was horrible, if we even got any\n",
      "\n",
      "\n",
      "7th closest Review to mine:\n",
      "Erin was awesome. I get alot of massages and i feel like Erin's combines the best of all disciplines. If you feel iffy about the footwork... DON'T! It really adds another dimension and can get deeper into places the hands just can't. Highly recommended.\n",
      "\n",
      "\n",
      "8th closest Review to mine:\n",
      "I'd leave 0 stars if I could. Service was terrible. Food was less than mediocre. Hot pockets at home are better. Again, service was horrible. Won't come back ever again.\n",
      "\n",
      "\n",
      "9th closest Review to mine:\n",
      "If I could leave zero stars I would. I planned a night out for my husbands birthday and a few other couples. Highly recommended however extremely disappointed in service. We had reservations, waited in the lobby for 20 min before being offered a dining table while we waited for area. We had to finally ask for a manager and were brushed off by manager. Mysteriously enough when he finally did come around to speak to us we were \"next\". We received a 60 sec spiel on directions. Our food arrived and immediately after bill came. waitress wanted us to pay bill right away. Now if this is done in order to clear out by end of paid time I understand. However none of that was explained. Service was horrible and so were the attitudes. I run my own business and am in the service industry. will never return to this place and will never refer anyone here. Cool concept, horrible staff and lack professionalism.\n",
      "\n",
      "\n",
      "10th closest Review to mine:\n",
      "Everything was awesome and we were about to pay the bill and a giant cockroach the size of my fist crawled under our table.  The manager was called but we never even got an apology.  Opted to pay at the front desk and we got the heck out of there!!!\n",
      "\n",
      "\n"
     ]
    }
   ],
   "source": [
    "# Look at the 10 closest matched reviews to my fake review\n",
    "print(f'Closest Review to mine:\\n{df.text.loc[6204]}\\n\\n')\n",
    "print(f'2nd closest Review to mine:\\n{df.text.loc[6311]}\\n\\n')\n",
    "print(f'3rd closest Review to mine:\\n{df.text.loc[9617]}\\n\\n')\n",
    "print(f'4th closest Review to mine:\\n{df.text.loc[7235]}\\n\\n')\n",
    "print(f'5th closest Review to mine:\\n{df.text.loc[4281]}\\n\\n')\n",
    "print(f'6th closest Review to mine:\\n{df.text.loc[9266]}\\n\\n')\n",
    "print(f'7th closest Review to mine:\\n{df.text.loc[6008]}\\n\\n')\n",
    "print(f'8th closest Review to mine:\\n{df.text.loc[889]}\\n\\n')\n",
    "print(f'9th closest Review to mine:\\n{df.text.loc[2114]}\\n\\n')\n",
    "print(f'10th closest Review to mine:\\n{df.text.loc[7340]}\\n\\n')\n"
   ],
   "metadata": {
    "collapsed": false,
    "pycharm": {
     "name": "#%%\n"
    }
   }
  },
  {
   "cell_type": "markdown",
   "source": [
    "What patterns I see on my matches:\n",
    "  - The first 2 reviews that are closest to mine look like they are in Chinese or something. I do not understand how that happened when I am using the english vocab for tokenizing and vectorizing the data.\n",
    "  - The 3rd closest review to mine was extremely similar to mine.\n",
    "  - The 4th closest review was similar to mine on the service and food but not the price.\n",
    "  - The 5th closest review was nothing at all like my review, it was positive, while mine was very negative. That does not fall in line with the rest of the matches.\n",
    "  - The 6th closest review is only talking about the service which was horrible and that does match but nothing about food or price.\n",
    "  - The 7th closest review was not even for a restaurant, it seems to be for a massage place of some sort.\n",
    "  - The 8th closest review aligns pretty close to my review. Disgusted with service and food but no mention of price.\n",
    "  - The 9th closest review is a very negative review and matches mine almost perfectly.\n",
    "  - The final recommend review doesn't really seem to align with anything in my review, and I don't understand why.\n",
    "  - I would say out of the 8 reviews that were in English, and I could read, only 5 related closely to mine. It is possible that the first 2 did also, but can not read them. Out of the ones that did not relate to mine at all, 2 of them were positive reviews, while mine was negative all around, and 1 wasn't even for a restaurant."
   ],
   "metadata": {
    "collapsed": false,
    "pycharm": {
     "name": "#%% md\n"
    }
   }
  },
  {
   "cell_type": "markdown",
   "metadata": {},
   "source": [
    "## Part 3: Classification\n",
    "<a id=\"#p3\"></a>\n",
    "Your goal in this section will be to predict `stars` from the review dataset. \n",
    "\n",
    "1. Create a pipeline object with a sklearn `CountVectorizer` or `TfidfVector` and any sklearn classifier.\n",
    "    - Use that pipeline to estimate a model to predict the `stars` feature (i.e. the labels). \n",
    "    - Use the Pipeline to predict a star rating for your fake review from Part 2. \n",
    "\n",
    "\n",
    "\n",
    "2. Create a parameter dict including `one parameter for the vectorizer` and `one parameter for the model`. \n",
    "    - Include 2 to 3 possible values for each parameter\n",
    "    - **Use `n_jobs` = 1** \n",
    "    - Due to limited computational resources on CodeGrader `DO NOT INCLUDE ADDITIONAL PARAMETERS OR VALUES PLEASE.`\n",
    "    \n",
    "    \n",
    "3. Tune the entire pipeline with a GridSearch\n",
    "    - Name your GridSearch object as `gs`"
   ]
  },
  {
   "cell_type": "code",
   "execution_count": 11,
   "outputs": [],
   "source": [
    "# Using these functions from explore_data.py but\n",
    "#   have to add the function here to pass the autograder\n",
    "from __future__ import absolute_import\n",
    "from __future__ import division\n",
    "from __future__ import print_function\n",
    "\n",
    "import numpy as np\n",
    "import matplotlib.pyplot as plt\n",
    "\n",
    "from collections import Counter\n",
    "from sklearn.feature_extraction.text import CountVectorizer\n",
    "\n",
    "\n",
    "def get_num_words_per_sample(sample_texts):\n",
    "    \"\"\"Gets the median number of words per sample given corpus.\n",
    "\n",
    "    # Arguments\n",
    "        sample_texts: list, sample texts.\n",
    "\n",
    "    # Returns\n",
    "        int, median number of words per sample.\n",
    "    \"\"\"\n",
    "    num_words = [len(s.split()) for s in sample_texts]\n",
    "    return np.median(num_words)\n",
    "\n",
    "\n",
    "def plot_sample_length_distribution(sample_texts):\n",
    "    \"\"\"Plots the sample length distribution.\n",
    "\n",
    "    # Arguments\n",
    "        samples_texts: list, sample texts.\n",
    "    \"\"\"\n",
    "    plt.hist([len(s) for s in sample_texts], 50)\n",
    "    plt.xlabel('Length of a sample')\n",
    "    plt.ylabel('Number of samples')\n",
    "    plt.title('Sample length distribution')\n",
    "    plt.show()\n",
    "\n",
    "\n",
    "def plot_frequency_distribution_of_ngrams(sample_texts,\n",
    "                                          ngram_range=(1, 2),\n",
    "                                          num_ngrams=50):\n",
    "    \"\"\"Plots the frequency distribution of n-grams.\n",
    "\n",
    "    # Arguments\n",
    "        samples_texts: list, sample texts.\n",
    "        ngram_range: tuple (min, mplt), The range of n-gram values to consider.\n",
    "            Min and mplt are the lower and upper bound values for the range.\n",
    "        num_ngrams: int, number of n-grams to plot.\n",
    "            Top `num_ngrams` frequent n-grams will be plotted.\n",
    "    \"\"\"\n",
    "    # Create args required for vectorizing.\n",
    "    kwargs = {\n",
    "            'ngram_range': ngram_range,\n",
    "            'dtype': 'int32',\n",
    "            'stop_words': 'english',  # Added stop words to default kwargs\n",
    "            'strip_accents': 'unicode',\n",
    "            'decode_error': 'replace',\n",
    "            'analyzer': 'word',  # Split text into word tokens.\n",
    "    }\n",
    "    vectorizer = CountVectorizer(**kwargs)\n",
    "\n",
    "    # This creates a vocabulary (dict, where keys are n-grams and values are\n",
    "    # idxices). This also converts every text to an array the length of\n",
    "    # vocabulary, where every element idxicates the count of the n-gram\n",
    "    # corresponding at that idxex in vocabulary.\n",
    "    vectorized_texts = vectorizer.fit_transform(sample_texts)\n",
    "\n",
    "    # This is the list of all n-grams in the index order from the vocabulary.\n",
    "    all_ngrams = list(vectorizer.get_feature_names())\n",
    "    num_ngrams = min(num_ngrams, len(all_ngrams))\n",
    "    # ngrams = all_ngrams[:num_ngrams]\n",
    "\n",
    "    # Add up the counts per n-gram ie. column-wise\n",
    "    all_counts = vectorized_texts.sum(axis=0).tolist()[0]\n",
    "\n",
    "    # Sort n-grams and counts by frequency and get top `num_ngrams` ngrams.\n",
    "    all_counts, all_ngrams = zip(*[(c, n) for c, n in sorted(\n",
    "        zip(all_counts, all_ngrams), reverse=True)])\n",
    "    ngrams = list(all_ngrams)[:num_ngrams]\n",
    "    counts = list(all_counts)[:num_ngrams]\n",
    "\n",
    "    idx = np.arange(num_ngrams)\n",
    "    plt.figure(figsize=(14,6))\n",
    "    plt.bar(idx, counts, width=0.8, color='b')\n",
    "    plt.xlabel('N-grams')\n",
    "    plt.ylabel('Frequencies')\n",
    "    plt.title('Frequency distribution of n-grams')\n",
    "    plt.xticks(idx, ngrams, rotation=45)\n",
    "    plt.show()"
   ],
   "metadata": {
    "collapsed": false,
    "pycharm": {
     "name": "#%%\n"
    }
   }
  },
  {
   "cell_type": "code",
   "execution_count": 12,
   "metadata": {
    "deletable": false,
    "nbgrader": {
     "cell_type": "code",
     "checksum": "e1d18da8521d51d8bfc4b5b9d005fa34",
     "grade": false,
     "grade_id": "cell-e2beb0252d274bba",
     "locked": false,
     "schema_version": 3,
     "solution": true,
     "task": false
    }
   },
   "outputs": [
    {
     "name": "stdout",
     "output_type": "stream",
     "text": [
      "X: (10000,), y: (10000,)\n",
      "Median words per sample: 79.0\n",
      "Samples to words ratio: 126.58227848101266\n"
     ]
    },
    {
     "data": {
      "text/plain": "<Figure size 432x288 with 1 Axes>",
      "image/png": "[encoded data removed]"
     },
     "metadata": {},
     "output_type": "display_data"
    }
   ],
   "source": [
    "# Imports\n",
    "from sklearn.pipeline import Pipeline\n",
    "from sklearn.feature_extraction.text import TfidfVectorizer\n",
    "from sklearn.model_selection import GridSearchCV\n",
    "from sklearn.svm import LinearSVC\n",
    "\n",
    "# Other plotting imports\n",
    "# import eli5  # Have to comment out to pass autograder\n",
    "import seaborn as sns\n",
    "sns.set()\n",
    "\n",
    "# Define my feature to use for predictions and target\n",
    "X = df.text\n",
    "y = df.stars\n",
    "\n",
    "# Look at the shape of X and y\n",
    "print(f'X: {X.shape}, y: {y.shape}')\n",
    "\n",
    "# Get the median words per sample\n",
    "med_words = get_num_words_per_sample(X)\n",
    "print(f'Median words per sample: {med_words}')\n",
    "\n",
    "# Get the ratio of number of samples / the median words per sample\n",
    "sw_ratio = len(X) / med_words\n",
    "print(f'Samples to words ratio: {sw_ratio}')\n",
    "\n",
    "# Plot the length of characters in the data\n",
    "plot_sample_length_distribution(X)"
   ]
  },
  {
   "cell_type": "code",
   "execution_count": 13,
   "outputs": [
    {
     "data": {
      "text/plain": "<Figure size 1008x432 with 1 Axes>",
      "image/png": "[encoded data removed]"
     },
     "metadata": {},
     "output_type": "display_data"
    }
   ],
   "source": [
    "# Plot the top 30 n_grams\n",
    "plot_frequency_distribution_of_ngrams(X, ngram_range=(1, 3), num_ngrams=30)"
   ],
   "metadata": {
    "collapsed": false,
    "pycharm": {
     "name": "#%%\n"
    }
   }
  },
  {
   "cell_type": "code",
   "execution_count": 14,
   "outputs": [
    {
     "name": "stdout",
     "output_type": "stream",
     "text": [
      "Fitting 5 folds for each of 384 candidates, totalling 1920 fits\n"
     ]
    },
    {
     "name": "stderr",
     "output_type": "stream",
     "text": [
      "[Parallel(n_jobs=10)]: Using backend LokyBackend with 10 concurrent workers.\n",
      "[Parallel(n_jobs=10)]: Done  30 tasks      | elapsed:   21.8s\n",
      "[Parallel(n_jobs=10)]: Done 180 tasks      | elapsed:  1.8min\n",
      "[Parallel(n_jobs=10)]: Done 430 tasks      | elapsed:  4.3min\n",
      "[Parallel(n_jobs=10)]: Done 780 tasks      | elapsed:  7.7min\n",
      "[Parallel(n_jobs=10)]: Done 1230 tasks      | elapsed: 12.0min\n",
      "[Parallel(n_jobs=10)]: Done 1780 tasks      | elapsed: 17.3min\n",
      "[Parallel(n_jobs=10)]: Done 1920 out of 1920 | elapsed: 18.6min finished\n"
     ]
    },
    {
     "data": {
      "text/plain": "GridSearchCV(cv=5, error_score=nan,\n             estimator=Pipeline(memory=None,\n                                steps=[('vect',\n                                        TfidfVectorizer(analyzer='word',\n                                                        binary=False,\n                                                        decode_error='strict',\n                                                        dtype=<class 'numpy.float64'>,\n                                                        encoding='utf-8',\n                                                        input='content',\n                                                        lowercase=True,\n                                                        max_df=1.0,\n                                                        max_features=None,\n                                                        min_df=1,\n                                                        ngram_range=(1, 1),\n                                                        norm='l2',\n                                                        preprocessor=None,\n                                                        smooth_idf=True,\n                                                        stop_words='english',\n                                                        strip...\n                                                  random_state=None, tol=0.0001,\n                                                  verbose=0))],\n                                verbose=False),\n             iid='deprecated', n_jobs=10,\n             param_grid={'clf__C': (0.01, 0.1, 0.3, 0.6),\n                         'clf__penalty': ('l1', 'l2'),\n                         'vect__max_df': (0.3, 0.5, 0.6),\n                         'vect__max_features': (2500, 5000),\n                         'vect__min_df': (3, 5, 6, 9),\n                         'vect__ngram_range': ((1, 2), (1, 3))},\n             pre_dispatch='2*n_jobs', refit=True, return_train_score=False,\n             scoring=None, verbose=1)"
     },
     "execution_count": 14,
     "metadata": {},
     "output_type": "execute_result"
    }
   ],
   "source": [
    "# Initialize a vectorizer with basic parameters\n",
    "vect = TfidfVectorizer(stop_words='english')\n",
    "\n",
    "# Initialize a classifer with basic parameters\n",
    "clf = LinearSVC()\n",
    "\n",
    "# Define my pipeline\n",
    "pipe = Pipeline([\n",
    "    ('vect', vect),\n",
    "    ('clf', clf)\n",
    "])\n",
    "\n",
    "# Parameters to run through grid search\n",
    "params = {\n",
    "    'vect__max_df': (0.3, 0.5, 0.6),\n",
    "    'vect__min_df': (3, 5, 6, 9),\n",
    "    'vect__max_features': (2500, 5000),\n",
    "    'vect__ngram_range': ((1, 2), (1, 3)),\n",
    "    'clf__penalty': ('l1', 'l2'),\n",
    "    'clf__C': (0.01, 0.1, 0.3, 0.6)\n",
    "}\n",
    "\n",
    "# Name the gridsearch instance \"gs\"\n",
    "# Instantiate the grid search cv and fit it\n",
    "gs = GridSearchCV(pipe, params, cv=5, n_jobs=10, verbose=1)\n",
    "gs.fit(X, y)\n",
    "\n",
    "# raise NotImplementedError()"
   ],
   "metadata": {
    "collapsed": false,
    "pycharm": {
     "name": "#%%\n"
    }
   }
  },
  {
   "cell_type": "code",
   "execution_count": 15,
   "metadata": {
    "deletable": false,
    "editable": false,
    "nbgrader": {
     "cell_type": "code",
     "checksum": "b9e2378efb868f104a4eb39e4f25563c",
     "grade": true,
     "grade_id": "cell-d07134c6fe5d056e",
     "locked": true,
     "points": 1,
     "schema_version": 3,
     "solution": false,
     "task": false
    }
   },
   "outputs": [],
   "source": [
    "# Visible Testing\n",
    "prediction = gs.predict([\"I wish dogs knew how to speak English.\"])[0]\n",
    "assert prediction in df.stars.values, 'You gs object should be able to accept raw text within a list. Did you include a vectorizer in your pipeline?'"
   ]
  },
  {
   "cell_type": "code",
   "execution_count": 16,
   "outputs": [
    {
     "name": "stdout",
     "output_type": "stream",
     "text": [
      "Grid Search Best Score: 0.6186\n",
      "\n",
      "Grid Search Best Parameters:\n",
      "{'clf__C': 0.1, 'clf__penalty': 'l2', 'vect__max_df': 0.5, 'vect__max_features': 2500, 'vect__min_df': 9, 'vect__ngram_range': (1, 2)}\n"
     ]
    }
   ],
   "source": [
    "# Get the best score from my grid search\n",
    "print(f'Grid Search Best Score: {gs.best_score_}\\n')\n",
    "\n",
    "# Look at the best parameters from the grid search\n",
    "print(f'Grid Search Best Parameters:\\n{gs.best_params_}')"
   ],
   "metadata": {
    "collapsed": false,
    "pycharm": {
     "name": "#%%\n"
    }
   }
  },
  {
   "cell_type": "code",
   "execution_count": 17,
   "outputs": [
    {
     "name": "stdout",
     "output_type": "stream",
     "text": [
      "Prediction of how many stars my review would be: [1]\n"
     ]
    }
   ],
   "source": [
    "# Assign my best model parameters\n",
    "best_mod = gs.best_estimator_\n",
    "vect = best_mod.named_steps['vect']\n",
    "clf = best_mod.named_steps['clf']\n",
    "\n",
    "# Evaluate on my fake review\n",
    "my_review_pred = best_mod.predict(fake)\n",
    "print(f'Prediction of how many stars my review would be: {my_review_pred}')"
   ],
   "metadata": {
    "collapsed": false,
    "pycharm": {
     "name": "#%%\n"
    }
   }
  },
  {
   "cell_type": "code",
   "execution_count": 18,
   "outputs": [],
   "source": [
    "# Explain what the model learned about each class\n",
    "# eli5.show_weights(clf, vec=vect, top=30)\n",
    "# Have to comment out to pass autograder"
   ],
   "metadata": {
    "collapsed": false,
    "pycharm": {
     "name": "#%%\n"
    }
   }
  },
  {
   "cell_type": "markdown",
   "metadata": {},
   "source": [
    "## Part 4: Topic Modeling\n",
    "\n",
    "Let's find out what those yelp reviews are saying! :D\n",
    "\n",
    "1. Estimate a LDA topic model of the review text\n",
    "    - Set num_topics to `5`\n",
    "    - Name your LDA model `lda`\n",
    "2. Create 1-2 visualizations of the results\n",
    "    - You can use the most important 3 words of a topic in relevant visualizations. Refer to yesterday's notebook to extract. \n",
    "3. In markdown, write 1-2 paragraphs of analysis on the results of your topic model\n",
    "\n",
    "When you construct your LDA model, it should look like this: \n",
    "\n",
    "```python\n",
    "lda = LdaModel(corpus=corpus,\n",
    "               id2word=id2word,\n",
    "               random_state=723812,\n",
    "               num_topics = num_topics,\n",
    "               passes=1\n",
    "              )\n",
    "\n",
    "```\n",
    "\n",
    "__*Note*__: You can pass the DataFrame column of text reviews to gensim. You do not have to use a generator."
   ]
  },
  {
   "cell_type": "code",
   "execution_count": 19,
   "metadata": {},
   "outputs": [],
   "source": [
    "from gensim import corpora\n",
    "# Due to limited computational resources on CodeGrader, use the non-multicore version of LDA \n",
    "from gensim.models.ldamodel import LdaModel\n",
    "import gensim\n",
    "import re"
   ]
  },
  {
   "cell_type": "code",
   "execution_count": 20,
   "outputs": [
    {
     "data": {
      "text/plain": "60537"
     },
     "execution_count": 20,
     "metadata": {},
     "output_type": "execute_result"
    }
   ],
   "source": [
    "# Create a dictionary using a method from the gensim library\n",
    "id2word = corpora.Dictionary(df.tokens)\n",
    "\n",
    "# Look at the length of the words\n",
    "len(id2word.keys())"
   ],
   "metadata": {
    "collapsed": false,
    "pycharm": {
     "name": "#%%\n"
    }
   }
  },
  {
   "cell_type": "code",
   "execution_count": 21,
   "outputs": [
    {
     "data": {
      "text/plain": "23510"
     },
     "execution_count": 21,
     "metadata": {},
     "output_type": "execute_result"
    }
   ],
   "source": [
    "# Remove the extreme values\n",
    "id2word.filter_extremes(no_below=2, no_above=0.9)\n",
    "\n",
    "# Look at the length of the words now\n",
    "len(id2word.keys())"
   ],
   "metadata": {
    "collapsed": false,
    "pycharm": {
     "name": "#%%\n"
    }
   }
  },
  {
   "cell_type": "code",
   "execution_count": 22,
   "outputs": [],
   "source": [
    "# Create a BOW representation of the entire corpus\n",
    "corpus = [id2word.doc2bow(text) for text in df.tokens]"
   ],
   "metadata": {
    "collapsed": false,
    "pycharm": {
     "name": "#%%\n"
    }
   }
  },
  {
   "cell_type": "markdown",
   "metadata": {},
   "source": [
    "### 1. Estimate a LDA topic model of the review tex"
   ]
  },
  {
   "cell_type": "code",
   "execution_count": 23,
   "metadata": {
    "deletable": false,
    "nbgrader": {
     "cell_type": "code",
     "checksum": "5082d766e1c8efac4c42c390b4bf775e",
     "grade": false,
     "grade_id": "cell-66331a185ff52f15",
     "locked": false,
     "schema_version": 3,
     "solution": true,
     "task": false
    }
   },
   "outputs": [],
   "source": [
    "lda = LdaModel(corpus=corpus,\n",
    "               id2word=id2word,\n",
    "               num_topics=5)\n",
    "\n",
    "\n",
    "# raise NotImplementedError()"
   ]
  },
  {
   "cell_type": "markdown",
   "metadata": {},
   "source": [
    "#### Testing"
   ]
  },
  {
   "cell_type": "code",
   "execution_count": 24,
   "metadata": {
    "deletable": false,
    "editable": false,
    "nbgrader": {
     "cell_type": "code",
     "checksum": "6479db0fa59c99d3ae3201c1f10ebca1",
     "grade": true,
     "grade_id": "cell-5a3c181311134fa9",
     "locked": true,
     "points": 1,
     "schema_version": 3,
     "solution": false,
     "task": false
    }
   },
   "outputs": [],
   "source": [
    "# Visible Testing\n",
    "assert lda.get_topics().shape[0] == 5, 'Did your model complete its training? Did you set num_topics to 5?'"
   ]
  },
  {
   "cell_type": "markdown",
   "metadata": {},
   "source": [
    "#### 2. Create 1-2 visualizations of the results"
   ]
  },
  {
   "cell_type": "code",
   "execution_count": 25,
   "metadata": {
    "deletable": false,
    "nbgrader": {
     "cell_type": "code",
     "checksum": "4bebcee0da772a4f7b33924150464410",
     "grade": false,
     "grade_id": "cell-9b043e992fbd218c",
     "locked": false,
     "schema_version": 3,
     "solution": true,
     "task": false
    }
   },
   "outputs": [
    {
     "data": {
      "text/plain": "<IPython.core.display.HTML object>",
      "text/html": "\n<link rel=\"stylesheet\" type=\"text/css\" href=\"https://cdn.rawgit.com/bmabey/pyLDAvis/files/ldavis.v1.0.0.css\">\n\n\n<div id=\"ldavis_el2250432731264856809870872206\"></div>\n<script type=\"text/javascript\">\n\nvar ldavis_el2250432731264856809870872206_data = {\"mdsDat\": {\"x\": [0.06779644935933217, 0.10149282124731077, -0.07444926002704706, -0.06862288652964496, -0.026217124049951007], \"y\": [-0.02569878227960976, 0.0005349721001720915, -0.07364054859636125, 0.028395382754395716, 0.07040897602140327], \"topics\": [1, 2, 3, 4, 5], \"cluster\": [1, 1, 1, 1, 1], \"Freq\": [25.92244946927986, 24.029442459599682, 18.696824829707428, 16.023491369026566, 15.32779187238646]}, \"tinfo\": {\"Term\": [\"great\", \"told\", \"room\", \"it's\", \"called\", \"hair\", \"said\", \"chicken\", \"ordered\", \"staff\", \"service\", \"hotel\", \"minutes\", \"car\", \"store\", \"didn't\", \"customer\", \"food\", \"dr.\", \"took\", \"highly\", \"don't\", \"experience\", \"ice\", \"office\", \"phone\", \"recommend\", \"cream\", \"de\", \"people\", \"full,\", \"upbeat\", \"cha\", \"work!\", \"amazing!!\", \"snack.\", \"jalape\\u00f1o\", \"therapist\", \"greasy,\", \"beauty\", \"drawn\", \"tomorrow.\", \"skewers\", \"though...\", \"dunkin\", \"brussel\", \"source\", \"props\", \"specially\", \"flavours.\", \"leftovers.\", \"seeking\", \"training.\", \"keg\", \"hotdog\", \"poor.\", \"ale\", \"rosemary\", \"iffy\", \"tasteless.\", \"margarita\", \"carnitas\", \"tom\", \"bun\", \"bomb\", \"ice\", \"mustard\", \"entree.\", \"noodles\", \"seasoning\", \"samples\", \"salty,\", \"sushi\", \"cream\", \"fried\", \"spicy\", \"chicken\", \"burger\", \"it's\", \"shrimp\", \"ordered\", \"chinese\", \"ayce\", \"chicken.\", \"sashimi\", \"onion\", \"place\", \"eat\", \"polish\", \"rolls\", \"cheese\", \"soup\", \"good\", \"food\", \"sauce\", \"favorite\", \"order\", \"meat\", \"cold\", \"fries\", \"try\", \"i've\", \"didn't\", \"good.\", \"like\", \"got\", \"love\", \"little\", \"it.\", \"time\", \"best\", \"don't\", \"service\", \"pretty\", \"i'm\", \"definitely\", \"great\", \"restaurant\", \"come\", \"came\", \"nice\", \"meals.\", \"50%\", \"artist\", \"gyros\", \"hollandaise\", \"visits.\", \"seafood.\", \"bisque\", \"pitcher\", \"recognized\", \"kevin\", \"lattes\", \"hash.\", \"foodie\", \"oasis\", \"benny\", \"corned\", \"diced\", \"hats\", \"curly\", \"soda.\", \"pear\", \"pinch\", \"tartar\", \"noir\", \"trail\", \"bowling\", \"pic\", \"hooked.\", \"grease\", \"bones\", \"tuna,\", \"margaritas\", \"cupcake\", \"bass\", \"appetizer,\", \"pinot\", \"ipa\", \"clam\", \"tacos\", \"gras\", \"chocolate\", \"portions\", \"salad\", \"lobster\", \"eggs\", \"desserts\", \"gluten\", \"wine\", \"fruit\", \"buffet\", \"authentic\", \"menu\", \"flavors\", \"shared\", \"pizza\", \"delicious.\", \"pork\", \"bite\", \"italian\", \"delicious\", \"food\", \"breakfast\", \"great\", \"brunch\", \"potato\", \"dish\", \"enjoyed\", \"mexican\", \"fresh\", \"definitely\", \"lunch\", \"food.\", \"nice\", \"little\", \"good.\", \"good\", \"like\", \"taste\", \"coffee\", \"place\", \"try\", \"dinner\", \"love\", \"best\", \"came\", \"ordered\", \"come\", \"pretty\", \"service\", \"restaurant\", \"got\", \"time\", \"i'm\", \"went\", \"friendly\", \"it.\", \"chicken\", \"yuk\", \"patio,\", \"reach\", \"ramen.\", \"pie.\", \"it!!!\", \"exit\", \"emailed\", \"peoria\", \"johnny\", \"repeated\", \"horribly\", \"officially\", \"$70\", \"leak\", \"calls.\", \"hectic\", \"tried.\", \"enchilada\", \"consistency.\", \"lebanese\", \"condo\", \"normal.\", \"pinball\", \"sweet!\", \"alex\", \"spray\", \"scorpions\", \"faith\", \"sucker\", \"attorney\", \"respond\", \"messages\", \"quit\", \"uncomfortable.\", \"calls\", \"polish.\", \"vehicle\", \"told\", \"called\", \"phone\", \"ramen\", \"repair\", \"money\", \"car\", \"company\", \"rude\", \"minutes\", \"said\", \"manager\", \"dealership\", \"received\", \"business\", \"purchased\", \"didn't\", \"refund\", \"customer\", \"later\", \"left\", \"waited\", \"horrible\", \"guy\", \"day\", \"person\", \"time\", \"asked\", \"went\", \"appointment\", \"finally\", \"service\", \"like\", \"know\", \"got\", \"going\", \"took\", \"order\", \"came\", \"don't\", \"people\", \"work\", \"food\", \"place\", \"i'm\", \"good\", \"way\", \"it's\", \"\\u00e0\", \"et\", \"un\", \"le\", \"les\", \"des\", \"une\", \"est\", \"cajun\", \"pancakes.\", \"pas\", \"mais\", \"tr\\u00e8s\", \"night!\", \"en\", \"please,\", \"je\", \"vous\", \"routine\", \"que\", \"urban\", \"painted\", \"j'ai\", \"informative\", \"josh\", \"sont\", \"surgery\", \"avec\", \"make.\", \"dans\", \"de\", \"dr.\", \"dr\", \"dentist\", \"nails\", \"professional,\", \"hotel\", \"pour\", \"caring\", \"pain\", \"diamond\", \"room\", \"la\", \"nail\", \"office\", \"doctor\", \"shower\", \"rooms\", \"highly\", \"stay\", \"staff\", \"great\", \"thank\", \"experience\", \"recommend\", \"pool\", \"service\", \"care\", \"took\", \"amazing\", \"job\", \"time\", \"work\", \"home\", \"new\", \"place\", \"food\", \"got\", \"i've\", \"come\", \"going\", \"definitely\", \"good\", \"i'm\", \"like\", \"went\", \"it's\", \"don't\", \"came\", \"know\", \"love\", \"best\", \"talented\", \"organized,\", \"reply\", \"tuesday,\", \"shirt\", \"toys\", \"laser\", \"4th\", \"styles\", \"favorite!\", \"screaming\", \"izakaya\", \"slider\", \"rainbow\", \"yesterday.\", \"blast!\", \"teachers\", \"updating\", \"gun\", \"price:\", \"seriously?\", \"audience\", \"angeles\", \"away!\", \"merchandise\", \"a.m.\", \"haircut\", \"packaging\", \"efficiently\", \"shows,\", \"squeeze\", \"stores\", \"parm\", \"yoga\", \"gym\", \"hair\", \"example,\", \"answers\", \"rep\", \"museum\", \"student\", \"cirque\", \"fitness\", \"stylist\", \"gold\", \"movie\", \"classes\", \"grocery\", \"sleep\", \"salon\", \"barber\", \"class\", \"store\", \"buying\", \"deals\", \"don't\", \"people\", \"want\", \"looking\", \"it's\", \"best\", \"like\", \"great\", \"cut\", \"i've\", \"love\", \"staff\", \"buy\", \"walk\", \"there's\", \"new\", \"shop\", \"sure\", \"you're\", \"lot\", \"good\", \"i'm\", \"need\", \"find\", \"place\", \"happy\", \"time\", \"friendly\", \"know\", \"got\", \"feel\", \"right\", \"come\", \"nice\", \"going\", \"little\", \"think\"], \"Freq\": [3320.0, 971.0, 653.0, 2591.0, 624.0, 314.0, 1065.0, 1172.0, 1463.0, 1223.0, 2514.0, 287.0, 720.0, 491.0, 478.0, 1488.0, 750.0, 3556.0, 178.0, 870.0, 526.0, 1739.0, 798.0, 430.0, 234.0, 271.0, 1006.0, 407.0, 130.0, 1188.0, 20.4723911766798, 19.887356237397857, 17.43857329877323, 17.102589481946215, 17.41943332739777, 13.90390487237467, 27.67027974433479, 26.163607495442253, 13.309001782393727, 16.915908553587336, 14.523109336752201, 15.879109175277028, 19.157994617009738, 14.219956080404963, 17.620637299348942, 18.234914633214196, 12.50206077440003, 11.269484582930595, 11.158022723501144, 12.684281265307746, 14.238337675556112, 11.517153219789808, 14.53277377222611, 18.995696549137488, 13.892228286063853, 22.626198173287943, 15.846949949061756, 12.011933054574124, 9.08068116260866, 8.996421767576733, 40.873015331517145, 22.916449774038945, 38.58658601946252, 72.0439263920512, 29.335518368567257, 340.6682743553379, 24.428337132693773, 21.463102763248482, 117.35735582006393, 36.904546445029936, 32.759341637081405, 26.589709371979104, 317.59114697544453, 297.49549192039257, 329.0133929757783, 210.45123568322927, 747.0636437718449, 268.8540794745768, 1325.2460325357067, 178.2270872776768, 775.651334660848, 103.93673753986535, 44.02898641425719, 60.70537771792378, 50.94080695110188, 77.49824968338339, 1481.27275313097, 368.6991633832999, 47.65986213363917, 111.82065009170553, 306.4971565770805, 192.90874724813787, 1150.9056243336004, 1248.7856489576304, 270.5692283289562, 233.47277473406555, 483.2378486785875, 225.42963836229538, 160.98110450074662, 183.45861278319828, 445.5231527107687, 502.37573104701113, 493.9938051441775, 328.31643503987556, 798.7233950875064, 573.9847587687148, 480.6719257816232, 449.5476173567633, 390.4732244739514, 604.6489522822743, 462.14726327985096, 482.51514113823345, 584.7892216813552, 360.31140011328915, 434.77250024885745, 401.0057608963159, 506.088355834265, 337.21788662147213, 358.7836988972976, 359.68612030531244, 342.00986134168767, 37.726795094417895, 20.347766356764282, 19.360295849908937, 21.47563505012601, 18.05285522711272, 17.790750458158026, 14.498492554370987, 19.143478049640137, 15.640374800628202, 14.341034502386359, 17.26182681804957, 12.913350797551413, 12.701288300666233, 19.21169519424481, 16.934857650883057, 11.687801820840821, 22.447735798427722, 11.334224413676319, 11.225178611897396, 13.908444381906746, 21.10488619094177, 25.05639566515292, 11.200771201840851, 10.8591344129741, 18.00988410834181, 14.873687708054714, 31.456053774657793, 10.537022693794576, 10.109222211019043, 12.566494333616829, 26.365685191105875, 21.10720719100482, 41.26351164315954, 23.882227140651747, 22.950714709281065, 40.305982380460776, 24.872428942699635, 19.980172821630255, 34.09256220870758, 184.7220637696641, 33.46858743583943, 195.7396175955957, 156.67490673554184, 299.0838483853077, 105.65882406856689, 117.63954485261667, 81.48339728163643, 43.07123764936906, 188.68840567031367, 63.43633768781725, 117.3517683122545, 93.12023924569345, 474.6867029072381, 115.11054060935717, 88.60648467336804, 322.49886611016063, 225.75808650575607, 188.92510647556048, 103.89642966565985, 108.96160715829075, 293.9512245535664, 1326.7748279960088, 215.03557436239583, 1200.7569947974432, 92.1281627897485, 109.66092859740695, 179.38528806847148, 209.3635171550535, 137.72645449297497, 327.9221230977263, 557.8765090488405, 282.53341495344785, 313.0055363729736, 523.4912639253771, 548.1161681683052, 374.2257722136057, 959.0171198752752, 960.4823438677424, 248.22101352427103, 231.7708363081525, 979.1852645178403, 429.77370363978815, 218.57829941721786, 469.567098649815, 473.6377756834765, 446.64539644132213, 438.67337924250467, 429.4688972764781, 360.1552655473407, 571.620345256527, 335.91092291238425, 452.7644590335889, 447.11690279732636, 363.97096218354284, 335.6664350832572, 285.88048931656425, 301.97424881885826, 295.0535759799628, 47.45852266199978, 29.140288602566052, 27.50652102588558, 22.041086305693653, 19.08476838375306, 18.0164965899425, 17.270359048018225, 23.935080493548977, 16.585741781586357, 16.178261621753137, 17.76834375192213, 17.61818362837891, 16.251592529199513, 15.486727882548408, 17.745466496383155, 14.766698756386656, 12.039664979073336, 14.033652823123411, 22.67644540942857, 12.899849520190294, 10.046070511081897, 10.545279422652147, 11.212906049132142, 10.52202882718656, 10.656189431441765, 15.662682522452526, 30.128986230193206, 8.731647488839636, 11.22365877331552, 12.440371590542096, 15.47891512680324, 24.475310713943284, 18.72183121688172, 20.32057429905134, 18.045567681759525, 58.28475006356054, 15.618504187093386, 52.93109024519037, 646.9223562455577, 419.7943024563019, 195.99970536623292, 115.6604260881363, 74.04326406971646, 214.7228135525953, 310.2652640299429, 166.24926578549577, 155.1880706565251, 410.68159177982466, 547.4071735693498, 197.05601024625977, 41.08895347723677, 137.42628005551524, 182.17637716387856, 75.54009136275967, 578.5362486360939, 40.987065738695186, 325.02429562647706, 128.1588690679793, 228.22306313337427, 145.53017415633425, 94.96993002659191, 149.43980589675695, 288.19912454477304, 138.9748539988521, 661.3356336620398, 290.22774283940424, 425.97833973005584, 122.61402180640228, 164.89444925323272, 583.5693677429443, 632.9820811478364, 306.1187571223421, 444.53737603854336, 309.894162807145, 262.9126283184356, 311.3011373982792, 334.2426261050199, 336.24190081643866, 279.96811053649014, 212.80898359404145, 388.95742365298173, 388.4311198800826, 274.81996800294667, 325.08067463049343, 217.7036984438751, 222.73312021649704, 47.97370914622999, 57.63679183373128, 45.82229178283219, 67.15792510777887, 37.84134856637074, 29.406494626311037, 26.65649032341894, 27.54851646410874, 26.944105019649513, 23.498063215420487, 20.829462322130755, 20.637283421874447, 21.618053130546173, 20.071953856248363, 37.374122071987856, 19.9847373892144, 18.468891656035577, 18.58960131612461, 20.214761834702802, 18.654219207586074, 16.981067194973853, 16.949326619273602, 15.678138713455592, 29.189394445966926, 19.452374430109604, 16.16363890531398, 18.93502605573754, 14.716792034607003, 15.533955886246654, 13.728094909095223, 121.99561187860307, 154.70791831519756, 59.90163593650528, 32.012537039387716, 113.42603420813577, 70.88462837648589, 222.1868597319953, 39.277608758242074, 35.18052054822094, 54.03761408646572, 28.64902508204201, 404.18448867748214, 118.44236163510979, 121.94294406719841, 155.77502989935584, 58.17050331226389, 43.853746475082794, 92.81083994660007, 239.20512912082737, 157.9391265506844, 441.9480512547869, 887.1978275504538, 165.53391470389835, 300.48223655764576, 352.54197330718085, 95.58482454233916, 647.3602451074901, 190.25710667473112, 294.288150268233, 221.97175600146622, 134.28386122838393, 449.82604222488106, 213.2441932128383, 173.62774204665553, 247.87314642001814, 465.4948397511287, 446.2416272166147, 310.3203199768688, 256.43383164658457, 242.81139518073894, 214.5419405407655, 223.16519340557164, 286.9154076297673, 224.09641818993467, 271.07112399638413, 215.24573489069567, 243.2695163071008, 218.73138973930494, 206.68583725442326, 197.16661800795063, 202.03927431245614, 195.0184563230356, 19.703829320657466, 17.18463265163202, 18.73538151350844, 15.938852218640248, 21.939831555634626, 16.989053251121113, 21.276929269267193, 24.884288010051183, 14.530499413520072, 13.431355074903056, 13.85067749356701, 15.470945670580551, 12.57499888208916, 13.106941824739522, 14.252157150620441, 12.10087134908351, 22.124389267449693, 10.921233093828167, 10.744287081777106, 11.043718932614452, 11.22675342843589, 15.094588674437192, 11.215889427089502, 15.919139109857095, 11.026745641527969, 11.648740106274904, 54.3275713445025, 9.17316698544379, 9.653664430336542, 11.195958403149822, 15.320964195285203, 64.96319760684602, 15.968498535387624, 23.455693186496582, 68.27439979444684, 248.07599833789757, 20.44322311211993, 28.246188870601806, 14.254944055511737, 27.461516908826834, 16.165364620867987, 22.32898203305304, 24.888534617975917, 39.80103163553525, 37.49420587963491, 54.74987996734664, 40.67595551374672, 46.564176350323926, 32.42379105913557, 81.94850359331565, 25.480199454127863, 61.303217283489786, 212.6018112067409, 51.72635644779405, 38.88826717366027, 459.716091921168, 344.92345097733244, 270.55694060347133, 208.3433942516147, 523.3176373645045, 371.61273570417416, 603.95257029528, 605.2341829883319, 117.47134603218554, 321.8121973343794, 314.51095768020974, 265.4532493720342, 89.07066298096146, 103.34308514608811, 116.66363638667654, 215.8988609547287, 99.2564773185945, 190.1600454870968, 158.38390703357575, 167.63332132773314, 377.233764087519, 258.5302140651088, 153.79800849527803, 171.26769935782474, 378.71388763271005, 151.97111294783284, 290.3611751537881, 176.0697697313999, 186.98972380561588, 238.93284779645194, 148.0229546131551, 163.08043200791997, 197.1838430103199, 187.11131827285735, 177.1318290715695, 177.2595908662561, 162.31056732627866], \"Total\": [3320.0, 971.0, 653.0, 2591.0, 624.0, 314.0, 1065.0, 1172.0, 1463.0, 1223.0, 2514.0, 287.0, 720.0, 491.0, 478.0, 1488.0, 750.0, 3556.0, 178.0, 870.0, 526.0, 1739.0, 798.0, 430.0, 234.0, 271.0, 1006.0, 407.0, 130.0, 1188.0, 21.306426549506075, 20.735767567042537, 18.316563122403448, 18.012772603780427, 18.41943144477668, 14.708096263817245, 29.31743164650662, 27.732878622966037, 14.125214936120225, 17.960616208592487, 15.42114616914994, 16.86531023053646, 20.368492193590065, 15.159590033648085, 18.803519704417933, 19.47894102929555, 13.381335752074722, 12.075995522046682, 11.961536641591158, 13.622256093777937, 15.293331429519673, 12.390062397300586, 15.644617650644125, 20.55040219989731, 15.037072396501422, 24.497492044396772, 17.197350412814973, 13.084397914725102, 9.893352554943723, 9.802438495124333, 44.901373769683495, 25.05448864009966, 42.52819253541561, 81.71046938312504, 32.649381189410185, 430.99182207934365, 27.07954270052513, 23.66181684743991, 142.5314204669447, 42.24239648109769, 37.214090817283164, 29.82433112978149, 430.3808952656948, 407.7907915407681, 468.17735184856184, 288.95165107120175, 1172.2078547763429, 410.82428929968535, 2591.1756777251994, 262.77521174691367, 1463.89287850866, 145.90139984091738, 53.90176128159671, 78.35890608087136, 64.5787147920926, 106.76098096542886, 3693.0978649127314, 704.3306218798156, 60.03931587768906, 167.77399609968438, 573.3979955544462, 337.96126250430075, 3099.152590556655, 3556.638118452464, 528.8191491414761, 464.1163393412299, 1225.7233118873905, 450.8693693777766, 301.55787012393176, 367.0968088843438, 1253.2898488511812, 1490.796602616085, 1488.8603897058874, 860.5432097228794, 3267.211514394749, 2020.5397616141677, 1562.10924706339, 1415.6312490950195, 1141.8189107347885, 2453.2887061203096, 1587.3184160863004, 1739.6295467689436, 2514.818705358982, 1049.5806469748122, 1556.1900626903905, 1402.0377418702676, 3320.3743004901244, 956.176132001261, 1415.7906891286066, 1452.6155763307286, 1325.2639648199488, 38.84001909293705, 21.24772938551832, 20.226758685015636, 22.46659361034902, 18.931393755396478, 18.738450453735698, 15.305512489839826, 20.226042383535155, 16.53582339981173, 15.231193786241747, 18.33519071707457, 13.73969941591941, 13.516549113725215, 20.468404825966147, 18.05469474818303, 12.481611912682713, 24.0173938978306, 12.129028898649759, 12.05084823727988, 14.935323279836194, 22.673699447552224, 26.928137738394103, 12.06722306511706, 11.701683411902227, 19.417139589175683, 16.052909821783054, 33.98805811429467, 11.39009264565752, 10.929691705980387, 13.60991844864481, 28.667492217585014, 22.91370191001728, 45.49482589753823, 26.266586994123106, 25.28877475568761, 45.52967438596577, 27.60290523738103, 21.924895355655785, 38.47862933466697, 236.84270257180535, 38.30846878449916, 256.1025828204328, 211.58693409902895, 441.3485223719629, 142.08567473104958, 161.12091342915966, 106.72927172648275, 52.35682907149945, 286.43159191512837, 81.97601679680737, 168.40294289576565, 129.19170486467794, 879.0413620315497, 168.25307837863622, 124.91119523258754, 582.0975395915526, 385.54865111510054, 312.37801579407363, 152.72370397266278, 164.06168972995587, 552.4354057845435, 3556.638118452464, 381.10694615352605, 3320.3743004901244, 134.64481222814317, 168.10496773690812, 311.03565717531075, 379.6526627119831, 224.43184228991478, 687.6490681233707, 1402.0377418702676, 574.9957084246923, 666.5166657914359, 1325.2639648199488, 1415.6312490950195, 860.5432097228794, 3099.152590556655, 3267.211514394749, 508.0523112209413, 471.0538009185965, 3693.0978649127314, 1253.2898488511812, 452.8568245657169, 1562.10924706339, 1587.3184160863004, 1452.6155763307286, 1463.89287850866, 1415.7906891286066, 1049.5806469748122, 2514.818705358982, 956.176132001261, 2020.5397616141677, 2453.2887061203096, 1556.1900626903905, 1424.5463833900153, 907.5696039658051, 1141.8189107347885, 1172.2078547763429, 48.369465513426015, 30.07231506322487, 28.55012411939818, 22.969493284419503, 19.934058495192755, 18.825644200559864, 18.11099865097036, 25.144082373644668, 17.433892460784005, 17.02133764757926, 18.73522245928445, 18.633225745811984, 17.19140100654838, 16.39343091888316, 18.787831792392222, 15.74435114202229, 12.905783324160305, 15.04401234681575, 24.313085050199255, 13.934332388247096, 10.866691495157578, 11.434195506057788, 12.164310318984938, 11.426039802207296, 11.578587717157905, 17.02663574977895, 32.80887833144634, 9.523991411757107, 12.24360021830158, 13.609652824195823, 16.958986173835317, 26.984889127728284, 20.59642899850937, 22.406740127623134, 19.872140205440147, 66.94990296911179, 17.29695031934927, 64.1775471706401, 971.9707779118312, 624.6186787566156, 271.0832298158195, 152.41768660788256, 96.57950419392567, 320.7449218382984, 491.98612958426247, 243.83356598165048, 233.66245942912423, 720.2196730319047, 1065.918528554164, 341.133856218633, 51.996918567558495, 222.90871575975225, 333.60751060160004, 114.68675110791693, 1488.8603897058874, 53.53607129105099, 750.3733920005112, 239.85154006686528, 516.0421594470675, 285.41662730328665, 162.53588547261862, 302.52539087793707, 741.5811286109702, 280.38350734528916, 2453.2887061203096, 782.5249846499001, 1424.5463833900153, 237.27709342295984, 370.5607375059593, 2514.818705358982, 3267.211514394749, 1062.1803160170512, 2020.5397616141677, 1114.576117921799, 870.2689617332584, 1225.7233118873905, 1452.6155763307286, 1739.6295467689436, 1188.6658895835121, 699.8113037894855, 3556.638118452464, 3693.0978649127314, 1556.1900626903905, 3099.152590556655, 896.475114920175, 2591.1756777251994, 48.8168826373025, 58.70287787441569, 46.69745032977104, 68.78781460537755, 38.92528313472263, 30.281176241976603, 27.488456768468676, 28.51674040842491, 27.942567299159652, 24.407879014681267, 21.659695075167576, 21.465683498899917, 22.51070827898375, 20.922929619528745, 38.98313927264429, 20.845583902369036, 19.279928981067382, 19.410421549035217, 21.13735735972076, 19.5062383753305, 17.852545029748708, 17.826299227334356, 16.48936513324838, 30.702226445150927, 20.477159413027856, 17.01834120947974, 19.963038057409893, 15.543088648336557, 16.42955190625649, 14.53887411559293, 130.19538552071654, 178.76424227504927, 67.4921457552284, 34.918879970192265, 135.89638499712908, 82.2581384030781, 287.7144837058936, 44.1355489536217, 39.20110009849006, 64.16878586026924, 31.54868051008509, 653.9388931335391, 163.5703413452131, 171.21604538043823, 234.82800604238432, 73.69637599809336, 53.20365690433062, 141.9904620959207, 526.1933282663016, 303.7319965716898, 1223.0878434874294, 3320.3743004901244, 335.53894872473273, 798.9921309429101, 1006.5056908626505, 162.19449410227065, 2514.818705358982, 446.76736858541864, 870.2689617332584, 673.160970921379, 306.4815192078976, 2453.2887061203096, 699.8113037894855, 526.2057096522617, 1014.571452122739, 3693.0978649127314, 3556.638118452464, 2020.5397616141677, 1490.796602616085, 1415.7906891286066, 1114.576117921799, 1402.0377418702676, 3099.152590556655, 1556.1900626903905, 3267.211514394749, 1424.5463833900153, 2591.1756777251994, 1739.6295467689436, 1452.6155763307286, 1062.1803160170512, 1562.10924706339, 1587.3184160863004, 20.513680527275714, 17.999831357614546, 19.70350326409474, 16.774388016922494, 23.15457892960069, 17.957976777608213, 22.50216924939333, 26.37120356058843, 15.403831531175246, 14.251747578906535, 14.709059228037114, 16.487804609422234, 13.407189558550286, 13.986319656631382, 15.208397205708689, 12.96287300191424, 23.75404012231089, 11.738587396857007, 11.55483797397194, 11.898340216288956, 12.135837135424694, 16.32275153864453, 12.141042264518202, 17.282682090643473, 11.971609671923161, 12.648324789360684, 59.12375914629136, 9.997209157725043, 10.52101311707359, 12.2307367343665, 16.774453315733975, 72.44957486606226, 17.516747723564944, 25.952219875369302, 80.35672472324792, 314.04430372972666, 22.788559837725398, 32.50818109988346, 15.657445663100901, 32.20069214785755, 18.024808875304856, 26.035600319868635, 29.506957504683587, 50.872416539320426, 47.6300088564649, 76.96675377282175, 54.21489579672516, 64.98538226142435, 42.6230594166086, 138.1244793671777, 31.588438146452255, 96.22475176077869, 478.89789138097535, 78.5138706024319, 56.17990842946239, 1739.6295467689436, 1188.6658895835121, 942.5533436207224, 654.184117837773, 2591.1756777251994, 1587.3184160863004, 3267.211514394749, 3320.3743004901244, 292.18755907779047, 1490.796602616085, 1562.10924706339, 1223.0878434874294, 214.10128646423632, 284.4830825003032, 349.9095676565006, 1014.571452122739, 272.5075923518016, 826.9989757251728, 618.14433602559, 692.0771578984924, 3099.152590556655, 1556.1900626903905, 594.4718774014005, 743.3952159059262, 3693.0978649127314, 635.4189310071979, 2453.2887061203096, 907.5696039658051, 1062.1803160170512, 2020.5397616141677, 638.0662141645668, 835.813924592991, 1415.7906891286066, 1325.2639648199488, 1114.576117921799, 1415.6312490950195, 837.4489436269446], \"Category\": [\"Default\", \"Default\", \"Default\", \"Default\", \"Default\", \"Default\", \"Default\", \"Default\", \"Default\", \"Default\", \"Default\", \"Default\", \"Default\", \"Default\", \"Default\", \"Default\", \"Default\", \"Default\", \"Default\", \"Default\", \"Default\", \"Default\", \"Default\", \"Default\", \"Default\", \"Default\", \"Default\", \"Default\", \"Default\", \"Default\", \"Topic1\", \"Topic1\", \"Topic1\", \"Topic1\", \"Topic1\", \"Topic1\", \"Topic1\", \"Topic1\", \"Topic1\", \"Topic1\", \"Topic1\", \"Topic1\", \"Topic1\", \"Topic1\", \"Topic1\", \"Topic1\", \"Topic1\", \"Topic1\", \"Topic1\", \"Topic1\", \"Topic1\", \"Topic1\", \"Topic1\", \"Topic1\", \"Topic1\", \"Topic1\", \"Topic1\", \"Topic1\", \"Topic1\", \"Topic1\", \"Topic1\", \"Topic1\", \"Topic1\", \"Topic1\", \"Topic1\", \"Topic1\", \"Topic1\", \"Topic1\", \"Topic1\", \"Topic1\", \"Topic1\", \"Topic1\", \"Topic1\", \"Topic1\", \"Topic1\", \"Topic1\", \"Topic1\", \"Topic1\", \"Topic1\", \"Topic1\", \"Topic1\", \"Topic1\", \"Topic1\", \"Topic1\", \"Topic1\", \"Topic1\", \"Topic1\", \"Topic1\", \"Topic1\", \"Topic1\", \"Topic1\", \"Topic1\", \"Topic1\", \"Topic1\", \"Topic1\", \"Topic1\", \"Topic1\", \"Topic1\", \"Topic1\", \"Topic1\", \"Topic1\", \"Topic1\", \"Topic1\", \"Topic1\", \"Topic1\", \"Topic1\", \"Topic1\", \"Topic1\", \"Topic1\", \"Topic1\", \"Topic1\", \"Topic1\", \"Topic1\", \"Topic1\", \"Topic1\", \"Topic1\", \"Topic1\", \"Topic1\", \"Topic1\", \"Topic1\", \"Topic1\", \"Topic2\", \"Topic2\", \"Topic2\", \"Topic2\", \"Topic2\", \"Topic2\", \"Topic2\", \"Topic2\", \"Topic2\", \"Topic2\", \"Topic2\", \"Topic2\", \"Topic2\", \"Topic2\", \"Topic2\", \"Topic2\", \"Topic2\", \"Topic2\", \"Topic2\", \"Topic2\", \"Topic2\", \"Topic2\", \"Topic2\", \"Topic2\", \"Topic2\", \"Topic2\", \"Topic2\", \"Topic2\", \"Topic2\", \"Topic2\", \"Topic2\", \"Topic2\", \"Topic2\", \"Topic2\", \"Topic2\", \"Topic2\", \"Topic2\", \"Topic2\", \"Topic2\", \"Topic2\", \"Topic2\", \"Topic2\", \"Topic2\", \"Topic2\", \"Topic2\", \"Topic2\", \"Topic2\", \"Topic2\", \"Topic2\", \"Topic2\", \"Topic2\", \"Topic2\", \"Topic2\", \"Topic2\", \"Topic2\", \"Topic2\", \"Topic2\", \"Topic2\", \"Topic2\", \"Topic2\", \"Topic2\", \"Topic2\", \"Topic2\", \"Topic2\", \"Topic2\", \"Topic2\", \"Topic2\", \"Topic2\", \"Topic2\", \"Topic2\", \"Topic2\", \"Topic2\", \"Topic2\", \"Topic2\", \"Topic2\", \"Topic2\", \"Topic2\", \"Topic2\", \"Topic2\", \"Topic2\", \"Topic2\", \"Topic2\", \"Topic2\", \"Topic2\", \"Topic2\", \"Topic2\", \"Topic2\", \"Topic2\", \"Topic2\", \"Topic2\", \"Topic2\", \"Topic2\", \"Topic2\", \"Topic2\", \"Topic2\", \"Topic2\", \"Topic2\", \"Topic2\", \"Topic3\", \"Topic3\", \"Topic3\", \"Topic3\", \"Topic3\", \"Topic3\", \"Topic3\", \"Topic3\", \"Topic3\", \"Topic3\", \"Topic3\", \"Topic3\", \"Topic3\", \"Topic3\", \"Topic3\", \"Topic3\", \"Topic3\", \"Topic3\", \"Topic3\", \"Topic3\", \"Topic3\", \"Topic3\", \"Topic3\", \"Topic3\", \"Topic3\", \"Topic3\", \"Topic3\", \"Topic3\", \"Topic3\", \"Topic3\", \"Topic3\", \"Topic3\", \"Topic3\", \"Topic3\", \"Topic3\", \"Topic3\", \"Topic3\", \"Topic3\", \"Topic3\", \"Topic3\", \"Topic3\", \"Topic3\", \"Topic3\", \"Topic3\", \"Topic3\", \"Topic3\", \"Topic3\", \"Topic3\", \"Topic3\", \"Topic3\", \"Topic3\", \"Topic3\", \"Topic3\", \"Topic3\", \"Topic3\", \"Topic3\", \"Topic3\", \"Topic3\", \"Topic3\", \"Topic3\", \"Topic3\", \"Topic3\", \"Topic3\", \"Topic3\", \"Topic3\", \"Topic3\", \"Topic3\", \"Topic3\", \"Topic3\", \"Topic3\", \"Topic3\", \"Topic3\", \"Topic3\", \"Topic3\", \"Topic3\", \"Topic3\", \"Topic3\", \"Topic3\", \"Topic3\", \"Topic3\", \"Topic3\", \"Topic3\", \"Topic3\", \"Topic3\", \"Topic3\", \"Topic3\", \"Topic4\", \"Topic4\", \"Topic4\", \"Topic4\", \"Topic4\", \"Topic4\", \"Topic4\", \"Topic4\", \"Topic4\", \"Topic4\", \"Topic4\", \"Topic4\", \"Topic4\", \"Topic4\", \"Topic4\", \"Topic4\", \"Topic4\", \"Topic4\", \"Topic4\", \"Topic4\", \"Topic4\", \"Topic4\", \"Topic4\", \"Topic4\", \"Topic4\", \"Topic4\", \"Topic4\", \"Topic4\", \"Topic4\", \"Topic4\", \"Topic4\", \"Topic4\", \"Topic4\", \"Topic4\", \"Topic4\", \"Topic4\", \"Topic4\", \"Topic4\", \"Topic4\", \"Topic4\", \"Topic4\", \"Topic4\", \"Topic4\", \"Topic4\", \"Topic4\", \"Topic4\", \"Topic4\", \"Topic4\", \"Topic4\", \"Topic4\", \"Topic4\", \"Topic4\", \"Topic4\", \"Topic4\", \"Topic4\", \"Topic4\", \"Topic4\", \"Topic4\", \"Topic4\", \"Topic4\", \"Topic4\", \"Topic4\", \"Topic4\", \"Topic4\", \"Topic4\", \"Topic4\", \"Topic4\", \"Topic4\", \"Topic4\", \"Topic4\", \"Topic4\", \"Topic4\", \"Topic4\", \"Topic4\", \"Topic4\", \"Topic4\", \"Topic4\", \"Topic4\", \"Topic4\", \"Topic4\", \"Topic4\", \"Topic4\", \"Topic5\", \"Topic5\", \"Topic5\", \"Topic5\", \"Topic5\", \"Topic5\", \"Topic5\", \"Topic5\", \"Topic5\", \"Topic5\", \"Topic5\", \"Topic5\", \"Topic5\", \"Topic5\", \"Topic5\", \"Topic5\", \"Topic5\", \"Topic5\", \"Topic5\", \"Topic5\", \"Topic5\", \"Topic5\", \"Topic5\", \"Topic5\", \"Topic5\", \"Topic5\", \"Topic5\", \"Topic5\", \"Topic5\", \"Topic5\", \"Topic5\", \"Topic5\", \"Topic5\", \"Topic5\", \"Topic5\", \"Topic5\", \"Topic5\", \"Topic5\", \"Topic5\", \"Topic5\", \"Topic5\", \"Topic5\", \"Topic5\", \"Topic5\", \"Topic5\", \"Topic5\", \"Topic5\", \"Topic5\", \"Topic5\", \"Topic5\", \"Topic5\", \"Topic5\", \"Topic5\", \"Topic5\", \"Topic5\", \"Topic5\", \"Topic5\", \"Topic5\", \"Topic5\", \"Topic5\", \"Topic5\", \"Topic5\", \"Topic5\", \"Topic5\", \"Topic5\", \"Topic5\", \"Topic5\", \"Topic5\", \"Topic5\", \"Topic5\", \"Topic5\", \"Topic5\", \"Topic5\", \"Topic5\", \"Topic5\", \"Topic5\", \"Topic5\", \"Topic5\", \"Topic5\", \"Topic5\", \"Topic5\", \"Topic5\", \"Topic5\", \"Topic5\", \"Topic5\", \"Topic5\", \"Topic5\", \"Topic5\", \"Topic5\", \"Topic5\", \"Topic5\", \"Topic5\"], \"logprob\": [30.0, 29.0, 28.0, 27.0, 26.0, 25.0, 24.0, 23.0, 22.0, 21.0, 20.0, 19.0, 18.0, 17.0, 16.0, 15.0, 14.0, 13.0, 12.0, 11.0, 10.0, 9.0, 8.0, 7.0, 6.0, 5.0, 4.0, 3.0, 2.0, 1.0, -8.734999656677246, -8.763899803161621, -8.895299911499023, -8.914799690246582, -8.896400451660156, -9.121899604797363, -8.433699607849121, -8.489700317382812, -9.165599822998047, -8.925800323486328, -9.078300476074219, -8.98900032043457, -8.801300048828125, -9.09939956665039, -8.885000228881836, -8.850700378417969, -9.228099822998047, -9.331899642944336, -9.341899871826172, -9.213700294494629, -9.098099708557129, -9.310199737548828, -9.07759952545166, -8.809800148010254, -9.122699737548828, -8.634900093078613, -8.991100311279297, -9.268099784851074, -9.547900199890137, -9.55720043182373, -8.043600082397461, -8.622200012207031, -8.101099967956543, -7.476799964904785, -8.375200271606445, -5.923099994659424, -8.558300018310547, -8.687700271606445, -6.988800048828125, -8.145700454711914, -8.264800071716309, -8.47350025177002, -5.993299961090088, -6.058599948883057, -5.957900047302246, -6.404799938201904, -5.137899875640869, -6.159900188446045, -4.564700126647949, -6.571000099182129, -5.100299835205078, -7.110199928283691, -7.969200134277344, -7.6479997634887695, -7.823400020599365, -7.403800010681152, -4.453400135040283, -5.843999862670898, -7.889900207519531, -7.037099838256836, -6.028800010681152, -6.491799831390381, -4.705699920654297, -4.624100208282471, -6.153500080108643, -6.301000118255615, -5.573500156402588, -6.335999965667725, -6.672699928283691, -6.541999816894531, -5.654799938201904, -5.5346999168396, -5.551499843597412, -5.960100173950195, -5.071000099182129, -5.401400089263916, -5.578800201416016, -5.6458001136779785, -5.7866997718811035, -5.349400043487549, -5.618100166320801, -5.574999809265137, -5.382800102233887, -5.867099761962891, -5.679200172424316, -5.7600998878479, -5.527299880981445, -5.933300018310547, -5.871300220489502, -5.868800163269043, -5.9191999435424805, -8.047800064086914, -8.665200233459473, -8.71500015258789, -8.611300468444824, -8.784899711608887, -8.799500465393066, -9.004199981689453, -8.726200103759766, -8.928299903869629, -9.01509952545166, -8.829700469970703, -9.11989974975586, -9.136500358581543, -8.722700119018555, -8.848799705505371, -9.21969985961914, -8.567000389099121, -9.250399589538574, -9.260000228881836, -9.045700073242188, -8.628700256347656, -8.457099914550781, -9.262200355529785, -9.29319953918457, -8.787300109863281, -8.978599548339844, -8.229599952697754, -9.3233003616333, -9.364800453186035, -9.147199630737305, -8.406100273132324, -8.628600120544434, -7.958199977874756, -8.50510025024414, -8.544899940490723, -7.9816999435424805, -8.464400291442871, -8.683500289916992, -8.149100303649902, -6.4593000411987305, -8.16759967803955, -6.401400089263916, -6.624000072479248, -5.977499961853027, -7.01800012588501, -6.910600185394287, -7.2778000831604, -7.915299892425537, -6.4380998611450195, -7.528200149536133, -6.913000106811523, -7.1442999839782715, -5.515500068664551, -6.932300090789795, -7.193999767303467, -5.902100086212158, -6.258699893951416, -6.4369001388549805, -7.034800052642822, -6.987199783325195, -5.994800090789795, -4.48769998550415, -6.307400226593018, -4.587500095367432, -7.15500020980835, -6.980800151824951, -6.488699913024902, -6.334099769592285, -6.752900123596191, -5.88539981842041, -5.354100227355957, -6.03439998626709, -5.932000160217285, -5.417699813842773, -5.371699810028076, -5.753300189971924, -4.812300205230713, -4.810800075531006, -6.163899898529053, -6.232500076293945, -4.791500091552734, -5.6149001121521, -6.291100025177002, -5.526400089263916, -5.5177998542785645, -5.576399803161621, -5.594399929046631, -5.615699768066406, -5.7916998863220215, -5.329699993133545, -5.861400127410889, -5.56279993057251, -5.575399875640869, -5.781099796295166, -5.862100124359131, -6.022600173950195, -5.967899799346924, -5.991000175476074, -7.567399978637695, -8.05519962310791, -8.112899780273438, -8.334400177001953, -8.478400230407715, -8.53600025177002, -8.578300476074219, -8.251899719238281, -8.61870002746582, -8.643600463867188, -8.54990005493164, -8.558300018310547, -8.639100074768066, -8.687299728393555, -8.55109977722168, -8.73490047454834, -8.93910026550293, -8.785799980163574, -8.305899620056152, -8.870100021362305, -9.120100021362305, -9.071599960327148, -9.010199546813965, -9.073800086975098, -9.061100006103516, -8.675999641418457, -8.02180004119873, -9.260299682617188, -9.009300231933594, -8.906299591064453, -8.687800407409668, -8.229599952697754, -8.497599601745605, -8.415599822998047, -8.53439998626709, -7.3618998527526855, -8.678799629211426, -7.4583001136779785, -4.954999923706055, -5.387499809265137, -6.149199962615967, -6.676599979400635, -7.122600078582764, -6.0578999519348145, -5.689799785614014, -6.313799858093262, -6.382599830627441, -5.4095001220703125, -5.122099876403809, -6.143799781799316, -7.71150016784668, -6.504199981689453, -6.222300052642822, -7.10260009765625, -5.066800117492676, -7.714000225067139, -5.643400192260742, -6.573999881744385, -5.997000217437744, -6.446899890899658, -6.873700141906738, -6.420400142669678, -5.763599872589111, -6.493000030517578, -4.933000087738037, -5.7565999031066895, -5.372900009155273, -6.618199825286865, -6.322000026702881, -5.05810022354126, -4.976799964904785, -5.7032999992370605, -5.3302001953125, -5.690999984741211, -5.855500221252441, -5.686500072479248, -5.6153998374938965, -5.609399795532227, -5.792600154876709, -6.06689977645874, -5.463799953460693, -5.465199947357178, -5.811200141906738, -5.643199920654297, -6.044099807739258, -6.021299839019775, -7.402299880981445, -7.218800067901611, -7.448200225830078, -7.065899848937988, -7.639599800109863, -7.8917999267578125, -7.9899001121521, -7.956999778747559, -7.9791998863220215, -8.116100311279297, -8.236599922180176, -8.24590015411377, -8.199399948120117, -8.273699760437012, -7.6519999504089355, -8.277999877929688, -8.356900215148926, -8.3503999710083, -8.266599655151367, -8.34689998626709, -8.440899848937988, -8.442700386047363, -8.520700454711914, -7.899199962615967, -8.305000305175781, -8.49020004272461, -8.331999778747559, -8.583999633789062, -8.529899597167969, -8.653499603271484, -6.468999862670898, -6.231400012969971, -7.180300235748291, -7.80679988861084, -6.541800022125244, -7.011899948120117, -5.869500160217285, -7.60230016708374, -7.712500095367432, -7.283299922943115, -7.917900085449219, -5.271100044250488, -6.498600006103516, -6.469399929046631, -6.224599838256836, -7.20959997177124, -7.492099761962891, -6.742400169372559, -5.7957000732421875, -6.2108001708984375, -5.18179988861084, -4.484899997711182, -6.16379976272583, -5.567599773406982, -5.407800197601318, -6.7129998207092285, -4.800099849700928, -6.024600028991699, -5.588399887084961, -5.8703999519348145, -6.373000144958496, -5.164100170135498, -5.9105000495910645, -6.116099834442139, -5.7600998878479, -5.129899978637695, -5.172100067138672, -5.535399913787842, -5.726099967956543, -5.780700206756592, -5.9045000076293945, -5.865099906921387, -5.613800048828125, -5.860899925231934, -5.670599937438965, -5.901199817657471, -5.778800010681152, -5.8850998878479, -5.941800117492676, -5.988900184631348, -5.9644999504089355, -5.999899864196777, -8.24779987335205, -8.384599685668945, -8.298199653625488, -8.459799766540527, -8.140299797058105, -8.395999908447266, -8.170999526977539, -8.014399528503418, -8.552300453186035, -8.630999565124512, -8.600299835205078, -8.48960018157959, -8.696900367736816, -8.655400276184082, -8.571700096130371, -8.735300064086914, -8.1318998336792, -8.837900161743164, -8.85420036315918, -8.826700210571289, -8.81029987335205, -8.514300346374512, -8.811300277709961, -8.461099624633789, -8.828300476074219, -8.77340030670166, -7.23360013961792, -9.012299537658691, -8.961299896240234, -8.812999725341797, -8.49940013885498, -7.054800033569336, -8.458000183105469, -8.07349967956543, -7.005099773406982, -5.714900016784668, -8.21090030670166, -7.887599945068359, -8.571499824523926, -7.915800094604492, -8.445699691772461, -8.122699737548828, -8.014200210571289, -7.5447001457214355, -7.604400157928467, -7.225800037384033, -7.5229997634887695, -7.387800216674805, -7.74970006942749, -6.822500228881836, -7.990699768066406, -7.112800121307373, -5.869200229644775, -7.282599925994873, -7.56790018081665, -5.0980000495910645, -5.385300159454346, -5.6280999183654785, -5.889400005340576, -4.968400001525879, -5.310699939727783, -4.825099945068359, -4.822999954223633, -6.462399959564209, -5.454599857330322, -5.47760009765625, -5.647200107574463, -6.739200115203857, -6.5904998779296875, -6.469299793243408, -5.853799819946289, -6.630899906158447, -5.9807000160217285, -6.163599967956543, -6.106800079345703, -5.2957000732421875, -5.673600196838379, -6.19290018081665, -6.085400104522705, -5.291800022125244, -6.204899787902832, -5.557499885559082, -6.057700157165527, -5.997499942779541, -5.752399921417236, -6.231200218200684, -6.134300231933594, -5.944499969482422, -5.9969000816345215, -6.051700115203857, -6.051000118255615, -6.139100074768066], \"loglift\": [30.0, 29.0, 28.0, 27.0, 26.0, 25.0, 24.0, 23.0, 22.0, 21.0, 20.0, 19.0, 18.0, 17.0, 16.0, 15.0, 14.0, 13.0, 12.0, 11.0, 10.0, 9.0, 8.0, 7.0, 6.0, 5.0, 4.0, 3.0, 2.0, 1.0, 1.3101, 1.3083, 1.3009, 1.2982, 1.2942, 1.2938, 1.2922, 1.2918, 1.2905, 1.2901, 1.2901, 1.2898, 1.2888, 1.2861, 1.2851, 1.2841, 1.2821, 1.2809, 1.2805, 1.2787, 1.2786, 1.277, 1.2763, 1.2714, 1.2709, 1.2706, 1.2683, 1.2645, 1.2643, 1.2643, 1.2561, 1.2609, 1.2528, 1.2242, 1.243, 1.1149, 1.247, 1.2525, 1.1557, 1.215, 1.2226, 1.2353, 1.0462, 1.0347, 0.9973, 1.0331, 0.8996, 0.9261, 0.6795, 0.9618, 0.7149, 1.0109, 1.1477, 1.0948, 1.1128, 1.0297, 0.4365, 0.7028, 1.1192, 0.9443, 0.7237, 0.7893, 0.3595, 0.3034, 0.6799, 0.663, 0.4193, 0.6569, 0.7224, 0.6564, 0.3158, 0.2623, 0.2468, 0.3865, -0.0586, 0.0915, 0.1715, 0.203, 0.277, -0.0505, 0.1161, 0.0676, -0.1086, 0.2809, 0.0749, 0.0984, -0.5311, 0.3078, -0.0227, -0.0458, -0.0045, 1.3968, 1.3826, 1.3821, 1.3808, 1.3784, 1.374, 1.3717, 1.3709, 1.3702, 1.3657, 1.3656, 1.3639, 1.3637, 1.3625, 1.3619, 1.3602, 1.3583, 1.3581, 1.3549, 1.3547, 1.3542, 1.3538, 1.3514, 1.3512, 1.3507, 1.3496, 1.3485, 1.348, 1.3479, 1.3461, 1.3422, 1.3438, 1.3283, 1.3307, 1.3289, 1.304, 1.3217, 1.333, 1.3049, 1.1773, 1.2908, 1.1571, 1.1254, 1.0368, 1.1297, 1.1114, 1.156, 1.2307, 1.0085, 1.1695, 1.0647, 1.0985, 0.8097, 1.0463, 1.0825, 0.8354, 0.8907, 0.923, 1.0407, 1.0166, 0.795, 0.4398, 0.8536, 0.4088, 1.0464, 0.9987, 0.8755, 0.8307, 0.9376, 0.6854, 0.5043, 0.7153, 0.67, 0.497, 0.477, 0.5932, 0.2529, 0.2016, 0.7096, 0.7167, 0.0984, 0.3556, 0.6975, 0.2239, 0.2165, 0.2465, 0.2208, 0.233, 0.3563, -0.0556, 0.3798, -0.0699, -0.2765, -0.027, -0.0196, 0.2707, 0.0959, 0.0464, 1.6578, 1.6453, 1.6396, 1.6356, 1.6333, 1.6329, 1.6293, 1.6275, 1.6269, 1.626, 1.6238, 1.6208, 1.6206, 1.6199, 1.6197, 1.6127, 1.6073, 1.6073, 1.6071, 1.5997, 1.5983, 1.5959, 1.5954, 1.5944, 1.5938, 1.5933, 1.5916, 1.59, 1.5898, 1.587, 1.5855, 1.5792, 1.5814, 1.5791, 1.5804, 1.5382, 1.5747, 1.4842, 1.2697, 1.2794, 1.3525, 1.4009, 1.4111, 1.2755, 1.2158, 1.2938, 1.2676, 1.1151, 1.0104, 1.128, 1.4414, 1.1931, 1.0718, 1.2593, 0.7316, 1.4097, 0.8401, 1.0501, 0.861, 1.0032, 1.1395, 0.9715, 0.7317, 0.975, 0.3659, 0.685, 0.4696, 1.0166, 0.8671, 0.216, 0.0356, 0.4327, 0.1627, 0.3968, 0.4798, 0.3063, 0.2076, 0.0332, 0.2309, 0.4864, -0.5363, -0.5753, -0.0571, -0.578, 0.2615, -0.7771, 1.8137, 1.8128, 1.8122, 1.8071, 1.8029, 1.8018, 1.8004, 1.7966, 1.7947, 1.7931, 1.792, 1.7918, 1.7907, 1.7896, 1.789, 1.7889, 1.7881, 1.7879, 1.7865, 1.7865, 1.7811, 1.7807, 1.7807, 1.7806, 1.7798, 1.7796, 1.7782, 1.7765, 1.7751, 1.7737, 1.7661, 1.6866, 1.7118, 1.7442, 1.6504, 1.6823, 1.5727, 1.7145, 1.7229, 1.6593, 1.7347, 1.35, 1.5083, 1.4917, 1.4207, 1.5945, 1.6378, 1.4059, 1.0428, 1.1772, 0.8132, 0.5113, 1.1246, 0.8532, 0.782, 1.3023, 0.4741, 0.9775, 0.7469, 0.7217, 1.0059, 0.1348, 0.6427, 0.7223, 0.4218, -0.24, -0.2446, -0.0424, 0.0709, 0.068, 0.1834, -0.0067, -0.5486, -0.1068, -0.6582, -0.0587, -0.5346, -0.2425, -0.1188, 0.1471, -0.2142, -0.2656, 1.8352, 1.8292, 1.8251, 1.8244, 1.8216, 1.82, 1.8195, 1.8175, 1.8171, 1.8162, 1.8154, 1.8118, 1.8114, 1.8106, 1.8106, 1.8067, 1.8044, 1.8033, 1.8028, 1.801, 1.7976, 1.7973, 1.7962, 1.7933, 1.7933, 1.7932, 1.7909, 1.7895, 1.7895, 1.7871, 1.7849, 1.7664, 1.783, 1.7744, 1.7126, 1.6397, 1.7669, 1.735, 1.7817, 1.7163, 1.7666, 1.7219, 1.7053, 1.6301, 1.6362, 1.5349, 1.5882, 1.5422, 1.602, 1.3534, 1.6606, 1.4246, 1.0634, 1.4582, 1.5076, 0.5447, 0.6382, 0.6274, 0.7313, 0.2758, 0.4236, 0.1873, 0.1733, 0.9643, 0.3424, 0.2727, 0.3478, 0.9985, 0.8629, 0.7771, 0.3281, 0.8655, 0.4056, 0.5138, 0.4576, -0.2305, 0.0805, 0.5235, 0.4075, -0.4019, 0.4449, -0.2586, 0.2356, 0.1385, -0.2594, 0.4144, 0.2413, -0.0958, -0.0822, 0.0362, -0.2022, 0.2347]}, \"token.table\": {\"Topic\": [3, 4, 5, 2, 5, 1, 2, 3, 4, 1, 2, 3, 4, 5, 1, 5, 1, 2, 4, 5, 1, 2, 3, 4, 1, 2, 3, 4, 5, 2, 1, 2, 3, 4, 5, 3, 4, 5, 3, 5, 1, 2, 3, 4, 5, 4, 1, 5, 1, 2, 3, 4, 5, 1, 4, 5, 1, 2, 3, 5, 1, 2, 1, 2, 3, 4, 5, 2, 1, 2, 3, 4, 5, 5, 1, 2, 3, 4, 1, 2, 4, 1, 2, 4, 1, 2, 3, 4, 5, 1, 2, 3, 4, 5, 1, 2, 1, 2, 3, 4, 5, 1, 2, 3, 4, 5, 1, 2, 3, 4, 5, 1, 2, 3, 4, 5, 1, 2, 3, 4, 5, 1, 2, 3, 4, 5, 4, 1, 2, 3, 4, 5, 1, 2, 3, 4, 5, 3, 1, 2, 3, 4, 5, 1, 2, 3, 4, 5, 1, 2, 3, 4, 5, 1, 4, 1, 3, 1, 1, 2, 3, 4, 5, 1, 2, 3, 4, 5, 1, 2, 3, 4, 5, 1, 2, 3, 4, 5, 1, 2, 3, 4, 5, 1, 5, 1, 2, 1, 2, 3, 4, 5, 1, 3, 4, 5, 1, 2, 3, 4, 5, 1, 2, 3, 4, 5, 1, 2, 3, 4, 5, 1, 2, 3, 4, 5, 3, 3, 1, 2, 1, 2, 3, 4, 5, 2, 3, 4, 2, 1, 2, 3, 4, 5, 1, 2, 3, 4, 5, 4, 1, 2, 3, 4, 5, 1, 2, 3, 4, 5, 3, 4, 5, 1, 2, 3, 4, 5, 1, 2, 3, 4, 5, 1, 2, 3, 4, 5, 1, 2, 3, 4, 5, 1, 3, 4, 5, 4, 1, 2, 3, 4, 5, 1, 4, 2, 1, 2, 3, 4, 5, 1, 2, 3, 4, 5, 1, 2, 3, 4, 5, 1, 3, 4, 1, 2, 3, 4, 5, 1, 2, 3, 4, 5, 1, 2, 3, 4, 5, 1, 1, 1, 2, 3, 4, 5, 5, 1, 2, 3, 4, 5, 2, 3, 2, 4, 3, 4, 1, 2, 3, 4, 5, 1, 2, 4, 4, 2, 5, 3, 1, 2, 3, 4, 5, 3, 1, 2, 3, 4, 5, 5, 1, 2, 3, 4, 5, 1, 2, 3, 4, 5, 1, 2, 3, 4, 5, 1, 2, 3, 4, 5, 1, 2, 3, 4, 5, 1, 1, 2, 3, 4, 5, 1, 2, 3, 4, 5, 1, 2, 1, 2, 3, 4, 5, 1, 2, 3, 4, 5, 1, 2, 3, 4, 5, 1, 2, 3, 4, 5, 1, 2, 3, 4, 5, 1, 1, 2, 3, 5, 1, 2, 3, 4, 5, 2, 5, 1, 2, 3, 4, 5, 1, 2, 3, 4, 5, 1, 2, 3, 4, 5, 1, 2, 5, 2, 1, 1, 2, 3, 4, 5, 1, 2, 3, 5, 5, 1, 2, 3, 4, 5, 1, 2, 3, 4, 5, 2, 1, 2, 3, 4, 5, 2, 4, 5, 1, 2, 3, 4, 5, 2, 2, 3, 1, 2, 3, 4, 5, 2, 1, 2, 3, 4, 5, 2, 1, 2, 3, 4, 5, 3, 1, 1, 2, 3, 4, 5, 1, 2, 3, 4, 5, 1, 2, 3, 4, 5, 1, 2, 3, 4, 5, 1, 2, 4, 2, 4, 5, 3, 1, 2, 3, 4, 5, 1, 2, 3, 4, 5, 1, 2, 3, 4, 5, 5, 4, 1, 2, 4, 4, 1, 2, 3, 4, 5, 3, 4, 1, 5, 2, 1, 2, 3, 4, 5, 1, 2, 3, 4, 5, 5, 1, 2, 3, 4, 5, 2, 1, 3, 4, 3, 3, 1, 2, 3, 4, 5, 1, 4, 1, 2, 3, 4, 5, 1, 2, 3, 4, 5, 1, 2, 3, 4, 5, 1, 2, 3, 4, 5, 1, 2, 3, 4, 5, 1, 2, 3, 4, 5, 1, 2, 3, 4, 5, 4, 4, 1, 2, 3, 4, 5, 1, 4, 5, 1, 2, 3, 4, 2, 1, 2, 3, 4, 5, 1, 2, 3, 4, 5, 5, 1, 3, 1, 2, 3, 4, 5, 1, 2, 3, 4, 5, 1, 2, 3, 4, 5, 1, 2, 3, 4, 5, 1, 2, 3, 4, 5, 1, 2, 3, 5, 1, 2, 3, 4, 5, 1, 2, 3, 4, 5, 1, 2, 3, 4, 5, 1, 2, 3, 4, 5, 1, 2, 3, 4, 5, 4, 2, 1, 2, 3, 4, 5, 3, 2, 1, 2, 3, 4, 5, 3, 1, 2, 3, 4, 5, 1, 2, 3, 4, 5, 1, 2, 3, 4, 5, 5, 5, 1, 2, 3, 4, 5, 4, 4, 2, 5, 4, 3, 2, 4, 5, 1, 2, 3, 4, 5, 3, 1, 2, 3, 4, 5, 1, 2, 3, 4, 5, 2, 3, 3, 2, 1, 2, 4, 5, 2, 1, 2, 3, 4, 5, 1, 2, 3, 4, 5, 4, 1, 2, 4, 5, 3, 4, 1, 2, 3, 4, 5, 1, 2, 1, 2, 3, 4, 5, 1, 2, 3, 4, 5, 1, 2, 3, 4, 5, 1, 2, 3, 4, 1, 2, 3, 4, 5, 5, 1, 2, 3, 4, 5, 1, 1, 2, 3, 4, 5, 4, 3, 5, 5, 1, 2, 3, 4, 5, 3, 3, 1, 2, 3, 4, 5, 2, 1, 2, 3, 4, 5, 1, 2, 3, 4, 5, 4, 5, 1, 2, 3, 4, 5, 3, 5, 2, 3, 1, 2, 3, 4, 5, 1, 2, 3, 4, 5, 1, 2, 3, 4, 5, 1, 2, 3, 4, 5, 1, 2, 3, 4, 5, 1, 4, 1, 2, 3, 4, 5, 1, 2, 3, 4, 5, 1, 2, 3, 4, 5, 1, 2, 3, 4, 5, 1, 2, 3, 4, 1, 2, 3, 4, 1, 2, 3, 4, 5, 1, 2, 3, 4, 5, 3, 5, 2, 1, 2, 4, 5, 1, 5, 1, 2, 3, 4, 5, 1, 2, 3, 4, 5, 1, 5, 1, 2, 3, 4, 5, 1, 2, 3, 4, 5, 5, 1, 2, 3, 4, 5, 1, 1, 2, 4, 5, 5, 1, 2, 4, 4, 1, 2, 3, 4, 5, 1, 1, 1, 2, 3, 4, 5, 3, 4, 5, 1, 5, 1, 2, 3, 4, 5, 1, 2, 3, 4, 5, 1, 2, 3, 4, 5, 1, 2, 3, 4, 5, 4, 5, 5, 1, 2, 3, 5, 3, 1, 2, 3, 4, 5, 4, 1, 2, 3, 4, 5, 3, 1, 2, 3, 4, 5, 5, 2, 1, 2, 3, 4, 5, 1, 3, 5, 1, 2, 3, 4, 5, 1, 3, 1, 2, 3, 4, 5, 1, 2, 3, 4, 5, 1, 1, 2, 3, 4, 5, 1, 2, 3, 4, 5, 1, 2, 4, 1, 1, 2, 3, 4, 5, 5, 2, 4, 1, 3, 1, 2, 3, 4, 5, 4, 5, 1, 2, 4, 1, 3, 4, 1, 5, 4, 1, 2, 3, 4, 5, 2, 4, 1, 2, 3, 4, 5, 1, 2, 3, 4, 5, 1, 2, 3, 4, 5, 1, 2, 3, 4, 5, 1, 2, 3, 4, 5, 1, 2, 3, 4, 5, 1, 2, 3, 4, 5, 1, 5, 3, 5, 1, 2, 3, 4, 5, 3, 4], \"Freq\": [0.915000653263003, 0.03792015020105084, 0.948003755026271, 0.9412770483433996, 0.9487422405608977, 0.9303758786049541, 0.05814849241280963, 0.9397041338719965, 0.05873150836699978, 0.12032783167617764, 0.3089899875141352, 0.044565863583769495, 0.32978739051989425, 0.1960897997685858, 0.9229383681558098, 0.9060177668722181, 0.0615229745969137, 0.03076148729845685, 0.03076148729845685, 0.8613216443567918, 0.0439273951982509, 0.8785479039650181, 0.0439273951982509, 0.02196369759912545, 0.059002745684532676, 0.004214481834609477, 0.5183812656569656, 0.26551235558039704, 0.15593582788055063, 0.9393497146962829, 0.3079773869556674, 0.07795278259043864, 0.3705951959217575, 0.11756813112000582, 0.1252356179321801, 0.884486834663638, 0.058965788977575866, 0.058965788977575866, 0.061264180713188864, 0.918962710697833, 0.10062565559930392, 0.719860459287328, 0.10836609064540423, 0.04644261027660181, 0.023221305138300907, 0.9650591551895524, 0.05786138949702614, 0.9257822319524183, 0.8162998565136423, 0.11131361679731487, 0.018552269466219146, 0.018552269466219146, 0.018552269466219146, 0.09497145715439352, 0.06331430476959568, 0.791428809619946, 0.03954323646206282, 0.9094944386274448, 0.03954323646206282, 0.03954323646206282, 0.9465154091910877, 0.9614142855865162, 0.2910569141754868, 0.29861683402420075, 0.05354943226172376, 0.12284869754160158, 0.23435751531013224, 0.9393829815894579, 0.18988538940353974, 0.6809682930333839, 0.039286632290387535, 0.05238217638718338, 0.03273886024198961, 0.9257207100793126, 0.888225103923444, 0.030628451859429105, 0.030628451859429105, 0.030628451859429105, 0.034882716367725636, 0.9069506255608665, 0.034882716367725636, 0.02942209868646249, 0.9120850592803373, 0.02942209868646249, 0.1994190889645553, 0.5641461069392025, 0.039359030716688545, 0.15481218748564163, 0.04198296609780112, 0.21538148793183495, 0.6832792030940971, 0.051988635018029125, 0.02228084357915534, 0.02228084357915534, 0.9240748751653756, 0.05133749306474309, 0.08907207761377645, 0.6947622053874563, 0.09501021612136154, 0.06531952358343605, 0.053443246568265865, 0.8811600342473316, 0.02447666761798143, 0.02447666761798143, 0.012238333808990715, 0.06119166904495358, 0.6547811485502788, 0.2312424130567899, 0.03164369862882389, 0.0584191359301364, 0.021907175973801152, 0.17685453152299932, 0.05095808535408455, 0.545551266731964, 0.1348890494666944, 0.08992603297779626, 0.10275510420006234, 0.12610853697280378, 0.18215677562738325, 0.17281540251828667, 0.41569110335479764, 0.038209809005481356, 0.07641961801096271, 0.15283923602192542, 0.07641961801096271, 0.6623033560950101, 0.966267691545007, 0.1008615370347388, 0.04642832657154643, 0.6724102468982587, 0.14088595649296848, 0.04002441945822968, 0.044809624315424165, 0.029873082876949442, 0.8663194034315338, 0.029873082876949442, 0.029873082876949442, 0.9527226536484195, 0.2478288171116485, 0.30772078124696356, 0.22993006920914055, 0.14250156983919787, 0.07228340499089747, 0.0203257762743234, 0.09349857086188763, 0.6300990645040254, 0.12805239052823741, 0.12805239052823741, 0.10296186166337065, 0.06267243753422562, 0.2887408729255394, 0.42527725469653094, 0.11862997104692705, 0.07652846457019591, 0.8928320866522856, 0.9179991789251106, 0.03991300777935264, 0.928121716197231, 0.5336607424030386, 0.329613987954818, 0.04011175514794081, 0.03139180837664933, 0.06627159546181526, 0.6372589954556546, 0.2516618522883776, 0.03412364098825459, 0.04692000635885007, 0.030711276889429134, 0.7784692647067345, 0.14037970347170622, 0.05104716489880227, 0.025523582449401134, 0.012761791224700567, 0.7128101588702761, 0.10280915752936676, 0.08910126985878451, 0.06168549451762005, 0.03426971917645558, 0.1405686721451049, 0.765318326123349, 0.04295153871100428, 0.015618741349456101, 0.03904685337364026, 0.11522684182974648, 0.8449968400848075, 0.07796535510419488, 0.8836073578475419, 0.07274635550531197, 0.010392336500758853, 0.1558850475113828, 0.12470803800910622, 0.63393252654629, 0.07378046090870877, 0.12911580659024036, 0.036890230454354384, 0.7562497243142648, 0.19955257725697512, 0.492512743868279, 0.09340758935432877, 0.036089295886899755, 0.17832357967644585, 0.5338942072174523, 0.22881180309319385, 0.07627060103106462, 0.043109470147993045, 0.11938007117905766, 0.2535685555475421, 0.30301089228383166, 0.13278799009174908, 0.171635540384548, 0.13914486195784345, 0.024606948497203726, 0.0328092646629383, 0.6807922417559698, 0.16404632331469152, 0.0984277939888149, 0.9620265801972904, 0.9329474593963929, 0.04163649079721036, 0.9160027975386278, 0.7283146313280789, 0.20598797653723444, 0.02697461597511403, 0.014713426895516746, 0.02207014034327512, 0.9137083552335813, 0.03807118146806589, 0.03807118146806589, 0.9373750897579197, 0.09861756931800907, 0.06663349278243856, 0.4331177030858506, 0.22522120560464232, 0.17591242094563778, 0.3251336241003598, 0.12663099043908752, 0.06844918402112839, 0.07529410242324122, 0.40042772652360104, 0.9629356364661698, 0.1173169012039946, 0.19013428815819813, 0.38835939708908557, 0.15777100506744102, 0.1456347739084071, 0.030723055076045874, 0.015361527538022937, 0.007680763769011468, 0.9370531798193992, 0.007680763769011468, 0.7885082641335672, 0.019231908881306516, 0.17308717993175865, 0.1601996203197821, 0.10679974687985473, 0.017799957813309123, 0.035599915626618246, 0.6941983547190558, 0.2860122720127923, 0.39799213911007003, 0.04279485366774947, 0.15905420613180218, 0.11411960978066524, 0.31496895053801477, 0.5321889164263008, 0.04344399317765721, 0.05792532423687628, 0.050684658707266746, 0.29308882205443204, 0.5861776441088641, 0.031124476678346766, 0.03631188945807123, 0.05187412779724461, 0.02863780284057301, 0.02863780284057301, 0.9164096908983363, 0.02863780284057301, 0.9576906712031681, 0.149912013276016, 0.758929567209831, 0.018739001659502, 0.028108502489252996, 0.028108502489252996, 0.06339409343476868, 0.9192143548041459, 0.9069151448080526, 0.3317973957904715, 0.10746474357586122, 0.3888880408151478, 0.10074819710236989, 0.07186704726635719, 0.2826500409323634, 0.4835965544077155, 0.037539458561329515, 0.11482657912877263, 0.0817035274570113, 0.28292576098566113, 0.5754967183685606, 0.09645196397238447, 0.022505458260223044, 0.022505458260223044, 0.02713837652005769, 0.176399447380375, 0.787012919081673, 0.27764531873874393, 0.13911007688359428, 0.1931445695573871, 0.12588887122936837, 0.264424113084518, 0.01481653885515313, 0.01481653885515313, 0.05926615542061252, 0.8889923313091878, 0.02963307771030626, 0.011187919768220598, 0.022375839536441195, 0.08950335814576478, 0.8670637820370963, 0.011187919768220598, 0.972690345806303, 0.9572675904804596, 0.5239016855680099, 0.28537734091915984, 0.0440134207387759, 0.0638904494595134, 0.0837674781802509, 0.9504788073851856, 0.16136949230635705, 0.7323692343134667, 0.062065189348598865, 0.03723911360915932, 0.012413037869719774, 0.03977078921154714, 0.9544989410771314, 0.025652115726393844, 0.9491282818765723, 0.945992660022859, 0.041130115653167786, 0.17120912450786924, 0.5505031849560719, 0.03424182490157385, 0.1316993265445148, 0.11062743429739243, 0.8875058130742017, 0.042262181574961984, 0.9818794013262384, 0.9880265176109531, 0.04388166725413453, 0.8776333450826908, 0.9386561352920849, 0.11013875680621417, 0.1827302101557644, 0.15769867451798847, 0.3754730345666392, 0.17396917268254283, 0.8984285507425617, 0.502029297935776, 0.30811240173740756, 0.04309264359963742, 0.04309264359963742, 0.10342234463912982, 0.9121688359988077, 0.2053078459443602, 0.1598580174528606, 0.1943371976877913, 0.20844231687480844, 0.23195084885317027, 0.21588903492160566, 0.07556116222256198, 0.4452711345258117, 0.14572509857208382, 0.11604035627036305, 0.2434774883228531, 0.1963962060504782, 0.1923606675699889, 0.13586312884313903, 0.23002569338788884, 0.03389031213540982, 0.03389031213540982, 0.03389031213540982, 0.06778062427081964, 0.8472578033852455, 0.2555673894015355, 0.6834941809575951, 0.01783028298150248, 0.011886855321001652, 0.02971713830250413, 0.9543206287200725, 0.3511743276663342, 0.3731051503708771, 0.10937294912906646, 0.12539931956700165, 0.04105000147260592, 0.2805631270719274, 0.46960566189044534, 0.1455327450587003, 0.0660148534286888, 0.03750843944811864, 0.04885578570985676, 0.9282599284872785, 0.3402898525531313, 0.47698748563003024, 0.05962343570375378, 0.04071844389524649, 0.08289111792960892, 0.7027251504178259, 0.14310816133128976, 0.09611742178967222, 0.023495369770808766, 0.03203914059655741, 0.203841114986229, 0.31512734533006215, 0.0892493530480246, 0.19833189566227688, 0.19392452020311518, 0.4985061040333242, 0.30782070904789965, 0.07627415799416983, 0.06537784970928842, 0.04903338728196631, 0.036596069402055134, 0.7685174574431578, 0.060993449003425224, 0.07319213880411027, 0.060993449003425224, 0.9386839202495756, 0.07639882076390697, 0.8212873232119999, 0.07639882076390697, 0.019099705190976743, 0.20545927399466055, 0.16508518085160498, 0.27813264165216056, 0.19289844501682105, 0.15880476636268523, 0.20995167206740262, 0.7768211866493896, 0.37139184547001053, 0.30943942641680283, 0.10486737600152339, 0.09260595973057603, 0.12164615616176713, 0.38115459664788454, 0.43460920471435616, 0.08831630897938787, 0.061589004946152076, 0.03369964421581906, 0.28408250651867556, 0.22419751821073178, 0.22023818014078508, 0.15342435021043455, 0.1182852248396576, 0.05220777711713876, 0.8614283224327897, 0.05220777711713876, 0.9551857381845266, 0.9203399777483819, 0.1523924576591587, 0.36170620879179766, 0.036441674657624906, 0.2671385572009363, 0.18220837328812456, 0.06155230393057825, 0.20004498777437932, 0.015388075982644562, 0.7232395711842944, 0.9519821935000948, 0.1454423374921053, 0.06611015340550241, 0.49252064287099295, 0.11569276845962922, 0.1784974141948565, 0.012444509198751489, 0.012444509198751489, 0.06222254599375745, 0.049778036795005955, 0.8462266255151013, 0.934721140383585, 0.14647614828125843, 0.03184264093070835, 0.009552792279212506, 0.019105584558425013, 0.7896974950815672, 0.016913674205418425, 0.0676546968216737, 0.9133384070925951, 0.19672061045122374, 0.3116054469547384, 0.10701601208546573, 0.14636013417571048, 0.23921226230868808, 0.9617839502243445, 0.9127988157689158, 0.929815703440129, 0.07411724532596593, 0.32307517193369767, 0.06461503438673953, 0.454205682895022, 0.08171901407734705, 0.9508016278447021, 0.1368286179326723, 0.18623895218613729, 0.24325087632475073, 0.330669160003958, 0.10452186092079133, 0.9149388902276457, 0.13535472450301567, 0.024609949909639214, 0.5844863103539313, 0.15996467441265488, 0.09843979963855685, 0.9660163111610287, 0.9310322934441208, 0.05908635457288162, 0.04865935082472604, 0.04518368290867418, 0.7715982773635129, 0.07646469415314092, 0.2795288380443442, 0.23390459091526733, 0.1767136332464245, 0.14394128671708759, 0.16643211276663253, 0.33673272337693727, 0.1925145251178904, 0.08250622505052446, 0.17172027327588832, 0.21599190622982828, 0.7911983070927583, 0.08120803738488722, 0.0719271188266144, 0.020882066756113857, 0.034803444593523095, 0.9097017365971343, 0.03257092777250162, 0.944556905402547, 0.9122050379520176, 0.04561025189760088, 0.04561025189760088, 0.956142579145562, 0.5113508942640359, 0.10690128129142486, 0.08606132031764528, 0.09377982438200809, 0.20183888128308738, 0.3415602915080689, 0.2644902770139405, 0.13662411660322754, 0.14538207279574214, 0.11210183926418671, 0.12190536396961306, 0.6643842336343911, 0.024381072793922612, 0.05485741378632588, 0.13409590036657437, 0.9097633284317305, 0.970322378739637, 0.9550631971316081, 0.03410939989755744, 0.03410939989755744, 0.9336133975221458, 0.08157098693785053, 0.04894259216271032, 0.2936555529762619, 0.43722048998687885, 0.13377641857807487, 0.9399966284245286, 0.9278630701049255, 0.9245561140450547, 0.048660848107634457, 0.9271787930827913, 0.22783325613437105, 0.12238976569201751, 0.2880866792442874, 0.18546756801021114, 0.1760529706492867, 0.10393082181152706, 0.11615797731876554, 0.030567888768096192, 0.7214021749270702, 0.024454311014476954, 0.9332433583293829, 0.09589265090225442, 0.10423114228505914, 0.5336634484995029, 0.16260058196469226, 0.10423114228505914, 0.9461633480087371, 0.014537458498090215, 0.014537458498090215, 0.9740097193720444, 0.9580669126114255, 0.9202432961730997, 0.14533696254655148, 0.15696391955027558, 0.4418243661415165, 0.15890174571756294, 0.0949534821970803, 0.9154316745517432, 0.9762292510109644, 0.24455104803584005, 0.2938285433221608, 0.19374319575304977, 0.08294534920865164, 0.18486712517352616, 0.3178793914641787, 0.38710645893859985, 0.06922706747442114, 0.10101500662083901, 0.12503256064257695, 0.19706420125041108, 0.7460287618765562, 0.014076014375029361, 0.021114021562544043, 0.021114021562544043, 0.12993283952069073, 0.2063639215916853, 0.19719219174316596, 0.14827629921772945, 0.31795330141533734, 0.1907301786997579, 0.31499377997384254, 0.12859837806271554, 0.12426360127408467, 0.24274750016332822, 0.3079170044631847, 0.30087524344635513, 0.06081520878171008, 0.1293123386726888, 0.20165042911830183, 0.29913266739194627, 0.49217758646465576, 0.07478316684798657, 0.03826115513152801, 0.09739203124388948, 0.9783056757114776, 0.9738549225987769, 0.15829563385638085, 0.03517680752364019, 0.5774859235130931, 0.16415843511032088, 0.06155941316637033, 0.9131123740290186, 0.022271033512902893, 0.06681310053870868, 0.02198052152682512, 0.90120138259983, 0.02198052152682512, 0.02198052152682512, 0.9783723305869898, 0.4990358966068416, 0.32825472310138915, 0.04879462100155785, 0.037704934410294697, 0.08428161809359992, 0.2752999010657639, 0.5403613760588342, 0.040953704290774794, 0.068256173817958, 0.07508179119975379, 0.9188405153066539, 0.048552105807874425, 0.9224900103496141, 0.24060756909103972, 0.6148860098993237, 0.093569610202071, 0.022278478619540715, 0.031189870067357, 0.13606959608233132, 0.1096887560255528, 0.5706592243861038, 0.10691182549326032, 0.07636558963804309, 0.13094517524793126, 0.06547258762396563, 0.6703145875786958, 0.09353226803423662, 0.04364839174931042, 0.14291885081275552, 0.06496311400579796, 0.038977868403478784, 0.038977868403478784, 0.7145942540637776, 0.0310552330803403, 0.0310552330803403, 0.0310552330803403, 0.0621104661606806, 0.8384912931691881, 0.8862778912265231, 0.0369282454677718, 0.0369282454677718, 0.0369282454677718, 0.12265205608118368, 0.005840574099103985, 0.005840574099103985, 0.7125500400906861, 0.1518549265767036, 0.022075642409938846, 0.007358547469979616, 0.04415128481987769, 0.8315158641076966, 0.095661117109735, 0.16989870141796895, 0.09924775627386305, 0.23045665439863117, 0.2422318119226488, 0.2590534655283883, 0.2217685107630846, 0.1498169494932838, 0.17150098165678543, 0.24443818075219992, 0.21289777033256121, 0.25806179680322355, 0.39463836177802897, 0.08073863233317227, 0.12450349845769557, 0.14110396491872162, 0.9558890826327058, 0.927016047720763, 0.8208716338944658, 0.035079984354464355, 0.08419196245071445, 0.021047990612678612, 0.035079984354464355, 0.9042847240449144, 0.9415833519816682, 0.0511012302247889, 0.008516871704131483, 0.23847240771568154, 0.6643159929222557, 0.042584358520657416, 0.9306978526011602, 0.7212372844806849, 0.1592342056645668, 0.028100153940805905, 0.01873343596053727, 0.07493374384214908, 0.39405304224512794, 0.23496330469274707, 0.2537277352758484, 0.035897171550280806, 0.0807686359881318, 0.5300934319665176, 0.29988533071301704, 0.1325233579916294, 0.019810192689470374, 0.01844397250398966, 0.9444532930475716, 0.9002512459235206, 0.031167801808734557, 0.015583900904367278, 0.062335603617469114, 0.8415306488358331, 0.046751702713101834, 0.9536471806740834, 0.9423186662866351, 0.05708822298415129, 0.9134115677464206, 0.9695427348871636, 0.9643421179589797, 0.9283969148878436, 0.03713587659551375, 0.03713587659551375, 0.2086372648304856, 0.15984306579754948, 0.23555820222796764, 0.10600119100258544, 0.29024135631660297, 0.9751121293331362, 0.14979483065056842, 0.14979483065056842, 0.49574955858164316, 0.0820305024991208, 0.12126248195522206, 0.0885336950437922, 0.014755615840632032, 0.7230251761909696, 0.14017835048600433, 0.033200135641422074, 0.9657515827313097, 0.9531425828103188, 0.9627132576481142, 0.9115601775687646, 0.036228070610689105, 0.9057017652672276, 0.036228070610689105, 0.036228070610689105, 0.9675962069226121, 0.26112462201206976, 0.553171896630832, 0.09792173325452616, 0.042948128620406215, 0.042948128620406215, 0.4010183467030859, 0.26508910291851523, 0.10506084977771596, 0.12591055450164412, 0.10262387130349059, 0.9594358255288336, 0.7994761315699311, 0.016655752741040232, 0.06662301096416093, 0.11659026918728163, 0.925018555560142, 0.057813659722508876, 0.04315806179947265, 0.030827186999623325, 0.09864699839879464, 0.5918819903927679, 0.24045205859706195, 0.9388716182994215, 0.04082050514345311, 0.24329497005993164, 0.6050361755437774, 0.1184462354239141, 0.019207497636310394, 0.012804998424206928, 0.1606904516329302, 0.7420117913638247, 0.05198808729300683, 0.03308332827736798, 0.014178569261729135, 0.27958721644417506, 0.654353059762963, 0.0178459925389899, 0.029743320898316498, 0.0178459925389899, 0.022657472801591638, 0.045314945603183276, 0.022657472801591638, 0.883641439262074, 0.34299412916732186, 0.34299412916732186, 0.06288225701400901, 0.12004794520856266, 0.13052832137756415, 0.9244986947793677, 0.06078425912703246, 0.024313703650812986, 0.036470555476219475, 0.863136479603861, 0.012156851825406493, 0.9108979860018763, 0.04359701492716577, 0.06975522388346524, 0.6626746268929197, 0.1482298507523636, 0.08719402985433154, 0.9740473603577644, 0.8925885642483042, 0.044629428212415216, 0.9294796858039966, 0.11809653066253203, 0.045926428590984676, 0.7610665309363175, 0.045926428590984676, 0.03280459185070334, 0.957792134444815, 0.9807312879937918, 0.08972282636788284, 0.035889130547153134, 0.6146013606199975, 0.18393179405415983, 0.07177826109430627, 0.9191662975653374, 0.14704338121839428, 0.24639701717676876, 0.1212114358692169, 0.350718334933062, 0.13512094490338933, 0.05603698455365506, 0.01867899485121835, 0.7658387888999524, 0.05603698455365506, 0.11207396910731011, 0.06386737795658769, 0.8941432913922276, 0.031062491209068392, 0.02070832747271226, 0.7662081164903537, 0.17602078351805422, 0.01035416373635613, 0.9607572068662519, 0.964295523762177, 0.07411555372836062, 0.8893866447403275, 0.3524455262177111, 0.3513996937957001, 0.11504156642121134, 0.1390957121274646, 0.04183329688044048, 0.24287702564760827, 0.1794657824982327, 0.22971620159773787, 0.1531441343984919, 0.19501948364807953, 0.66756471565149, 0.17881197740664911, 0.04768319397510643, 0.035762395481329826, 0.07152479096265965, 0.07187215884160947, 0.09328088700719527, 0.07798893831749112, 0.6177947270640474, 0.1391567330763077, 0.07042726569369545, 0.014085453138739091, 0.056341812554956364, 0.6549735709513678, 0.21128179708108635, 0.9171228266067385, 0.9461920740438394, 0.10699194068691696, 0.034237421019813426, 0.6633500322588851, 0.0770341972945802, 0.119830973569347, 0.2017039710264075, 0.07411448237714509, 0.5131724286113717, 0.14729080674951617, 0.06285658631985722, 0.1654021624626094, 0.6774691311824687, 0.05437879313839213, 0.0838339727550212, 0.018126264379464043, 0.15203677216531247, 0.014479692587172615, 0.03619923146793154, 0.19547584992683031, 0.5936673960740773, 0.9053011074249636, 0.03352967064536902, 0.03352967064536902, 0.03352967064536902, 0.8867608821085041, 0.05374308376415176, 0.02687154188207588, 0.02687154188207588, 0.7897338955132743, 0.15484978343397537, 0.015484978343397536, 0.015484978343397536, 0.030969956686795072, 0.512462531736911, 0.3952201813026362, 0.03592910739114874, 0.037820113043314466, 0.020801062173822958, 0.9449819525130762, 0.951794386232019, 0.9147031181931048, 0.8758972757749783, 0.07101869803580906, 0.023672899345269685, 0.023672899345269685, 0.9685181248654915, 0.9064063630098357, 0.23262114233260137, 0.22745178361409912, 0.23222349935425504, 0.25727500699007366, 0.050500658249983545, 0.1200853131864574, 0.7125061915729806, 0.09606825054916591, 0.02401706263729148, 0.04803412527458296, 0.043188001951596944, 0.9501360429351328, 0.14678490112804213, 0.09174056320502633, 0.2532039544458726, 0.14311527859984105, 0.36329263029190423, 0.018795700487246075, 0.018795700487246075, 0.03759140097449215, 0.8270108214388272, 0.09397850243623036, 0.8993734587624376, 0.677385050198102, 0.23213757338249563, 0.038055339898769774, 0.03044427191901582, 0.022833203939261866, 0.9328132794227779, 0.0234614786851818, 0.0469229573703636, 0.1876918294814544, 0.7507673179258176, 0.9696290145841486, 0.9518567018384833, 0.9261832216033493, 0.04410396293349282, 0.9401621346672441, 0.5710713664929097, 0.3077275757267493, 0.04438378496058884, 0.03550702796847107, 0.04142486596321625, 0.9715024150697663, 0.9196142878292223, 0.7267651844918963, 0.17650011623374626, 0.02422550614972988, 0.02422550614972988, 0.044990225706641206, 0.9143866394007713, 0.030479554646692376, 0.030479554646692376, 0.05961446141806765, 0.8942169212710147, 0.15861493598598905, 0.15452692217191716, 0.1079235646914977, 0.3613804211639544, 0.21666473214580978, 0.05926277179609381, 0.05926277179609381, 0.20083494886454012, 0.5201954413212678, 0.15803405812291682, 0.14825707374751773, 0.05220319498152033, 0.3341004478817301, 0.02088127799260813, 0.4447712212425532, 0.027605406984063132, 0.027605406984063132, 0.027605406984063132, 0.027605406984063132, 0.8971757269820518, 0.05547909034253695, 0.8876654454805912, 0.9737836959357842, 0.15725614280219266, 0.019657017850274083, 0.019657017850274083, 0.7862807140109632, 0.8817271208172105, 0.24667503344985156, 0.1753327443638651, 0.15961325693813924, 0.18863384910871003, 0.2297463546836853, 0.9517589429704848, 0.738880381304294, 0.08597035883100276, 0.013941139269892341, 0.04182341780967702, 0.12082320700573361, 0.9500295086679253, 0.1562218282354823, 0.7811091411774116, 0.0464443273132515, 0.008444423147863908, 0.008444423147863908, 0.974959124151675, 0.9400356865586947, 0.3405161165082584, 0.4881387103702201, 0.09644676132314833, 0.03936602502985646, 0.033461121275377995, 0.9181388900809262, 0.042098101832401716, 0.9261582403128378, 0.17285623687037793, 0.050664759082696985, 0.12815203767976296, 0.4947264710428058, 0.15497455719413195, 0.9375153713206312, 0.03605828351233197, 0.32579846491054393, 0.1829044013532878, 0.09716796321893414, 0.06287338796519268, 0.33437210872397927, 0.29613745636351974, 0.224491297565894, 0.19822103934009788, 0.08716949320377798, 0.1934446287535895, 0.9235078236895411, 0.24660774677300892, 0.18220440133476856, 0.2694342489536511, 0.1834272496658744, 0.11820867200689683, 0.10185491400542952, 0.06275908842758789, 0.6656578723385141, 0.13066236443120757, 0.039095825577841636, 0.9170387377155168, 0.04702762757515471, 0.04702762757515471, 0.948692895730449, 0.12409956547789937, 0.14823003654304648, 0.3022054233396994, 0.3378265949120594, 0.08732932385481808, 0.946654526315976, 0.9344100332293461, 0.06229400221528974, 0.9587962029473066, 0.930602799123817, 0.35586341053414144, 0.34309701015623506, 0.13644090403887488, 0.05505510162972144, 0.11011020325944287, 0.9773126517098286, 0.9538350957339684, 0.04364200965549027, 0.9164822027652957, 0.9850644879999714, 0.05032170615051531, 0.9057907107092755, 0.9822304768658758, 0.964516984256133, 0.9370803852382815, 0.9522451825032193, 0.031163546881625894, 0.015581773440812947, 0.8258339923630862, 0.07790886720406474, 0.06232709376325179, 0.9605917012423788, 0.9788556086740107, 0.18919710638518283, 0.1471533049662533, 0.5115329172636425, 0.12262775413854442, 0.031532851064197134, 0.26363606349041885, 0.1124847204225787, 0.07733324529052285, 0.18278767068669038, 0.3620601938601752, 0.24720086303545885, 0.1379232283030457, 0.22386000901494343, 0.10397289518229601, 0.28751688361634914, 0.27663902307213817, 0.18628514860099626, 0.2431746251198634, 0.14278143126303905, 0.151705270716979, 0.2309507109323275, 0.23586455584578128, 0.2990425618759012, 0.15092523662750884, 0.0835353635287142, 0.1605968101927462, 0.6598434157919354, 0.038403585046091475, 0.04538605505447175, 0.09426334511313363, 0.13289296628448846, 0.07859261446932113, 0.30436776149028, 0.30436776149028, 0.18004853496608114, 0.9437747521684767, 0.9205440790792142, 0.07706469849610659, 0.8862440327052257, 0.23780853666822968, 0.20868912401497708, 0.1828052016565303, 0.11485990546560754, 0.25560373328966185, 0.9716873961932474, 0.9832663907818175], \"Term\": [\"$70\", \"4th\", \"4th\", \"50%\", \"a.m.\", \"ale\", \"ale\", \"alex\", \"alex\", \"amazing\", \"amazing\", \"amazing\", \"amazing\", \"amazing\", \"amazing!!\", \"angeles\", \"answers\", \"answers\", \"answers\", \"answers\", \"appetizer,\", \"appetizer,\", \"appetizer,\", \"appetizer,\", \"appointment\", \"appointment\", \"appointment\", \"appointment\", \"appointment\", \"artist\", \"asked\", \"asked\", \"asked\", \"asked\", \"asked\", \"attorney\", \"attorney\", \"attorney\", \"audience\", \"audience\", \"authentic\", \"authentic\", \"authentic\", \"authentic\", \"authentic\", \"avec\", \"away!\", \"away!\", \"ayce\", \"ayce\", \"ayce\", \"ayce\", \"ayce\", \"barber\", \"barber\", \"barber\", \"bass\", \"bass\", \"bass\", \"bass\", \"beauty\", \"benny\", \"best\", \"best\", \"best\", \"best\", \"best\", \"bisque\", \"bite\", \"bite\", \"bite\", \"bite\", \"bite\", \"blast!\", \"bomb\", \"bomb\", \"bomb\", \"bomb\", \"bones\", \"bones\", \"bones\", \"bowling\", \"bowling\", \"bowling\", \"breakfast\", \"breakfast\", \"breakfast\", \"breakfast\", \"breakfast\", \"brunch\", \"brunch\", \"brunch\", \"brunch\", \"brunch\", \"brussel\", \"brussel\", \"buffet\", \"buffet\", \"buffet\", \"buffet\", \"buffet\", \"bun\", \"bun\", \"bun\", \"bun\", \"bun\", \"burger\", \"burger\", \"burger\", \"burger\", \"burger\", \"business\", \"business\", \"business\", \"business\", \"business\", \"buy\", \"buy\", \"buy\", \"buy\", \"buy\", \"buying\", \"buying\", \"buying\", \"buying\", \"buying\", \"cajun\", \"called\", \"called\", \"called\", \"called\", \"called\", \"calls\", \"calls\", \"calls\", \"calls\", \"calls\", \"calls.\", \"came\", \"came\", \"came\", \"came\", \"came\", \"car\", \"car\", \"car\", \"car\", \"car\", \"care\", \"care\", \"care\", \"care\", \"care\", \"caring\", \"caring\", \"carnitas\", \"carnitas\", \"cha\", \"cheese\", \"cheese\", \"cheese\", \"cheese\", \"cheese\", \"chicken\", \"chicken\", \"chicken\", \"chicken\", \"chicken\", \"chicken.\", \"chicken.\", \"chicken.\", \"chicken.\", \"chicken.\", \"chinese\", \"chinese\", \"chinese\", \"chinese\", \"chinese\", \"chocolate\", \"chocolate\", \"chocolate\", \"chocolate\", \"chocolate\", \"cirque\", \"cirque\", \"clam\", \"clam\", \"class\", \"class\", \"class\", \"class\", \"class\", \"classes\", \"classes\", \"classes\", \"classes\", \"coffee\", \"coffee\", \"coffee\", \"coffee\", \"coffee\", \"cold\", \"cold\", \"cold\", \"cold\", \"cold\", \"come\", \"come\", \"come\", \"come\", \"come\", \"company\", \"company\", \"company\", \"company\", \"company\", \"condo\", \"consistency.\", \"corned\", \"corned\", \"cream\", \"cream\", \"cream\", \"cream\", \"cream\", \"cupcake\", \"cupcake\", \"cupcake\", \"curly\", \"customer\", \"customer\", \"customer\", \"customer\", \"customer\", \"cut\", \"cut\", \"cut\", \"cut\", \"cut\", \"dans\", \"day\", \"day\", \"day\", \"day\", \"day\", \"de\", \"de\", \"de\", \"de\", \"de\", \"dealership\", \"dealership\", \"dealership\", \"deals\", \"deals\", \"deals\", \"deals\", \"deals\", \"definitely\", \"definitely\", \"definitely\", \"definitely\", \"definitely\", \"delicious\", \"delicious\", \"delicious\", \"delicious\", \"delicious\", \"delicious.\", \"delicious.\", \"delicious.\", \"delicious.\", \"delicious.\", \"dentist\", \"dentist\", \"dentist\", \"dentist\", \"des\", \"desserts\", \"desserts\", \"desserts\", \"desserts\", \"desserts\", \"diamond\", \"diamond\", \"diced\", \"didn't\", \"didn't\", \"didn't\", \"didn't\", \"didn't\", \"dinner\", \"dinner\", \"dinner\", \"dinner\", \"dinner\", \"dish\", \"dish\", \"dish\", \"dish\", \"dish\", \"doctor\", \"doctor\", \"doctor\", \"don't\", \"don't\", \"don't\", \"don't\", \"don't\", \"dr\", \"dr\", \"dr\", \"dr\", \"dr\", \"dr.\", \"dr.\", \"dr.\", \"dr.\", \"dr.\", \"drawn\", \"dunkin\", \"eat\", \"eat\", \"eat\", \"eat\", \"eat\", \"efficiently\", \"eggs\", \"eggs\", \"eggs\", \"eggs\", \"eggs\", \"emailed\", \"emailed\", \"en\", \"en\", \"enchilada\", \"enchilada\", \"enjoyed\", \"enjoyed\", \"enjoyed\", \"enjoyed\", \"enjoyed\", \"entree.\", \"entree.\", \"est\", \"et\", \"example,\", \"example,\", \"exit\", \"experience\", \"experience\", \"experience\", \"experience\", \"experience\", \"faith\", \"favorite\", \"favorite\", \"favorite\", \"favorite\", \"favorite\", \"favorite!\", \"feel\", \"feel\", \"feel\", \"feel\", \"feel\", \"finally\", \"finally\", \"finally\", \"finally\", \"finally\", \"find\", \"find\", \"find\", \"find\", \"find\", \"fitness\", \"fitness\", \"fitness\", \"fitness\", \"fitness\", \"flavors\", \"flavors\", \"flavors\", \"flavors\", \"flavors\", \"flavours.\", \"food\", \"food\", \"food\", \"food\", \"food\", \"food.\", \"food.\", \"food.\", \"food.\", \"food.\", \"foodie\", \"foodie\", \"fresh\", \"fresh\", \"fresh\", \"fresh\", \"fresh\", \"fried\", \"fried\", \"fried\", \"fried\", \"fried\", \"friendly\", \"friendly\", \"friendly\", \"friendly\", \"friendly\", \"fries\", \"fries\", \"fries\", \"fries\", \"fries\", \"fruit\", \"fruit\", \"fruit\", \"fruit\", \"fruit\", \"full,\", \"gluten\", \"gluten\", \"gluten\", \"gluten\", \"going\", \"going\", \"going\", \"going\", \"going\", \"gold\", \"gold\", \"good\", \"good\", \"good\", \"good\", \"good\", \"good.\", \"good.\", \"good.\", \"good.\", \"good.\", \"got\", \"got\", \"got\", \"got\", \"got\", \"gras\", \"gras\", \"gras\", \"grease\", \"greasy,\", \"great\", \"great\", \"great\", \"great\", \"great\", \"grocery\", \"grocery\", \"grocery\", \"grocery\", \"gun\", \"guy\", \"guy\", \"guy\", \"guy\", \"guy\", \"gym\", \"gym\", \"gym\", \"gym\", \"gym\", \"gyros\", \"hair\", \"hair\", \"hair\", \"hair\", \"hair\", \"haircut\", \"haircut\", \"haircut\", \"happy\", \"happy\", \"happy\", \"happy\", \"happy\", \"hash.\", \"hats\", \"hectic\", \"highly\", \"highly\", \"highly\", \"highly\", \"highly\", \"hollandaise\", \"home\", \"home\", \"home\", \"home\", \"home\", \"hooked.\", \"horrible\", \"horrible\", \"horrible\", \"horrible\", \"horrible\", \"horribly\", \"hotdog\", \"hotel\", \"hotel\", \"hotel\", \"hotel\", \"hotel\", \"i'm\", \"i'm\", \"i'm\", \"i'm\", \"i'm\", \"i've\", \"i've\", \"i've\", \"i've\", \"i've\", \"ice\", \"ice\", \"ice\", \"ice\", \"ice\", \"iffy\", \"informative\", \"informative\", \"ipa\", \"ipa\", \"ipa\", \"it!!!\", \"it's\", \"it's\", \"it's\", \"it's\", \"it's\", \"it.\", \"it.\", \"it.\", \"it.\", \"it.\", \"italian\", \"italian\", \"italian\", \"italian\", \"italian\", \"izakaya\", \"j'ai\", \"jalape\\u00f1o\", \"jalape\\u00f1o\", \"jalape\\u00f1o\", \"je\", \"job\", \"job\", \"job\", \"job\", \"job\", \"johnny\", \"josh\", \"keg\", \"keg\", \"kevin\", \"know\", \"know\", \"know\", \"know\", \"know\", \"la\", \"la\", \"la\", \"la\", \"la\", \"laser\", \"later\", \"later\", \"later\", \"later\", \"later\", \"lattes\", \"le\", \"le\", \"le\", \"leak\", \"lebanese\", \"left\", \"left\", \"left\", \"left\", \"left\", \"leftovers.\", \"les\", \"like\", \"like\", \"like\", \"like\", \"like\", \"little\", \"little\", \"little\", \"little\", \"little\", \"lobster\", \"lobster\", \"lobster\", \"lobster\", \"lobster\", \"looking\", \"looking\", \"looking\", \"looking\", \"looking\", \"lot\", \"lot\", \"lot\", \"lot\", \"lot\", \"love\", \"love\", \"love\", \"love\", \"love\", \"lunch\", \"lunch\", \"lunch\", \"lunch\", \"lunch\", \"mais\", \"make.\", \"manager\", \"manager\", \"manager\", \"manager\", \"manager\", \"margarita\", \"margarita\", \"margarita\", \"margaritas\", \"margaritas\", \"margaritas\", \"margaritas\", \"meals.\", \"meat\", \"meat\", \"meat\", \"meat\", \"meat\", \"menu\", \"menu\", \"menu\", \"menu\", \"menu\", \"merchandise\", \"messages\", \"messages\", \"mexican\", \"mexican\", \"mexican\", \"mexican\", \"mexican\", \"minutes\", \"minutes\", \"minutes\", \"minutes\", \"minutes\", \"money\", \"money\", \"money\", \"money\", \"money\", \"movie\", \"movie\", \"movie\", \"movie\", \"movie\", \"museum\", \"museum\", \"museum\", \"museum\", \"museum\", \"mustard\", \"mustard\", \"mustard\", \"mustard\", \"nail\", \"nail\", \"nail\", \"nail\", \"nail\", \"nails\", \"nails\", \"nails\", \"nails\", \"nails\", \"need\", \"need\", \"need\", \"need\", \"need\", \"new\", \"new\", \"new\", \"new\", \"new\", \"nice\", \"nice\", \"nice\", \"nice\", \"nice\", \"night!\", \"noir\", \"noodles\", \"noodles\", \"noodles\", \"noodles\", \"noodles\", \"normal.\", \"oasis\", \"office\", \"office\", \"office\", \"office\", \"office\", \"officially\", \"onion\", \"onion\", \"onion\", \"onion\", \"onion\", \"order\", \"order\", \"order\", \"order\", \"order\", \"ordered\", \"ordered\", \"ordered\", \"ordered\", \"ordered\", \"organized,\", \"packaging\", \"pain\", \"pain\", \"pain\", \"pain\", \"pain\", \"painted\", \"pancakes.\", \"parm\", \"parm\", \"pas\", \"patio,\", \"pear\", \"pear\", \"pear\", \"people\", \"people\", \"people\", \"people\", \"people\", \"peoria\", \"person\", \"person\", \"person\", \"person\", \"person\", \"phone\", \"phone\", \"phone\", \"phone\", \"phone\", \"pic\", \"pie.\", \"pinball\", \"pinch\", \"pinot\", \"pinot\", \"pinot\", \"pinot\", \"pitcher\", \"pizza\", \"pizza\", \"pizza\", \"pizza\", \"pizza\", \"place\", \"place\", \"place\", \"place\", \"place\", \"please,\", \"polish\", \"polish\", \"polish\", \"polish\", \"polish.\", \"polish.\", \"pool\", \"pool\", \"pool\", \"pool\", \"pool\", \"poor.\", \"poor.\", \"pork\", \"pork\", \"pork\", \"pork\", \"pork\", \"portions\", \"portions\", \"portions\", \"portions\", \"portions\", \"potato\", \"potato\", \"potato\", \"potato\", \"potato\", \"pour\", \"pour\", \"pour\", \"pour\", \"pretty\", \"pretty\", \"pretty\", \"pretty\", \"pretty\", \"price:\", \"professional,\", \"professional,\", \"professional,\", \"professional,\", \"professional,\", \"props\", \"purchased\", \"purchased\", \"purchased\", \"purchased\", \"purchased\", \"que\", \"quit\", \"quit\", \"rainbow\", \"ramen\", \"ramen\", \"ramen\", \"ramen\", \"ramen\", \"ramen.\", \"reach\", \"received\", \"received\", \"received\", \"received\", \"received\", \"recognized\", \"recommend\", \"recommend\", \"recommend\", \"recommend\", \"recommend\", \"refund\", \"refund\", \"refund\", \"refund\", \"refund\", \"rep\", \"rep\", \"repair\", \"repair\", \"repair\", \"repair\", \"repair\", \"repeated\", \"reply\", \"respond\", \"respond\", \"restaurant\", \"restaurant\", \"restaurant\", \"restaurant\", \"restaurant\", \"right\", \"right\", \"right\", \"right\", \"right\", \"rolls\", \"rolls\", \"rolls\", \"rolls\", \"rolls\", \"room\", \"room\", \"room\", \"room\", \"room\", \"rooms\", \"rooms\", \"rooms\", \"rooms\", \"rooms\", \"rosemary\", \"routine\", \"rude\", \"rude\", \"rude\", \"rude\", \"rude\", \"said\", \"said\", \"said\", \"said\", \"said\", \"salad\", \"salad\", \"salad\", \"salad\", \"salad\", \"salon\", \"salon\", \"salon\", \"salon\", \"salon\", \"salty,\", \"salty,\", \"salty,\", \"salty,\", \"samples\", \"samples\", \"samples\", \"samples\", \"sashimi\", \"sashimi\", \"sashimi\", \"sashimi\", \"sashimi\", \"sauce\", \"sauce\", \"sauce\", \"sauce\", \"sauce\", \"scorpions\", \"screaming\", \"seafood.\", \"seasoning\", \"seasoning\", \"seasoning\", \"seasoning\", \"seeking\", \"seriously?\", \"service\", \"service\", \"service\", \"service\", \"service\", \"shared\", \"shared\", \"shared\", \"shared\", \"shared\", \"shirt\", \"shirt\", \"shop\", \"shop\", \"shop\", \"shop\", \"shop\", \"shower\", \"shower\", \"shower\", \"shower\", \"shower\", \"shows,\", \"shrimp\", \"shrimp\", \"shrimp\", \"shrimp\", \"shrimp\", \"skewers\", \"sleep\", \"sleep\", \"sleep\", \"sleep\", \"slider\", \"snack.\", \"soda.\", \"soda.\", \"sont\", \"soup\", \"soup\", \"soup\", \"soup\", \"soup\", \"source\", \"specially\", \"spicy\", \"spicy\", \"spicy\", \"spicy\", \"spicy\", \"spray\", \"spray\", \"spray\", \"squeeze\", \"squeeze\", \"staff\", \"staff\", \"staff\", \"staff\", \"staff\", \"stay\", \"stay\", \"stay\", \"stay\", \"stay\", \"store\", \"store\", \"store\", \"store\", \"store\", \"stores\", \"stores\", \"stores\", \"stores\", \"stores\", \"student\", \"student\", \"styles\", \"stylist\", \"stylist\", \"stylist\", \"stylist\", \"sucker\", \"sure\", \"sure\", \"sure\", \"sure\", \"sure\", \"surgery\", \"sushi\", \"sushi\", \"sushi\", \"sushi\", \"sushi\", \"sweet!\", \"tacos\", \"tacos\", \"tacos\", \"tacos\", \"tacos\", \"talented\", \"tartar\", \"taste\", \"taste\", \"taste\", \"taste\", \"taste\", \"tasteless.\", \"teachers\", \"teachers\", \"thank\", \"thank\", \"thank\", \"thank\", \"thank\", \"therapist\", \"therapist\", \"there's\", \"there's\", \"there's\", \"there's\", \"there's\", \"think\", \"think\", \"think\", \"think\", \"think\", \"though...\", \"time\", \"time\", \"time\", \"time\", \"time\", \"told\", \"told\", \"told\", \"told\", \"told\", \"tom\", \"tom\", \"tom\", \"tomorrow.\", \"took\", \"took\", \"took\", \"took\", \"took\", \"toys\", \"trail\", \"trail\", \"training.\", \"tried.\", \"try\", \"try\", \"try\", \"try\", \"try\", \"tr\\u00e8s\", \"tuesday,\", \"tuna,\", \"tuna,\", \"un\", \"uncomfortable.\", \"uncomfortable.\", \"une\", \"upbeat\", \"updating\", \"urban\", \"vehicle\", \"vehicle\", \"vehicle\", \"vehicle\", \"vehicle\", \"visits.\", \"vous\", \"waited\", \"waited\", \"waited\", \"waited\", \"waited\", \"walk\", \"walk\", \"walk\", \"walk\", \"walk\", \"want\", \"want\", \"want\", \"want\", \"want\", \"way\", \"way\", \"way\", \"way\", \"way\", \"went\", \"went\", \"went\", \"went\", \"went\", \"wine\", \"wine\", \"wine\", \"wine\", \"wine\", \"work\", \"work\", \"work\", \"work\", \"work\", \"work!\", \"yesterday.\", \"yoga\", \"yoga\", \"you're\", \"you're\", \"you're\", \"you're\", \"you're\", \"yuk\", \"\\u00e0\"]}, \"R\": 30, \"lambda.step\": 0.01, \"plot.opts\": {\"xlab\": \"PC1\", \"ylab\": \"PC2\"}, \"topic.order\": [2, 4, 5, 3, 1]};\n\nfunction LDAvis_load_lib(url, callback){\n  var s = document.createElement('script');\n  s.src = url;\n  s.async = true;\n  s.onreadystatechange = s.onload = callback;\n  s.onerror = function(){console.warn(\"failed to load library \" + url);};\n  document.getElementsByTagName(\"head\")[0].appendChild(s);\n}\n\nif(typeof(LDAvis) !== \"undefined\"){\n   // already loaded: just create the visualization\n   !function(LDAvis){\n       new LDAvis(\"#\" + \"ldavis_el2250432731264856809870872206\", ldavis_el2250432731264856809870872206_data);\n   }(LDAvis);\n}else if(typeof define === \"function\" && define.amd){\n   // require.js is available: use it to load d3/LDAvis\n   require.config({paths: {d3: \"https://cdnjs.cloudflare.com/ajax/libs/d3/3.5.5/d3.min\"}});\n   require([\"d3\"], function(d3){\n      window.d3 = d3;\n      LDAvis_load_lib(\"https://cdn.rawgit.com/bmabey/pyLDAvis/files/ldavis.v1.0.0.js\", function(){\n        new LDAvis(\"#\" + \"ldavis_el2250432731264856809870872206\", ldavis_el2250432731264856809870872206_data);\n      });\n    });\n}else{\n    // require.js not available: dynamically load d3 & LDAvis\n    LDAvis_load_lib(\"https://cdnjs.cloudflare.com/ajax/libs/d3/3.5.5/d3.min.js\", function(){\n         LDAvis_load_lib(\"https://cdn.rawgit.com/bmabey/pyLDAvis/files/ldavis.v1.0.0.js\", function(){\n                 new LDAvis(\"#\" + \"ldavis_el2250432731264856809870872206\", ldavis_el2250432731264856809870872206_data);\n            })\n         });\n}\n</script>"
     },
     "execution_count": 25,
     "metadata": {},
     "output_type": "execute_result"
    }
   ],
   "source": [
    "# Import pyLDAvis\n",
    "import pyLDAvis\n",
    "import pyLDAvis.gensim\n",
    "\n",
    "# Create a pyLDAvis visualization\n",
    "pyLDAvis.enable_notebook()\n",
    "py_vis = pyLDAvis.gensim.prepare(lda, corpus, id2word)\n",
    "pyLDAvis.display(py_vis)\n",
    "# raise NotImplementedError()\n"
   ]
  },
  {
   "cell_type": "markdown",
   "metadata": {
    "deletable": false,
    "editable": false,
    "nbgrader": {
     "cell_type": "markdown",
     "checksum": "f44a26c754500ff0bf585296075bf754",
     "grade": false,
     "grade_id": "cell-bf9e63d9645bba84",
     "locked": true,
     "points": 0,
     "schema_version": 3,
     "solution": false,
     "task": true
    }
   },
   "source": [
    "#### 3. In markdown, write 1-2 paragraphs of analysis on the results of your topic model"
   ]
  },
  {
   "cell_type": "markdown",
   "source": [
    "Based on my visualization, it appears that I could do with better tokenization. I noticed that there are a few words that could have been added to the stop words list to improve my predictability. I can see that the largest topic is topic 1 at 30.3% of the tokens, which appears to be related to the positive reviews of restaurants. All the other topics appear to be related to the positive reviews as well.\n",
    "\n",
    "Topic 2 appears to be more related to spa type of businesses, not restaurants. Topic 3 appears to be more related to hotels for tourist. While topic 4 appears to be talking about local businesses mostly. Last but not least, topic 5 appears to be reviews of automotive businesses mostly."
   ],
   "metadata": {
    "collapsed": false,
    "pycharm": {
     "name": "#%% md\n"
    }
   }
  },
  {
   "cell_type": "markdown",
   "metadata": {},
   "source": [
    "## Stretch Goals\n",
    "\n",
    "Complete one of more of these to push your score towards a three: \n",
    "* Incorporate named entity recognition into your analysis\n",
    "* Compare vectorization methods in the classification section\n",
    "* Analyze more (or all) of the yelp dataset - this one is v. hard. \n",
    "* Use a generator object on the reviews file - this would help you with the analyzing the whole dataset.\n",
    "* Incorporate any of the other yelp dataset entities in your analysis (business, users, etc.)"
   ]
  },
  {
   "cell_type": "code",
   "execution_count": 25,
   "outputs": [
    {
     "name": "stderr",
     "output_type": "stream",
     "text": [
      "C:\\Users\\sahmj\\anaconda3\\envs\\u4-s1-NLP\\lib\\site-packages\\ipykernel\\ipkernel.py:283: DeprecationWarning: `should_run_async` will not call `transform_cell` automatically in the future. Please pass the result to `transformed_cell` argument and any exception that happen during thetransform in `preprocessing_exc_tuple` in IPython 7.17 and above.\n",
      "  and should_run_async(code)\n"
     ]
    }
   ],
   "source": [],
   "metadata": {
    "collapsed": false,
    "pycharm": {
     "name": "#%%\n"
    }
   }
  }
 ],
 "metadata": {
  "kernel_info": {
   "name": "u4-s1-nlp"
  },
  "kernelspec": {
   "name": "u4-s1-nlp",
   "language": "python",
   "display_name": "u4-s1-NLP (Python 3)"
  },
  "language_info": {
   "codemirror_mode": {
    "name": "ipython",
    "version": 3
   },
   "file_extension": ".py",
   "mimetype": "text/x-python",
   "name": "python",
   "nbconvert_exporter": "python",
   "pygments_lexer": "ipython3",
   "version": "3.7.4"
  },
  "nteract": {
   "version": "0.15.0"
  },
  "toc-autonumbering": false
 },
 "nbformat": 4,
 "nbformat_minor": 2
}