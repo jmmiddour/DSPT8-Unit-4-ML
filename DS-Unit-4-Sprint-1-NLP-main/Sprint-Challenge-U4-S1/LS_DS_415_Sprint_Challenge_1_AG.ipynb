{
  "nbformat": 4,
  "nbformat_minor": 0,
  "metadata": {
    "kernel_info": {
      "name": "u4-s1-nlp"
    },
    "kernelspec": {
      "display_name": "Python 3",
      "language": "python",
      "name": "python3"
    },
    "language_info": {
      "codemirror_mode": {
        "name": "ipython",
        "version": 3
      },
      "file_extension": ".py",
      "mimetype": "text/x-python",
      "name": "python",
      "nbconvert_exporter": "python",
      "pygments_lexer": "ipython3",
      "version": "3.7.4"
    },
    "nteract": {
      "version": "0.15.0"
    },
    "toc-autonumbering": false,
    "colab": {
      "name": "LS_DS_415_Sprint_Challenge_1_AG.ipynb",
      "provenance": [],
      "collapsed_sections": []
    }
  },
  "cells": [
    {
      "cell_type": "markdown",
      "metadata": {
        "id": "XV5WbNj1DZHc"
      },
      "source": [
        "# Sprint Challenge\n",
        "## *Data Science Unit 4 Sprint 1*\n",
        "\n",
        "After a week of Natural Language Processing, you've learned some cool new stuff: how to process text, how turn text into vectors, and how to model topics from documents. Apply your newly acquired skills to one of the most famous NLP datasets out there: [Yelp](https://www.yelp.com/dataset). As part of the job selection process, some of my friends have been asked to create analysis of this dataset, so I want to empower you to have a head start.  \n",
        "\n",
        "The real dataset is massive (almost 8 gigs uncompressed). I've sampled the data for you to something more managable for the Sprint Challenge. You can analyze the full dataset as a stretch goal or after the sprint challenge. As you work on the challenge, I suggest adding notes about your findings and things you want to analyze in the future.\n",
        "\n",
        "## Challenge Objectives\n",
        "*Successfully complete these all these objectives to earn a 2. There are more details on each objective further down in the notebook.*\n",
        "* <a href=\"#p1\">Part 1</a>: Write a function to tokenize the yelp reviews\n",
        "* <a href=\"#p2\">Part 2</a>: Create a vector representation of those tokens\n",
        "* <a href=\"#p3\">Part 3</a>: Use your tokens in a classification model on yelp rating\n",
        "* <a href=\"#p4\">Part 4</a>: Estimate & Interpret a topic model of the Yelp reviews"
      ]
    },
    {
      "cell_type": "markdown",
      "metadata": {
        "id": "LNajf0U2DZHe"
      },
      "source": [
        "\n",
        "\n",
        "### Import Data"
      ]
    },
    {
      "cell_type": "markdown",
      "metadata": {
        "id": "xQ5Mwh8AETap"
      },
      "source": [
        "I had to start from scratch again because the auto grader is not able to grade my assignment for some reason. Only including required code here to try and get it to pass the auto grader. I had already done EDA in other notebooks that I have tried to submitted already, so will not include them here unless it is asked for directly."
      ]
    },
    {
      "cell_type": "code",
      "metadata": {
        "deletable": false,
        "nbgrader": {
          "cell_type": "code",
          "checksum": "7bec125eb29f89460cf0c19ba9aa9a2f",
          "grade": false,
          "grade_id": "cell-395851cd95d17235",
          "locked": false,
          "schema_version": 3,
          "solution": true,
          "task": false
        },
        "colab": {
          "base_uri": "https://localhost:8080/",
          "height": 581
        },
        "id": "_jwHWH5kDZHe",
        "outputId": "3092873f-2ae6-4009-ca12-c8a44f87ce84"
      },
      "source": [
        "import pandas as pd\n",
        "\n",
        "# Load reviews from URL\n",
        "data_url = 'https://raw.githubusercontent.com/LambdaSchool/data-science-practice-datasets/main/unit_4/unit1_nlp/review_sample.json'\n",
        "\n",
        "# Import data into a DataFrame named df\n",
        "# YOUR CODE HERE\n",
        "df = pd.read_json(data_url, lines=True)\n",
        "df.head()\n",
        "\n",
        "# raise NotImplementedError()"
      ],
      "execution_count": 1,
      "outputs": [
        {
          "output_type": "execute_result",
          "data": {
            "text/html": [
              "<div>\n",
              "<style scoped>\n",
              "    .dataframe tbody tr th:only-of-type {\n",
              "        vertical-align: middle;\n",
              "    }\n",
              "\n",
              "    .dataframe tbody tr th {\n",
              "        vertical-align: top;\n",
              "    }\n",
              "\n",
              "    .dataframe thead th {\n",
              "        text-align: right;\n",
              "    }\n",
              "</style>\n",
              "<table border=\"1\" class=\"dataframe\">\n",
              "  <thead>\n",
              "    <tr style=\"text-align: right;\">\n",
              "      <th></th>\n",
              "      <th>business_id</th>\n",
              "      <th>cool</th>\n",
              "      <th>date</th>\n",
              "      <th>funny</th>\n",
              "      <th>review_id</th>\n",
              "      <th>stars</th>\n",
              "      <th>text</th>\n",
              "      <th>useful</th>\n",
              "      <th>user_id</th>\n",
              "    </tr>\n",
              "  </thead>\n",
              "  <tbody>\n",
              "    <tr>\n",
              "      <th>0</th>\n",
              "      <td>nDuEqIyRc8YKS1q1fX0CZg</td>\n",
              "      <td>1</td>\n",
              "      <td>2015-03-31 16:50:30</td>\n",
              "      <td>0</td>\n",
              "      <td>eZs2tpEJtXPwawvHnHZIgQ</td>\n",
              "      <td>1</td>\n",
              "      <td>BEWARE!!! FAKE, FAKE, FAKE....We also own a sm...</td>\n",
              "      <td>10</td>\n",
              "      <td>n1LM36qNg4rqGXIcvVXv8w</td>\n",
              "    </tr>\n",
              "    <tr>\n",
              "      <th>1</th>\n",
              "      <td>eMYeEapscbKNqUDCx705hg</td>\n",
              "      <td>0</td>\n",
              "      <td>2015-12-16 05:31:03</td>\n",
              "      <td>0</td>\n",
              "      <td>DoQDWJsNbU0KL1O29l_Xug</td>\n",
              "      <td>4</td>\n",
              "      <td>Came here for lunch Togo. Service was quick. S...</td>\n",
              "      <td>0</td>\n",
              "      <td>5CgjjDAic2-FAvCtiHpytA</td>\n",
              "    </tr>\n",
              "    <tr>\n",
              "      <th>2</th>\n",
              "      <td>6Q7-wkCPc1KF75jZLOTcMw</td>\n",
              "      <td>1</td>\n",
              "      <td>2010-06-20 19:14:48</td>\n",
              "      <td>1</td>\n",
              "      <td>DDOdGU7zh56yQHmUnL1idQ</td>\n",
              "      <td>3</td>\n",
              "      <td>I've been to Vegas dozens of times and had nev...</td>\n",
              "      <td>2</td>\n",
              "      <td>BdV-cf3LScmb8kZ7iiBcMA</td>\n",
              "    </tr>\n",
              "    <tr>\n",
              "      <th>3</th>\n",
              "      <td>k3zrItO4l9hwfLRwHBDc9w</td>\n",
              "      <td>3</td>\n",
              "      <td>2010-07-13 00:33:45</td>\n",
              "      <td>4</td>\n",
              "      <td>LfTMUWnfGFMOfOIyJcwLVA</td>\n",
              "      <td>1</td>\n",
              "      <td>We went here on a night where they closed off ...</td>\n",
              "      <td>5</td>\n",
              "      <td>cZZnBqh4gAEy4CdNvJailQ</td>\n",
              "    </tr>\n",
              "    <tr>\n",
              "      <th>4</th>\n",
              "      <td>6hpfRwGlOzbNv7k5eP9rsQ</td>\n",
              "      <td>1</td>\n",
              "      <td>2018-06-30 02:30:01</td>\n",
              "      <td>0</td>\n",
              "      <td>zJSUdI7bJ8PNJAg4lnl_Gg</td>\n",
              "      <td>4</td>\n",
              "      <td>3.5 to 4 stars\\n\\nNot bad for the price, $12.9...</td>\n",
              "      <td>5</td>\n",
              "      <td>n9QO4ClYAS7h9fpQwa5bhA</td>\n",
              "    </tr>\n",
              "  </tbody>\n",
              "</table>\n",
              "</div>"
            ],
            "text/plain": [
              "              business_id  cool  ... useful                 user_id\n",
              "0  nDuEqIyRc8YKS1q1fX0CZg     1  ...     10  n1LM36qNg4rqGXIcvVXv8w\n",
              "1  eMYeEapscbKNqUDCx705hg     0  ...      0  5CgjjDAic2-FAvCtiHpytA\n",
              "2  6Q7-wkCPc1KF75jZLOTcMw     1  ...      2  BdV-cf3LScmb8kZ7iiBcMA\n",
              "3  k3zrItO4l9hwfLRwHBDc9w     3  ...      5  cZZnBqh4gAEy4CdNvJailQ\n",
              "4  6hpfRwGlOzbNv7k5eP9rsQ     1  ...      5  n9QO4ClYAS7h9fpQwa5bhA\n",
              "\n",
              "[5 rows x 9 columns]"
            ]
          },
          "metadata": {
            "tags": []
          },
          "execution_count": 1
        }
      ]
    },
    {
      "cell_type": "code",
      "metadata": {
        "deletable": false,
        "editable": false,
        "nbgrader": {
          "cell_type": "code",
          "checksum": "356579363f311da83f4ef7abaf3c9212",
          "grade": true,
          "grade_id": "cell-cb5006475e42b8f9",
          "locked": true,
          "points": 1,
          "schema_version": 3,
          "solution": false,
          "task": false
        },
        "id": "6hO7G9qpDZHf"
      },
      "source": [
        "# Visible Testing\n",
        "assert isinstance(df, pd.DataFrame), 'df is not a DataFrame. Did you import the data into df?'\n",
        "assert df.shape[0] == 10000, 'DataFrame df has the wrong number of rows.'"
      ],
      "execution_count": 2,
      "outputs": []
    },
    {
      "cell_type": "markdown",
      "metadata": {
        "id": "kyWrU9bFDZHf"
      },
      "source": [
        "## Part 1: Tokenize Function\n",
        "<a id=\"#p1\"></a>\n",
        "\n",
        "Complete the function `tokenize`. Your function should\n",
        "- accept one document at a time\n",
        "- return a list of tokens\n",
        "\n",
        "You are free to use any method you have learned this week."
      ]
    },
    {
      "cell_type": "code",
      "metadata": {
        "id": "Fn3LIsveDZHg"
      },
      "source": [
        "import spacy\n",
        "from spacy.tokenizer import Tokenizer\n",
        "\n",
        "# Optional: consider using spacy in your function\n",
        "# if you do use this pre-trained model, YOU MUST USE THE SMALL VERSION en_core_web_sm\n",
        "# if you don't already have the small version downloaded, you'll have to download it\n",
        "# this is due to limited computational resources on CodeGrader\n",
        "# if you don't plan on using this model in the SC, simply comment it out \n",
        "nlp = spacy.load('en_core_web_sm')"
      ],
      "execution_count": 3,
      "outputs": []
    },
    {
      "cell_type": "code",
      "metadata": {
        "deletable": false,
        "nbgrader": {
          "cell_type": "code",
          "checksum": "4837ed2a1cc13057ba40203859d46ff6",
          "grade": false,
          "grade_id": "cell-3d570d5a1cd6cb64",
          "locked": false,
          "schema_version": 3,
          "solution": true,
          "task": false
        },
        "id": "XFibkZU2DZHg"
      },
      "source": [
        "# Initialize the Tokenizer\n",
        "tokenizer = Tokenizer(nlp.vocab)\n",
        "\n",
        "def tokenize(doc):\n",
        "# YOUR CODE HERE\n",
        "    \"\"\"\n",
        "    This function will take a document\n",
        "      and return a list of tokens for each document\n",
        "    :param doc: Can be a single document or a DataFrame with multiple docs\n",
        "    :return: A list of token for each document\n",
        "    \"\"\"\n",
        "    tokens = []  # empty list to hold tokens\n",
        "\n",
        "    # Iterate through all docs in the dataframe using a pipeline\n",
        "    for doc in tokenizer.pipe(doc, batch_size=250):\n",
        "        doc_tokens = []  # Temp empty list to hold tokens for each doc\n",
        "\n",
        "        # Iterate through each token within the doc\n",
        "        for token in doc:\n",
        "            if (token.is_stop != True) & (  # if it is not a default stop word\n",
        "                token.is_punct != True) & (  # if it is not punctuation\n",
        "                token.is_space != True):  # if it is not an extra whitespace\n",
        "                # Add to the end of the temp list and lowercase all tokens\n",
        "                doc_tokens.append(token.text.lower())\n",
        "\n",
        "        # Add all the doc tokens to the tokens list\n",
        "        tokens.append(doc_tokens)\n",
        "\n",
        "    # Return the list of tokens for all docs in the dataframe\n",
        "    return tokens\n",
        "\n",
        "# Add a tokenized column to my dataframe\n",
        "df['tokens'] = tokenize(df['text'])\n",
        "\n",
        "# raise NotImplementedError()"
      ],
      "execution_count": 4,
      "outputs": []
    },
    {
      "cell_type": "code",
      "metadata": {
        "deletable": false,
        "editable": false,
        "nbgrader": {
          "cell_type": "code",
          "checksum": "2181ca9d36070260b1f75dcfd9e58965",
          "grade": true,
          "grade_id": "cell-02da164f6fbe730a",
          "locked": true,
          "points": 1,
          "schema_version": 3,
          "solution": false,
          "task": false
        },
        "id": "Ss0ZGfMaDZHg"
      },
      "source": [
        "'''Testing'''\n",
        "assert isinstance(tokenize(df.sample(n=1)[\"text\"].iloc[0]), list), \"Make sure your tokenizer function accepts a single document and returns a list of tokens!\""
      ],
      "execution_count": 5,
      "outputs": []
    },
    {
      "cell_type": "markdown",
      "metadata": {
        "id": "Q1Lk9E35DZHg"
      },
      "source": [
        "## Part 2: Vector Representation\n",
        "<a id=\"#p2\"></a>\n",
        "1. Create a vector representation of the reviews\n",
        "2. Write a fake review and query for the 10 most similiar reviews, print the text of the reviews. Do you notice any patterns?\n",
        "    - Given the size of the dataset, use `NearestNeighbors` model for this. "
      ]
    },
    {
      "cell_type": "code",
      "metadata": {
        "deletable": false,
        "nbgrader": {
          "cell_type": "code",
          "checksum": "9f570a35b1d17ce543ee41f516a0828c",
          "grade": false,
          "grade_id": "cell-0e96491cb529202c",
          "locked": false,
          "schema_version": 3,
          "solution": true,
          "task": false
        },
        "id": "0alzaTHJDZHh"
      },
      "source": [
        "# Create a vector representation of the reviews \n",
        "# Name that doc-term matrix \"dtm\"\n",
        "\n",
        "# YOUR CODE HERE\n",
        "# Import TF-IDF vectorizer\n",
        "from sklearn.feature_extraction.text import TfidfVectorizer\n",
        "\n",
        "# Instantiate the vectorizer object\n",
        "tfidf = TfidfVectorizer(stop_words='english',\n",
        "                        ngram_range=(1, 2),\n",
        "                        max_df=0.5,\n",
        "                        min_df=9,\n",
        "                        max_features=2500)\n",
        "\n",
        "# Fit the vectorizer\n",
        "dtm_fit = tfidf.fit_transform(df.text)\n",
        "\n",
        "# Turn into a Document Term Matrix\n",
        "dtm = pd.DataFrame(dtm_fit.todense(), columns=tfidf.get_feature_names())\n",
        "\n",
        "# raise NotImplementedError()"
      ],
      "execution_count": 6,
      "outputs": []
    },
    {
      "cell_type": "code",
      "metadata": {
        "deletable": false,
        "nbgrader": {
          "cell_type": "code",
          "checksum": "32b220e23c9aa1f602f08d1c2e879d0a",
          "grade": false,
          "grade_id": "cell-3d5bc610a8ec6b24",
          "locked": false,
          "schema_version": 3,
          "solution": true,
          "task": false
        },
        "colab": {
          "base_uri": "https://localhost:8080/"
        },
        "id": "hPaKKI4zDZHh",
        "outputId": "0fd7ce4f-3175-4350-eebf-b6399059d588"
      },
      "source": [
        "# Create and fit a NearestNeighbors model named \"nn\"\n",
        "from sklearn.neighbors import NearestNeighbors\n",
        "\n",
        "# YOUR CODE HERE\n",
        "# Fit on the DTM dataframe\n",
        "nn = NearestNeighbors(n_neighbors=10,\n",
        "                      algorithm='kd_tree',\n",
        "                      leaf_size=8,\n",
        "                      n_jobs=10)\n",
        "nn.fit(dtm)\n",
        "\n",
        "# raise NotImplementedError()"
      ],
      "execution_count": 7,
      "outputs": [
        {
          "output_type": "execute_result",
          "data": {
            "text/plain": [
              "NearestNeighbors(algorithm='kd_tree', leaf_size=8, metric='minkowski',\n",
              "                 metric_params=None, n_jobs=10, n_neighbors=10, p=2,\n",
              "                 radius=1.0)"
            ]
          },
          "metadata": {
            "tags": []
          },
          "execution_count": 7
        }
      ]
    },
    {
      "cell_type": "code",
      "metadata": {
        "deletable": false,
        "editable": false,
        "nbgrader": {
          "cell_type": "code",
          "checksum": "d270ed23df3c7d3c6cf08ab174ccaf9e",
          "grade": true,
          "grade_id": "cell-c43704dcff67e99b",
          "locked": true,
          "points": 1,
          "schema_version": 3,
          "solution": false,
          "task": false
        },
        "id": "AzIozyDCDZHh"
      },
      "source": [
        "'''Testing.'''\n",
        "assert nn.__module__ == 'sklearn.neighbors._unsupervised', ' nn is not a NearestNeighbors instance.'\n",
        "assert nn.n_neighbors == 10, 'nn has the wrong value for n_neighbors'"
      ],
      "execution_count": 8,
      "outputs": []
    },
    {
      "cell_type": "code",
      "metadata": {
        "deletable": false,
        "nbgrader": {
          "cell_type": "code",
          "checksum": "3da2ced9f187ed0aa1a890785e2ba00e",
          "grade": false,
          "grade_id": "cell-496203e8746296ca",
          "locked": false,
          "schema_version": 3,
          "solution": true,
          "task": false
        },
        "colab": {
          "base_uri": "https://localhost:8080/"
        },
        "id": "_T3sH62fDZHh",
        "outputId": "b49b5122-3805-495e-dcb0-2e2c811a76c0"
      },
      "source": [
        "# Create a fake review and find the 10 most similar reviews\n",
        "\n",
        "# YOUR CODE HERE\n",
        "fake = [\"\"\"\n",
        "    I ate lunch here with my best friend and my husband.\n",
        "    The soup was ice cold and the service was horrible.\n",
        "    The waitress made me feel like we were just a burden on her,\n",
        "    whenever she actually came to the table.\n",
        "    The prices are really low though.\n",
        "    This is one of those places where you get what you pay for.\n",
        "    You could not pay me enough to come back here again!\n",
        "\"\"\"]\n",
        "\n",
        "# Vectorize my fake review\n",
        "my_review = tfidf.transform(fake)\n",
        "\n",
        "# Run my KNN on my vectorized fake review\n",
        "nn.kneighbors(my_review.todense())\n",
        "\n",
        "# raise NotImplementedError()"
      ],
      "execution_count": 9,
      "outputs": [
        {
          "output_type": "execute_result",
          "data": {
            "text/plain": [
              "(array([[1.        , 1.        , 1.18542178, 1.24405323, 1.25354864,\n",
              "         1.25821824, 1.25839226, 1.25994021, 1.26058049, 1.26095014]]),\n",
              " array([[6311, 6204, 6008, 7340, 5796, 4168, 4697, 5333, 2944, 3518]]))"
            ]
          },
          "metadata": {
            "tags": []
          },
          "execution_count": 9
        }
      ]
    },
    {
      "cell_type": "code",
      "metadata": {
        "colab": {
          "base_uri": "https://localhost:8080/"
        },
        "id": "jMEnqFo2Fh1p",
        "outputId": "7e2b2cca-22d8-4b28-d336-39ec42d0fd24"
      },
      "source": [
        "# Look at the 10 closest matched reviews to my fake review\r\n",
        "print(f'Closest Review to mine:\\n{df.text.loc[6311]}\\n\\n')\r\n",
        "print(f'2nd closest Review to mine:\\n{df.text.loc[6204]}\\n\\n')\r\n",
        "print(f'3rd closest Review to mine:\\n{df.text.loc[6008]}\\n\\n')\r\n",
        "print(f'4th closest Review to mine:\\n{df.text.loc[7340]}\\n\\n')\r\n",
        "print(f'5th closest Review to mine:\\n{df.text.loc[5796]}\\n\\n')\r\n",
        "print(f'6th closest Review to mine:\\n{df.text.loc[4168]}\\n\\n')\r\n",
        "print(f'7th closest Review to mine:\\n{df.text.loc[4697]}\\n\\n')\r\n",
        "print(f'8th closest Review to mine:\\n{df.text.loc[5333]}\\n\\n')\r\n",
        "print(f'9th closest Review to mine:\\n{df.text.loc[2944]}\\n\\n')\r\n",
        "print(f'10th closest Review to mine:\\n{df.text.loc[3518]}\\n\\n')"
      ],
      "execution_count": 10,
      "outputs": [
        {
          "output_type": "stream",
          "text": [
            "Closest Review to mine:\n",
            "天氣很熱吃不下東西，今天我點了一個韓國冷面湯、餐後點了甜點，冰沙系列不會太甜膩，覺得店家很用心製作，包含擺盤精緻、佐料衛生，夏日想開胃，這是一個不錯的選擇，服務人員也很敬業，以後會常常來\n",
            "\n",
            "\n",
            "2nd closest Review to mine:\n",
            "旅行でラスベガスに来ましたがネイルがはげてるのが気になり、探したお店でした。\n",
            "質問にも丁寧に答えてくれましたし、日本人の方も日本語が話せる方も居て、とても綺麗で居心地のいいお店でした。 \n",
            "ネイルはちはるさんと言う綺麗な方が丁寧にしてくれとても気に入りました。\n",
            "予定になかったまつ毛エクステもお願いし、日本ではまだあまりないブラウンカラーのエクステをしてもらい、とても気に入りました。\n",
            "また是非マッサージなどで伺いたいと思います。\n",
            "\n",
            "\n",
            "3rd closest Review to mine:\n",
            "Erin was awesome. I get alot of massages and i feel like Erin's combines the best of all disciplines. If you feel iffy about the footwork... DON'T! It really adds another dimension and can get deeper into places the hands just can't. Highly recommended.\n",
            "\n",
            "\n",
            "4th closest Review to mine:\n",
            "Everything was awesome and we were about to pay the bill and a giant cockroach the size of my fist crawled under our table.  The manager was called but we never even got an apology.  Opted to pay at the front desk and we got the heck out of there!!!\n",
            "\n",
            "\n",
            "5th closest Review to mine:\n",
            "My friend and I had dinner here last night, and now I'm calling out of work because I have food poisoning; I feel like death. Sucks because the food did taste really good.\n",
            "\n",
            "\n",
            "6th closest Review to mine:\n",
            "Get the reflexology massage - I feel like I can run a marathon now. Best $30 you can spend!\n",
            "\n",
            "\n",
            "7th closest Review to mine:\n",
            "Horrible..i recommend never coming here how do i pay 130$ for nail for them to break in half less then a week...i will never return\n",
            "\n",
            "\n",
            "8th closest Review to mine:\n",
            "Lunch time is the best value and bang for your buck if you want Hibachi, and you definitely want Hibachi. It's rarely crowded at lunch and the portions are generous so I always have leftovers. At hibachi lunch, you get your entree, soup or salad (go with a friend, each get one, and share!), mushroom or shrimp appetizer, and fried rice. It's a great deal and always ask for more of the shrimp sauce. The chefs are fun, service is good, sushi is great. My favorite entrees are the chicken, strip steak, and scallops. All are tasty options. \n",
            "\n",
            "Dinner is much pricier plus you have to pay extra for the fried rice and you get a lot of extra sides like the soup and salad and a vegetable medley. Personally, I think lunch prices are a better deal.\n",
            "\n",
            "\n",
            "9th closest Review to mine:\n",
            "Not Just Noodles is the perfect example of \"you get what you pay for\".  The restaurant itself looks like a dingy dump, but the food and the price you pay makes you forget all that. The staff is really nice and the food comes out really quickly.  I recommend getting the hot and sour soup. They don't skimp on the tofu and bamboo shoots and it's the perfect amount of sour and spice. The set lunches are definitely the best deals so go between 11-4.\n",
            "\n",
            "\n",
            "10th closest Review to mine:\n",
            "Everytime I've ever walked in here - the customer service has sucked. Everything is expensive. They have had the same salon/table forever because no one will buy it. Why? It's expensive. \n",
            "\n",
            "They have a moderate selection of some items. But honestly, for the money and the service I'd rather go to Ulta (where they actually also HAVE a salon).\n",
            "\n",
            "I originally went in to see if they had those straight clip-on bangs, but they just had some plastic crap that doesn't look like anyone's hair.\n",
            "\n",
            "They weren't helpful at all and I hate when you feel like they're assuming you're going to steal or something. Or they act like they're not working, but they're being paid to talk to each other.\n",
            "\n",
            "Skip Sally and go to Ulta on Stephanie. You'll pay a bit more for certain items, but the quality and service is there. Sometimes they have really awesome sales, too.\n",
            "\n",
            "\n"
          ],
          "name": "stdout"
        }
      ]
    },
    {
      "cell_type": "markdown",
      "metadata": {
        "collapsed": false,
        "id": "R2nM2rTHBhXO"
      },
      "source": [
        "What patterns I see on my matches:\n",
        "  - The first 2 reviews that are closest to mine look like they are in Chinese or something. I do not understand how that happened when I am using the english vocab for tokenizing and vectorizing the data.\n",
        "\n",
        "  - The 3rd closest review was not even for a restaurant, it seems to be for a massage place of some sort and it is a positive review.\n",
        "  \n",
        "  - The 4th closest review doesn't really seem to align with anything in my review other than there is a one negitive statement.\n",
        "\n",
        "  - The 5th closest review is a negative review because it is talking about food poisoning but said the food was good.\n",
        "\n",
        "  - The 6th closest review was not even for a restaurant, it seems to be for another massage place of some sort and it is positive.\n",
        "  \n",
        "  - The 7th closest review is negitive but is for some kind of a nail salon.\n",
        "\n",
        "  - The 8th closest review seems to be pretty much positive.\n",
        "\n",
        "  - The 9th closest review is a positive review mostly but one thing that matches mine exactly is the statement \"you get what you pay for\".\n",
        "\n",
        "  - The final recommend review is a negitive review but it is for a Sally bueaty supply store.\n",
        "\n",
        "  - I would say out of the 8 reviews that were in English, and I could read, only 1 related closely to mine. It is possible that the first 2 did also, but can not read them. Out of the ones that did not relate to mine at all, 2 of them were positive reviews, while mine was negative all around, and the rest of them weren't even for a restaurant."
      ]
    },
    {
      "cell_type": "markdown",
      "metadata": {
        "id": "FiteyuruDZHh"
      },
      "source": [
        "## Part 3: Classification\n",
        "<a id=\"#p3\"></a>\n",
        "Your goal in this section will be to predict `stars` from the review dataset. \n",
        "\n",
        "1. Create a pipeline object with a sklearn `CountVectorizer` or `TfidfVector` and any sklearn classifier.\n",
        "    - Use that pipeline to estimate a model to predict the `stars` feature (i.e. the labels). \n",
        "    - Use the Pipeline to predict a star rating for your fake review from Part 2. \n",
        "\n",
        "\n",
        "\n",
        "2. Create a parameter dict including `one parameter for the vectorizer` and `one parameter for the model`. \n",
        "    - Include 2 to 3 possible values for each parameter\n",
        "    - **Use `n_jobs` = 1** \n",
        "    - Due to limited computational resources on CodeGrader `DO NOT INCLUDE ADDITIONAL PARAMETERS OR VALUES PLEASE.`\n",
        "    \n",
        "    \n",
        "3. Tune the entire pipeline with a GridSearch\n",
        "    - Name your GridSearch object as `gs`"
      ]
    },
    {
      "cell_type": "code",
      "metadata": {
        "deletable": false,
        "nbgrader": {
          "cell_type": "code",
          "checksum": "e1d18da8521d51d8bfc4b5b9d005fa34",
          "grade": false,
          "grade_id": "cell-e2beb0252d274bba",
          "locked": false,
          "schema_version": 3,
          "solution": true,
          "task": false
        },
        "colab": {
          "base_uri": "https://localhost:8080/"
        },
        "id": "9ZIMa9-wDZHi",
        "outputId": "edcf7d3b-fb73-4e3b-9b2e-bbffdda47dda"
      },
      "source": [
        "from sklearn.pipeline import Pipeline\n",
        "from sklearn.feature_extraction.text import TfidfVectorizer\n",
        "from sklearn.model_selection import GridSearchCV\n",
        "from sklearn.svm import LinearSVC\n",
        "\n",
        "# Name the gridsearch instance \"gs\"\n",
        "\n",
        "# YOUR CODE HERE\n",
        "# Define my feature to use for predictions and target\n",
        "X = df.text\n",
        "y = df.stars\n",
        "\n",
        "# Initialize a vectorizer with basic parameters\n",
        "vect = TfidfVectorizer(stop_words='english')\n",
        "\n",
        "# Initialize a classifer with basic parameters\n",
        "clf = LinearSVC()\n",
        "\n",
        "# Define my pipeline\n",
        "pipe = Pipeline([\n",
        "    ('vect', vect),\n",
        "    ('clf', clf)\n",
        "])\n",
        "\n",
        "# # Parameters to run through grid search\n",
        "# params = {\n",
        "#     'vect__max_df': (0.3, 0.5, 0.6),\n",
        "#     'vect__min_df': (3, 5, 6, 9),\n",
        "#     'vect__max_features': (2500, 5000),\n",
        "#     'vect__ngram_range': ((1, 2), (1, 3)),\n",
        "#     'clf__penalty': ('l1', 'l2'),\n",
        "#     'clf__C': (0.01, 0.1, 0.3, 0.6)\n",
        "# }\n",
        "#   ^-- Had to change my parameters to search because auto grader was timing out\n",
        "\n",
        "# Had to change my parameters to execute faster for code grader\n",
        "params = {\n",
        "    'vect__min_df': (3, 6, 9),\n",
        "    'clf__C': (0.01, 0.1, 0.3)\n",
        "}\n",
        "\n",
        "# Name the gridsearch instance \"gs\"\n",
        "# Instantiate the grid search cv and fit it\n",
        "gs = GridSearchCV(pipe, params, cv=5, n_jobs=1, verbose=1)\n",
        "gs.fit(X, y)\n",
        "\n",
        "\n",
        "# raise NotImplementedError()"
      ],
      "execution_count": 11,
      "outputs": [
        {
          "output_type": "stream",
          "text": [
            "Fitting 5 folds for each of 9 candidates, totalling 45 fits\n"
          ],
          "name": "stdout"
        },
        {
          "output_type": "stream",
          "text": [
            "[Parallel(n_jobs=1)]: Using backend SequentialBackend with 1 concurrent workers.\n",
            "[Parallel(n_jobs=1)]: Done  45 out of  45 | elapsed:   38.3s finished\n"
          ],
          "name": "stderr"
        },
        {
          "output_type": "execute_result",
          "data": {
            "text/plain": [
              "GridSearchCV(cv=5, error_score=nan,\n",
              "             estimator=Pipeline(memory=None,\n",
              "                                steps=[('vect',\n",
              "                                        TfidfVectorizer(analyzer='word',\n",
              "                                                        binary=False,\n",
              "                                                        decode_error='strict',\n",
              "                                                        dtype=<class 'numpy.float64'>,\n",
              "                                                        encoding='utf-8',\n",
              "                                                        input='content',\n",
              "                                                        lowercase=True,\n",
              "                                                        max_df=1.0,\n",
              "                                                        max_features=None,\n",
              "                                                        min_df=1,\n",
              "                                                        ngram_range=(1, 1),\n",
              "                                                        norm='l2',\n",
              "                                                        preprocessor=None,\n",
              "                                                        smooth_idf=True,\n",
              "                                                        stop_words='english',\n",
              "                                                        strip...\n",
              "                                        LinearSVC(C=1.0, class_weight=None,\n",
              "                                                  dual=True, fit_intercept=True,\n",
              "                                                  intercept_scaling=1,\n",
              "                                                  loss='squared_hinge',\n",
              "                                                  max_iter=1000,\n",
              "                                                  multi_class='ovr',\n",
              "                                                  penalty='l2',\n",
              "                                                  random_state=None, tol=0.0001,\n",
              "                                                  verbose=0))],\n",
              "                                verbose=False),\n",
              "             iid='deprecated', n_jobs=1,\n",
              "             param_grid={'clf__C': (0.01, 0.1, 0.3), 'vect__min_df': (3, 6, 9)},\n",
              "             pre_dispatch='2*n_jobs', refit=True, return_train_score=False,\n",
              "             scoring=None, verbose=1)"
            ]
          },
          "metadata": {
            "tags": []
          },
          "execution_count": 11
        }
      ]
    },
    {
      "cell_type": "code",
      "metadata": {
        "colab": {
          "base_uri": "https://localhost:8080/"
        },
        "id": "hJkMwqBxG08m",
        "outputId": "29207b17-0c3f-4770-9854-5570186f3766"
      },
      "source": [
        "# Assign my best model parameters\r\n",
        "best_mod = gs.best_estimator_\r\n",
        "vect = best_mod.named_steps['vect']\r\n",
        "clf = best_mod.named_steps['clf']\r\n",
        "\r\n",
        "# Evaluate on my fake review\r\n",
        "my_review_pred = best_mod.predict(fake)\r\n",
        "print(f'Prediction of how many stars my review would be: {my_review_pred}')"
      ],
      "execution_count": 12,
      "outputs": [
        {
          "output_type": "stream",
          "text": [
            "Prediction of how many stars my review would be: [1]\n"
          ],
          "name": "stdout"
        }
      ]
    },
    {
      "cell_type": "code",
      "metadata": {
        "deletable": false,
        "editable": false,
        "nbgrader": {
          "cell_type": "code",
          "checksum": "b9e2378efb868f104a4eb39e4f25563c",
          "grade": true,
          "grade_id": "cell-d07134c6fe5d056e",
          "locked": true,
          "points": 1,
          "schema_version": 3,
          "solution": false,
          "task": false
        },
        "id": "yjy5997eDZHi"
      },
      "source": [
        "# Visible Testing\n",
        "prediction = gs.predict([\"I wish dogs knew how to speak English.\"])[0]\n",
        "assert prediction in df.stars.values, 'You gs object should be able to accept raw text within a list. Did you include a vectorizer in your pipeline?'"
      ],
      "execution_count": 13,
      "outputs": []
    },
    {
      "cell_type": "markdown",
      "metadata": {
        "id": "R-koDnjDDZHi"
      },
      "source": [
        "## Part 4: Topic Modeling\n",
        "\n",
        "Let's find out what those yelp reviews are saying! :D\n",
        "\n",
        "1. Estimate a LDA topic model of the review text\n",
        "    - Set num_topics to `5`\n",
        "    - Name your LDA model `lda`\n",
        "2. Create 1-2 visualizations of the results\n",
        "    - You can use the most important 3 words of a topic in relevant visualizations. Refer to yesterday's notebook to extract. \n",
        "3. In markdown, write 1-2 paragraphs of analysis on the results of your topic model\n",
        "\n",
        "When you construct your LDA model, it should look like this: \n",
        "\n",
        "```python\n",
        "lda = LdaModel(corpus=corpus,\n",
        "               id2word=id2word,\n",
        "               random_state=723812,\n",
        "               num_topics = num_topics,\n",
        "               passes=1\n",
        "              )\n",
        "\n",
        "```\n",
        "\n",
        "__*Note*__: You can pass the DataFrame column of text reviews to gensim. You do not have to use a generator."
      ]
    },
    {
      "cell_type": "code",
      "metadata": {
        "id": "BBNMlkPBDZHi"
      },
      "source": [
        "from gensim import corpora\n",
        "# Due to limited computational resources on CodeGrader, use the non-multicore version of LDA \n",
        "from gensim.models.ldamodel import LdaModel\n",
        "import gensim\n",
        "import re\n",
        "\n",
        "# Create a dictionary using a method from the gensim library\n",
        "id2word = corpora.Dictionary(df.tokens)\n",
        "\n",
        "# Remove the extreme values\n",
        "id2word.filter_extremes(no_below=2, no_above=0.9)\n",
        "\n",
        "# Create a BOW representation of the entire corpus\n",
        "corpus = [id2word.doc2bow(text) for text in df.tokens]"
      ],
      "execution_count": 14,
      "outputs": []
    },
    {
      "cell_type": "markdown",
      "metadata": {
        "id": "zVVwkxuyDZHj"
      },
      "source": [
        "### 1. Estimate a LDA topic model of the review tex"
      ]
    },
    {
      "cell_type": "code",
      "metadata": {
        "deletable": false,
        "nbgrader": {
          "cell_type": "code",
          "checksum": "5082d766e1c8efac4c42c390b4bf775e",
          "grade": false,
          "grade_id": "cell-66331a185ff52f15",
          "locked": false,
          "schema_version": 3,
          "solution": true,
          "task": false
        },
        "id": "gN17arQmDZHj"
      },
      "source": [
        "\n",
        "\n",
        "# YOUR CODE HERE\n",
        "lda = LdaModel(corpus=corpus,\n",
        "               id2word=id2word,\n",
        "               num_topics=5,\n",
        "               passes=1)\n",
        "\n",
        "# raise NotImplementedError()"
      ],
      "execution_count": 15,
      "outputs": []
    },
    {
      "cell_type": "markdown",
      "metadata": {
        "id": "oxvSBhTJDZHj"
      },
      "source": [
        "#### Testing"
      ]
    },
    {
      "cell_type": "code",
      "metadata": {
        "deletable": false,
        "editable": false,
        "nbgrader": {
          "cell_type": "code",
          "checksum": "6479db0fa59c99d3ae3201c1f10ebca1",
          "grade": true,
          "grade_id": "cell-5a3c181311134fa9",
          "locked": true,
          "points": 1,
          "schema_version": 3,
          "solution": false,
          "task": false
        },
        "id": "ZHRI_gbMDZHk"
      },
      "source": [
        "# Visible Testing\n",
        "assert lda.get_topics().shape[0] == 5, 'Did your model complete its training? Did you set num_topics to 5?'"
      ],
      "execution_count": 16,
      "outputs": []
    },
    {
      "cell_type": "markdown",
      "metadata": {
        "id": "h3B1kSvhDZHk"
      },
      "source": [
        "#### 2. Create 1-2 visualizations of the results"
      ]
    },
    {
      "cell_type": "code",
      "metadata": {
        "deletable": false,
        "nbgrader": {
          "cell_type": "code",
          "checksum": "4bebcee0da772a4f7b33924150464410",
          "grade": false,
          "grade_id": "cell-9b043e992fbd218c",
          "locked": false,
          "schema_version": 3,
          "solution": true,
          "task": false
        },
        "colab": {
          "base_uri": "https://localhost:8080/",
          "height": 1000
        },
        "id": "TSJUDK7SDZHk",
        "outputId": "d1b475f1-070b-4839-9c20-a10747ab2412"
      },
      "source": [
        "import seaborn as sns\n",
        "import matplotlib.pyplot as plt\n",
        "\n",
        "# YOUR CODE HERE\n",
        "from collections import Counter\n",
        "topics = lda.show_topics(formatted=False)\n",
        "data_flat = [w for w_list in df.tokens for w in w_list]\n",
        "counter = Counter(data_flat)\n",
        "\n",
        "out = []\n",
        "for i, topic in topics:\n",
        "    for word, weight in topic:\n",
        "        out.append([word, i , weight, counter[word]])\n",
        "\n",
        "df_out = pd.DataFrame(out, columns=['word', 'topic_id', 'importance', 'word_count'])        \n",
        "\n",
        "# Plot Word Count and Weights of Topic Keywords\n",
        "fig, axes = plt.subplots(2, 2, figsize=(16,10), sharey=True, dpi=160)\n",
        "for i, ax in enumerate(axes.flatten()):\n",
        "    ax.bar(x='word', height=\"word_count\", data=df_out.loc[df_out.topic_id==i, :], \n",
        "           width=0.5, alpha=0.3, label='Word Count')\n",
        "    ax_twin = ax.twinx()\n",
        "    ax_twin.bar(x='word', height=\"importance\", data=df_out.loc[df_out.topic_id==i, :], \n",
        "                width=0.2, label='Weights')\n",
        "    ax.set_ylabel('Word Count')\n",
        "    ax_twin.set_ylim(0, 0.030); ax.set_ylim(0, 3500)\n",
        "    ax.set_title('Topic: ' + str(i), fontsize=16)\n",
        "    ax.tick_params(axis='y', left=False)\n",
        "    ax.set_xticklabels(df_out.loc[df_out.topic_id==i, 'word'], rotation=30, \n",
        "                       horizontalalignment= 'right')\n",
        "    ax.legend(loc='upper left'); ax_twin.legend(loc='upper right')\n",
        "\n",
        "fig.tight_layout(w_pad=2)    \n",
        "fig.suptitle('Word Count and Importance of Topic Keywords', fontsize=22, y=1.05)    \n",
        "plt.show()\n",
        "\n",
        "# raise NotImplementedError()"
      ],
      "execution_count": 17,
      "outputs": [
        {
          "output_type": "display_data",
          "data": {
            "image/png": "[encoded data removed]",
            "text/plain": [
              "<Figure size 2560x1600 with 8 Axes>"
            ]
          },
          "metadata": {
            "tags": [],
            "needs_background": "light"
          }
        }
      ]
    },
    {
      "cell_type": "markdown",
      "metadata": {
        "deletable": false,
        "editable": false,
        "nbgrader": {
          "cell_type": "markdown",
          "checksum": "f44a26c754500ff0bf585296075bf754",
          "grade": false,
          "grade_id": "cell-bf9e63d9645bba84",
          "locked": true,
          "points": 0,
          "schema_version": 3,
          "solution": false,
          "task": true
        },
        "id": "fGmGfFOKDZHk"
      },
      "source": [
        "#### 3. In markdown, write 1-2 paragraphs of analysis on the results of your topic model"
      ]
    },
    {
      "cell_type": "markdown",
      "metadata": {
        "collapsed": false,
        "id": "tDA0UX8XBhXT"
      },
      "source": [
        "Based on my pyLDAvis visualization done in another notebook that the autograder was not able to grade for some reason, it appears that I could do with better tokenization. I noticed that there are a few words that could have been added to the stop words list to improve my predictability. I can see that the largest topic is topic 1 at 30.3% of the tokens, which appears to be related to the positive reviews of restaurants. All the other topics appear to be related to the positive reviews as well.\n",
        "\n",
        "Topic 2 appears to be more related to spa type of businesses, not restaurants. Topic 3 appears to be more related to hotels for tourist. While topic 4 appears to be talking about local businesses mostly. Last but not least, topic 5 appears to be reviews of automotive businesses mostly."
      ]
    },
    {
      "cell_type": "markdown",
      "metadata": {
        "id": "wUHNQqvVDZHk"
      },
      "source": [
        "## Stretch Goals\n",
        "\n",
        "Complete one of more of these to push your score towards a three: \n",
        "* Incorporate named entity recognition into your analysis\n",
        "* Compare vectorization methods in the classification section\n",
        "* Analyze more (or all) of the yelp dataset - this one is v. hard. \n",
        "* Use a generator object on the reviews file - this would help you with the analyzing the whole dataset.\n",
        "* Incorporate any of the other yelp dataset entities in your analysis (business, users, etc.)"
      ]
    }
  ]
}