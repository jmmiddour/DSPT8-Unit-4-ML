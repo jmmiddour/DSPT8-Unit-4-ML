{
 "cells": [
  {
   "cell_type": "markdown",
   "metadata": {},
   "source": [
    "<img align=\"left\" src=\"https://lever-client-logos.s3.amazonaws.com/864372b1-534c-480e-acd5-9711f850815c-1524247202159.png\" width=200>\n",
    "<br></br>\n",
    "<br></br>\n",
    "\n",
    "# Natural Language Processing (NLP)\n",
    "## *Data Science Unit 4 Sprint 1 Assignment 1*\n",
    "\n",
    "Your goal in this assignment: find the attributes of the best & worst coffee shops in the dataset. The text is fairly raw: dates in the review, extra words in the `star_rating` column, etc. You'll probably want to clean that stuff up for a better analysis. \n",
    "\n",
    "Analyze the corpus of text using text visualizations of token frequency. Try cleaning the data as much as possible. Try the following techniques: \n",
    "- Lemmatization\n",
    "- Custom stopword removal\n",
    "\n",
    "Keep in mind the attributes of good tokens. Once you have a solid baseline, layer in the star rating in your visualization(s). Key part of this assignment - produce a write-up of the attributes of the best and worst coffee shops. Based on your analysis, what makes the best the best and the worst the worst. Use graphs and numbesr from your analysis to support your conclusions. There should be plenty of markdown cells! :coffee:"
   ]
  },
  {
   "cell_type": "code",
   "execution_count": 1,
   "metadata": {},
   "outputs": [
    {
     "data": {
      "image/jpeg": "[encoded data removed]",
      "text/html": [
       "\n",
       "        <iframe\n",
       "            width=\"400\"\n",
       "            height=\"300\"\n",
       "            src=\"https://www.youtube.com/embed/Jml7NVYm8cs\"\n",
       "            frameborder=\"0\"\n",
       "            allowfullscreen\n",
       "        ></iframe>\n",
       "        "
      ],
      "text/plain": [
       "<IPython.lib.display.YouTubeVideo at 0x2bd29a48e20>"
      ]
     },
     "execution_count": 1,
     "metadata": {},
     "output_type": "execute_result"
    }
   ],
   "source": [
    "from IPython.display import YouTubeVideo\n",
    "\n",
    "YouTubeVideo('Jml7NVYm8cs')"
   ]
  },
  {
   "cell_type": "code",
   "execution_count": 2,
   "metadata": {},
   "outputs": [
    {
     "data": {
      "text/plain": [
       "'C:\\\\Users\\\\sahmj\\\\Documents\\\\DSPT8-Unit-4-ML\\\\DS-Unit-4-Sprint-1-NLP-main\\\\module1-text-data'"
      ]
     },
     "execution_count": 2,
     "metadata": {},
     "output_type": "execute_result"
    }
   ],
   "source": [
    "%pwd"
   ]
  },
  {
   "cell_type": "code",
   "execution_count": 3,
   "metadata": {},
   "outputs": [
    {
     "data": {
      "text/html": [
       "<div>\n",
       "<style scoped>\n",
       "    .dataframe tbody tr th:only-of-type {\n",
       "        vertical-align: middle;\n",
       "    }\n",
       "\n",
       "    .dataframe tbody tr th {\n",
       "        vertical-align: top;\n",
       "    }\n",
       "\n",
       "    .dataframe thead th {\n",
       "        text-align: right;\n",
       "    }\n",
       "</style>\n",
       "<table border=\"1\" class=\"dataframe\">\n",
       "  <thead>\n",
       "    <tr style=\"text-align: right;\">\n",
       "      <th></th>\n",
       "      <th>coffee_shop_name</th>\n",
       "      <th>full_review_text</th>\n",
       "      <th>star_rating</th>\n",
       "    </tr>\n",
       "  </thead>\n",
       "  <tbody>\n",
       "    <tr>\n",
       "      <th>0</th>\n",
       "      <td>The Factory - Cafe With a Soul</td>\n",
       "      <td>11/25/2016 1 check-in Love love loved the atm...</td>\n",
       "      <td>5.0 star rating</td>\n",
       "    </tr>\n",
       "    <tr>\n",
       "      <th>1</th>\n",
       "      <td>The Factory - Cafe With a Soul</td>\n",
       "      <td>12/2/2016 Listed in Date Night: Austin, Ambia...</td>\n",
       "      <td>4.0 star rating</td>\n",
       "    </tr>\n",
       "    <tr>\n",
       "      <th>2</th>\n",
       "      <td>The Factory - Cafe With a Soul</td>\n",
       "      <td>11/30/2016 1 check-in Listed in Brunch Spots ...</td>\n",
       "      <td>4.0 star rating</td>\n",
       "    </tr>\n",
       "    <tr>\n",
       "      <th>3</th>\n",
       "      <td>The Factory - Cafe With a Soul</td>\n",
       "      <td>11/25/2016 Very cool decor! Good drinks Nice ...</td>\n",
       "      <td>2.0 star rating</td>\n",
       "    </tr>\n",
       "    <tr>\n",
       "      <th>4</th>\n",
       "      <td>The Factory - Cafe With a Soul</td>\n",
       "      <td>12/3/2016 1 check-in They are located within ...</td>\n",
       "      <td>4.0 star rating</td>\n",
       "    </tr>\n",
       "  </tbody>\n",
       "</table>\n",
       "</div>"
      ],
      "text/plain": [
       "                  coffee_shop_name  \\\n",
       "0  The Factory - Cafe With a Soul    \n",
       "1  The Factory - Cafe With a Soul    \n",
       "2  The Factory - Cafe With a Soul    \n",
       "3  The Factory - Cafe With a Soul    \n",
       "4  The Factory - Cafe With a Soul    \n",
       "\n",
       "                                    full_review_text        star_rating  \n",
       "0   11/25/2016 1 check-in Love love loved the atm...   5.0 star rating   \n",
       "1   12/2/2016 Listed in Date Night: Austin, Ambia...   4.0 star rating   \n",
       "2   11/30/2016 1 check-in Listed in Brunch Spots ...   4.0 star rating   \n",
       "3   11/25/2016 Very cool decor! Good drinks Nice ...   2.0 star rating   \n",
       "4   12/3/2016 1 check-in They are located within ...   4.0 star rating   "
      ]
     },
     "execution_count": 3,
     "metadata": {},
     "output_type": "execute_result"
    }
   ],
   "source": [
    "import pandas as pd\n",
    "\n",
    "url = \"https://raw.githubusercontent.com/LambdaSchool/DS-Unit-4-Sprint-1-NLP/main/module1-text-data/data/yelp_coffeeshop_review_data.csv\"\n",
    "\n",
    "shops = pd.read_csv(url)\n",
    "shops.head()"
   ]
  },
  {
   "cell_type": "code",
   "execution_count": 4,
   "metadata": {},
   "outputs": [
    {
     "data": {
      "text/plain": [
       "106      2/14/2016 2 check-ins Super cute place, and m...\n",
       "6949     2/28/2015 Macarons macarons macarons! Who doe...\n",
       "1109     10/25/2016 1 check-in Ok, let's try this appr...\n",
       "3286     8/26/2016 the two times i've visited austin i...\n",
       "7009     7/10/2012 1 check-in Who woulda thunk this li...\n",
       "900      2/27/2015 Get the iced Cassandra!!!!  I could...\n",
       "3959     9/2/2014 I am finally done with this place wh...\n",
       "4678     9/3/2016 1 check-in Great location, small spa...\n",
       "5130     9/14/2014 1 check-in I've been here multiple ...\n",
       "820      2/22/2015 Really great spot!    I haven't bee...\n",
       "Name: full_review_text, dtype: object"
      ]
     },
     "execution_count": 4,
     "metadata": {},
     "output_type": "execute_result"
    }
   ],
   "source": [
    "# Look at some of the full reviews:\n",
    "shops['full_review_text'].sample(10)"
   ]
  },
  {
   "cell_type": "code",
   "execution_count": 5,
   "metadata": {},
   "outputs": [],
   "source": [
    "# Import required libraries:\n",
    "import numpy as np\n",
    "from collections import Counter\n",
    "\n",
    "# Plotting dependencies:\n",
    "import squarify\n",
    "import matplotlib.pyplot as plt \n",
    "import seaborn as sns\n",
    "\n",
    "# NLP libraries:\n",
    "import re\n",
    "from nltk.stem import PorterStemmer\n",
    "import spacy\n",
    "from spacy.tokenizer import Tokenizer"
   ]
  },
  {
   "cell_type": "code",
   "execution_count": 8,
   "metadata": {},
   "outputs": [],
   "source": [
    "def tokenize(text):\n",
    "    '''\n",
    "    Parses a string into a list of semantic units (words)\n",
    "\n",
    "    Args:\n",
    "        text (str): The string the function will tokenize.\n",
    "\n",
    "    Returns:\n",
    "        list: Tokens parsed out by the mechanics of your choice.\n",
    "    '''\n",
    "    tokens = re.sub('[^a-zA-Z]', ' ', text)\n",
    "    tokens = tokens.lower().split()\n",
    "\n",
    "    return tokens"
   ]
  },
  {
   "cell_type": "code",
   "execution_count": 9,
   "metadata": {},
   "outputs": [
    {
     "data": {
      "text/plain": [
       "0    [check, in, love, love, loved, the, atmosphere...\n",
       "1    [listed, in, date, night, austin, ambiance, in...\n",
       "2    [check, in, listed, in, brunch, spots, i, love...\n",
       "3    [very, cool, decor, good, drinks, nice, seatin...\n",
       "4    [check, in, they, are, located, within, the, n...\n",
       "Name: review_tokens, dtype: object"
      ]
     },
     "execution_count": 9,
     "metadata": {},
     "output_type": "execute_result"
    }
   ],
   "source": [
    "# Split on spaces, lowercase all, remove punctuation and dates and numbers:\n",
    "shops['review_tokens'] = shops['full_review_text'].apply(tokenize)\n",
    "\n",
    "# Check my work:\n",
    "shops['review_tokens'].head()"
   ]
  },
  {
   "cell_type": "code",
   "execution_count": 10,
   "metadata": {},
   "outputs": [
    {
     "name": "stdout",
     "output_type": "stream",
     "text": [
      "(7616, 4)\n"
     ]
    },
    {
     "data": {
      "text/html": [
       "<div>\n",
       "<style scoped>\n",
       "    .dataframe tbody tr th:only-of-type {\n",
       "        vertical-align: middle;\n",
       "    }\n",
       "\n",
       "    .dataframe tbody tr th {\n",
       "        vertical-align: top;\n",
       "    }\n",
       "\n",
       "    .dataframe thead th {\n",
       "        text-align: right;\n",
       "    }\n",
       "</style>\n",
       "<table border=\"1\" class=\"dataframe\">\n",
       "  <thead>\n",
       "    <tr style=\"text-align: right;\">\n",
       "      <th></th>\n",
       "      <th>coffee_shop_name</th>\n",
       "      <th>full_review_text</th>\n",
       "      <th>star_rating</th>\n",
       "      <th>review_tokens</th>\n",
       "    </tr>\n",
       "  </thead>\n",
       "  <tbody>\n",
       "    <tr>\n",
       "      <th>0</th>\n",
       "      <td>The Factory - Cafe With a Soul</td>\n",
       "      <td>11/25/2016 1 check-in Love love loved the atm...</td>\n",
       "      <td>5.0 star rating</td>\n",
       "      <td>[check, in, love, love, loved, the, atmosphere...</td>\n",
       "    </tr>\n",
       "    <tr>\n",
       "      <th>1</th>\n",
       "      <td>The Factory - Cafe With a Soul</td>\n",
       "      <td>12/2/2016 Listed in Date Night: Austin, Ambia...</td>\n",
       "      <td>4.0 star rating</td>\n",
       "      <td>[listed, in, date, night, austin, ambiance, in...</td>\n",
       "    </tr>\n",
       "    <tr>\n",
       "      <th>2</th>\n",
       "      <td>The Factory - Cafe With a Soul</td>\n",
       "      <td>11/30/2016 1 check-in Listed in Brunch Spots ...</td>\n",
       "      <td>4.0 star rating</td>\n",
       "      <td>[check, in, listed, in, brunch, spots, i, love...</td>\n",
       "    </tr>\n",
       "    <tr>\n",
       "      <th>3</th>\n",
       "      <td>The Factory - Cafe With a Soul</td>\n",
       "      <td>11/25/2016 Very cool decor! Good drinks Nice ...</td>\n",
       "      <td>2.0 star rating</td>\n",
       "      <td>[very, cool, decor, good, drinks, nice, seatin...</td>\n",
       "    </tr>\n",
       "    <tr>\n",
       "      <th>4</th>\n",
       "      <td>The Factory - Cafe With a Soul</td>\n",
       "      <td>12/3/2016 1 check-in They are located within ...</td>\n",
       "      <td>4.0 star rating</td>\n",
       "      <td>[check, in, they, are, located, within, the, n...</td>\n",
       "    </tr>\n",
       "  </tbody>\n",
       "</table>\n",
       "</div>"
      ],
      "text/plain": [
       "                  coffee_shop_name  \\\n",
       "0  The Factory - Cafe With a Soul    \n",
       "1  The Factory - Cafe With a Soul    \n",
       "2  The Factory - Cafe With a Soul    \n",
       "3  The Factory - Cafe With a Soul    \n",
       "4  The Factory - Cafe With a Soul    \n",
       "\n",
       "                                    full_review_text        star_rating  \\\n",
       "0   11/25/2016 1 check-in Love love loved the atm...   5.0 star rating    \n",
       "1   12/2/2016 Listed in Date Night: Austin, Ambia...   4.0 star rating    \n",
       "2   11/30/2016 1 check-in Listed in Brunch Spots ...   4.0 star rating    \n",
       "3   11/25/2016 Very cool decor! Good drinks Nice ...   2.0 star rating    \n",
       "4   12/3/2016 1 check-in They are located within ...   4.0 star rating    \n",
       "\n",
       "                                       review_tokens  \n",
       "0  [check, in, love, love, loved, the, atmosphere...  \n",
       "1  [listed, in, date, night, austin, ambiance, in...  \n",
       "2  [check, in, listed, in, brunch, spots, i, love...  \n",
       "3  [very, cool, decor, good, drinks, nice, seatin...  \n",
       "4  [check, in, they, are, located, within, the, n...  "
      ]
     },
     "execution_count": 10,
     "metadata": {},
     "output_type": "execute_result"
    }
   ],
   "source": [
    "print(shops.shape)\n",
    "shops.head()"
   ]
  },
  {
   "cell_type": "code",
   "execution_count": 11,
   "metadata": {},
   "outputs": [
    {
     "data": {
      "text/plain": [
       " 5.0 star rating     3780\n",
       " 4.0 star rating     2360\n",
       " 3.0 star rating      738\n",
       " 2.0 star rating      460\n",
       " 1.0 star rating      278\n",
       "Name: star_rating, dtype: int64"
      ]
     },
     "execution_count": 11,
     "metadata": {},
     "output_type": "execute_result"
    }
   ],
   "source": [
    "# Look at the value counts of the star_rating column:\n",
    "shops['star_rating'].value_counts()"
   ]
  },
  {
   "cell_type": "code",
   "execution_count": 12,
   "metadata": {},
   "outputs": [
    {
     "data": {
      "text/plain": [
       "5    3780\n",
       "4    2360\n",
       "3     738\n",
       "2     460\n",
       "1     278\n",
       "Name: star_rating, dtype: int64"
      ]
     },
     "execution_count": 12,
     "metadata": {},
     "output_type": "execute_result"
    }
   ],
   "source": [
    "# Remove the words \"star rating\" from the star_rating column, it is redundant:\n",
    "shops['star_rating'] = shops['star_rating'].str.rstrip('.0 star rating').str.lstrip(' ')\n",
    "\n",
    "# Check my work:\n",
    "shops['star_rating'].value_counts()"
   ]
  },
  {
   "cell_type": "markdown",
   "metadata": {},
   "source": [
    "## How do we want to analyze these coffee shop tokens? \n",
    "\n",
    "- Overall Word / Token Count\n",
    "- View Counts by Rating \n",
    "- *Hint:* a 'bad' coffee shops has a rating betweeen 1 & 3 based on the distribution of ratings. A 'good' coffee shop is a 4 or 5. "
   ]
  },
  {
   "cell_type": "code",
   "execution_count": 13,
   "metadata": {},
   "outputs": [
    {
     "data": {
      "text/plain": [
       "dtype('O')"
      ]
     },
     "execution_count": 13,
     "metadata": {},
     "output_type": "execute_result"
    }
   ],
   "source": [
    "# Check the data type of the star_rating column:\n",
    "shops['star_rating'].dtype"
   ]
  },
  {
   "cell_type": "code",
   "execution_count": 14,
   "metadata": {},
   "outputs": [
    {
     "data": {
      "text/plain": [
       "dtype('int32')"
      ]
     },
     "execution_count": 14,
     "metadata": {},
     "output_type": "execute_result"
    }
   ],
   "source": [
    "# Change star_rating to ints:\n",
    "shops['star_rating'] = shops['star_rating'].astype(int)\n",
    "\n",
    "# Check my work:\n",
    "shops['star_rating'].dtype"
   ]
  },
  {
   "cell_type": "code",
   "execution_count": 15,
   "metadata": {},
   "outputs": [
    {
     "name": "stdout",
     "output_type": "stream",
     "text": [
      "(7616, 6)\n"
     ]
    },
    {
     "data": {
      "text/html": [
       "<div>\n",
       "<style scoped>\n",
       "    .dataframe tbody tr th:only-of-type {\n",
       "        vertical-align: middle;\n",
       "    }\n",
       "\n",
       "    .dataframe tbody tr th {\n",
       "        vertical-align: top;\n",
       "    }\n",
       "\n",
       "    .dataframe thead th {\n",
       "        text-align: right;\n",
       "    }\n",
       "</style>\n",
       "<table border=\"1\" class=\"dataframe\">\n",
       "  <thead>\n",
       "    <tr style=\"text-align: right;\">\n",
       "      <th></th>\n",
       "      <th>coffee_shop_name</th>\n",
       "      <th>full_review_text</th>\n",
       "      <th>star_rating</th>\n",
       "      <th>review_tokens</th>\n",
       "      <th>is_best</th>\n",
       "      <th>not_good</th>\n",
       "    </tr>\n",
       "  </thead>\n",
       "  <tbody>\n",
       "    <tr>\n",
       "      <th>0</th>\n",
       "      <td>The Factory - Cafe With a Soul</td>\n",
       "      <td>11/25/2016 1 check-in Love love loved the atm...</td>\n",
       "      <td>5</td>\n",
       "      <td>[check, in, love, love, loved, the, atmosphere...</td>\n",
       "      <td>1</td>\n",
       "      <td>0</td>\n",
       "    </tr>\n",
       "    <tr>\n",
       "      <th>1</th>\n",
       "      <td>The Factory - Cafe With a Soul</td>\n",
       "      <td>12/2/2016 Listed in Date Night: Austin, Ambia...</td>\n",
       "      <td>4</td>\n",
       "      <td>[listed, in, date, night, austin, ambiance, in...</td>\n",
       "      <td>1</td>\n",
       "      <td>0</td>\n",
       "    </tr>\n",
       "    <tr>\n",
       "      <th>2</th>\n",
       "      <td>The Factory - Cafe With a Soul</td>\n",
       "      <td>11/30/2016 1 check-in Listed in Brunch Spots ...</td>\n",
       "      <td>4</td>\n",
       "      <td>[check, in, listed, in, brunch, spots, i, love...</td>\n",
       "      <td>1</td>\n",
       "      <td>0</td>\n",
       "    </tr>\n",
       "    <tr>\n",
       "      <th>3</th>\n",
       "      <td>The Factory - Cafe With a Soul</td>\n",
       "      <td>11/25/2016 Very cool decor! Good drinks Nice ...</td>\n",
       "      <td>2</td>\n",
       "      <td>[very, cool, decor, good, drinks, nice, seatin...</td>\n",
       "      <td>0</td>\n",
       "      <td>1</td>\n",
       "    </tr>\n",
       "    <tr>\n",
       "      <th>4</th>\n",
       "      <td>The Factory - Cafe With a Soul</td>\n",
       "      <td>12/3/2016 1 check-in They are located within ...</td>\n",
       "      <td>4</td>\n",
       "      <td>[check, in, they, are, located, within, the, n...</td>\n",
       "      <td>1</td>\n",
       "      <td>0</td>\n",
       "    </tr>\n",
       "  </tbody>\n",
       "</table>\n",
       "</div>"
      ],
      "text/plain": [
       "                  coffee_shop_name  \\\n",
       "0  The Factory - Cafe With a Soul    \n",
       "1  The Factory - Cafe With a Soul    \n",
       "2  The Factory - Cafe With a Soul    \n",
       "3  The Factory - Cafe With a Soul    \n",
       "4  The Factory - Cafe With a Soul    \n",
       "\n",
       "                                    full_review_text  star_rating  \\\n",
       "0   11/25/2016 1 check-in Love love loved the atm...            5   \n",
       "1   12/2/2016 Listed in Date Night: Austin, Ambia...            4   \n",
       "2   11/30/2016 1 check-in Listed in Brunch Spots ...            4   \n",
       "3   11/25/2016 Very cool decor! Good drinks Nice ...            2   \n",
       "4   12/3/2016 1 check-in They are located within ...            4   \n",
       "\n",
       "                                       review_tokens  is_best  not_good  \n",
       "0  [check, in, love, love, loved, the, atmosphere...        1         0  \n",
       "1  [listed, in, date, night, austin, ambiance, in...        1         0  \n",
       "2  [check, in, listed, in, brunch, spots, i, love...        1         0  \n",
       "3  [very, cool, decor, good, drinks, nice, seatin...        0         1  \n",
       "4  [check, in, they, are, located, within, the, n...        1         0  "
      ]
     },
     "execution_count": 15,
     "metadata": {},
     "output_type": "execute_result"
    }
   ],
   "source": [
    "# Create 2 new bool features for the best and worst coffee shops based on ratings:\n",
    "# Best is True if rating == 4 or 5\n",
    "shops['is_best'] = np.where(shops['star_rating'] >= 4, 1, 0)\n",
    "shops['not_good'] = np.where(shops['star_rating'] < 4, 1, 0)\n",
    "\n",
    "# Check my work:\n",
    "print(shops.shape)\n",
    "shops.head()"
   ]
  },
  {
   "cell_type": "code",
   "execution_count": 16,
   "metadata": {},
   "outputs": [],
   "source": [
    "def count(docs):\n",
    "    '''\n",
    "    This function will take a list of tokenized documents as input \n",
    "    and returns a DataFrame with frequency counts and rank for each token.\n",
    "\n",
    "    Args:\n",
    "        docs (list): tokenized list of documents\n",
    "\n",
    "    Returns:\n",
    "        wc: DataFrame sorted by rank\n",
    "    '''\n",
    "    # Instaniate Counter objects:\n",
    "    word_cts = Counter()\n",
    "    appears_in = Counter()\n",
    "\n",
    "    # Get the total number of documents:\n",
    "    tot_docs = len(docs)\n",
    "\n",
    "    # Iterate through each document to get the word counts:\n",
    "    for doc in docs:\n",
    "        word_cts.update(doc)\n",
    "        appears_in.update(set(doc))\n",
    "\n",
    "    # Create a 2d list of the word and it's count:\n",
    "    temp = zip(word_cts.keys(), word_cts.values())\n",
    "\n",
    "    # Turn into a DataFrame:\n",
    "    wc = pd.DataFrame(temp, columns=['word', 'count'])\n",
    "\n",
    "    # Rank the words and return a sum for each word:\n",
    "    wc['rank'] = wc['count'].rank(method='first', ascending=False)\n",
    "    tot = wc['count'].sum()\n",
    "\n",
    "    # Get the percentage of how often the word appears:\n",
    "    wc['pct_tot'] = wc['count'].apply(lambda x: x / tot)\n",
    "\n",
    "    # Get the cumulative percentages sorted by rank:\n",
    "    wc = wc.sort_values(by='rank')\n",
    "    wc['cum_pct_tot'] = wc['pct_tot'].cumsum()\n",
    "\n",
    "    # Create a 2d list of words and how often they occur, turn into a df:\n",
    "    temp2 = zip(appears_in.keys(), appears_in.values())\n",
    "    ac = pd.DataFrame(temp2, columns=['word', 'appears_in'])\n",
    "\n",
    "    # Merge the 2 DataFrames into 1:\n",
    "    wc = ac.merge(wc, on='word')\n",
    "\n",
    "    # Get the percentage of the appears_in column:\n",
    "    wc['appears_in_pct'] = wc['appears_in'].apply(lambda x: x / tot_docs)\n",
    "\n",
    "    # Return the DataFrame with the values sorted by rank:\n",
    "    return wc.sort_values(by='rank')"
   ]
  },
  {
   "cell_type": "code",
   "execution_count": 17,
   "metadata": {},
   "outputs": [
    {
     "name": "stdout",
     "output_type": "stream",
     "text": [
      "(16847, 7)\n"
     ]
    },
    {
     "data": {
      "text/html": [
       "<div>\n",
       "<style scoped>\n",
       "    .dataframe tbody tr th:only-of-type {\n",
       "        vertical-align: middle;\n",
       "    }\n",
       "\n",
       "    .dataframe tbody tr th {\n",
       "        vertical-align: top;\n",
       "    }\n",
       "\n",
       "    .dataframe thead th {\n",
       "        text-align: right;\n",
       "    }\n",
       "</style>\n",
       "<table border=\"1\" class=\"dataframe\">\n",
       "  <thead>\n",
       "    <tr style=\"text-align: right;\">\n",
       "      <th></th>\n",
       "      <th>word</th>\n",
       "      <th>appears_in</th>\n",
       "      <th>count</th>\n",
       "      <th>rank</th>\n",
       "      <th>pct_tot</th>\n",
       "      <th>cum_pct_tot</th>\n",
       "      <th>appears_in_pct</th>\n",
       "    </tr>\n",
       "  </thead>\n",
       "  <tbody>\n",
       "    <tr>\n",
       "      <th>43</th>\n",
       "      <td>the</td>\n",
       "      <td>6854</td>\n",
       "      <td>34909</td>\n",
       "      <td>1.0</td>\n",
       "      <td>0.044008</td>\n",
       "      <td>0.044008</td>\n",
       "      <td>0.899947</td>\n",
       "    </tr>\n",
       "    <tr>\n",
       "      <th>25</th>\n",
       "      <td>and</td>\n",
       "      <td>6869</td>\n",
       "      <td>26774</td>\n",
       "      <td>2.0</td>\n",
       "      <td>0.033753</td>\n",
       "      <td>0.077761</td>\n",
       "      <td>0.901917</td>\n",
       "    </tr>\n",
       "    <tr>\n",
       "      <th>20</th>\n",
       "      <td>i</td>\n",
       "      <td>5877</td>\n",
       "      <td>24630</td>\n",
       "      <td>3.0</td>\n",
       "      <td>0.031050</td>\n",
       "      <td>0.108810</td>\n",
       "      <td>0.771665</td>\n",
       "    </tr>\n",
       "    <tr>\n",
       "      <th>2</th>\n",
       "      <td>a</td>\n",
       "      <td>6250</td>\n",
       "      <td>22857</td>\n",
       "      <td>4.0</td>\n",
       "      <td>0.028815</td>\n",
       "      <td>0.137625</td>\n",
       "      <td>0.820641</td>\n",
       "    </tr>\n",
       "    <tr>\n",
       "      <th>23</th>\n",
       "      <td>to</td>\n",
       "      <td>5676</td>\n",
       "      <td>17345</td>\n",
       "      <td>5.0</td>\n",
       "      <td>0.021866</td>\n",
       "      <td>0.159491</td>\n",
       "      <td>0.745273</td>\n",
       "    </tr>\n",
       "  </tbody>\n",
       "</table>\n",
       "</div>"
      ],
      "text/plain": [
       "   word  appears_in  count  rank   pct_tot  cum_pct_tot  appears_in_pct\n",
       "43  the        6854  34909   1.0  0.044008     0.044008        0.899947\n",
       "25  and        6869  26774   2.0  0.033753     0.077761        0.901917\n",
       "20    i        5877  24630   3.0  0.031050     0.108810        0.771665\n",
       "2     a        6250  22857   4.0  0.028815     0.137625        0.820641\n",
       "23   to        5676  17345   5.0  0.021866     0.159491        0.745273"
      ]
     },
     "execution_count": 17,
     "metadata": {},
     "output_type": "execute_result"
    }
   ],
   "source": [
    "# Use the function:\n",
    "wc = count(shops['review_tokens'])\n",
    "print(wc.shape)\n",
    "wc.head()"
   ]
  },
  {
   "cell_type": "code",
   "execution_count": 18,
   "metadata": {},
   "outputs": [
    {
     "data": {
      "image/png": "[encoded data removed]",
      "text/plain": [
       "<Figure size 432x288 with 1 Axes>"
      ]
     },
     "metadata": {
      "needs_background": "light"
     },
     "output_type": "display_data"
    }
   ],
   "source": [
    "# Visualize the cumulative distribution:\n",
    "sns.lineplot(x='rank', y='cum_pct_tot', data=wc);"
   ]
  },
  {
   "cell_type": "code",
   "execution_count": 19,
   "metadata": {},
   "outputs": [
    {
     "data": {
      "text/plain": [
       "0.55553468483176"
      ]
     },
     "execution_count": 19,
     "metadata": {},
     "output_type": "execute_result"
    }
   ],
   "source": [
    "# Look at the percentage of the top 100 words in the dataset vs all words in the dataset:\n",
    "wc[wc['rank'] <= 100]['cum_pct_tot'].max()"
   ]
  },
  {
   "cell_type": "code",
   "execution_count": 21,
   "metadata": {},
   "outputs": [
    {
     "data": {
      "image/png": "[encoded data removed]",
      "text/plain": [
       "<Figure size 864x864 with 1 Axes>"
      ]
     },
     "metadata": {
      "needs_background": "light"
     },
     "output_type": "display_data"
    }
   ],
   "source": [
    "# Look at the top 30 words in a plot:\n",
    "wc_top30 = wc[wc['rank'] <= 30]\n",
    "\n",
    "plt.figure(figsize=(12, 12))\n",
    "squarify.plot(sizes=wc_top30['pct_tot'], label=wc_top30['word'], \n",
    "              alpha=.75, text_kwargs={'size': 16, 'weight': 'bold'})\n",
    "plt.axis('off');"
   ]
  },
  {
   "cell_type": "code",
   "execution_count": 22,
   "metadata": {},
   "outputs": [],
   "source": [
    "# Inialize SpaCy model and tokenizer:\n",
    "nlp = spacy.load('en_core_web_md')\n",
    "tokenizer = Tokenizer(nlp.vocab)"
   ]
  },
  {
   "cell_type": "code",
   "execution_count": 23,
   "metadata": {},
   "outputs": [
    {
     "data": {
      "text/plain": [
       "0    [check-in, love, love, loved, atmosphere!, cor...\n",
       "1    [listed, date, night:, austin,, ambiance, aust...\n",
       "2    [check-in, listed, brunch, spots, loved, eclec...\n",
       "3    [cool, decor!, good, drinks, nice, seating, , ...\n",
       "4    [check-in, located, northcross, mall, shopping...\n",
       "Name: SpaCy_sw_tokens, dtype: object"
      ]
     },
     "execution_count": 23,
     "metadata": {},
     "output_type": "execute_result"
    }
   ],
   "source": [
    "# Remove SpaCy default stop words from the tokens:\n",
    "tokens = []\n",
    "\n",
    "# Return lower case tokens and ignore default stop words/punctuation:\n",
    "for doc in tokenizer.pipe(shops['full_review_text'], batch_size=500):\n",
    "    \n",
    "    doc_tokens = []\n",
    "\n",
    "    for token in doc:\n",
    "        if (token.is_stop == False) & (token.is_punct == False) & (token.is_digit == False) & (token.i >= 2):\n",
    "            doc_tokens.append(token.text.lower().strip(' '))\n",
    "    \n",
    "    tokens.append(doc_tokens)\n",
    "\n",
    "shops['SpaCy_sw_tokens'] = tokens\n",
    "shops['SpaCy_sw_tokens'].head()"
   ]
  },
  {
   "cell_type": "code",
   "execution_count": 24,
   "metadata": {},
   "outputs": [
    {
     "name": "stdout",
     "output_type": "stream",
     "text": [
      "(38700, 7)\n"
     ]
    },
    {
     "data": {
      "text/html": [
       "<div>\n",
       "<style scoped>\n",
       "    .dataframe tbody tr th:only-of-type {\n",
       "        vertical-align: middle;\n",
       "    }\n",
       "\n",
       "    .dataframe tbody tr th {\n",
       "        vertical-align: top;\n",
       "    }\n",
       "\n",
       "    .dataframe thead th {\n",
       "        text-align: right;\n",
       "    }\n",
       "</style>\n",
       "<table border=\"1\" class=\"dataframe\">\n",
       "  <thead>\n",
       "    <tr style=\"text-align: right;\">\n",
       "      <th></th>\n",
       "      <th>word</th>\n",
       "      <th>appears_in</th>\n",
       "      <th>count</th>\n",
       "      <th>rank</th>\n",
       "      <th>pct_tot</th>\n",
       "      <th>cum_pct_tot</th>\n",
       "      <th>appears_in_pct</th>\n",
       "    </tr>\n",
       "  </thead>\n",
       "  <tbody>\n",
       "    <tr>\n",
       "      <th>1</th>\n",
       "      <td></td>\n",
       "      <td>4377</td>\n",
       "      <td>15835</td>\n",
       "      <td>1.0</td>\n",
       "      <td>0.039445</td>\n",
       "      <td>0.039445</td>\n",
       "      <td>0.574711</td>\n",
       "    </tr>\n",
       "    <tr>\n",
       "      <th>8</th>\n",
       "      <td>coffee</td>\n",
       "      <td>4210</td>\n",
       "      <td>8058</td>\n",
       "      <td>2.0</td>\n",
       "      <td>0.020073</td>\n",
       "      <td>0.059518</td>\n",
       "      <td>0.552784</td>\n",
       "    </tr>\n",
       "    <tr>\n",
       "      <th>127</th>\n",
       "      <td>place</td>\n",
       "      <td>3029</td>\n",
       "      <td>4264</td>\n",
       "      <td>3.0</td>\n",
       "      <td>0.010622</td>\n",
       "      <td>0.070139</td>\n",
       "      <td>0.397715</td>\n",
       "    </tr>\n",
       "    <tr>\n",
       "      <th>149</th>\n",
       "      <td>great</td>\n",
       "      <td>2438</td>\n",
       "      <td>3250</td>\n",
       "      <td>4.0</td>\n",
       "      <td>0.008096</td>\n",
       "      <td>0.078235</td>\n",
       "      <td>0.320116</td>\n",
       "    </tr>\n",
       "    <tr>\n",
       "      <th>266</th>\n",
       "      <td>it's</td>\n",
       "      <td>2061</td>\n",
       "      <td>3117</td>\n",
       "      <td>5.0</td>\n",
       "      <td>0.007764</td>\n",
       "      <td>0.086000</td>\n",
       "      <td>0.270614</td>\n",
       "    </tr>\n",
       "    <tr>\n",
       "      <th>176</th>\n",
       "      <td>like</td>\n",
       "      <td>2034</td>\n",
       "      <td>2902</td>\n",
       "      <td>6.0</td>\n",
       "      <td>0.007229</td>\n",
       "      <td>0.093229</td>\n",
       "      <td>0.267069</td>\n",
       "    </tr>\n",
       "    <tr>\n",
       "      <th>163</th>\n",
       "      <td>good</td>\n",
       "      <td>2084</td>\n",
       "      <td>2779</td>\n",
       "      <td>7.0</td>\n",
       "      <td>0.006923</td>\n",
       "      <td>0.100151</td>\n",
       "      <td>0.273634</td>\n",
       "    </tr>\n",
       "    <tr>\n",
       "      <th>5</th>\n",
       "      <td>check-in</td>\n",
       "      <td>1957</td>\n",
       "      <td>1961</td>\n",
       "      <td>8.0</td>\n",
       "      <td>0.004885</td>\n",
       "      <td>0.105036</td>\n",
       "      <td>0.256959</td>\n",
       "    </tr>\n",
       "    <tr>\n",
       "      <th>6</th>\n",
       "      <td>love</td>\n",
       "      <td>1434</td>\n",
       "      <td>1806</td>\n",
       "      <td>9.0</td>\n",
       "      <td>0.004499</td>\n",
       "      <td>0.109535</td>\n",
       "      <td>0.188288</td>\n",
       "    </tr>\n",
       "    <tr>\n",
       "      <th>326</th>\n",
       "      <td>i'm</td>\n",
       "      <td>1382</td>\n",
       "      <td>1797</td>\n",
       "      <td>10.0</td>\n",
       "      <td>0.004476</td>\n",
       "      <td>0.114011</td>\n",
       "      <td>0.181460</td>\n",
       "    </tr>\n",
       "    <tr>\n",
       "      <th>334</th>\n",
       "      <td>i've</td>\n",
       "      <td>1164</td>\n",
       "      <td>1479</td>\n",
       "      <td>11.0</td>\n",
       "      <td>0.003684</td>\n",
       "      <td>0.117695</td>\n",
       "      <td>0.152836</td>\n",
       "    </tr>\n",
       "    <tr>\n",
       "      <th>785</th>\n",
       "      <td>little</td>\n",
       "      <td>1230</td>\n",
       "      <td>1479</td>\n",
       "      <td>12.0</td>\n",
       "      <td>0.003684</td>\n",
       "      <td>0.121380</td>\n",
       "      <td>0.161502</td>\n",
       "    </tr>\n",
       "    <tr>\n",
       "      <th>346</th>\n",
       "      <td>don't</td>\n",
       "      <td>1133</td>\n",
       "      <td>1395</td>\n",
       "      <td>13.0</td>\n",
       "      <td>0.003475</td>\n",
       "      <td>0.124855</td>\n",
       "      <td>0.148766</td>\n",
       "    </tr>\n",
       "    <tr>\n",
       "      <th>181</th>\n",
       "      <td>nice</td>\n",
       "      <td>1188</td>\n",
       "      <td>1368</td>\n",
       "      <td>14.0</td>\n",
       "      <td>0.003408</td>\n",
       "      <td>0.128262</td>\n",
       "      <td>0.155987</td>\n",
       "    </tr>\n",
       "    <tr>\n",
       "      <th>479</th>\n",
       "      <td>food</td>\n",
       "      <td>1092</td>\n",
       "      <td>1363</td>\n",
       "      <td>15.0</td>\n",
       "      <td>0.003395</td>\n",
       "      <td>0.131658</td>\n",
       "      <td>0.143382</td>\n",
       "    </tr>\n",
       "    <tr>\n",
       "      <th>606</th>\n",
       "      <td>time</td>\n",
       "      <td>1099</td>\n",
       "      <td>1345</td>\n",
       "      <td>16.0</td>\n",
       "      <td>0.003350</td>\n",
       "      <td>0.135008</td>\n",
       "      <td>0.144301</td>\n",
       "    </tr>\n",
       "    <tr>\n",
       "      <th>41</th>\n",
       "      <td>pretty</td>\n",
       "      <td>1066</td>\n",
       "      <td>1339</td>\n",
       "      <td>17.0</td>\n",
       "      <td>0.003335</td>\n",
       "      <td>0.138343</td>\n",
       "      <td>0.139968</td>\n",
       "    </tr>\n",
       "    <tr>\n",
       "      <th>10</th>\n",
       "      <td>got</td>\n",
       "      <td>980</td>\n",
       "      <td>1247</td>\n",
       "      <td>18.0</td>\n",
       "      <td>0.003106</td>\n",
       "      <td>0.141450</td>\n",
       "      <td>0.128676</td>\n",
       "    </tr>\n",
       "    <tr>\n",
       "      <th>940</th>\n",
       "      <td>people</td>\n",
       "      <td>1015</td>\n",
       "      <td>1223</td>\n",
       "      <td>19.0</td>\n",
       "      <td>0.003047</td>\n",
       "      <td>0.144496</td>\n",
       "      <td>0.133272</td>\n",
       "    </tr>\n",
       "    <tr>\n",
       "      <th>580</th>\n",
       "      <td>come</td>\n",
       "      <td>1031</td>\n",
       "      <td>1193</td>\n",
       "      <td>20.0</td>\n",
       "      <td>0.002972</td>\n",
       "      <td>0.147468</td>\n",
       "      <td>0.135373</td>\n",
       "    </tr>\n",
       "    <tr>\n",
       "      <th>44</th>\n",
       "      <td>austin</td>\n",
       "      <td>1034</td>\n",
       "      <td>1188</td>\n",
       "      <td>21.0</td>\n",
       "      <td>0.002959</td>\n",
       "      <td>0.150427</td>\n",
       "      <td>0.135767</td>\n",
       "    </tr>\n",
       "    <tr>\n",
       "      <th>482</th>\n",
       "      <td>best</td>\n",
       "      <td>1015</td>\n",
       "      <td>1165</td>\n",
       "      <td>22.0</td>\n",
       "      <td>0.002902</td>\n",
       "      <td>0.153329</td>\n",
       "      <td>0.133272</td>\n",
       "    </tr>\n",
       "    <tr>\n",
       "      <th>50</th>\n",
       "      <td>definitely</td>\n",
       "      <td>1011</td>\n",
       "      <td>1154</td>\n",
       "      <td>23.0</td>\n",
       "      <td>0.002875</td>\n",
       "      <td>0.156204</td>\n",
       "      <td>0.132747</td>\n",
       "    </tr>\n",
       "    <tr>\n",
       "      <th>198</th>\n",
       "      <td>friendly</td>\n",
       "      <td>1105</td>\n",
       "      <td>1145</td>\n",
       "      <td>24.0</td>\n",
       "      <td>0.002852</td>\n",
       "      <td>0.159056</td>\n",
       "      <td>0.145089</td>\n",
       "    </tr>\n",
       "    <tr>\n",
       "      <th>40</th>\n",
       "      <td>latte</td>\n",
       "      <td>855</td>\n",
       "      <td>1124</td>\n",
       "      <td>25.0</td>\n",
       "      <td>0.002800</td>\n",
       "      <td>0.161856</td>\n",
       "      <td>0.112264</td>\n",
       "    </tr>\n",
       "  </tbody>\n",
       "</table>\n",
       "</div>"
      ],
      "text/plain": [
       "           word  appears_in  count  rank   pct_tot  cum_pct_tot  \\\n",
       "1                      4377  15835   1.0  0.039445     0.039445   \n",
       "8        coffee        4210   8058   2.0  0.020073     0.059518   \n",
       "127       place        3029   4264   3.0  0.010622     0.070139   \n",
       "149       great        2438   3250   4.0  0.008096     0.078235   \n",
       "266        it's        2061   3117   5.0  0.007764     0.086000   \n",
       "176        like        2034   2902   6.0  0.007229     0.093229   \n",
       "163        good        2084   2779   7.0  0.006923     0.100151   \n",
       "5      check-in        1957   1961   8.0  0.004885     0.105036   \n",
       "6          love        1434   1806   9.0  0.004499     0.109535   \n",
       "326         i'm        1382   1797  10.0  0.004476     0.114011   \n",
       "334        i've        1164   1479  11.0  0.003684     0.117695   \n",
       "785      little        1230   1479  12.0  0.003684     0.121380   \n",
       "346       don't        1133   1395  13.0  0.003475     0.124855   \n",
       "181        nice        1188   1368  14.0  0.003408     0.128262   \n",
       "479        food        1092   1363  15.0  0.003395     0.131658   \n",
       "606        time        1099   1345  16.0  0.003350     0.135008   \n",
       "41       pretty        1066   1339  17.0  0.003335     0.138343   \n",
       "10          got         980   1247  18.0  0.003106     0.141450   \n",
       "940      people        1015   1223  19.0  0.003047     0.144496   \n",
       "580        come        1031   1193  20.0  0.002972     0.147468   \n",
       "44       austin        1034   1188  21.0  0.002959     0.150427   \n",
       "482        best        1015   1165  22.0  0.002902     0.153329   \n",
       "50   definitely        1011   1154  23.0  0.002875     0.156204   \n",
       "198    friendly        1105   1145  24.0  0.002852     0.159056   \n",
       "40        latte         855   1124  25.0  0.002800     0.161856   \n",
       "\n",
       "     appears_in_pct  \n",
       "1          0.574711  \n",
       "8          0.552784  \n",
       "127        0.397715  \n",
       "149        0.320116  \n",
       "266        0.270614  \n",
       "176        0.267069  \n",
       "163        0.273634  \n",
       "5          0.256959  \n",
       "6          0.188288  \n",
       "326        0.181460  \n",
       "334        0.152836  \n",
       "785        0.161502  \n",
       "346        0.148766  \n",
       "181        0.155987  \n",
       "479        0.143382  \n",
       "606        0.144301  \n",
       "41         0.139968  \n",
       "10         0.128676  \n",
       "940        0.133272  \n",
       "580        0.135373  \n",
       "44         0.135767  \n",
       "482        0.133272  \n",
       "50         0.132747  \n",
       "198        0.145089  \n",
       "40         0.112264  "
      ]
     },
     "execution_count": 24,
     "metadata": {},
     "output_type": "execute_result"
    }
   ],
   "source": [
    "# Get word counts with spacy default stop words removed:\n",
    "spacy_sw_wc = count(shops['SpaCy_sw_tokens'])\n",
    "print(spacy_sw_wc.shape)\n",
    "spacy_sw_wc.head(25)"
   ]
  },
  {
   "cell_type": "code",
   "execution_count": 27,
   "metadata": {},
   "outputs": [
    {
     "data": {
      "text/plain": [
       "''"
      ]
     },
     "execution_count": 27,
     "metadata": {},
     "output_type": "execute_result"
    }
   ],
   "source": [
    "# Find out what the exact value is for index 1 which appears to be blank:\n",
    "spacy_sw_wc['word'].loc[1]"
   ]
  },
  {
   "cell_type": "code",
   "execution_count": 28,
   "metadata": {},
   "outputs": [
    {
     "data": {
      "text/plain": [
       "0     [atmosphere!, corner, shop, style,, swings!!!,...\n",
       "1     [date, night:, austin,, ambiance, austin, beau...\n",
       "2     [brunch, spots, eclectic, homey, plush, decor,...\n",
       "3     [cool, decor!, drinks, nice, seating, however....\n",
       "4     [located, northcross, mall, shopping, center, ...\n",
       "5     [cute, cafe!, think, moment, stepped, in,, was...\n",
       "6     [\"nuptial, bliss!\",, anderson, lane, new, blac...\n",
       "7     [place!, stars, cleanliness, stars, fun, ambia...\n",
       "8     [ok,, let's, try, approach..., pros:, music, s...\n",
       "9     [shown, social, media, days, finally, visited!...\n",
       "10    [americano, average, cute, study, spot, cafe.,...\n",
       "11    [store, a+, decoration,, honestly,, shop, surr...\n",
       "12    [time, charm!, factory, a+, decor, innovative,...\n",
       "13    [cute, little, cafe!, driven, times, hadn't, n...\n",
       "14    [beautiful, eccentric, shop, library, peculiar...\n",
       "15    [search, fantastic, so,, didn't, want, write, ...\n",
       "16    [atmosphere, here!, frequent, shops, definitel...\n",
       "17    [check, video, review!, youtube.com/watch?v=n8...\n",
       "18    [note:, come, you're, looking, work, remotely!...\n",
       "19    [aesthetic, place., corner, shop., downside, t...\n",
       "20    [checked, factory, past, sunday, husband., wan...\n",
       "21    [cute., new, favorite, spot, burnet/in, northc...\n",
       "22    [tried, new, cafe, spot, burnet, friend, unass...\n",
       "23    [greeting, atmosphere, feels, created., speaks...\n",
       "24    [craft, drinks,, tea,, beer/wine., friendly, s...\n",
       "Name: SpaCy_custom_tokens, dtype: object"
      ]
     },
     "execution_count": 28,
     "metadata": {},
     "output_type": "execute_result"
    }
   ],
   "source": [
    "# Add stop words to SpaCy default stop words:\n",
    "STOP_WORDS = nlp.Defaults.stop_words.union([\"coffee\", \" \", \"it's\", \"i'm\", \"i've\", \"check-in\", \"check-ins\", \"don't\", \"place\", \"listed\", \"good\", \"great\", \"like\", \"love\", \"loves\", \"loved\", \"got\", \"coffee.\", \",\"])\n",
    "\n",
    "# Remove SpaCy default stop words plus my own from the tokens:\n",
    "tokens2 = []\n",
    "\n",
    "# Return lower case tokens and ignore default stop words/punctuation/digits/dates:\n",
    "for doc in tokenizer.pipe(shops['full_review_text'], batch_size=500):\n",
    "    \n",
    "    doc_tokens2 = []\n",
    "\n",
    "    for token in doc:\n",
    "        if (token.text.lower() not in STOP_WORDS) & (token.is_punct == False) & (token.is_digit == False) & (token.i >= 2):\n",
    "            \n",
    "            doc_tokens2.append(token.text.lower())\n",
    "    \n",
    "    tokens2.append(doc_tokens2)\n",
    "            \n",
    "\n",
    "shops['SpaCy_custom_tokens'] = tokens2\n",
    "shops['SpaCy_custom_tokens'].head(25)"
   ]
  },
  {
   "cell_type": "code",
   "execution_count": 29,
   "metadata": {},
   "outputs": [
    {
     "name": "stdout",
     "output_type": "stream",
     "text": [
      "(38696, 7)\n"
     ]
    },
    {
     "data": {
      "text/html": [
       "<div>\n",
       "<style scoped>\n",
       "    .dataframe tbody tr th:only-of-type {\n",
       "        vertical-align: middle;\n",
       "    }\n",
       "\n",
       "    .dataframe tbody tr th {\n",
       "        vertical-align: top;\n",
       "    }\n",
       "\n",
       "    .dataframe thead th {\n",
       "        text-align: right;\n",
       "    }\n",
       "</style>\n",
       "<table border=\"1\" class=\"dataframe\">\n",
       "  <thead>\n",
       "    <tr style=\"text-align: right;\">\n",
       "      <th></th>\n",
       "      <th>word</th>\n",
       "      <th>appears_in</th>\n",
       "      <th>count</th>\n",
       "      <th>rank</th>\n",
       "      <th>pct_tot</th>\n",
       "      <th>cum_pct_tot</th>\n",
       "      <th>appears_in_pct</th>\n",
       "    </tr>\n",
       "  </thead>\n",
       "  <tbody>\n",
       "    <tr>\n",
       "      <th>768</th>\n",
       "      <td>little</td>\n",
       "      <td>1230</td>\n",
       "      <td>1479</td>\n",
       "      <td>1.0</td>\n",
       "      <td>0.004234</td>\n",
       "      <td>0.004234</td>\n",
       "      <td>0.161502</td>\n",
       "    </tr>\n",
       "    <tr>\n",
       "      <th>170</th>\n",
       "      <td>nice</td>\n",
       "      <td>1188</td>\n",
       "      <td>1368</td>\n",
       "      <td>2.0</td>\n",
       "      <td>0.003916</td>\n",
       "      <td>0.008150</td>\n",
       "      <td>0.155987</td>\n",
       "    </tr>\n",
       "    <tr>\n",
       "      <th>463</th>\n",
       "      <td>food</td>\n",
       "      <td>1092</td>\n",
       "      <td>1363</td>\n",
       "      <td>3.0</td>\n",
       "      <td>0.003902</td>\n",
       "      <td>0.012051</td>\n",
       "      <td>0.143382</td>\n",
       "    </tr>\n",
       "    <tr>\n",
       "      <th>590</th>\n",
       "      <td>time</td>\n",
       "      <td>1099</td>\n",
       "      <td>1345</td>\n",
       "      <td>4.0</td>\n",
       "      <td>0.003850</td>\n",
       "      <td>0.015902</td>\n",
       "      <td>0.144301</td>\n",
       "    </tr>\n",
       "    <tr>\n",
       "      <th>35</th>\n",
       "      <td>pretty</td>\n",
       "      <td>1066</td>\n",
       "      <td>1339</td>\n",
       "      <td>5.0</td>\n",
       "      <td>0.003833</td>\n",
       "      <td>0.019735</td>\n",
       "      <td>0.139968</td>\n",
       "    </tr>\n",
       "  </tbody>\n",
       "</table>\n",
       "</div>"
      ],
      "text/plain": [
       "       word  appears_in  count  rank   pct_tot  cum_pct_tot  appears_in_pct\n",
       "768  little        1230   1479   1.0  0.004234     0.004234        0.161502\n",
       "170    nice        1188   1368   2.0  0.003916     0.008150        0.155987\n",
       "463    food        1092   1363   3.0  0.003902     0.012051        0.143382\n",
       "590    time        1099   1345   4.0  0.003850     0.015902        0.144301\n",
       "35   pretty        1066   1339   5.0  0.003833     0.019735        0.139968"
      ]
     },
     "execution_count": 29,
     "metadata": {},
     "output_type": "execute_result"
    }
   ],
   "source": [
    "spacy_custom_wc = count(shops['SpaCy_custom_tokens'])\n",
    "print(spacy_custom_wc.shape)\n",
    "spacy_custom_wc.head()"
   ]
  },
  {
   "cell_type": "code",
   "execution_count": 30,
   "metadata": {},
   "outputs": [
    {
     "data": {
      "image/png": "[encoded data removed]",
      "text/plain": [
       "<Figure size 864x864 with 1 Axes>"
      ]
     },
     "metadata": {
      "needs_background": "light"
     },
     "output_type": "display_data"
    }
   ],
   "source": [
    "spacy_custom_wc_top20 = spacy_custom_wc[spacy_custom_wc['rank'] <= 20]\n",
    "\n",
    "plt.figure(figsize=(12,12))\n",
    "squarify.plot(sizes=spacy_custom_wc_top20['pct_tot'],\n",
    "              label=spacy_custom_wc_top20['word'],\n",
    "              alpha=.75, text_kwargs={'size': 16, 'weight': 'bold'})\n",
    "plt.axis('off');"
   ]
  },
  {
   "cell_type": "markdown",
   "metadata": {},
   "source": [
    "## Can visualize the words with the greatest difference in counts between 'good' & 'bad'?\n",
    "\n",
    "Couple Notes: \n",
    "- Rel. freq. instead of absolute counts b/c of different numbers of reviews\n",
    "- Only look at the top 5-10 words with the greatest differences\n"
   ]
  },
  {
   "cell_type": "code",
   "execution_count": 31,
   "metadata": {},
   "outputs": [
    {
     "data": {
      "text/html": [
       "<div>\n",
       "<style scoped>\n",
       "    .dataframe tbody tr th:only-of-type {\n",
       "        vertical-align: middle;\n",
       "    }\n",
       "\n",
       "    .dataframe tbody tr th {\n",
       "        vertical-align: top;\n",
       "    }\n",
       "\n",
       "    .dataframe thead th {\n",
       "        text-align: right;\n",
       "    }\n",
       "</style>\n",
       "<table border=\"1\" class=\"dataframe\">\n",
       "  <thead>\n",
       "    <tr style=\"text-align: right;\">\n",
       "      <th></th>\n",
       "      <th>coffee_shop_name</th>\n",
       "      <th>full_review_text</th>\n",
       "      <th>star_rating</th>\n",
       "      <th>review_tokens</th>\n",
       "      <th>is_best</th>\n",
       "      <th>not_good</th>\n",
       "      <th>SpaCy_sw_tokens</th>\n",
       "      <th>SpaCy_custom_tokens</th>\n",
       "    </tr>\n",
       "  </thead>\n",
       "  <tbody>\n",
       "    <tr>\n",
       "      <th>0</th>\n",
       "      <td>The Factory - Cafe With a Soul</td>\n",
       "      <td>11/25/2016 1 check-in Love love loved the atm...</td>\n",
       "      <td>5</td>\n",
       "      <td>[check, in, love, love, loved, the, atmosphere...</td>\n",
       "      <td>1</td>\n",
       "      <td>0</td>\n",
       "      <td>[check-in, love, love, loved, atmosphere!, cor...</td>\n",
       "      <td>[atmosphere!, corner, shop, style,, swings!!!,...</td>\n",
       "    </tr>\n",
       "    <tr>\n",
       "      <th>1</th>\n",
       "      <td>The Factory - Cafe With a Soul</td>\n",
       "      <td>12/2/2016 Listed in Date Night: Austin, Ambia...</td>\n",
       "      <td>4</td>\n",
       "      <td>[listed, in, date, night, austin, ambiance, in...</td>\n",
       "      <td>1</td>\n",
       "      <td>0</td>\n",
       "      <td>[listed, date, night:, austin,, ambiance, aust...</td>\n",
       "      <td>[date, night:, austin,, ambiance, austin, beau...</td>\n",
       "    </tr>\n",
       "    <tr>\n",
       "      <th>2</th>\n",
       "      <td>The Factory - Cafe With a Soul</td>\n",
       "      <td>11/30/2016 1 check-in Listed in Brunch Spots ...</td>\n",
       "      <td>4</td>\n",
       "      <td>[check, in, listed, in, brunch, spots, i, love...</td>\n",
       "      <td>1</td>\n",
       "      <td>0</td>\n",
       "      <td>[check-in, listed, brunch, spots, loved, eclec...</td>\n",
       "      <td>[brunch, spots, eclectic, homey, plush, decor,...</td>\n",
       "    </tr>\n",
       "    <tr>\n",
       "      <th>3</th>\n",
       "      <td>The Factory - Cafe With a Soul</td>\n",
       "      <td>11/25/2016 Very cool decor! Good drinks Nice ...</td>\n",
       "      <td>2</td>\n",
       "      <td>[very, cool, decor, good, drinks, nice, seatin...</td>\n",
       "      <td>0</td>\n",
       "      <td>1</td>\n",
       "      <td>[cool, decor!, good, drinks, nice, seating, , ...</td>\n",
       "      <td>[cool, decor!, drinks, nice, seating, however....</td>\n",
       "    </tr>\n",
       "    <tr>\n",
       "      <th>4</th>\n",
       "      <td>The Factory - Cafe With a Soul</td>\n",
       "      <td>12/3/2016 1 check-in They are located within ...</td>\n",
       "      <td>4</td>\n",
       "      <td>[check, in, they, are, located, within, the, n...</td>\n",
       "      <td>1</td>\n",
       "      <td>0</td>\n",
       "      <td>[check-in, located, northcross, mall, shopping...</td>\n",
       "      <td>[located, northcross, mall, shopping, center, ...</td>\n",
       "    </tr>\n",
       "  </tbody>\n",
       "</table>\n",
       "</div>"
      ],
      "text/plain": [
       "                  coffee_shop_name  \\\n",
       "0  The Factory - Cafe With a Soul    \n",
       "1  The Factory - Cafe With a Soul    \n",
       "2  The Factory - Cafe With a Soul    \n",
       "3  The Factory - Cafe With a Soul    \n",
       "4  The Factory - Cafe With a Soul    \n",
       "\n",
       "                                    full_review_text  star_rating  \\\n",
       "0   11/25/2016 1 check-in Love love loved the atm...            5   \n",
       "1   12/2/2016 Listed in Date Night: Austin, Ambia...            4   \n",
       "2   11/30/2016 1 check-in Listed in Brunch Spots ...            4   \n",
       "3   11/25/2016 Very cool decor! Good drinks Nice ...            2   \n",
       "4   12/3/2016 1 check-in They are located within ...            4   \n",
       "\n",
       "                                       review_tokens  is_best  not_good  \\\n",
       "0  [check, in, love, love, loved, the, atmosphere...        1         0   \n",
       "1  [listed, in, date, night, austin, ambiance, in...        1         0   \n",
       "2  [check, in, listed, in, brunch, spots, i, love...        1         0   \n",
       "3  [very, cool, decor, good, drinks, nice, seatin...        0         1   \n",
       "4  [check, in, they, are, located, within, the, n...        1         0   \n",
       "\n",
       "                                     SpaCy_sw_tokens  \\\n",
       "0  [check-in, love, love, loved, atmosphere!, cor...   \n",
       "1  [listed, date, night:, austin,, ambiance, aust...   \n",
       "2  [check-in, listed, brunch, spots, loved, eclec...   \n",
       "3  [cool, decor!, good, drinks, nice, seating, , ...   \n",
       "4  [check-in, located, northcross, mall, shopping...   \n",
       "\n",
       "                                 SpaCy_custom_tokens  \n",
       "0  [atmosphere!, corner, shop, style,, swings!!!,...  \n",
       "1  [date, night:, austin,, ambiance, austin, beau...  \n",
       "2  [brunch, spots, eclectic, homey, plush, decor,...  \n",
       "3  [cool, decor!, drinks, nice, seating, however....  \n",
       "4  [located, northcross, mall, shopping, center, ...  "
      ]
     },
     "execution_count": 31,
     "metadata": {},
     "output_type": "execute_result"
    }
   ],
   "source": [
    "# Look at the dataframe now:\n",
    "shops.head()"
   ]
  },
  {
   "cell_type": "code",
   "execution_count": 38,
   "metadata": {},
   "outputs": [
    {
     "name": "stdout",
     "output_type": "stream",
     "text": [
      "(38696, 7) (32702, 7) (15491, 7)\n"
     ]
    },
    {
     "data": {
      "image/png": "[encoded data removed]",
      "text/plain": [
       "<Figure size 1440x576 with 3 Axes>"
      ]
     },
     "metadata": {
      "needs_background": "light"
     },
     "output_type": "display_data"
    }
   ],
   "source": [
    "wc_good = count(shops[shops['is_best'] == 1]['SpaCy_custom_tokens'])\n",
    "wc_bad = count(shops[shops['not_good'] == 1]['SpaCy_custom_tokens'])\n",
    "print(spacy_custom_wc.shape, wc_good.shape, wc_bad.shape)\n",
    "\n",
    "# Plot the top 10 words for each set of data:\n",
    "custom_wc_top10 = spacy_custom_wc[spacy_custom_wc['rank'] <= 10]\n",
    "wc_good_top10 = wc_good[wc_good['rank'] <= 10]\n",
    "wc_bad_top10 = wc_bad[wc_bad['rank'] <= 10]\n",
    "\n",
    "fig, ax = plt.subplots(1, 3, figsize=(20, 8))\n",
    "\n",
    "ax[0].set_title('All Coffee Shop Reviews', weight='bold', size=18)\n",
    "squarify.plot(sizes=custom_wc_top10['pct_tot'], \n",
    "              label=custom_wc_top10['word'],\n",
    "              alpha=.75, ax=ax[0], text_kwargs={'size': 13, 'weight': 'bold'})\n",
    "ax[0].axis('off')\n",
    "\n",
    "ax[1].set_title('Good Coffee Shop Reviews', weight='bold', size=18)\n",
    "squarify.plot(sizes=wc_good_top10['pct_tot'], \n",
    "              label=wc_good_top10['word'],\n",
    "              alpha=.75, ax=ax[1], text_kwargs={'size': 13, 'weight': 'bold'})\n",
    "ax[1].axis('off')\n",
    "\n",
    "ax[2].set_title('Bad Coffee Shop Reviews', weight='bold', size=18)\n",
    "squarify.plot(sizes=wc_bad_top10['pct_tot'], \n",
    "              label=wc_bad_top10['word'],\n",
    "              alpha=.75, ax=ax[2], text_kwargs={'size': 13, 'weight': 'bold'})\n",
    "ax[2].axis('off');"
   ]
  },
  {
   "cell_type": "markdown",
   "metadata": {
    "colab_type": "text",
    "id": "1dCb1q8XphcP",
    "toc-hr-collapsed": true
   },
   "source": [
    "## Stretch Goals\n",
    "\n",
    "* Analyze another corpus of documents - such as Indeed.com job listings ;).\n",
    "* Play with the Spacy API to\n",
    " - Extract Named Entities\n",
    " - Extracting 'noun chunks'\n",
    " - Attempt Document Classification with just Spacy\n",
    " - *Note:* This [course](https://course.spacy.io/) will be of interesting in helping you with these stretch goals. \n",
    "* Try to build a plotly dash app with your text data \n",
    "\n"
   ]
  },
  {
   "cell_type": "code",
   "execution_count": 46,
   "metadata": {},
   "outputs": [],
   "source": []
  }
 ],
 "metadata": {
  "colab": {
   "collapsed_sections": [],
   "name": "LS_DS_421_Text_Data_Assignment.ipynb",
   "provenance": [],
   "version": "0.3.2"
  },
  "kernelspec": {
   "display_name": "u4-s1-NLP (Python 3)",
   "language": "python",
   "name": "u4-s1-nlp"
  },
  "language_info": {
   "codemirror_mode": {
    "name": "ipython",
    "version": 3
   },
   "file_extension": ".py",
   "mimetype": "text/x-python",
   "name": "python",
   "nbconvert_exporter": "python",
   "pygments_lexer": "ipython3",
   "version": "3.8.0"
  },
  "toc-autonumbering": false
 },
 "nbformat": 4,
 "nbformat_minor": 4
}
